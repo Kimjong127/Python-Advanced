{
 "cells": [
  {
   "cell_type": "markdown",
   "id": "ea1a3270-582b-4588-b573-f073ac1e360d",
   "metadata": {},
   "source": [
    "# 2023-01-31"
   ]
  },
  {
   "cell_type": "markdown",
   "id": "94a63e15-9095-4735-a3e3-0188b0bab835",
   "metadata": {},
   "source": [
    "## Breadth First Search(BFS)\n",
    " - 가까운 노드를 먼저 방문하면서 탐색하는 알고리즘\n",
    " - 폭 우선 검색, 가로 검색, 수평 검색, 낮은 레벨부터 왼쪽에서 오른쪽으로 검색\n",
    " - FIFO(First In First Out)으로 탐색하므로 Queue를 이용해 구현한다.\n",
    " - 가까운 노드를 우선하여 탐색하므로 목표 노드에 도착하는 경로가 여러 개일 때 최단 경로를 보장한다.\n",
    " - 시간 복잡도(V: 노드 수, E: 엣지 수): O(V + E)"
   ]
  },
  {
   "cell_type": "code",
   "execution_count": 7,
   "id": "b9a1915e-2b84-4c17-bd62-35a92fcd7a29",
   "metadata": {},
   "outputs": [
    {
     "name": "stdout",
     "output_type": "stream",
     "text": [
      "deque([0])\n",
      "deque([1, 7])\n",
      "deque([7, 2, 5])\n",
      "deque([2, 5])\n",
      "deque([5])\n",
      "deque([4, 7])\n",
      "deque([7])\n"
     ]
    }
   ],
   "source": [
    "# BFS 예제\n",
    "# 편의상 매트릭스의 한부분만 구현\n",
    "from collections import deque\n",
    "node_num = 13\n",
    "adj = [[0] * node_num for _ in range(node_num)]    # (13, 13) 매트릭스 배열 생성\n",
    "\n",
    "adj[0][1] = adj[0][7] = 1   # 0 -> 1 and 7         # node와 node를 잇는 / 0과 1, 0과 7을 잇는다.\n",
    "adj[1][2] = adj[1][5] = 1   # 1 -> 2 and 5\n",
    "adj[5][4] = adj[5][7] = 1   # 5 -> 4 and 7\n",
    "\n",
    "def bfs():\n",
    "    dq = deque()\n",
    "    dq.append(0)\n",
    "    while dq:\n",
    "        print(dq)\n",
    "        now = dq.popleft()                         # 현재 이동하는 변수 = now / dq.popleft()로 제거되어 반환되는 값으로 확인\n",
    "        for next in range(node_num):               # node_num(13)만큼 for문을 next변수로 돌아가고\n",
    "            if adj[now][next]:                     # adj[now][next]의 값이 True일 때, dq에 next를 append해준다.\n",
    "                dq.append(next)\n",
    "bfs()"
   ]
  },
  {
   "cell_type": "code",
   "execution_count": 13,
   "id": "d779daf2-45c2-4f4c-8428-0e3853ce6817",
   "metadata": {},
   "outputs": [
    {
     "name": "stdin",
     "output_type": "stream",
     "text": [
      " 4 6\n",
      " 101111\n",
      " 101010\n",
      " 101011\n",
      " 111011\n"
     ]
    },
    {
     "name": "stdout",
     "output_type": "stream",
     "text": [
      "0 0 1\n",
      "1 0 2\n",
      "2 0 3\n",
      "3 0 4\n",
      "3 1 5\n",
      "3 2 6\n",
      "2 2 7\n",
      "1 2 8\n",
      "0 2 9\n",
      "0 3 10\n",
      "0 4 11\n",
      "0 4 11\n",
      "1 4 12\n",
      "2 4 13\n",
      "2 4 13\n",
      "2 5 14\n",
      "15\n"
     ]
    }
   ],
   "source": [
    "# BFS quiz\n",
    "# 1. 좌표의 이동은 N, M을 벗어나선 안됨\n",
    "# 2. '1' = True일때만 이동 가능\n",
    "# 3. 이미 지나간 자리는 다시 되돌아갈 수 없다.(방문list필요)\n",
    "# 4. 상하(Y)좌우(X)로 이동할 수 있다.\n",
    "\n",
    "from collections import deque\n",
    "\n",
    "N, M = map(int, input().split())\n",
    "board = [input() for _ in range(N)]         # 두번째 부터 입력받는 board값을 input()을 통해 입력받고 for문으로 생성\n",
    "# (1, 0), (-1, 0), (0, -1), (0, 1) --> 4가지 방향\n",
    "dx = (1, 0, -1, 0)                          # 우, 상, 좌, 하  \n",
    "dy = (0, 1, 0, -1)                          # 우, 상, 좌, 하\n",
    "\n",
    "def is_valid_coord(y, x):                   # board siz < N X M / 빈 좌표인지 확인하는 함수\n",
    "    # 0 <= y < N\n",
    "    # 0 <= x < M\n",
    "    return (0 <= y < N) and (0 <= x < M)      # True에만 이동 가능\n",
    "\n",
    "def bfs():\n",
    "    chk = [[False] * M for _ in range(N)]   # for문을 N만큼 돌고 M size만큼 False로 값을 채운 방문 check list 생성\n",
    "    chk[0][0] = True                        # 시작 원점을 True로 지정\n",
    "    dq = deque()\n",
    "    dq.append((0, 0, 1))                    # (0, 0, 1) -> (0, 0)에서 시작하고 1번 이동한 것 (시작점)\n",
    "    while dq:\n",
    "        y, x, d = dq.popleft()              # y, x, 이동횟수\n",
    "        \n",
    "        if y == N-1 and x == M-1:           # 목적지에 도착했을 때(N, M) - (0, 0)부터 시작했기 때문에 각각 -1\n",
    "            return d\n",
    "        \n",
    "        nd = d + 1                          # 한칸씩 이동\n",
    "        # Move\n",
    "        for k in range(4):                  # 상하좌우(0, 1, 2, 3) 확인\n",
    "            ny = y + dy[k]                  # y의 현재 위치를 계속 더해주어 확인\n",
    "            nx = x + dx[k]\n",
    "            if is_valid_coord(ny, nx) and board[ny][nx] == '1' and not chk[ny][nx]:     # 만든 board안에 있는 지, '1'이 위치하는 길인지, chk 의 False인지 -> 갈 수 있다!\n",
    "                print(y, x, d)                                                          # 이동하는 경로 확인\n",
    "                chk[ny][nx] = True                                                      # check list의 값을 True로 지정\n",
    "                dq.append((ny, nx, nd))\n",
    "print(bfs())"
   ]
  },
  {
   "cell_type": "code",
   "execution_count": null,
   "id": "06cc744d-1a40-4dbd-9e8b-fd42ee4ba9e5",
   "metadata": {},
   "outputs": [],
   "source": []
  },
  {
   "cell_type": "markdown",
   "id": "453d9966-e488-4759-b523-54e9a7520fcd",
   "metadata": {},
   "source": [
    "## Binary Search(이진분류)\n",
    " - 이진 탐색(binary search)은 데이터가 정렬돼 있는 상태에서 원하는 값을 찾아내는 알고리즘이다.\n",
    " - 대상 데이터의 중앙값과 찾고자 하는 값을 비교해 데이터의 크기를 절반씩 줄이면서 대상을 찾는다.\n",
    " - 정렬 데이터에서 원하는 데이터를 탐색할 때 사용하는 가장 일반적인 알고리즘이다.\n",
    " - 시간복잡도: O(NlogN)"
   ]
  },
  {
   "cell_type": "code",
   "execution_count": 17,
   "id": "cb31d9e4-1152-450e-95f8-567d1c928561",
   "metadata": {},
   "outputs": [
    {
     "name": "stdout",
     "output_type": "stream",
     "text": [
      "three count : 2\n",
      "four count : 0\n",
      "six count : 3\n"
     ]
    }
   ],
   "source": [
    "# 이진탐색의 예제\n",
    "from bisect import bisect_left, bisect_right\n",
    "\n",
    "v = (0, 1, 3, 3, 6, 6, 6, 7, 8, 8, 9)\n",
    "\n",
    "# bisect_right 처음 입력한 값보다 큰 값이 나오는 위치\n",
    "# bisect_left 처음 입력한 값이 등장하는 위치\n",
    "three = bisect_right(v, 3) - bisect_left(v, 3)        # (4, 2)\n",
    "four = bisect_right(v, 4) - bisect_left(v, 4)         # (0, 0)\n",
    "six = bisect_right(v, 6) - bisect_left(v, 6)          # (7, 4)\n",
    "\n",
    "print(f'three count : {three}')\n",
    "print(f'four count : {four}')\n",
    "print(f'six count : {six}')"
   ]
  },
  {
   "cell_type": "code",
   "execution_count": 24,
   "id": "d9268b16-ab57-4b48-95b2-2be45d233113",
   "metadata": {
    "collapsed": true,
    "jupyter": {
     "outputs_hidden": true
    },
    "tags": []
   },
   "outputs": [
    {
     "name": "stdin",
     "output_type": "stream",
     "text": [
      " 4\n",
      " 120 110 140 150\n",
      " 485\n"
     ]
    },
    {
     "name": "stdout",
     "output_type": "stream",
     "text": [
      "low : 0, mid : 75, high : 150\n",
      "target : 300, total: 485\n",
      "low : 76, mid : 113, high : 150\n",
      "target : 449, total: 485\n",
      "low : 114, mid : 132, high : 150\n",
      "target : 494, total: 485\n",
      "low : 114, mid : 122, high : 131\n",
      "target : 474, total: 485\n",
      "low : 123, mid : 127, high : 131\n",
      "target : 484, total: 485\n",
      "low : 128, mid : 129, high : 131\n",
      "target : 488, total: 485\n",
      "low : 128, mid : 128, high : 128\n",
      "target : 486, total: 485\n",
      "127\n"
     ]
    }
   ],
   "source": [
    "# Binary Search Quiz(1)\n",
    "N = int(input())                       # 지방의 수\n",
    "req = list(map(int, input().split()))  # 지방에서 요청한 금액\n",
    "M = int(input())                       # 국가 총 예산\n",
    "\n",
    "low = 0                                 \n",
    "high = max(req)                                 # 지방에서 요청한 금액의 최대값\n",
    "mid = (low + high) // 2                         # 상한액 (중간값)\n",
    "\n",
    "while low <= high:                              # low가 high보다 작을 때까지 while 작동\n",
    "    req_sum = sum(min(mid, r) for r in req)     # 지방에서 요청한 금액이 상한값을 넘으면 상한값으로, 그렇지 않으면 요청한 금액 그대로 \n",
    "    print(f'low : {low}, mid : {mid}, high : {high}')\n",
    "    print(f'target : {req_sum}, total: {M}')\n",
    "    # mid > target\n",
    "    if req_sum <= M:                            # target 값들을 합산한 결과가 M보다 작을 경우\n",
    "        low = mid + 1                           # low가 mid가 된다. +1을 하는 것은 중앙값은 이미 확인했기 때문에                     \n",
    "    else:\n",
    "        high = mid - 1\n",
    "    mid = (low + high) // 2                     # if문이 끝나고 mid값을 다시 갱신\n",
    "print(mid)"
   ]
  },
  {
   "cell_type": "code",
   "execution_count": 28,
   "id": "edab3a86-e654-40eb-9a84-7b7e70b0dc80",
   "metadata": {},
   "outputs": [
    {
     "name": "stdin",
     "output_type": "stream",
     "text": [
      " 5\n",
      " 4 1 5 2 3\n",
      " 5\n",
      " 1 3 7 9 5\n"
     ]
    },
    {
     "name": "stdout",
     "output_type": "stream",
     "text": [
      "1\n",
      "1\n",
      "0\n",
      "0\n",
      "1\n"
     ]
    }
   ],
   "source": [
    "# Binary Search Quiz(2)\n",
    "N = int(input())\n",
    "N_li = sorted(list(map(int, input().split())))    # M 리스트와 N 리스트를 대조하기 위해 sorted함수 적용 \n",
    "\n",
    "M = int(input())\n",
    "M_li = list(map(int, input().split()))\n",
    "\n",
    "for target in M_li:\n",
    "    find = False\n",
    "    low = min(N_li)\n",
    "    high = max(N_li)\n",
    "    while low <= high:\n",
    "        mid = int((low + high) / 2)               # 중간값\n",
    "        if mid > target:                          # 중간값이 target보다 높은 경우,\n",
    "            high = mid - 1                        # high가 mid - 1이 된다.\n",
    "        elif mid < target:                        # mid가 target보다 작은 경우,\n",
    "            low = mid + 1                         # low가 mid + 1이 된다.\n",
    "        else:                                     # 다른 경우, mid = target(값을 찾은 경우)\n",
    "            find = True                           # find를 True로 \n",
    "            break                                 # while문을 빠져 나온다.\n",
    "    if find:\n",
    "        print(1)\n",
    "    else:\n",
    "        print(0)"
   ]
  },
  {
   "cell_type": "code",
   "execution_count": null,
   "id": "ddf21a5b-c67c-4054-9b13-a3b598a0e829",
   "metadata": {},
   "outputs": [],
   "source": []
  },
  {
   "cell_type": "markdown",
   "id": "8e611be2-7add-4158-a30e-081219d82812",
   "metadata": {},
   "source": [
    "## 동적계획법\n",
    " - 복잡한 문제를 여러 개의 간단한 문제로 분리하여 부분의 문제들을 해결함으로써 최종적으로 복잡한 문제의 답을 구하는 방법\n",
    " - 큰 문제를 작은 문제로 나눌 수 있어야 한다.\n",
    " - Top-Down 방식과 Bottom-Up 방식으로 구현\n",
    " - 메모이제이션, 재귀함수, 반복문 등으로 구현한다.\n",
    " - 메모이제이션(Memoization): 작은 문제들은 한 번만 계산하여 DP테이블에 저장하며 추후 재사용할 때 DP테이블을 이용한다.(캐싱)"
   ]
  },
  {
   "cell_type": "markdown",
   "id": "7750dd61-d52f-46e0-bba5-5daa39f7e070",
   "metadata": {},
   "source": [
    "### 1. Fibonacci number "
   ]
  },
  {
   "cell_type": "code",
   "execution_count": 4,
   "id": "782d4d14-9f30-4675-9428-16084aa3103f",
   "metadata": {},
   "outputs": [
    {
     "name": "stdin",
     "output_type": "stream",
     "text": [
      " 10\n"
     ]
    },
    {
     "name": "stdout",
     "output_type": "stream",
     "text": [
      "55\n"
     ]
    }
   ],
   "source": [
    "# Fibonacci number Quiz\n",
    "# 내 code\n",
    "n = int(input())\n",
    "def fibonacci(n):\n",
    "    if n <= 1:                                   # 입력받은 n이 1보다 작거나 같은 경우, 피보나치수열의 0번째 또는 1번째 값은 0, 1이므로 n을 그대로 return하고 n=2인 경우 재귀함수를 통해 1이 return\n",
    "        return n\n",
    "    else:\n",
    "        return fibonacci(n-1) + fibonacci(n-2)   \n",
    "print(fibonacci(n))"
   ]
  },
  {
   "cell_type": "code",
   "execution_count": 19,
   "id": "16dad3ca-e603-41a9-8d8f-05a1f9d9d85f",
   "metadata": {},
   "outputs": [
    {
     "name": "stdin",
     "output_type": "stream",
     "text": [
      " 10\n"
     ]
    },
    {
     "data": {
      "text/plain": [
       "55"
      ]
     },
     "execution_count": 19,
     "metadata": {},
     "output_type": "execute_result"
    }
   ],
   "source": [
    "# 선생님 code 1\n",
    "def f(n):\n",
    "    if n <= 1:\n",
    "        return n\n",
    "    else:\n",
    "        return f(n-1) + f(n-2)\n",
    "f(int(input()))"
   ]
  },
  {
   "cell_type": "code",
   "execution_count": 6,
   "id": "2646d4f9-963e-4428-ac3d-885c3b7c4a2a",
   "metadata": {},
   "outputs": [
    {
     "name": "stdin",
     "output_type": "stream",
     "text": [
      " 90\n"
     ]
    },
    {
     "data": {
      "text/plain": [
       "2880067194370816120"
      ]
     },
     "execution_count": 6,
     "metadata": {},
     "output_type": "execute_result"
    }
   ],
   "source": [
    "# Top - Down (재귀)-> 위의 연산횟수와 차이가 많이 난다. 훨씬 빠르다.\n",
    "cache = [-1] * 91\n",
    "cache[0] = 0\n",
    "cache[1] = 1\n",
    "\n",
    "def f(n):\n",
    "    if cache[n] == -1:\n",
    "        cache[n] = f(n-1) + f(n-2)\n",
    "    return cache[n]\n",
    "f(int(input()))"
   ]
  },
  {
   "cell_type": "code",
   "execution_count": 7,
   "id": "cf110ecb-3154-4655-ae8a-ae2556dce4a5",
   "metadata": {},
   "outputs": [
    {
     "name": "stdin",
     "output_type": "stream",
     "text": [
      " 10\n"
     ]
    },
    {
     "name": "stdout",
     "output_type": "stream",
     "text": [
      "55\n"
     ]
    }
   ],
   "source": [
    "# Bottom - Up (반복문)\n",
    "N = int(input())\n",
    "cache = [-1] * 91\n",
    "cache[0] = 0\n",
    "cache[1] = 1\n",
    "\n",
    "for i in range(2, N + 1):                   # 0, 1은 이미 값이 채워져 있으므로 2를 시작값으로 한다.\n",
    "    cache[i] = cache[i - 1] + cache[i - 2]\n",
    "print(cache[N])"
   ]
  },
  {
   "cell_type": "markdown",
   "id": "a6412098-d0e8-4477-9c2f-c9cba3f29de4",
   "metadata": {},
   "source": [
    "### 2. Combination\n",
    " - 순열: n개의 숫자 중 r개를 뽑아 순서를 고려해 나열할 경우의 수\n",
    "   ex) 5개 중 2개를 순서대로 선택하는 경우의 수: 1번째 선택은 5개 데이터를 선택할 수 있고 2번째 선택은 4가지를 선택할 수 있다. 따라서 5개 중 2개를 고르는 경우의 수는 총 5*4 =20가지가 된다.\n",
    "   \n",
    " - 조합(combination): n개의 숫자에서 r개를 뽑는 경우의 수/\n",
    "   조합의 순열과 매우 비슷하며 분모에 r!만 추가되어 있다. r!은 순서가 다른 경우의 수를 제거하는 역할을 한다. 예를 들어 5개 중 2개를 선택하는 경우의 수를 구할 때 1과 2를 선택할 때와 2와 1을 선택할 때를 1가지 경우의 수로 만들기 위해 2로 나눈다."
   ]
  },
  {
   "cell_type": "code",
   "execution_count": 14,
   "id": "7ea8186c-68b6-4b74-ac07-c40d96077243",
   "metadata": {},
   "outputs": [
    {
     "name": "stdin",
     "output_type": "stream",
     "text": [
      " 15 5\n"
     ]
    },
    {
     "name": "stdout",
     "output_type": "stream",
     "text": [
      "3003\n"
     ]
    }
   ],
   "source": [
    "# Combination Quiz(1)\n",
    "# Top - Down (재귀)\n",
    "N, K = map(int, input().split())\n",
    "cache = [[-1] * 1001 for _ in range(1001)]                  # N이 들어갈 공간 생성, 2차원 배열 생성\n",
    "\n",
    "def f(n, k):\n",
    "    if cache[n][k] != -1:                                   # cache[n][k]가 -1이 아닌 경우 cache[n][k]를 return\n",
    "        return cache[n][k]    \n",
    "    elif k == 0 or k == n:                                  # k가 0이거나 k와 n이 같은 경우\n",
    "        cache[n][k] = 1                                     # cache[n][k]는 1이된다.\n",
    "    else:                                                   \n",
    "        cache[n][k] = f(n-1, k-1) + f(n-1, k)               # 그 밖의 경우, cache[n][k] = f(n-1, k-1) + f(n-1, k)\n",
    "        cache[n][k] %= 10007\n",
    "    return cache[n][k]\n",
    "print(f(N, K))"
   ]
  },
  {
   "cell_type": "code",
   "execution_count": 16,
   "id": "c00d97ff-d82e-4ed7-9299-c60106053eda",
   "metadata": {},
   "outputs": [
    {
     "name": "stdin",
     "output_type": "stream",
     "text": [
      " 15 5\n"
     ]
    },
    {
     "data": {
      "text/plain": [
       "3003"
      ]
     },
     "execution_count": 16,
     "metadata": {},
     "output_type": "execute_result"
    }
   ],
   "source": [
    "# Bottom - Top (반복문)\n",
    "N, K = map(int, input().split())\n",
    "cache = [[-1] * 1001 for _ in range(1001)]\n",
    "\n",
    "for n in range(1001):\n",
    "    cache[n][0] = cache[n][n] = 1\n",
    "    for k in range(1, n):                               # ex. 1, 5 -> [1, 2, 3, 4]\n",
    "        cache[n][k] = cache[n-1][k-1] + cache[n-1][k]\n",
    "        cache[n][k] %= 10007\n",
    "cache[N][K]"
   ]
  }
 ],
 "metadata": {
  "kernelspec": {
   "display_name": "Python 3 (ipykernel)",
   "language": "python",
   "name": "python3"
  },
  "language_info": {
   "codemirror_mode": {
    "name": "ipython",
    "version": 3
   },
   "file_extension": ".py",
   "mimetype": "text/x-python",
   "name": "python",
   "nbconvert_exporter": "python",
   "pygments_lexer": "ipython3",
   "version": "3.10.7"
  }
 },
 "nbformat": 4,
 "nbformat_minor": 5
}
