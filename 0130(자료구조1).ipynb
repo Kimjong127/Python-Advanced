{
 "cells": [
  {
   "cell_type": "markdown",
   "id": "5a91c299-ca36-4941-9772-300e1c014d35",
   "metadata": {},
   "source": [
    "# 2023 - 01 - 30"
   ]
  },
  {
   "cell_type": "markdown",
   "id": "1fdcaa33-bfd8-4abc-a830-51bd5c36bbbe",
   "metadata": {},
   "source": [
    "# 자료구조"
   ]
  },
  {
   "cell_type": "markdown",
   "id": "9285bb03-eb59-4793-a6ff-c230be287720",
   "metadata": {},
   "source": [
    "## Array\n",
    "\n",
    " - 배열: 묶음 단위로 값을 저장하는 자료구조\n",
    " - 각 원소는 0, 1, 2, ... 순으로 index를 부여 받음\n",
    " - python에서 배열 원소의 자료형(type)은 int형, float형 등 어떤 것이라도 상관 없음\n",
    " - 서로 다른 자료형을 같이 저장할 수 있음\n",
    " - python은 대표적으로 List 자료형이 있으며 index를 활용해서 바로 접근이 가능하며 해당 위치에 바로 접근해서 탐색이 빠르다"
   ]
  },
  {
   "cell_type": "code",
   "execution_count": 18,
   "id": "6d81175e-14a9-4477-803a-043ed68c4faf",
   "metadata": {},
   "outputs": [
    {
     "name": "stdin",
     "output_type": "stream",
     "text": [
      " 12345\n"
     ]
    },
    {
     "name": "stdout",
     "output_type": "stream",
     "text": [
      "15\n"
     ]
    }
   ],
   "source": [
    "# Quiz 내 code\n",
    "N = input()\n",
    "li = []\n",
    "for i in N:\n",
    "    i = int(i)\n",
    "    li.append(i)\n",
    "    \n",
    "print(sum(li))"
   ]
  },
  {
   "cell_type": "code",
   "execution_count": 19,
   "id": "8be13544-49a4-49a5-9e6b-9e2e02c7da6b",
   "metadata": {},
   "outputs": [
    {
     "name": "stdin",
     "output_type": "stream",
     "text": [
      " 12345\n"
     ]
    },
    {
     "name": "stdout",
     "output_type": "stream",
     "text": [
      "15\n"
     ]
    }
   ],
   "source": [
    "# 선생님 code\n",
    "numbers = list(input())\n",
    "sum = 0\n",
    "for i in numbers:\n",
    "    sum = sum + int(i)\n",
    "print(sum)"
   ]
  },
  {
   "cell_type": "code",
   "execution_count": null,
   "id": "ef5fa80a-93ce-4ab1-8635-50c08ad2d657",
   "metadata": {},
   "outputs": [],
   "source": []
  },
  {
   "cell_type": "code",
   "execution_count": 26,
   "id": "2955e5f9-d0c7-40f0-aa31-bea5e3e208c0",
   "metadata": {},
   "outputs": [
    {
     "name": "stdin",
     "output_type": "stream",
     "text": [
      " 1 2 3 4 5\n",
      " 4 2\n"
     ]
    },
    {
     "name": "stdout",
     "output_type": "stream",
     "text": [
      "12\n"
     ]
    }
   ],
   "source": [
    "# Prefix Array quiz\n",
    "numbers = list(map(int, input().split()))        # split으로 구분된 input의 원소들이 map함수를 통해 튜플형태로 list의 원소들이 되어 numbers변수에 대입\n",
    "start_idx, end_idx = map(int, input().split())\n",
    "li = []\n",
    "sum = 0\n",
    "for i in numbers:\n",
    "    sum = sum + int(i)\n",
    "    li.append(sum)                              # 합배열 생성\n",
    "\n",
    "print(li[start_idx] - li[end_idx-1])            # 합배열을 사용하여 계산할 때 end_idx를 포함시켜야 하므로 index에 -1을 해줌"
   ]
  },
  {
   "cell_type": "code",
   "execution_count": null,
   "id": "ea45461e-21bf-42c0-abc2-9bc0bbd490c0",
   "metadata": {},
   "outputs": [],
   "source": []
  },
  {
   "cell_type": "markdown",
   "id": "d9ca57dc-9ec7-4e8b-9642-3fb66a3ca061",
   "metadata": {},
   "source": [
    "## Stack\n",
    " - 데이터를 임시 저장할 때 사용하는 자료구조\n",
    " - 데이터를 쌓아 가는 구조\n",
    " - 데이터 입력과 출력 순서는 후입선출(LIFO)방식\n",
    " - 삽입/삭제: O(1)\n",
    " - 파이썬에서는 append, pop을 활용\n",
    " - 깊이 우선 탐색(DFS: Depth First Search), 백트래킹 종류에서 효과적"
   ]
  },
  {
   "cell_type": "code",
   "execution_count": 27,
   "id": "5d4b9668-8c6b-44a5-ad37-f15a18d97324",
   "metadata": {},
   "outputs": [
    {
     "name": "stdout",
     "output_type": "stream",
     "text": [
      "789\n",
      "456\n",
      "123\n"
     ]
    }
   ],
   "source": [
    "# Stack 예시\n",
    "s = []\n",
    "s.append(123)\n",
    "s.append(456)\n",
    "s.append(789)\n",
    "\n",
    "while len(s) > 0:\n",
    "    print(s[-1])\n",
    "    s.pop(-1)         # 맨 뒤에 들어간 원소가 가장 먼저 빠짐"
   ]
  },
  {
   "cell_type": "code",
   "execution_count": 33,
   "id": "4322c211-419c-42e2-86b4-1a77bae6e83a",
   "metadata": {},
   "outputs": [
    {
     "name": "stdout",
     "output_type": "stream",
     "text": [
      "True\n"
     ]
    }
   ],
   "source": [
    "# Stack quiz\n",
    "# 선생님 code step1\n",
    "sample = '((())'\n",
    "stack = []\n",
    "VPS = True\n",
    "for i in sample:\n",
    "    if i == '(':\n",
    "        stack.append(i)\n",
    "    else:\n",
    "        if stack:\n",
    "            stack.pop()\n",
    "        else:\n",
    "            VPS = False\n",
    "print(VPS)"
   ]
  },
  {
   "cell_type": "code",
   "execution_count": 36,
   "id": "122a5d11-3694-4c10-85cd-cfc2bec23304",
   "metadata": {},
   "outputs": [
    {
     "name": "stdin",
     "output_type": "stream",
     "text": [
      " 3\n",
      " (())\n"
     ]
    },
    {
     "name": "stdout",
     "output_type": "stream",
     "text": [
      "Yes\n"
     ]
    },
    {
     "name": "stdin",
     "output_type": "stream",
     "text": [
      " ((((\n"
     ]
    },
    {
     "name": "stdout",
     "output_type": "stream",
     "text": [
      "No\n"
     ]
    },
    {
     "name": "stdin",
     "output_type": "stream",
     "text": [
      " ()()\n"
     ]
    },
    {
     "name": "stdout",
     "output_type": "stream",
     "text": [
      "Yes\n"
     ]
    }
   ],
   "source": [
    "# 선생님 code step2\n",
    "for _ in range(int(input())):        # 처음으로 입력받은 input값 = 입력 데이터의 수\n",
    "    stack = []                       # Stack을 쌓을 비어있는 list\n",
    "    VPS = True                       # default VPS = True\n",
    "    for i in input():                # 2번째 입력받은 문자열부터 for문으로\n",
    "        if i == '(':                 # i == '(' 라면 stack list에 i를 append\n",
    "            stack.append(i)\n",
    "        else:                        \n",
    "            if stack:                # 그렇지 않은 경우(i == ')'), 만약 stack에 원소가 있다면\n",
    "                stack.pop()          # stack.pop()으로 가장 마지막에 들어온 원소를 제거  -> '(', ')' -> VPS = True\n",
    "            else:                    \n",
    "                VPS = False          # 그밖에 경우엔, VPS = False     \n",
    "                break                # for문을 빠져나온다.\n",
    "    if stack:                        # for문이 완료되고 stack list에 원소가 있다면,\n",
    "        VPS = False                  # VPS 완성 조건에 충족하지 못하므로 VPS = False\n",
    "    print('Yes' if VPS else 'No')    # VPS = True이면 'YES', 그렇지 않은 경우엔 'No'"
   ]
  },
  {
   "cell_type": "code",
   "execution_count": 1,
   "id": "8d4d5484-f965-4b16-95cc-1b4ed81643ea",
   "metadata": {},
   "outputs": [
    {
     "name": "stdin",
     "output_type": "stream",
     "text": [
      " 5\n",
      " ))((((\n"
     ]
    },
    {
     "name": "stdout",
     "output_type": "stream",
     "text": [
      "No\n"
     ]
    },
    {
     "name": "stdin",
     "output_type": "stream",
     "text": [
      " (()()(\n"
     ]
    },
    {
     "name": "stdout",
     "output_type": "stream",
     "text": [
      "No\n"
     ]
    },
    {
     "name": "stdin",
     "output_type": "stream",
     "text": [
      " (()())(()())\n"
     ]
    },
    {
     "name": "stdout",
     "output_type": "stream",
     "text": [
      "Yes\n"
     ]
    },
    {
     "name": "stdin",
     "output_type": "stream",
     "text": [
      " )(())(())\n"
     ]
    },
    {
     "name": "stdout",
     "output_type": "stream",
     "text": [
      "No\n"
     ]
    },
    {
     "name": "stdin",
     "output_type": "stream",
     "text": [
      " ((((()))))\n"
     ]
    },
    {
     "name": "stdout",
     "output_type": "stream",
     "text": [
      "Yes\n"
     ]
    }
   ],
   "source": [
    "for _ in range(int(input())):\n",
    "    stack = []\n",
    "    VPS = True\n",
    "    for i in input():\n",
    "        if i == '(':\n",
    "            stack.append(i)\n",
    "        else:\n",
    "            if stack:\n",
    "                stack.pop()\n",
    "            else:\n",
    "                VPS = False\n",
    "                break\n",
    "    if stack:\n",
    "        VPS = False\n",
    "    print('Yes' if VPS else 'No')"
   ]
  },
  {
   "cell_type": "code",
   "execution_count": null,
   "id": "c3ca2b18-b82d-42ae-961b-e83162cdb02b",
   "metadata": {},
   "outputs": [],
   "source": []
  },
  {
   "cell_type": "markdown",
   "id": "83482288-71cc-4bbd-9d39-64b54eb1f53a",
   "metadata": {},
   "source": [
    "## Queue\n",
    " - 삽입/삭제: O(1)\n",
    " - Stack과 같이 데이터를 임시 저장하는 자료구조\n",
    " - Python에서는 append, popleft를 활용\n",
    " - 너비 우선 탐색(BFS: Breadth First Search)에서 자주 사용"
   ]
  },
  {
   "cell_type": "code",
   "execution_count": 2,
   "id": "37d8d38d-65e4-47b3-953d-54472d4d56d5",
   "metadata": {},
   "outputs": [
    {
     "name": "stdout",
     "output_type": "stream",
     "text": [
      "123\n",
      "456\n",
      "789\n"
     ]
    }
   ],
   "source": [
    "# Queue의 예시\n",
    "from collections import deque\n",
    "\n",
    "dq = deque()\n",
    "dq.append(123)\n",
    "dq.append(456)\n",
    "dq.append(789)\n",
    "\n",
    "print(dq.popleft())   # 123 제거 후 반환\n",
    "print(dq.popleft())   # 456\n",
    "print(dq.popleft())   # 789"
   ]
  },
  {
   "cell_type": "code",
   "execution_count": 4,
   "id": "4adae566-3461-461e-bdd8-bfefcbc42d7f",
   "metadata": {},
   "outputs": [
    {
     "name": "stdin",
     "output_type": "stream",
     "text": [
      " 10\n"
     ]
    },
    {
     "name": "stdout",
     "output_type": "stream",
     "text": [
      "deque([4])\n"
     ]
    }
   ],
   "source": [
    "# Queue quiz\n",
    "from collections import deque\n",
    "\n",
    "N = int(input())\n",
    "q = deque(range(1, N + 1))    # 입력받은 값이 10이고, 0이 아닌 1부터 시작하기 때문에 N+1을 줘야 10까지 \n",
    "\n",
    "while len(q) > 1:             # q의 길이가 1보다 클때까지 while문으로\n",
    "    q.popleft()               # 제일 앞(가장 먼저 들어간) 원소를 빼내고\n",
    "    q.append(q.popleft())     # 그 다음 제일 앞에 위치한 원소를 빼내어 다시 q에 append 해준다.\n",
    "print(q)"
   ]
  },
  {
   "cell_type": "code",
   "execution_count": 3,
   "id": "6476b1e1-f21c-4eab-b2b0-294e81915e2f",
   "metadata": {},
   "outputs": [
    {
     "name": "stdin",
     "output_type": "stream",
     "text": [
      " 10\n"
     ]
    },
    {
     "name": "stdout",
     "output_type": "stream",
     "text": [
      "4\n"
     ]
    }
   ],
   "source": [
    "# 위 queue 자료 구조에 비해 배열을 이용한 code구현은 시간이 오래 걸린다.\n",
    "N = int(input())\n",
    "arr = []\n",
    "for i in range(1, N+1):\n",
    "    arr.append(i)\n",
    "while len(arr) > 1:\n",
    "    arr.pop(0)              # 0번째 index에 위치한 원소를 pop으로 빼냄\n",
    "    arr.append(arr.pop(0))\n",
    "print(arr.pop())"
   ]
  },
  {
   "cell_type": "code",
   "execution_count": null,
   "id": "23ef0925-a186-43c9-8bd5-ff629df19acc",
   "metadata": {},
   "outputs": [],
   "source": []
  },
  {
   "cell_type": "markdown",
   "id": "6d7f2eae-0118-40ec-aa3a-ca28f192f023",
   "metadata": {},
   "source": [
    "## Heap\n",
    " - 우선 순위의 개념을 Queue에 도입한 자료 구조\n",
    " - 삽입/삭제 : O(log N)\n",
    " - python에서는 min-heap 적용\n",
    " - tree구조를 재현하기 위해 Array구조를 응용해서 활용"
   ]
  },
  {
   "cell_type": "code",
   "execution_count": 6,
   "id": "18f819bb-070d-4657-be5c-fc39626e4dbd",
   "metadata": {},
   "outputs": [
    {
     "name": "stdout",
     "output_type": "stream",
     "text": [
      "[123, 789, 456]\n",
      "123\n",
      "456\n",
      "789\n"
     ]
    }
   ],
   "source": [
    "# Heap의 예시\n",
    "import heapq\n",
    "\n",
    "pq = []\n",
    "heapq.heappush(pq, 789)\n",
    "heapq.heappush(pq, 123)\n",
    "heapq.heappush(pq, 456)\n",
    "print(pq)                     \n",
    "while len(pq) > 0:            # pq의 길이가 0보다 클 때까지 while문으로,\n",
    "    print(heapq.heappop(pq))  # 우선순위를 가지는(작은 값) 원소가 먼저 빠져나간 후 반환됨."
   ]
  },
  {
   "cell_type": "code",
   "execution_count": 8,
   "id": "c7565123-8266-4ba6-8900-43894d8aecd2",
   "metadata": {},
   "outputs": [
    {
     "name": "stdin",
     "output_type": "stream",
     "text": [
      " 18\n",
      " 1\n",
      " -1\n",
      " 0\n"
     ]
    },
    {
     "name": "stdout",
     "output_type": "stream",
     "text": [
      "-1\n"
     ]
    },
    {
     "name": "stdin",
     "output_type": "stream",
     "text": [
      " 0\n"
     ]
    },
    {
     "name": "stdout",
     "output_type": "stream",
     "text": [
      "1\n"
     ]
    },
    {
     "name": "stdin",
     "output_type": "stream",
     "text": [
      " 0\n"
     ]
    },
    {
     "name": "stdout",
     "output_type": "stream",
     "text": [
      "0\n"
     ]
    },
    {
     "name": "stdin",
     "output_type": "stream",
     "text": [
      " 1\n",
      " 1\n",
      " -1\n",
      " -1\n",
      " 2\n",
      " -2\n",
      " 0\n"
     ]
    },
    {
     "name": "stdout",
     "output_type": "stream",
     "text": [
      "-1\n"
     ]
    },
    {
     "name": "stdin",
     "output_type": "stream",
     "text": [
      " 0\n"
     ]
    },
    {
     "name": "stdout",
     "output_type": "stream",
     "text": [
      "-1\n"
     ]
    },
    {
     "name": "stdin",
     "output_type": "stream",
     "text": [
      " 0\n"
     ]
    },
    {
     "name": "stdout",
     "output_type": "stream",
     "text": [
      "1\n"
     ]
    },
    {
     "name": "stdin",
     "output_type": "stream",
     "text": [
      " 0\n"
     ]
    },
    {
     "name": "stdout",
     "output_type": "stream",
     "text": [
      "1\n"
     ]
    },
    {
     "name": "stdin",
     "output_type": "stream",
     "text": [
      " 0\n"
     ]
    },
    {
     "name": "stdout",
     "output_type": "stream",
     "text": [
      "-2\n"
     ]
    },
    {
     "name": "stdin",
     "output_type": "stream",
     "text": [
      " 0\n"
     ]
    },
    {
     "name": "stdout",
     "output_type": "stream",
     "text": [
      "2\n"
     ]
    },
    {
     "name": "stdin",
     "output_type": "stream",
     "text": [
      " 0\n"
     ]
    },
    {
     "name": "stdout",
     "output_type": "stream",
     "text": [
      "0\n"
     ]
    }
   ],
   "source": [
    "# Heap quiz\n",
    "import heapq as hp\n",
    "\n",
    "pq = []\n",
    "for _ in range(int(input())):                   # 처음으로 입력받은 정수만큼 for문으로\n",
    "    x = int(input())                            # 두번째 부터 x정수를 입력받는다.\n",
    "    if x:                                       # x가 0이 아닐 때,\n",
    "        hp.heappush(pq, (abs(x), x))            # heappush를 통해 pq list에 절대값x와 x를 튜플형태로 저장\n",
    "#        print(pq)\n",
    "    else:                                       # 그 밖에 경우 x가 0일 때,\n",
    "        print(hp.heappop(pq)[1] if pq else 0)   # pq에 원소가 존재한다면 pq 리스트에서 heappop(가장 적은 값을 우선으로 빼냄)을 통해 [1]index값을(절대값이 아닌 x) 빼내어 출력, 그밖엔 0을 출력\n",
    "    \n",
    "#    if pq: \n",
    "#        print(hp.heqppop(pq)[1])\n",
    "#    else:\n",
    "#        print(0)\n"
   ]
  },
  {
   "cell_type": "code",
   "execution_count": null,
   "id": "a7ee685c-3c23-42ad-9471-41ced8f69eb6",
   "metadata": {},
   "outputs": [],
   "source": []
  },
  {
   "cell_type": "markdown",
   "id": "b384e8f6-82cb-4870-97ce-b2efdc8ad111",
   "metadata": {},
   "source": [
    "## Map\n",
    " - Key, Value를 가지는 형태를 말하며 파이썬에서는 대표적으로 딕셔너리가 있다.\n",
    " - 삽입/삭제: O(1)"
   ]
  },
  {
   "cell_type": "code",
   "execution_count": 9,
   "id": "664764a0-56de-430b-81c0-4e9b723f7456",
   "metadata": {},
   "outputs": [
    {
     "name": "stdout",
     "output_type": "stream",
     "text": [
      "삼성전자 005930\n",
      "카카오 035720\n",
      "현대차 005380\n"
     ]
    }
   ],
   "source": [
    "# Dictionary 예시\n",
    "\n",
    "dic = {}\n",
    "dic['삼성전자'] = '005930'\n",
    "dic['카카오'] = '035720'\n",
    "dic['현대차'] = '005380'\n",
    "\n",
    "for i in dic:\n",
    "    print(i, dic[i])   # key, value값을 print"
   ]
  },
  {
   "cell_type": "code",
   "execution_count": 60,
   "id": "4e00f064-d1b3-4d58-be01-535d129d33ec",
   "metadata": {},
   "outputs": [
    {
     "name": "stdin",
     "output_type": "stream",
     "text": [
      " 5\n",
      " top\n",
      " top\n",
      " top\n",
      " top\n",
      " kimtop\n"
     ]
    },
    {
     "name": "stdout",
     "output_type": "stream",
     "text": [
      "top\n"
     ]
    }
   ],
   "source": [
    "# map quiz\n",
    "d = {}\n",
    "for i in range(int(input())):\n",
    "    book = input()\n",
    "    if book in d:                # 딕셔너리 내 book이 있는 경우\n",
    "        d[book] += 1             # 딕셔너리의 book을 key로 가지는 위치(value)에 1씩 더해준다.\n",
    "    else: \n",
    "        d[book] = 1              # 그 밖에 경우는 값이 1\n",
    "        \n",
    "max_value = max(d.values())      # values값들의 최대 값을 변수에 대입\n",
    "max_title_list = []              \n",
    "for k, v in d.items():           # d.items()로 key값과 value값을 동시에 for문을 돌려,\n",
    "    if v == max_value:           # v가 max_value의 값과 같을 때\n",
    "        max_title_list.append(k) # 비어있던 max_title_list에 k(key)를 append\n",
    "print(sorted(max_title_list)[0]) # sorted(오름차순 정렬, 가장 큰 value값을 가지는)하여 [0]을 print : 제일 앞의 값(동일한 최대갯수를 가진 key값이 존재할 경우가 있으므로)"
   ]
  },
  {
   "cell_type": "code",
   "execution_count": 54,
   "id": "7b48da29-9e64-44b8-a46d-ace71520f0a4",
   "metadata": {
    "tags": []
   },
   "outputs": [
    {
     "data": {
      "text/plain": [
       "dict_keys(['top', 'kimtop'])"
      ]
     },
     "execution_count": 54,
     "metadata": {},
     "output_type": "execute_result"
    }
   ],
   "source": [
    "d.keys()"
   ]
  },
  {
   "cell_type": "code",
   "execution_count": 55,
   "id": "f865f1b9-7488-419e-89db-379516cb616a",
   "metadata": {},
   "outputs": [
    {
     "data": {
      "text/plain": [
       "dict_values([4, 1])"
      ]
     },
     "execution_count": 55,
     "metadata": {},
     "output_type": "execute_result"
    }
   ],
   "source": [
    "d.values()"
   ]
  },
  {
   "cell_type": "code",
   "execution_count": 56,
   "id": "57c79fcb-db56-4b8c-b437-e4c5f9b1503b",
   "metadata": {},
   "outputs": [
    {
     "data": {
      "text/plain": [
       "dict_items([('top', 4), ('kimtop', 1)])"
      ]
     },
     "execution_count": 56,
     "metadata": {},
     "output_type": "execute_result"
    }
   ],
   "source": [
    "d.items()"
   ]
  },
  {
   "cell_type": "code",
   "execution_count": null,
   "id": "d90fe2ab-a00d-4755-ac75-e5aa5df2556b",
   "metadata": {},
   "outputs": [],
   "source": []
  },
  {
   "cell_type": "markdown",
   "id": "71e543e4-f9b5-495b-be54-58929d512e3f",
   "metadata": {},
   "source": [
    "## 완전탐색\n",
    " - 장점: 반드시 답을 찾을 수 있다.\n",
    " - 단점: 오래 걸린다, 리소스를 많이 잡아 먹는다, 답이 없더라도 전체를 탐색해야 함\n",
    " - 컴퓨터 성능이 좋을 수록 속도가 빠르다."
   ]
  },
  {
   "cell_type": "code",
   "execution_count": 67,
   "id": "4c2dab27-a907-439d-8390-132f0febe379",
   "metadata": {},
   "outputs": [
    {
     "name": "stdout",
     "output_type": "stream",
     "text": [
      "(0, 1, 2, 3)\n",
      "(0, 1, 3, 2)\n",
      "(0, 2, 1, 3)\n",
      "(0, 2, 3, 1)\n",
      "(0, 3, 1, 2)\n",
      "(0, 3, 2, 1)\n",
      "(1, 0, 2, 3)\n",
      "(1, 0, 3, 2)\n",
      "(1, 2, 0, 3)\n",
      "(1, 2, 3, 0)\n",
      "(1, 3, 0, 2)\n",
      "(1, 3, 2, 0)\n",
      "(2, 0, 1, 3)\n",
      "(2, 0, 3, 1)\n",
      "(2, 1, 0, 3)\n",
      "(2, 1, 3, 0)\n",
      "(2, 3, 0, 1)\n",
      "(2, 3, 1, 0)\n",
      "(3, 0, 1, 2)\n",
      "(3, 0, 2, 1)\n",
      "(3, 1, 0, 2)\n",
      "(3, 1, 2, 0)\n",
      "(3, 2, 0, 1)\n",
      "(3, 2, 1, 0)\n"
     ]
    }
   ],
   "source": [
    "# 순열(순서가 있는 경우)\n",
    "from itertools import permutations\n",
    "\n",
    "v = [0,1,2,3]\n",
    "\n",
    "for i in permutations(v, 4): # (배열, 뽑을 개수)\n",
    "    print(i)"
   ]
  },
  {
   "cell_type": "code",
   "execution_count": 65,
   "id": "fa49f3eb-7fc6-4efa-b838-7cf218b64949",
   "metadata": {},
   "outputs": [
    {
     "name": "stdout",
     "output_type": "stream",
     "text": [
      "(0, 1)\n",
      "(0, 2)\n",
      "(0, 3)\n",
      "(1, 2)\n",
      "(1, 3)\n",
      "(2, 3)\n"
     ]
    }
   ],
   "source": [
    "# 조합(순서가 없는 경우)\n",
    "from itertools import combinations\n",
    "\n",
    "v = [0,1,2,3]\n",
    "\n",
    "for i in combinations(v, 2):\n",
    "    print(i)"
   ]
  },
  {
   "cell_type": "code",
   "execution_count": 74,
   "id": "e70b2689-f2d5-4190-90be-396dd41d3435",
   "metadata": {},
   "outputs": [],
   "source": [
    "del sum"
   ]
  },
  {
   "cell_type": "code",
   "execution_count": null,
   "id": "8988b60c-b0d5-4711-8179-08ede765fcfa",
   "metadata": {},
   "outputs": [],
   "source": []
  },
  {
   "cell_type": "code",
   "execution_count": 75,
   "id": "26ac9575-24e5-4b0a-b11d-1ad86be48d6e",
   "metadata": {},
   "outputs": [
    {
     "name": "stdin",
     "output_type": "stream",
     "text": [
      " 20\n",
      " 7\n",
      " 23\n",
      " 19\n",
      " 10\n",
      " 15\n",
      " 25\n",
      " 8\n",
      " 13\n"
     ]
    },
    {
     "name": "stdout",
     "output_type": "stream",
     "text": [
      "7\n",
      "8\n",
      "10\n",
      "13\n",
      "19\n",
      "20\n",
      "23\n"
     ]
    }
   ],
   "source": [
    "# 완전탐색 quiz (조합 활용)\n",
    "from itertools import combinations\n",
    "\n",
    "heights = [int(input()) for _ in range(9)]     # list comprehension: for문으로 range(9)만큼 입력받는 input값을 int로 형변환 후 heights변수에 대입\n",
    "\n",
    "for c in combinations(heights, 7):             # heights 배열에서 7개를 뽑음\n",
    "    if sum(c) == 100:                          # heights의 원소들의 합이 100일 때,\n",
    "        for height in sorted(c):               # sorted된 c의 원소들을 for문으로 하나씩 출력\n",
    "            print(height)"
   ]
  },
  {
   "cell_type": "code",
   "execution_count": null,
   "id": "926aaba6-e7a6-4d0a-9ddb-467317b7d0d6",
   "metadata": {},
   "outputs": [],
   "source": []
  },
  {
   "cell_type": "markdown",
   "id": "2950523b-a359-4b39-b350-9a2be129eb94",
   "metadata": {},
   "source": [
    "## Greedy(탐욕법)\n",
    " - 미래를 생각하지 않고 매 순간마다 최선의 경우만 골라간다.\n",
    " - 예시) 잔돈을 거슬러 줄 때 큰 동전으로만 거슬러 준다.\n",
    "         \n",
    "         1) 0, 50, 100, 500원 동전을 무한하게 갖고 있을 때 손님에게 800원을 거슬러주려고 할 때 동전을 최소한으로 주는 방법은? (greedy 적용 가능)\n",
    "         -> 모든 경우를 검색하는 것 보다 동전을 많은 순으로 최대한 줄 수 잇는 만큼 주면 최소로 줄 수 있다.\n",
    "         \n",
    "         2) 100, 400, 500원 동전을 무한하게 갖고 있을 때, 800원을 거슬러주려고 한다면 동전을 최소한의 횟수로 주는 방법은? (greedy 적용 불가)\n",
    "         -> 위의 경우에는 400원과 500원의 차이가 크지 않아 오히려 500원을 우선으로 주면 더 많은 횟수로 거슬러주게 된다.(400원 동전 2개를 주는 것이 최소횟수)\n",
    " - 위의 두가지 사례처럼 문제가 Greedy로 풀 수 있는 문제인지 파악하기 어렵다."
   ]
  },
  {
   "cell_type": "code",
   "execution_count": 78,
   "id": "d5bf3a69-692c-4d22-a08b-fffc4d787ab2",
   "metadata": {},
   "outputs": [
    {
     "name": "stdin",
     "output_type": "stream",
     "text": [
      " 10 4200\n",
      " 1\n",
      " 5\n",
      " 10\n",
      " 50\n",
      " 100\n",
      " 500\n",
      " 1000\n",
      " 5000\n",
      " 10000\n",
      " 50000\n"
     ]
    },
    {
     "name": "stdout",
     "output_type": "stream",
     "text": [
      "6\n"
     ]
    }
   ],
   "source": [
    "# Greedy quiz (1)\n",
    "N, K = map(int, input().split())\n",
    "coins = [0] * N                              # 주어진 동전 갯수만큼 coins변수에 공간을 만들어줌\n",
    "\n",
    "for i in range(N):\n",
    "    coins[i] = int(input())                 # 입력받은 코인들을 list에 하나하나씩 저장\n",
    "\n",
    "coin_count = 0\n",
    "for i in range(N-1, -1, -1):                # 가장 큰 동전부터 하나하나 꺼내기 위해\n",
    "    if coins[i] <= K:                       # 입력받은 coins[i]가 K보다 작은 경우,\n",
    "        coin_count += K // coins[i]         # K를 coins[i]로 나눈 몫을 coin_count에 계속 합산하여 대입(사용한 동전의 수)\n",
    "        K = K % coins[i]                    # K를 coins[i]로 나눈 나머지를 K에 대입해 갱신해준다.\n",
    "print(coin_count)"
   ]
  },
  {
   "cell_type": "code",
   "execution_count": 85,
   "id": "ca232c76-0f98-4dd8-b56c-b32c10d90f0f",
   "metadata": {},
   "outputs": [
    {
     "name": "stdin",
     "output_type": "stream",
     "text": [
      " 5 2\n",
      " 1 2 100 101 102\n"
     ]
    },
    {
     "name": "stdout",
     "output_type": "stream",
     "text": [
      "3\n"
     ]
    }
   ],
   "source": [
    "# Greedy quiz (2)\n",
    "N, L = map(int, input().split())\n",
    "pipe = [False] * 1001                    # 구멍을 뚫을 pipe를 생성\n",
    "\n",
    "for i in map(int, input().split()):      # 두번째 줄 부터 입력받을 수들을 split으로 나누고 int로 형변환\n",
    "    pipe[i] = True\n",
    "    \n",
    "position = 0                            # 항승이의 위치\n",
    "tape_count = 0\n",
    "while position < len(pipe):\n",
    "    if pipe[position]:                  # pipe[position]=True, 물이 새는 경우\n",
    "        tape_count += 1                 # 사용한 tape의 수 1씩 더함\n",
    "        position += L                   # 항승이의 위치는 L씩 이동\n",
    "    else:                               # 물이 새지 않는 경우\n",
    "        position += 1\n",
    "print(tape_count)"
   ]
  },
  {
   "cell_type": "code",
   "execution_count": null,
   "id": "b61d84c2-bbde-4bd8-8d7f-30490c0be8aa",
   "metadata": {},
   "outputs": [],
   "source": []
  },
  {
   "cell_type": "code",
   "execution_count": 89,
   "id": "e99046e4-169e-4a02-a044-49e8cd70c200",
   "metadata": {},
   "outputs": [
    {
     "name": "stdout",
     "output_type": "stream",
     "text": [
      "1 0\n",
      "2 1\n",
      "4 2\n",
      "6 2\n",
      "5 1\n",
      "7 0\n"
     ]
    }
   ],
   "source": [
    "# DFS_인접행렬 예제\n",
    "node_num = 13\n",
    "adj = [[0] * node_num for _ in range(node_num)]\n",
    "\n",
    "adj[0][1] = adj[0][7] = 1              # 0 -> 1 and 7\n",
    "adj[1][2] = adj[1][5] = 1              # 1 -> 2 and 5\n",
    "adj[2][4] = adj[2][6] = 1              # 2 -> 4 and 6\n",
    "# ...\n",
    "\n",
    "def dfs(now):\n",
    "    for next in range(node_num):\n",
    "        if adj[now][next]:             # now -> next로 이어지는 간선이 있을 때\n",
    "            print(next, now)\n",
    "            dfs(next)\n",
    "dfs(0)"
   ]
  },
  {
   "cell_type": "code",
   "execution_count": null,
   "id": "c6faa90b-6725-4915-81e7-efd3c41da4e0",
   "metadata": {},
   "outputs": [],
   "source": []
  },
  {
   "cell_type": "code",
   "execution_count": 92,
   "id": "d9ac45f8-fe5f-4d33-ac5a-65b1d72468aa",
   "metadata": {},
   "outputs": [
    {
     "name": "stdin",
     "output_type": "stream",
     "text": [
      " 6 5\n",
      " 1 2\n",
      " 2 5\n",
      " 5 1\n",
      " 3 4\n",
      " 4 6\n"
     ]
    },
    {
     "name": "stdout",
     "output_type": "stream",
     "text": [
      "2\n"
     ]
    }
   ],
   "source": [
    "# 행렬을 이용하는 방법\n",
    "N, M = map(int, input().split())\n",
    "adj = [[0] * N for _ in range(N)]    # N x N의 0으로 채워진 공간(매트릭스) 생성 \n",
    "\n",
    "for _ in range(M):\n",
    "    a, b = map(lambda x: x-1, map(int, input().split()))     # index로 쓰기 때문에 x가 들어올 때 x - 1값으로 들어오게 됨\n",
    "    adj[a][b] = adj[b][a] = 1                                # 간선들로 연결을 해주고 1값을 준다.\n",
    "\n",
    "visited = [False] * N                               # 방문 list, default값 False\n",
    "def dfs(now):\n",
    "    for next in range(N):                           # node의 갯수 N만큼 방문\n",
    "        if adj[now][next] and not visited[next]:    # 간선이 연결 되었을 때, 방문을 하지 않았을 경우\n",
    "            visited[next] = True                    # 방문을 했을 경우 방문 list의 next인덱스 위치의 값을 True로 변경\n",
    "            dfs(next)                               # 간선이 연결 되었을 때, 방문을 하지 않았을 경우 방문하고 next의 매개변수로 다시 dfs함수 실행\n",
    "count = 0            \n",
    "for i in range(N):                                  # dfs함수 사용\n",
    "    if not visited[i]:                              # 방문하지 않았을 경우\n",
    "        count += 1                                  # 방문하여 1씩 더함\n",
    "        visited[i] = True\n",
    "        dfs(i)\n",
    "print(count)"
   ]
  },
  {
   "cell_type": "code",
   "execution_count": null,
   "id": "18c4b4f5-53ce-4109-ba17-3a5fdd15f55c",
   "metadata": {},
   "outputs": [],
   "source": []
  }
 ],
 "metadata": {
  "kernelspec": {
   "display_name": "Python 3 (ipykernel)",
   "language": "python",
   "name": "python3"
  },
  "language_info": {
   "codemirror_mode": {
    "name": "ipython",
    "version": 3
   },
   "file_extension": ".py",
   "mimetype": "text/x-python",
   "name": "python",
   "nbconvert_exporter": "python",
   "pygments_lexer": "ipython3",
   "version": "3.10.7"
  }
 },
 "nbformat": 4,
 "nbformat_minor": 5
}
