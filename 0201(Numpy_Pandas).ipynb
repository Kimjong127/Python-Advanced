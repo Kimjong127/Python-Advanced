{
 "cells": [
  {
   "cell_type": "markdown",
   "id": "0ad52b87-d523-4e2a-937a-d8fb01f63ad8",
   "metadata": {},
   "source": [
    "# 2023-02-01"
   ]
  },
  {
   "cell_type": "code",
   "execution_count": 1,
   "id": "1eecccea-d6f7-43d8-b3b7-cfbfb562a9cb",
   "metadata": {},
   "outputs": [
    {
     "name": "stdin",
     "output_type": "stream",
     "text": [
      " 9\n"
     ]
    },
    {
     "name": "stdout",
     "output_type": "stream",
     "text": [
      "55\n"
     ]
    }
   ],
   "source": [
    "# combination quiz(2)\n",
    "n = int(input())\n",
    "cache = [-1] * 1001\n",
    "cache[1] = 1\n",
    "cache[2] = 2\n",
    "\n",
    "for i in range(3, 1001):\n",
    "    cache[i] = (cache[i-1] + cache[i-2]) % 10007    # 1, 2 연산은 불가하기 때문에 위에서 미리 지정\n",
    "print(cache[n])"
   ]
  },
  {
   "cell_type": "code",
   "execution_count": 11,
   "id": "753d8fe8-8302-48b9-8308-9c2925c654b4",
   "metadata": {},
   "outputs": [
    {
     "name": "stdin",
     "output_type": "stream",
     "text": [
      " 2\n"
     ]
    },
    {
     "name": "stdout",
     "output_type": "stream",
     "text": [
      "17\n"
     ]
    }
   ],
   "source": [
    "# combination quiz(3)\n",
    "cache = [[0] * 10 for _ in range(101)]      # N x n size가 들어갈 cache테이블을 만들어야 함/ N은 100보다 작은 수, n은 0~9의 수 이므로\n",
    "\n",
    "\n",
    "for d in range(1, 10):    # 길이가 1이고 마지막 숫자가 1~9인 데이터를 미리 넣어줌\n",
    "    cache[1][d] = 1\n",
    "    \n",
    "for n in range(2, 101):\n",
    "    for d in range(10):\n",
    "        if d == 0:                         # 0이 올 때 - cache[n-1][d+1] 만 적용됨\n",
    "            cache[n][d] = cache[n-1][d+1]\n",
    "        elif d == 9:                       # 9가 올 때 - cache[n-1][d-1] 만 적용됨\n",
    "            cache[n][d] = cache[n-1][d-1]\n",
    "        else:\n",
    "            cache[n][d] = cache[n-1][d-1] + cache[n-1][d+1]\n",
    "        cache[n][d] %= 1_000_000_000\n",
    "\n",
    "N = int(input())\n",
    "result = 0\n",
    "for d in range(10):\n",
    "    result += cache[N][d]\n",
    "    result %= 1_000_000_000\n",
    "print(result)"
   ]
  },
  {
   "cell_type": "code",
   "execution_count": null,
   "id": "2226c43f-2dcb-4a63-ab03-b46a1d2b2378",
   "metadata": {},
   "outputs": [],
   "source": []
  },
  {
   "cell_type": "code",
   "execution_count": null,
   "id": "cc0d5558-25d4-48fd-b7dd-d8844ca46df5",
   "metadata": {},
   "outputs": [],
   "source": []
  },
  {
   "cell_type": "code",
   "execution_count": null,
   "id": "b02ffe39-5968-4d01-83ed-cd00e97b4d0b",
   "metadata": {},
   "outputs": [],
   "source": []
  },
  {
   "cell_type": "markdown",
   "id": "ca6aa129-6ca8-4b6e-b44f-2aea2254f395",
   "metadata": {},
   "source": [
    "# Python Library"
   ]
  },
  {
   "cell_type": "markdown",
   "id": "f4ca6091-6349-46c2-906b-8b1c7960ac53",
   "metadata": {},
   "source": [
    "## 1. Numpy"
   ]
  },
  {
   "cell_type": "code",
   "execution_count": 2,
   "id": "d87707bb-1e73-4642-b95d-bcfdf73d2311",
   "metadata": {},
   "outputs": [],
   "source": [
    "import numpy as np"
   ]
  },
  {
   "cell_type": "markdown",
   "id": "f15bd400-9d9e-48fb-83bb-0094a4c1d229",
   "metadata": {},
   "source": [
    "### array 생성하기"
   ]
  },
  {
   "cell_type": "code",
   "execution_count": 18,
   "id": "eb74d3bf-f48a-4ee7-be6a-3e634e30a380",
   "metadata": {
    "collapsed": true,
    "jupyter": {
     "outputs_hidden": true
    },
    "tags": []
   },
   "outputs": [
    {
     "name": "stdout",
     "output_type": "stream",
     "text": [
      "[1 2 3]\n",
      "(3,)\n",
      "[[1 2 3]\n",
      " [4 5 6]]\n",
      "(2, 3)\n",
      "[[[1 2 3]\n",
      "  [4 5 6]]\n",
      "\n",
      " [[1 2 3]\n",
      "  [4 5 6]]]\n",
      "(2, 2, 3)\n"
     ]
    }
   ],
   "source": [
    "array_1D = np.array([1, 2, 3])\n",
    "print(array_1D)\n",
    "print(array_1D.shape)\n",
    "\n",
    "array_2D = np.array([[1, 2, 3],\n",
    "                   [4, 5, 6]])\n",
    "print(array_2D)\n",
    "print(array_2D.shape)\n",
    "\n",
    "array_3D = np.array([[[1, 2, 3],\n",
    "                   [4, 5, 6]],\n",
    "                    [[1, 2, 3],\n",
    "                   [4, 5, 6]]])\n",
    "print(array_3D)\n",
    "print(array_3D.shape)"
   ]
  },
  {
   "cell_type": "code",
   "execution_count": 22,
   "id": "0ebad21a-56fc-4299-b82e-784477c23adb",
   "metadata": {},
   "outputs": [
    {
     "data": {
      "text/plain": [
       "5"
      ]
     },
     "execution_count": 22,
     "metadata": {},
     "output_type": "execute_result"
    }
   ],
   "source": [
    "# array_2D = shape (2, 3)\n",
    "# 5를 가져오려면?\n",
    "array_2D[1][1]"
   ]
  },
  {
   "cell_type": "code",
   "execution_count": 25,
   "id": "5ad677e5-651a-4bb8-a594-4adee224c93f",
   "metadata": {},
   "outputs": [
    {
     "data": {
      "text/plain": [
       "array([4, 5, 6])"
      ]
     },
     "execution_count": 25,
     "metadata": {},
     "output_type": "execute_result"
    }
   ],
   "source": [
    "# array_3D = shape(2, 2, 3)\n",
    "array_3D[0][1]"
   ]
  },
  {
   "cell_type": "code",
   "execution_count": 6,
   "id": "88186846-b6da-49f7-a24c-85f31fef539a",
   "metadata": {},
   "outputs": [
    {
     "data": {
      "text/plain": [
       "5"
      ]
     },
     "execution_count": 6,
     "metadata": {},
     "output_type": "execute_result"
    }
   ],
   "source": [
    "array_3D[0][1, 1]"
   ]
  },
  {
   "cell_type": "code",
   "execution_count": null,
   "id": "2d8291dc-247a-4a55-9d01-ad03d43ce915",
   "metadata": {},
   "outputs": [],
   "source": []
  },
  {
   "cell_type": "markdown",
   "id": "cebf0510-08ed-4e61-ac43-0e612c6bc959",
   "metadata": {
    "tags": []
   },
   "source": [
    "### 기초통계량 활용"
   ]
  },
  {
   "cell_type": "code",
   "execution_count": 26,
   "id": "3bf0e5b1-2735-4b84-b777-d4106ae3a4da",
   "metadata": {},
   "outputs": [
    {
     "data": {
      "text/plain": [
       "6"
      ]
     },
     "execution_count": 26,
     "metadata": {},
     "output_type": "execute_result"
    }
   ],
   "source": [
    "array_1D.sum()  # list에선 연산이 불가하지만 numpy array로 만든 후 연산이 가능하다."
   ]
  },
  {
   "cell_type": "code",
   "execution_count": 28,
   "id": "3de170f8-8b54-4f6b-b0be-0874cbf4ec51",
   "metadata": {},
   "outputs": [
    {
     "data": {
      "text/plain": [
       "6"
      ]
     },
     "execution_count": 28,
     "metadata": {},
     "output_type": "execute_result"
    }
   ],
   "source": [
    "array_2D.max()"
   ]
  },
  {
   "cell_type": "code",
   "execution_count": 29,
   "id": "055b5369-2a7d-475b-b90f-a6f3c925ff8a",
   "metadata": {},
   "outputs": [
    {
     "data": {
      "text/plain": [
       "3.5"
      ]
     },
     "execution_count": 29,
     "metadata": {},
     "output_type": "execute_result"
    }
   ],
   "source": [
    "array_2D.mean()"
   ]
  },
  {
   "cell_type": "code",
   "execution_count": 30,
   "id": "9c2529e3-6c73-407f-b160-85c91e677e14",
   "metadata": {},
   "outputs": [
    {
     "data": {
      "text/plain": [
       "1"
      ]
     },
     "execution_count": 30,
     "metadata": {},
     "output_type": "execute_result"
    }
   ],
   "source": [
    "array_2D.min()"
   ]
  },
  {
   "cell_type": "code",
   "execution_count": 31,
   "id": "9552c3a0-f1b2-4413-ad7e-46fbb0ed8264",
   "metadata": {},
   "outputs": [
    {
     "data": {
      "text/plain": [
       "21"
      ]
     },
     "execution_count": 31,
     "metadata": {},
     "output_type": "execute_result"
    }
   ],
   "source": [
    "array_2D.sum()"
   ]
  },
  {
   "cell_type": "markdown",
   "id": "33a610c5-ff23-460d-930f-d2c2e1335c25",
   "metadata": {},
   "source": []
  },
  {
   "cell_type": "markdown",
   "id": "f26621d1-3ce6-493a-8e98-b9db3a158fc7",
   "metadata": {},
   "source": [
    "### 모양 변경하기"
   ]
  },
  {
   "cell_type": "code",
   "execution_count": 32,
   "id": "1a0c62a9-24b0-4bae-863c-d29881f71e59",
   "metadata": {},
   "outputs": [
    {
     "name": "stdout",
     "output_type": "stream",
     "text": [
      "[ 0  1  2  3  4  5  6  7  8  9 10 11 12 13 14]\n",
      "(15,)\n"
     ]
    }
   ],
   "source": [
    "array = np.arange(15)\n",
    "print(array)\n",
    "print(array.shape)   # (15,)"
   ]
  },
  {
   "cell_type": "code",
   "execution_count": 34,
   "id": "bce5bbd8-3c68-4532-b024-1672b6429360",
   "metadata": {},
   "outputs": [
    {
     "name": "stdout",
     "output_type": "stream",
     "text": [
      "[[ 0  1  2  3  4]\n",
      " [ 5  6  7  8  9]\n",
      " [10 11 12 13 14]]\n",
      "(3, 5)\n",
      "15\n"
     ]
    }
   ],
   "source": [
    "# 3 x 5 array로 변경\n",
    "reshape_array = array.reshape(3, 5)\n",
    "print(reshape_array)\n",
    "print(reshape_array.shape)\n",
    "print(reshape_array.size)       # 크기(갯수)"
   ]
  },
  {
   "cell_type": "code",
   "execution_count": 36,
   "id": "d31553ee-7167-49bf-8d4a-e5a9c8144138",
   "metadata": {},
   "outputs": [
    {
     "name": "stdout",
     "output_type": "stream",
     "text": [
      "[ 0  5 10 15 20 25 30 35 40 45 50 55 60 65 70 75 80 85 90 95]\n",
      "20\n",
      "(20,)\n"
     ]
    }
   ],
   "source": [
    "array_1D = np.arange(0, 100, 5)\n",
    "print(array_1D)\n",
    "print(array_1D.size)\n",
    "print(array_1D.shape)"
   ]
  },
  {
   "cell_type": "code",
   "execution_count": 39,
   "id": "1b1911ec-edfa-4a00-be63-d0681328a505",
   "metadata": {},
   "outputs": [
    {
     "name": "stdout",
     "output_type": "stream",
     "text": [
      "[[[ 0  5 10 15 20]\n",
      "  [25 30 35 40 45]]\n",
      "\n",
      " [[50 55 60 65 70]\n",
      "  [75 80 85 90 95]]]\n",
      "20\n",
      "(2, 2, 5)\n",
      "3\n"
     ]
    }
   ],
   "source": [
    "# 3차원으로 변경\n",
    "reshape_array_3D = array_1D.reshape(2, 2, 5)\n",
    "print(reshape_array_3D)\n",
    "print(reshape_array_3D.size)\n",
    "print(reshape_array_3D.shape)\n",
    "print(reshape_array_3D.ndim)"
   ]
  },
  {
   "cell_type": "code",
   "execution_count": null,
   "id": "d7557ef7-1a9f-4b54-b2f0-12cc1cb7cde2",
   "metadata": {},
   "outputs": [],
   "source": []
  },
  {
   "cell_type": "markdown",
   "id": "4e0f0a69-28e0-49b0-b434-9731ffb3adb3",
   "metadata": {},
   "source": [
    "### numpy array operation"
   ]
  },
  {
   "cell_type": "code",
   "execution_count": 40,
   "id": "28429524-e7e7-4d10-b370-6b0cfd6c6045",
   "metadata": {},
   "outputs": [],
   "source": [
    "data = [1, 2, 3]"
   ]
  },
  {
   "cell_type": "code",
   "execution_count": 41,
   "id": "73c48cf1-4f07-42bb-86be-3c63103b6fbb",
   "metadata": {},
   "outputs": [
    {
     "data": {
      "text/plain": [
       "array([10, 20, 30])"
      ]
     },
     "execution_count": 41,
     "metadata": {},
     "output_type": "execute_result"
    }
   ],
   "source": [
    "np.array(data) * 10"
   ]
  },
  {
   "cell_type": "code",
   "execution_count": 43,
   "id": "eb44fb71-8009-474d-987b-fb4d378edf4e",
   "metadata": {},
   "outputs": [
    {
     "name": "stdout",
     "output_type": "stream",
     "text": [
      "[[2 2]\n",
      " [3 5]]\n",
      "[[ 0 -2]\n",
      " [-3 -3]]\n",
      "[[1 0]\n",
      " [0 4]]\n",
      "[[1.   0.  ]\n",
      " [0.   0.25]]\n"
     ]
    }
   ],
   "source": [
    "array1 = np.array([[1, 0],\n",
    "                  [0, 1]])\n",
    "array2 = np.array([[1, 2],\n",
    "                  [3, 4]])\n",
    "print(array1 + array2)\n",
    "print(array1 - array2)\n",
    "print(array1 * array2)\n",
    "print(array1 / array2)"
   ]
  },
  {
   "cell_type": "code",
   "execution_count": 46,
   "id": "5bb88abb-a05a-440c-83f0-9f93901abe76",
   "metadata": {},
   "outputs": [
    {
     "data": {
      "text/plain": [
       "array([[1, 0],\n",
       "       [0, 4]])"
      ]
     },
     "execution_count": 46,
     "metadata": {},
     "output_type": "execute_result"
    }
   ],
   "source": [
    "array1 * array2"
   ]
  },
  {
   "cell_type": "code",
   "execution_count": 47,
   "id": "a741d637-a4c4-4699-aa56-4825294c3b68",
   "metadata": {},
   "outputs": [
    {
     "data": {
      "text/plain": [
       "array([[1, 2],\n",
       "       [3, 4]])"
      ]
     },
     "execution_count": 47,
     "metadata": {},
     "output_type": "execute_result"
    }
   ],
   "source": [
    "# 행렬 곱 연산(내적)\n",
    "np.dot(array1, array2)"
   ]
  },
  {
   "cell_type": "code",
   "execution_count": null,
   "id": "a084e1eb-59ce-428d-9174-b69a2a733c05",
   "metadata": {},
   "outputs": [],
   "source": []
  },
  {
   "cell_type": "markdown",
   "id": "ac32d5b7-30d3-4504-9eae-190959dc529f",
   "metadata": {},
   "source": [
    "### 다차원 연산"
   ]
  },
  {
   "cell_type": "code",
   "execution_count": 51,
   "id": "a1cee08d-bf07-4330-b2c0-85be9c3a6520",
   "metadata": {},
   "outputs": [
    {
     "data": {
      "text/plain": [
       "array([[ 1,  2,  3,  4],\n",
       "       [ 5,  6,  7,  8],\n",
       "       [ 9, 10, 11, 12]])"
      ]
     },
     "execution_count": 51,
     "metadata": {},
     "output_type": "execute_result"
    }
   ],
   "source": [
    "n3 = np.arange(1, 13).reshape(3, 4)      # 1부터 12까지의 원소를 가지는 (3, 4)형태의 행렬 생성\n",
    "n3"
   ]
  },
  {
   "cell_type": "code",
   "execution_count": 52,
   "id": "088990d8-27ac-4bbb-96ee-6edfceeadb2a",
   "metadata": {},
   "outputs": [
    {
     "name": "stdout",
     "output_type": "stream",
     "text": [
      "3.452052529534663\n",
      "11.916666666666666\n",
      "[ 1  3  6 10 15 21 28 36 45 55 66 78]\n",
      "[        1         2         6        24       120       720      5040\n",
      "     40320    362880   3628800  39916800 479001600]\n"
     ]
    }
   ],
   "source": [
    "print(n3.std())     # 표준편차\n",
    "print(n3.var())     # 분산\n",
    "print(n3.cumsum())  # 누적합\n",
    "print(n3.cumprod()) # 누적곱"
   ]
  },
  {
   "cell_type": "code",
   "execution_count": 55,
   "id": "eb578078-ae9b-41f7-a2ce-ce584e1400b5",
   "metadata": {},
   "outputs": [
    {
     "data": {
      "text/plain": [
       "array([15, 18, 21, 24])"
      ]
     },
     "execution_count": 55,
     "metadata": {},
     "output_type": "execute_result"
    }
   ],
   "source": [
    "n3.sum(axis = 0)   # 각 column들의 합계를 구함"
   ]
  },
  {
   "cell_type": "code",
   "execution_count": 56,
   "id": "0da15bf5-cd61-4584-b09c-e6c50b5b84df",
   "metadata": {},
   "outputs": [
    {
     "data": {
      "text/plain": [
       "array([10, 26, 42])"
      ]
     },
     "execution_count": 56,
     "metadata": {},
     "output_type": "execute_result"
    }
   ],
   "source": [
    "n3.sum(axis = 1)   # 각 row들의 합계를 구함"
   ]
  },
  {
   "cell_type": "code",
   "execution_count": 58,
   "id": "536e2628-ef8b-4e1d-aa7e-9d89b20671ac",
   "metadata": {},
   "outputs": [
    {
     "data": {
      "text/plain": [
       "array([ 9, 10, 11, 12])"
      ]
     },
     "execution_count": 58,
     "metadata": {},
     "output_type": "execute_result"
    }
   ],
   "source": [
    "n3.max(axis = 0)      # 각 column들에서의 최대값"
   ]
  },
  {
   "cell_type": "code",
   "execution_count": 59,
   "id": "26cb9635-1097-4f5e-b961-03c1757da2b1",
   "metadata": {},
   "outputs": [
    {
     "data": {
      "text/plain": [
       "array([ 4,  8, 12])"
      ]
     },
     "execution_count": 59,
     "metadata": {},
     "output_type": "execute_result"
    }
   ],
   "source": [
    "n3.max(axis = 1)  "
   ]
  },
  {
   "cell_type": "code",
   "execution_count": 60,
   "id": "fc76dfc5-e6a2-4ed3-b1b0-e4c0a6b22f77",
   "metadata": {},
   "outputs": [
    {
     "data": {
      "text/plain": [
       "array([[ 1,  2,  3,  4],\n",
       "       [ 6,  8, 10, 12],\n",
       "       [15, 18, 21, 24]])"
      ]
     },
     "execution_count": 60,
     "metadata": {},
     "output_type": "execute_result"
    }
   ],
   "source": [
    "n3.cumsum(axis=0)     # column방향으로의 누적합"
   ]
  },
  {
   "cell_type": "code",
   "execution_count": 61,
   "id": "b9e19441-5cda-4d41-9ed2-f61bf7730a77",
   "metadata": {},
   "outputs": [
    {
     "data": {
      "text/plain": [
       "array([[ 1,  3,  6, 10],\n",
       "       [ 5, 11, 18, 26],\n",
       "       [ 9, 19, 30, 42]])"
      ]
     },
     "execution_count": 61,
     "metadata": {},
     "output_type": "execute_result"
    }
   ],
   "source": [
    "n3.cumsum(axis=1)     # row방향으로의 누적합"
   ]
  },
  {
   "cell_type": "code",
   "execution_count": null,
   "id": "2d3c150a-0e54-4c90-9158-e7b7d44197f6",
   "metadata": {},
   "outputs": [],
   "source": []
  },
  {
   "cell_type": "markdown",
   "id": "5f879566-8974-4bef-a266-6a87dfad23b5",
   "metadata": {},
   "source": [
    "### Stack"
   ]
  },
  {
   "cell_type": "code",
   "execution_count": 63,
   "id": "0dc92c75-16c8-4a98-abfe-adfa294f6dae",
   "metadata": {},
   "outputs": [
    {
     "name": "stdout",
     "output_type": "stream",
     "text": [
      "[11 12 13 14 15]\n",
      "[41 42 43 44 45]\n"
     ]
    }
   ],
   "source": [
    "v1 = np.arange(11, 16)\n",
    "print(v1)\n",
    "v2 = v1 + 10            # array방향이므로 각 원소에 10을 더함\n",
    "v3 = v2 + 10\n",
    "v4 = v3 + 10\n",
    "print(v4)"
   ]
  },
  {
   "cell_type": "code",
   "execution_count": 68,
   "id": "3a4281f1-7ead-485a-9090-0ef847da9943",
   "metadata": {},
   "outputs": [
    {
     "name": "stdout",
     "output_type": "stream",
     "text": [
      "[[11 12 13 14 15]\n",
      " [21 22 23 24 25]]\n",
      "[[31 32 33 34 35]\n",
      " [41 42 43 44 45]]\n",
      "********************\n",
      "[[11 12 13 14 15]\n",
      " [21 22 23 24 25]\n",
      " [31 32 33 34 35]\n",
      " [41 42 43 44 45]]\n"
     ]
    }
   ],
   "source": [
    "vstack1 = np.vstack((v1, v2))\n",
    "print(vstack1)\n",
    "vstack2 = np.vstack((v3, v4))\n",
    "print(vstack2)\n",
    "print('*' * 20)\n",
    "v = np.vstack((v1, v2, v3, v4))\n",
    "print(v)"
   ]
  },
  {
   "cell_type": "code",
   "execution_count": 69,
   "id": "6f532de4-6848-4864-8699-58a1b338fb52",
   "metadata": {},
   "outputs": [
    {
     "name": "stdout",
     "output_type": "stream",
     "text": [
      "(5,)\n",
      "(2, 5)\n",
      "(4, 5)\n"
     ]
    }
   ],
   "source": [
    "print(v1.shape)\n",
    "print(vstack1.shape)\n",
    "print(v.shape)"
   ]
  },
  {
   "cell_type": "code",
   "execution_count": 73,
   "id": "57dd1668-3120-4052-a422-31c3daced09c",
   "metadata": {},
   "outputs": [
    {
     "data": {
      "text/plain": [
       "23"
      ]
     },
     "execution_count": 73,
     "metadata": {},
     "output_type": "execute_result"
    }
   ],
   "source": [
    "# v에서 23을 선택하려면?\n",
    "v[1][2]     # v[1, 2]도 가능"
   ]
  },
  {
   "cell_type": "code",
   "execution_count": 75,
   "id": "8192afe2-767c-459c-a0a7-a486a42b1c49",
   "metadata": {},
   "outputs": [
    {
     "data": {
      "text/plain": [
       "array([12, 22, 32, 42])"
      ]
     },
     "execution_count": 75,
     "metadata": {},
     "output_type": "execute_result"
    }
   ],
   "source": [
    "v[:, 1]"
   ]
  },
  {
   "cell_type": "code",
   "execution_count": 76,
   "id": "c961bc34-bf6a-4bfb-8ce0-49a083db0847",
   "metadata": {},
   "outputs": [
    {
     "data": {
      "text/plain": [
       "array([22, 32])"
      ]
     },
     "execution_count": 76,
     "metadata": {},
     "output_type": "execute_result"
    }
   ],
   "source": [
    "v[1:3, 1]"
   ]
  },
  {
   "cell_type": "code",
   "execution_count": 77,
   "id": "50e507ae-c852-427e-8041-fb70450da113",
   "metadata": {},
   "outputs": [
    {
     "data": {
      "text/plain": [
       "array([21, 22, 23, 24, 25])"
      ]
     },
     "execution_count": 77,
     "metadata": {},
     "output_type": "execute_result"
    }
   ],
   "source": [
    "v[1, :]"
   ]
  },
  {
   "cell_type": "code",
   "execution_count": null,
   "id": "ca2978bb-1de4-449d-a295-3c274aff373d",
   "metadata": {},
   "outputs": [],
   "source": []
  },
  {
   "cell_type": "markdown",
   "id": "1ee3b35e-f67f-4449-91e5-b02631904eda",
   "metadata": {},
   "source": [
    "### 실습"
   ]
  },
  {
   "cell_type": "code",
   "execution_count": 80,
   "id": "9d47a506-b720-4b07-a040-0aa294bc4bce",
   "metadata": {},
   "outputs": [],
   "source": [
    "v = np.array([[11, 12, 13, 14, 15],\n",
    "              [21, 22, 23, 24, 25],\n",
    "              [31, 32, 33, 34, 35],\n",
    "              [41, 42, 43, 44, 45]])"
   ]
  },
  {
   "cell_type": "code",
   "execution_count": 82,
   "id": "bcb6248c-c994-41e5-b73f-1b8f18182221",
   "metadata": {},
   "outputs": [
    {
     "data": {
      "text/plain": [
       "array([33, 34])"
      ]
     },
     "execution_count": 82,
     "metadata": {},
     "output_type": "execute_result"
    }
   ],
   "source": [
    "# Q1. [33, 34]\n",
    "\n",
    "v[2][2:4]"
   ]
  },
  {
   "cell_type": "code",
   "execution_count": 83,
   "id": "df1278a9-9c01-4b33-8b91-ce6c9853a201",
   "metadata": {},
   "outputs": [
    {
     "data": {
      "text/plain": [
       "array([14, 24, 34, 44])"
      ]
     },
     "execution_count": 83,
     "metadata": {},
     "output_type": "execute_result"
    }
   ],
   "source": [
    "# Q2. [14, 24, 34, 44]\n",
    "v[:, 3]"
   ]
  },
  {
   "cell_type": "code",
   "execution_count": 92,
   "id": "1c0a721f-ec0d-41a5-a860-022e1d841e33",
   "metadata": {},
   "outputs": [
    {
     "name": "stdout",
     "output_type": "stream",
     "text": [
      "[[23 24]\n",
      " [33 34]]\n"
     ]
    }
   ],
   "source": [
    "# Q3. [[23, 24],\n",
    "#      [33, 34]]\n",
    "print(v[1:3, 2:4])"
   ]
  },
  {
   "cell_type": "code",
   "execution_count": null,
   "id": "7cf05840-0e83-4466-a0a7-d66cc4f55735",
   "metadata": {},
   "outputs": [],
   "source": []
  },
  {
   "cell_type": "markdown",
   "id": "a440e4ee-76ad-4585-9501-cf4dc999221b",
   "metadata": {},
   "source": [
    "### 조건연산"
   ]
  },
  {
   "cell_type": "code",
   "execution_count": 93,
   "id": "3aa973b2-6d65-425c-b1de-88f656492451",
   "metadata": {},
   "outputs": [
    {
     "data": {
      "text/plain": [
       "array([False,  True,  True])"
      ]
     },
     "execution_count": 93,
     "metadata": {},
     "output_type": "execute_result"
    }
   ],
   "source": [
    "# 불린(boolean)추출 - 조건에 충족하면 True, 그렇지 않은 경우 False\n",
    "arr = np.array([10, 20, 30])\n",
    "arr > 10"
   ]
  },
  {
   "cell_type": "code",
   "execution_count": 94,
   "id": "04c29caf-0fc0-4528-8154-e53788241063",
   "metadata": {},
   "outputs": [
    {
     "data": {
      "text/plain": [
       "array([20, 30])"
      ]
     },
     "execution_count": 94,
     "metadata": {},
     "output_type": "execute_result"
    }
   ],
   "source": [
    "arr[arr > 10]      # 조건 데이터를 list형태로 만들어 가져오면 True값만 얻어올 수 있다."
   ]
  },
  {
   "cell_type": "code",
   "execution_count": 95,
   "id": "0f16a2e2-46c8-4a94-8eb0-1de28af69867",
   "metadata": {},
   "outputs": [
    {
     "data": {
      "text/plain": [
       "array([20])"
      ]
     },
     "execution_count": 95,
     "metadata": {},
     "output_type": "execute_result"
    }
   ],
   "source": [
    "arr[(arr > 10) & (arr < 30)]     # 10보다 크고 30보다 작은 수 / & ->두 조건 모두 만족해야 함"
   ]
  },
  {
   "cell_type": "code",
   "execution_count": 96,
   "id": "91ace373-5980-4d09-b486-0286f47ffd40",
   "metadata": {},
   "outputs": [
    {
     "data": {
      "text/plain": [
       "array([10])"
      ]
     },
     "execution_count": 96,
     "metadata": {},
     "output_type": "execute_result"
    }
   ],
   "source": [
    "condition = arr > 10\n",
    "arr[~condition]              # '~' 위 condition의 역조건"
   ]
  },
  {
   "cell_type": "code",
   "execution_count": 97,
   "id": "bfb51154-bf95-4edc-80d8-32dc65ccb7ce",
   "metadata": {},
   "outputs": [
    {
     "data": {
      "text/plain": [
       "array([0, 1, 1])"
      ]
     },
     "execution_count": 97,
     "metadata": {},
     "output_type": "execute_result"
    }
   ],
   "source": [
    "# where\n",
    "\n",
    "arr2 = np.where(arr > 10, 1, 0)     # where(arr > 10, True면 1, False면 0)\n",
    "arr2"
   ]
  },
  {
   "cell_type": "code",
   "execution_count": 98,
   "id": "782067f9-c74b-49f6-8e74-bbe6cec69edb",
   "metadata": {},
   "outputs": [
    {
     "data": {
      "text/plain": [
       "array([ 0, 30, 40])"
      ]
     },
     "execution_count": 98,
     "metadata": {},
     "output_type": "execute_result"
    }
   ],
   "source": [
    "arr3 = np.where(arr > 10, arr + 10, arr - 10)    # True, False 자리는 고정 (arr > 10, True면 arr+10, False면 arr-10)\n",
    "arr3"
   ]
  },
  {
   "cell_type": "code",
   "execution_count": null,
   "id": "c718a8ac-c30d-4f5b-a792-38e1771e87f5",
   "metadata": {},
   "outputs": [],
   "source": []
  },
  {
   "cell_type": "markdown",
   "id": "3c1f983f-c4ed-4d8a-8620-bde80f552119",
   "metadata": {},
   "source": [
    "## 2. Pandas"
   ]
  },
  {
   "cell_type": "code",
   "execution_count": 11,
   "id": "79a7f251-2744-462d-b4c4-c0e22ffc8997",
   "metadata": {},
   "outputs": [],
   "source": [
    "import pandas as pd"
   ]
  },
  {
   "cell_type": "markdown",
   "id": "6304cd22-8d2d-495c-9298-767e746031fa",
   "metadata": {},
   "source": [
    "### Series"
   ]
  },
  {
   "cell_type": "code",
   "execution_count": 100,
   "id": "d1a07b9d-2788-40b2-acf9-8c7fab1f08e9",
   "metadata": {},
   "outputs": [
    {
     "data": {
      "text/plain": [
       "DatetimeIndex(['2022-01-31', '2022-02-28', '2022-03-31', '2022-04-30',\n",
       "               '2022-05-31', '2022-06-30', '2022-07-31', '2022-08-31',\n",
       "               '2022-09-30', '2022-10-31', '2022-11-30', '2022-12-31'],\n",
       "              dtype='datetime64[ns]', freq='M')"
      ]
     },
     "execution_count": 100,
     "metadata": {},
     "output_type": "execute_result"
    }
   ],
   "source": [
    "pd.date_range('2022-01-01', '2023-01-01', freq = 'M' )       # 날짜 data 생성 - 시작, 끝, 빈도('D', 'W', 'M'..)"
   ]
  },
  {
   "cell_type": "code",
   "execution_count": 101,
   "id": "cff67b5c-90e1-497a-87d3-cf1411159730",
   "metadata": {},
   "outputs": [
    {
     "data": {
      "text/plain": [
       "DatetimeIndex(['2022-01-01', '2022-02-01', '2022-03-01', '2022-04-01',\n",
       "               '2022-05-01', '2022-06-01', '2022-07-01', '2022-08-01',\n",
       "               '2022-09-01', '2022-10-01', '2022-11-01', '2022-12-01',\n",
       "               '2023-01-01'],\n",
       "              dtype='datetime64[ns]', freq='MS')"
      ]
     },
     "execution_count": 101,
     "metadata": {},
     "output_type": "execute_result"
    }
   ],
   "source": [
    "pd.date_range('2022-01-01', '2023-01-01', freq = 'MS' )    # freq = 'MS' 월의 첫째날"
   ]
  },
  {
   "cell_type": "code",
   "execution_count": 102,
   "id": "61e1b8b7-016a-4df5-84d7-cfa54c0a4c91",
   "metadata": {},
   "outputs": [
    {
     "data": {
      "text/plain": [
       "DatetimeIndex(['2023-01-01', '2023-01-02', '2023-01-03'], dtype='datetime64[ns]', freq='D')"
      ]
     },
     "execution_count": 102,
     "metadata": {},
     "output_type": "execute_result"
    }
   ],
   "source": [
    "prices = [1000, 1010, 1020]\n",
    "dates = pd.date_range('20230101', periods = 3)\n",
    "dates"
   ]
  },
  {
   "cell_type": "code",
   "execution_count": 104,
   "id": "3a443206-51f2-4967-9aac-81c4533294fb",
   "metadata": {},
   "outputs": [
    {
     "data": {
      "text/plain": [
       "2023-01-01    1000\n",
       "2023-01-02    1010\n",
       "2023-01-03    1020\n",
       "Freq: D, dtype: int64"
      ]
     },
     "execution_count": 104,
     "metadata": {},
     "output_type": "execute_result"
    }
   ],
   "source": [
    "Series1 = pd.Series(prices, index = dates)   # dates를 index로 하고 prices의 값들을 가지는 Series객체 생성\n",
    "Series1"
   ]
  },
  {
   "cell_type": "code",
   "execution_count": 107,
   "id": "3c8f0471-3342-465f-9bf8-84d9cd454ee8",
   "metadata": {},
   "outputs": [
    {
     "data": {
      "text/plain": [
       "2023-01-01    1000\n",
       "2023-01-02    1010\n",
       "2023-01-03    1020\n",
       "2023-01-04    1030\n",
       "Freq: D, dtype: int64"
      ]
     },
     "execution_count": 107,
     "metadata": {},
     "output_type": "execute_result"
    }
   ],
   "source": [
    "# 값 추가\n",
    "Series1['2023-01-04'] = 1030\n",
    "Series1"
   ]
  },
  {
   "cell_type": "code",
   "execution_count": 108,
   "id": "8a0ae252-9086-4d04-b513-e35c8881df39",
   "metadata": {},
   "outputs": [
    {
     "data": {
      "text/plain": [
       "1020"
      ]
     },
     "execution_count": 108,
     "metadata": {},
     "output_type": "execute_result"
    }
   ],
   "source": [
    "# 값 불러오기 1\n",
    "Series1[2]"
   ]
  },
  {
   "cell_type": "code",
   "execution_count": 109,
   "id": "17706512-1b42-4895-aa8f-f19565416c4f",
   "metadata": {},
   "outputs": [
    {
     "data": {
      "text/plain": [
       "1010"
      ]
     },
     "execution_count": 109,
     "metadata": {},
     "output_type": "execute_result"
    }
   ],
   "source": [
    "# 값 불러오기 2\n",
    "Series1['2023-01-02']"
   ]
  },
  {
   "cell_type": "code",
   "execution_count": 113,
   "id": "3745331f-f4ed-4980-9302-da24ae7cd2ac",
   "metadata": {},
   "outputs": [
    {
     "data": {
      "text/plain": [
       "0    1000\n",
       "1    1010\n",
       "2    1020\n",
       "dtype: int64"
      ]
     },
     "execution_count": 113,
     "metadata": {},
     "output_type": "execute_result"
    }
   ],
   "source": [
    "Series2 = pd.Series(prices)    # index 지정 없이 Series객체 생성\n",
    "Series2"
   ]
  },
  {
   "cell_type": "code",
   "execution_count": 112,
   "id": "e163f085-848e-45ce-84ad-5a38dbabba1d",
   "metadata": {},
   "outputs": [
    {
     "data": {
      "text/plain": [
       "0    1000\n",
       "1    1010\n",
       "2    1020\n",
       "3    1030\n",
       "dtype: int64"
      ]
     },
     "execution_count": 112,
     "metadata": {},
     "output_type": "execute_result"
    }
   ],
   "source": [
    "Series2[3] = 1030\n",
    "Series2"
   ]
  },
  {
   "cell_type": "code",
   "execution_count": null,
   "id": "6e3a5069-20de-4719-8181-30a62bf8386f",
   "metadata": {},
   "outputs": [],
   "source": []
  },
  {
   "cell_type": "markdown",
   "id": "8cd3414d-ee7d-4f3f-8a35-ef66c404571c",
   "metadata": {},
   "source": [
    "### DataFrame"
   ]
  },
  {
   "cell_type": "code",
   "execution_count": 12,
   "id": "227c9fc9-f7a3-4b5e-8aac-594bb9163c65",
   "metadata": {},
   "outputs": [
    {
     "data": {
      "text/html": [
       "<div>\n",
       "<style scoped>\n",
       "    .dataframe tbody tr th:only-of-type {\n",
       "        vertical-align: middle;\n",
       "    }\n",
       "\n",
       "    .dataframe tbody tr th {\n",
       "        vertical-align: top;\n",
       "    }\n",
       "\n",
       "    .dataframe thead th {\n",
       "        text-align: right;\n",
       "    }\n",
       "</style>\n",
       "<table border=\"1\" class=\"dataframe\">\n",
       "  <thead>\n",
       "    <tr style=\"text-align: right;\">\n",
       "      <th></th>\n",
       "      <th>A텔레콤</th>\n",
       "      <th>B전자</th>\n",
       "      <th>C은행</th>\n",
       "    </tr>\n",
       "  </thead>\n",
       "  <tbody>\n",
       "    <tr>\n",
       "      <th>0</th>\n",
       "      <td>48000</td>\n",
       "      <td>60000</td>\n",
       "      <td>54000</td>\n",
       "    </tr>\n",
       "    <tr>\n",
       "      <th>1</th>\n",
       "      <td>48500</td>\n",
       "      <td>61000</td>\n",
       "      <td>55000</td>\n",
       "    </tr>\n",
       "    <tr>\n",
       "      <th>2</th>\n",
       "      <td>49000</td>\n",
       "      <td>62000</td>\n",
       "      <td>56000</td>\n",
       "    </tr>\n",
       "  </tbody>\n",
       "</table>\n",
       "</div>"
      ],
      "text/plain": [
       "    A텔레콤    B전자    C은행\n",
       "0  48000  60000  54000\n",
       "1  48500  61000  55000\n",
       "2  49000  62000  56000"
      ]
     },
     "execution_count": 12,
     "metadata": {},
     "output_type": "execute_result"
    }
   ],
   "source": [
    "prices = {\n",
    "    \"A텔레콤\" : [48000, 48500, 49000],     # A, B, C -> columns / data의 길이가 같아야 DF생성가능\n",
    "    \"B전자\" : [60000, 61000, 62000],\n",
    "    \"C은행\" : [54000, 55000, 56000]\n",
    "}\n",
    "\n",
    "df1 = pd.DataFrame(prices)\n",
    "df1"
   ]
  },
  {
   "cell_type": "code",
   "execution_count": 14,
   "id": "65c9a831-8659-4e42-92e7-820dea9fe0a7",
   "metadata": {},
   "outputs": [
    {
     "data": {
      "text/plain": [
       "DatetimeIndex(['2023-01-02', '2023-01-03', '2023-01-04'], dtype='datetime64[ns]', freq='D')"
      ]
     },
     "execution_count": 14,
     "metadata": {},
     "output_type": "execute_result"
    }
   ],
   "source": [
    "# DataFrame의 index값으로 넣을 날짜 생성\n",
    "dates = pd.date_range('2023-01-02', periods = 3)\n",
    "dates"
   ]
  },
  {
   "cell_type": "code",
   "execution_count": 15,
   "id": "88bf7053-ce37-432a-96e6-0af155f5f47a",
   "metadata": {},
   "outputs": [
    {
     "data": {
      "text/html": [
       "<div>\n",
       "<style scoped>\n",
       "    .dataframe tbody tr th:only-of-type {\n",
       "        vertical-align: middle;\n",
       "    }\n",
       "\n",
       "    .dataframe tbody tr th {\n",
       "        vertical-align: top;\n",
       "    }\n",
       "\n",
       "    .dataframe thead th {\n",
       "        text-align: right;\n",
       "    }\n",
       "</style>\n",
       "<table border=\"1\" class=\"dataframe\">\n",
       "  <thead>\n",
       "    <tr style=\"text-align: right;\">\n",
       "      <th></th>\n",
       "      <th>A텔레콤</th>\n",
       "      <th>B전자</th>\n",
       "      <th>C은행</th>\n",
       "    </tr>\n",
       "  </thead>\n",
       "  <tbody>\n",
       "    <tr>\n",
       "      <th>2023-01-02</th>\n",
       "      <td>48000</td>\n",
       "      <td>60000</td>\n",
       "      <td>54000</td>\n",
       "    </tr>\n",
       "    <tr>\n",
       "      <th>2023-01-03</th>\n",
       "      <td>48500</td>\n",
       "      <td>61000</td>\n",
       "      <td>55000</td>\n",
       "    </tr>\n",
       "    <tr>\n",
       "      <th>2023-01-04</th>\n",
       "      <td>49000</td>\n",
       "      <td>62000</td>\n",
       "      <td>56000</td>\n",
       "    </tr>\n",
       "  </tbody>\n",
       "</table>\n",
       "</div>"
      ],
      "text/plain": [
       "             A텔레콤    B전자    C은행\n",
       "2023-01-02  48000  60000  54000\n",
       "2023-01-03  48500  61000  55000\n",
       "2023-01-04  49000  62000  56000"
      ]
     },
     "execution_count": 15,
     "metadata": {},
     "output_type": "execute_result"
    }
   ],
   "source": [
    "df2 = pd.DataFrame(prices, index = dates)          # DataFrame도 역시 index를 지정하여 넣을 수 있다.\n",
    "df2"
   ]
  },
  {
   "cell_type": "code",
   "execution_count": null,
   "id": "66c3d2a1-1a9d-445a-a094-367516e9ec93",
   "metadata": {},
   "outputs": [],
   "source": []
  },
  {
   "cell_type": "markdown",
   "id": "403e4498-16b0-4842-ada0-03ac5c0c4e4d",
   "metadata": {},
   "source": [
    "### 데이터 선택\n",
    " - iloc : 데이터 순서로 데이터를 가져온다.\n",
    " - loc : index, column으로 데이터를 가져온다."
   ]
  },
  {
   "cell_type": "code",
   "execution_count": 16,
   "id": "0c66f65e-2e6e-45b5-b7ed-7ca85c56c7dc",
   "metadata": {},
   "outputs": [
    {
     "data": {
      "text/html": [
       "<div>\n",
       "<style scoped>\n",
       "    .dataframe tbody tr th:only-of-type {\n",
       "        vertical-align: middle;\n",
       "    }\n",
       "\n",
       "    .dataframe tbody tr th {\n",
       "        vertical-align: top;\n",
       "    }\n",
       "\n",
       "    .dataframe thead th {\n",
       "        text-align: right;\n",
       "    }\n",
       "</style>\n",
       "<table border=\"1\" class=\"dataframe\">\n",
       "  <thead>\n",
       "    <tr style=\"text-align: right;\">\n",
       "      <th></th>\n",
       "      <th>A텔레콤</th>\n",
       "      <th>B전자</th>\n",
       "      <th>C은행</th>\n",
       "    </tr>\n",
       "  </thead>\n",
       "  <tbody>\n",
       "    <tr>\n",
       "      <th>2023-01-02</th>\n",
       "      <td>48000</td>\n",
       "      <td>60000</td>\n",
       "      <td>54000</td>\n",
       "    </tr>\n",
       "    <tr>\n",
       "      <th>2023-01-03</th>\n",
       "      <td>48500</td>\n",
       "      <td>61000</td>\n",
       "      <td>55000</td>\n",
       "    </tr>\n",
       "    <tr>\n",
       "      <th>2023-01-04</th>\n",
       "      <td>49000</td>\n",
       "      <td>62000</td>\n",
       "      <td>56000</td>\n",
       "    </tr>\n",
       "  </tbody>\n",
       "</table>\n",
       "</div>"
      ],
      "text/plain": [
       "             A텔레콤    B전자    C은행\n",
       "2023-01-02  48000  60000  54000\n",
       "2023-01-03  48500  61000  55000\n",
       "2023-01-04  49000  62000  56000"
      ]
     },
     "execution_count": 16,
     "metadata": {},
     "output_type": "execute_result"
    }
   ],
   "source": [
    "df2"
   ]
  },
  {
   "cell_type": "code",
   "execution_count": 118,
   "id": "33c5e530-f360-483d-8af6-bd1836ae7bad",
   "metadata": {},
   "outputs": [
    {
     "data": {
      "text/plain": [
       "A텔레콤    48000\n",
       "B전자     60000\n",
       "C은행     54000\n",
       "Name: 2023-01-02 00:00:00, dtype: int64"
      ]
     },
     "execution_count": 118,
     "metadata": {},
     "output_type": "execute_result"
    }
   ],
   "source": [
    "df2.iloc[0]    # row"
   ]
  },
  {
   "cell_type": "code",
   "execution_count": 119,
   "id": "42deffe5-23e4-4ade-803b-8e40acfeb3da",
   "metadata": {},
   "outputs": [
    {
     "data": {
      "text/plain": [
       "2023-01-02    48000\n",
       "2023-01-03    48500\n",
       "2023-01-04    49000\n",
       "Freq: D, Name: A텔레콤, dtype: int64"
      ]
     },
     "execution_count": 119,
     "metadata": {},
     "output_type": "execute_result"
    }
   ],
   "source": [
    "df2.iloc[:, 0]    # column"
   ]
  },
  {
   "cell_type": "code",
   "execution_count": 121,
   "id": "11193b0b-c982-4297-9590-7f9ada8ba3f0",
   "metadata": {},
   "outputs": [
    {
     "data": {
      "text/plain": [
       "48000"
      ]
     },
     "execution_count": 121,
     "metadata": {},
     "output_type": "execute_result"
    }
   ],
   "source": [
    "df2.iloc[0, 0]   # row와 column에 해당하는 값 하나만"
   ]
  },
  {
   "cell_type": "code",
   "execution_count": 123,
   "id": "1afa5e0d-e45e-42d4-8d31-d14bf3a72b56",
   "metadata": {},
   "outputs": [
    {
     "data": {
      "text/plain": [
       "48000"
      ]
     },
     "execution_count": 123,
     "metadata": {},
     "output_type": "execute_result"
    }
   ],
   "source": [
    "df2.loc['2023-01-02', 'A텔레콤']        # index명으로"
   ]
  },
  {
   "cell_type": "code",
   "execution_count": 124,
   "id": "558b928d-4792-4fa0-bf69-db5466e694ae",
   "metadata": {},
   "outputs": [
    {
     "data": {
      "text/plain": [
       "A텔레콤    48000\n",
       "B전자     60000\n",
       "C은행     54000\n",
       "Name: 2023-01-02 00:00:00, dtype: int64"
      ]
     },
     "execution_count": 124,
     "metadata": {},
     "output_type": "execute_result"
    }
   ],
   "source": [
    "df2.loc['2023-01-02']"
   ]
  },
  {
   "cell_type": "code",
   "execution_count": 125,
   "id": "3c407521-de9b-436d-b7ea-eadb03a8435a",
   "metadata": {},
   "outputs": [
    {
     "data": {
      "text/plain": [
       "2023-01-02    48000\n",
       "2023-01-03    48500\n",
       "2023-01-04    49000\n",
       "Freq: D, Name: A텔레콤, dtype: int64"
      ]
     },
     "execution_count": 125,
     "metadata": {},
     "output_type": "execute_result"
    }
   ],
   "source": [
    "df2.loc[:, 'A텔레콤']"
   ]
  },
  {
   "cell_type": "code",
   "execution_count": 126,
   "id": "a407ab6f-52d1-40ea-aae6-792cb766fb50",
   "metadata": {},
   "outputs": [
    {
     "data": {
      "text/plain": [
       "2023-01-02    48000\n",
       "2023-01-03    48500\n",
       "2023-01-04    49000\n",
       "Freq: D, Name: A텔레콤, dtype: int64"
      ]
     },
     "execution_count": 126,
     "metadata": {},
     "output_type": "execute_result"
    }
   ],
   "source": [
    "df2.A텔레콤"
   ]
  },
  {
   "cell_type": "code",
   "execution_count": 127,
   "id": "3e06afc8-4da9-4041-b6c0-7224741272cc",
   "metadata": {},
   "outputs": [
    {
     "data": {
      "text/plain": [
       "48500"
      ]
     },
     "execution_count": 127,
     "metadata": {},
     "output_type": "execute_result"
    }
   ],
   "source": [
    "df2['A텔레콤']['2023-01-03']"
   ]
  },
  {
   "cell_type": "code",
   "execution_count": 128,
   "id": "ea57f2d3-dc6d-4bf6-a850-6669476235c1",
   "metadata": {},
   "outputs": [
    {
     "data": {
      "text/plain": [
       "48500"
      ]
     },
     "execution_count": 128,
     "metadata": {},
     "output_type": "execute_result"
    }
   ],
   "source": [
    "df2.loc[:, 'A텔레콤']['2023-01-03']"
   ]
  },
  {
   "cell_type": "markdown",
   "id": "a179693e-ba85-4133-98e9-873e70cae8e2",
   "metadata": {},
   "source": []
  },
  {
   "cell_type": "markdown",
   "id": "c6d1db2d-18a1-4d67-b3e3-4b5eee8cd23e",
   "metadata": {},
   "source": [
    "### 실습"
   ]
  },
  {
   "cell_type": "code",
   "execution_count": 17,
   "id": "81cd8c8c-8a62-4445-ad94-39789a80cd68",
   "metadata": {},
   "outputs": [
    {
     "data": {
      "text/html": [
       "<div>\n",
       "<style scoped>\n",
       "    .dataframe tbody tr th:only-of-type {\n",
       "        vertical-align: middle;\n",
       "    }\n",
       "\n",
       "    .dataframe tbody tr th {\n",
       "        vertical-align: top;\n",
       "    }\n",
       "\n",
       "    .dataframe thead th {\n",
       "        text-align: right;\n",
       "    }\n",
       "</style>\n",
       "<table border=\"1\" class=\"dataframe\">\n",
       "  <thead>\n",
       "    <tr style=\"text-align: right;\">\n",
       "      <th></th>\n",
       "      <th>A텔레콤</th>\n",
       "      <th>B전자</th>\n",
       "      <th>C은행</th>\n",
       "      <th>D철강</th>\n",
       "    </tr>\n",
       "  </thead>\n",
       "  <tbody>\n",
       "    <tr>\n",
       "      <th>2023-01-02</th>\n",
       "      <td>48000</td>\n",
       "      <td>60000</td>\n",
       "      <td>54000</td>\n",
       "      <td>5000</td>\n",
       "    </tr>\n",
       "    <tr>\n",
       "      <th>2023-01-03</th>\n",
       "      <td>48500</td>\n",
       "      <td>61000</td>\n",
       "      <td>55000</td>\n",
       "      <td>5100</td>\n",
       "    </tr>\n",
       "    <tr>\n",
       "      <th>2023-01-04</th>\n",
       "      <td>49000</td>\n",
       "      <td>62000</td>\n",
       "      <td>56000</td>\n",
       "      <td>5200</td>\n",
       "    </tr>\n",
       "  </tbody>\n",
       "</table>\n",
       "</div>"
      ],
      "text/plain": [
       "             A텔레콤    B전자    C은행   D철강\n",
       "2023-01-02  48000  60000  54000  5000\n",
       "2023-01-03  48500  61000  55000  5100\n",
       "2023-01-04  49000  62000  56000  5200"
      ]
     },
     "execution_count": 17,
     "metadata": {},
     "output_type": "execute_result"
    }
   ],
   "source": [
    "df2['D철강'] = [5000, 5100, 5200]\n",
    "df2"
   ]
  },
  {
   "cell_type": "markdown",
   "id": "89b36d38-3b1d-4267-aa2b-def640671944",
   "metadata": {},
   "source": [
    "1. 2023년 1월 3일 ~ 2023년 1월 4일 까지의 ‘B 전자’, ‘C 은행’ 데이터를 가져와주세요"
   ]
  },
  {
   "cell_type": "code",
   "execution_count": 137,
   "id": "9421f670-8044-4c05-b665-89e51e775435",
   "metadata": {
    "tags": []
   },
   "outputs": [
    {
     "data": {
      "text/html": [
       "<div>\n",
       "<style scoped>\n",
       "    .dataframe tbody tr th:only-of-type {\n",
       "        vertical-align: middle;\n",
       "    }\n",
       "\n",
       "    .dataframe tbody tr th {\n",
       "        vertical-align: top;\n",
       "    }\n",
       "\n",
       "    .dataframe thead th {\n",
       "        text-align: right;\n",
       "    }\n",
       "</style>\n",
       "<table border=\"1\" class=\"dataframe\">\n",
       "  <thead>\n",
       "    <tr style=\"text-align: right;\">\n",
       "      <th></th>\n",
       "      <th>B전자</th>\n",
       "      <th>C은행</th>\n",
       "    </tr>\n",
       "  </thead>\n",
       "  <tbody>\n",
       "    <tr>\n",
       "      <th>2023-01-03</th>\n",
       "      <td>61000</td>\n",
       "      <td>55000</td>\n",
       "    </tr>\n",
       "    <tr>\n",
       "      <th>2023-01-04</th>\n",
       "      <td>62000</td>\n",
       "      <td>56000</td>\n",
       "    </tr>\n",
       "  </tbody>\n",
       "</table>\n",
       "</div>"
      ],
      "text/plain": [
       "              B전자    C은행\n",
       "2023-01-03  61000  55000\n",
       "2023-01-04  62000  56000"
      ]
     },
     "execution_count": 137,
     "metadata": {},
     "output_type": "execute_result"
    }
   ],
   "source": [
    "# iloc\n",
    "df2.iloc[1:, [1, 2]]    # or df2.iloc[1:, 1:3]"
   ]
  },
  {
   "cell_type": "code",
   "execution_count": 138,
   "id": "dc9d518d-c2b7-4f9b-a855-4e572d0b5d13",
   "metadata": {
    "tags": []
   },
   "outputs": [
    {
     "data": {
      "text/html": [
       "<div>\n",
       "<style scoped>\n",
       "    .dataframe tbody tr th:only-of-type {\n",
       "        vertical-align: middle;\n",
       "    }\n",
       "\n",
       "    .dataframe tbody tr th {\n",
       "        vertical-align: top;\n",
       "    }\n",
       "\n",
       "    .dataframe thead th {\n",
       "        text-align: right;\n",
       "    }\n",
       "</style>\n",
       "<table border=\"1\" class=\"dataframe\">\n",
       "  <thead>\n",
       "    <tr style=\"text-align: right;\">\n",
       "      <th></th>\n",
       "      <th>B전자</th>\n",
       "      <th>C은행</th>\n",
       "    </tr>\n",
       "  </thead>\n",
       "  <tbody>\n",
       "    <tr>\n",
       "      <th>2023-01-03</th>\n",
       "      <td>61000</td>\n",
       "      <td>55000</td>\n",
       "    </tr>\n",
       "    <tr>\n",
       "      <th>2023-01-04</th>\n",
       "      <td>62000</td>\n",
       "      <td>56000</td>\n",
       "    </tr>\n",
       "  </tbody>\n",
       "</table>\n",
       "</div>"
      ],
      "text/plain": [
       "              B전자    C은행\n",
       "2023-01-03  61000  55000\n",
       "2023-01-04  62000  56000"
      ]
     },
     "execution_count": 138,
     "metadata": {},
     "output_type": "execute_result"
    }
   ],
   "source": [
    "# loc\n",
    "df2.loc['2023-01-03':, 'B전자':'C은행']"
   ]
  },
  {
   "cell_type": "markdown",
   "id": "191459a7-9ca6-452b-9c3c-9260900f8744",
   "metadata": {},
   "source": [
    "2. 데이터 61000원 가져오기(iloc, loc 각각 활용)"
   ]
  },
  {
   "cell_type": "code",
   "execution_count": 143,
   "id": "7d3b488f-c412-4bce-9f63-b45e64852fbf",
   "metadata": {
    "tags": []
   },
   "outputs": [
    {
     "data": {
      "text/plain": [
       "61000"
      ]
     },
     "execution_count": 143,
     "metadata": {},
     "output_type": "execute_result"
    }
   ],
   "source": [
    "df2.iloc[1, 1]"
   ]
  },
  {
   "cell_type": "code",
   "execution_count": 144,
   "id": "58d3bbac-015e-4cfd-b4d0-c79e3f8baf5c",
   "metadata": {
    "collapsed": {
     "outputs_hidden": true
    },
    "jupyter": {
     "outputs_hidden": {
      "outputs_hidden": true
     }
    },
    "tags": []
   },
   "outputs": [
    {
     "data": {
      "text/plain": [
       "61000"
      ]
     },
     "execution_count": 144,
     "metadata": {},
     "output_type": "execute_result"
    }
   ],
   "source": [
    "df2.loc['2023-01-03', 'B전자']"
   ]
  },
  {
   "cell_type": "code",
   "execution_count": null,
   "id": "a663c245-c09e-469a-ab57-67037d749302",
   "metadata": {},
   "outputs": [],
   "source": []
  },
  {
   "cell_type": "markdown",
   "id": "ecb0418e-de37-4b76-a097-915e41f1379c",
   "metadata": {},
   "source": [
    "## 데이터프레임 확장\n",
    " - concat : 그냥 가져다 붙이는 것 (index, columns 같은 경우)\n",
    " - merge : 공통된 컬럼이나 인덱스가 있는 경우 결합"
   ]
  },
  {
   "cell_type": "code",
   "execution_count": 45,
   "id": "b4741807-c100-4464-9946-e8dc02d6414f",
   "metadata": {},
   "outputs": [
    {
     "data": {
      "text/plain": [
       "2023-01-02    3000\n",
       "2023-01-03    3100\n",
       "2023-01-04    3200\n",
       "Freq: D, Name: F화학, dtype: int64"
      ]
     },
     "execution_count": 45,
     "metadata": {},
     "output_type": "execute_result"
    }
   ],
   "source": [
    "dates = pd.date_range('2023-01-02', periods = 3)\n",
    "s1 = pd.Series([3000, 3100, 3200], index = dates)\n",
    "s1.name = 'F화학'                                 # column명 지정\n",
    "s1"
   ]
  },
  {
   "cell_type": "code",
   "execution_count": 46,
   "id": "42857c88-bfb6-4ded-8d36-cc4227d2ca32",
   "metadata": {},
   "outputs": [
    {
     "data": {
      "text/html": [
       "<div>\n",
       "<style scoped>\n",
       "    .dataframe tbody tr th:only-of-type {\n",
       "        vertical-align: middle;\n",
       "    }\n",
       "\n",
       "    .dataframe tbody tr th {\n",
       "        vertical-align: top;\n",
       "    }\n",
       "\n",
       "    .dataframe thead th {\n",
       "        text-align: right;\n",
       "    }\n",
       "</style>\n",
       "<table border=\"1\" class=\"dataframe\">\n",
       "  <thead>\n",
       "    <tr style=\"text-align: right;\">\n",
       "      <th></th>\n",
       "      <th>A텔레콤</th>\n",
       "      <th>B전자</th>\n",
       "      <th>C은행</th>\n",
       "      <th>D철강</th>\n",
       "      <th>F화학</th>\n",
       "    </tr>\n",
       "  </thead>\n",
       "  <tbody>\n",
       "    <tr>\n",
       "      <th>2023-01-02</th>\n",
       "      <td>48000</td>\n",
       "      <td>60000</td>\n",
       "      <td>54000</td>\n",
       "      <td>5000</td>\n",
       "      <td>3000</td>\n",
       "    </tr>\n",
       "    <tr>\n",
       "      <th>2023-01-03</th>\n",
       "      <td>48500</td>\n",
       "      <td>61000</td>\n",
       "      <td>55000</td>\n",
       "      <td>5100</td>\n",
       "      <td>3100</td>\n",
       "    </tr>\n",
       "    <tr>\n",
       "      <th>2023-01-04</th>\n",
       "      <td>49000</td>\n",
       "      <td>62000</td>\n",
       "      <td>56000</td>\n",
       "      <td>5200</td>\n",
       "      <td>3200</td>\n",
       "    </tr>\n",
       "  </tbody>\n",
       "</table>\n",
       "</div>"
      ],
      "text/plain": [
       "             A텔레콤    B전자    C은행   D철강   F화학\n",
       "2023-01-02  48000  60000  54000  5000  3000\n",
       "2023-01-03  48500  61000  55000  5100  3100\n",
       "2023-01-04  49000  62000  56000  5200  3200"
      ]
     },
     "execution_count": 46,
     "metadata": {},
     "output_type": "execute_result"
    }
   ],
   "source": [
    "concat_df2 = pd.concat([df2, s1], axis = 1)             # df와 series or df와 df 끼리 concat가능 (붙일 방향도 지정해야 함), 가로(row) 방향으로\n",
    "concat_df2"
   ]
  },
  {
   "cell_type": "code",
   "execution_count": 47,
   "id": "00449bfe-a9ac-4516-93a2-3b17dd53f260",
   "metadata": {},
   "outputs": [
    {
     "data": {
      "text/html": [
       "<div>\n",
       "<style scoped>\n",
       "    .dataframe tbody tr th:only-of-type {\n",
       "        vertical-align: middle;\n",
       "    }\n",
       "\n",
       "    .dataframe tbody tr th {\n",
       "        vertical-align: top;\n",
       "    }\n",
       "\n",
       "    .dataframe thead th {\n",
       "        text-align: right;\n",
       "    }\n",
       "</style>\n",
       "<table border=\"1\" class=\"dataframe\">\n",
       "  <thead>\n",
       "    <tr style=\"text-align: right;\">\n",
       "      <th></th>\n",
       "      <th>A텔레콤</th>\n",
       "      <th>B전자</th>\n",
       "      <th>C은행</th>\n",
       "      <th>D철강</th>\n",
       "      <th>F화학</th>\n",
       "      <th>F화학_add_500</th>\n",
       "    </tr>\n",
       "  </thead>\n",
       "  <tbody>\n",
       "    <tr>\n",
       "      <th>2023-01-02</th>\n",
       "      <td>48000</td>\n",
       "      <td>60000</td>\n",
       "      <td>54000</td>\n",
       "      <td>5000</td>\n",
       "      <td>3000</td>\n",
       "      <td>3500</td>\n",
       "    </tr>\n",
       "    <tr>\n",
       "      <th>2023-01-03</th>\n",
       "      <td>48500</td>\n",
       "      <td>61000</td>\n",
       "      <td>55000</td>\n",
       "      <td>5100</td>\n",
       "      <td>3100</td>\n",
       "      <td>3600</td>\n",
       "    </tr>\n",
       "    <tr>\n",
       "      <th>2023-01-04</th>\n",
       "      <td>49000</td>\n",
       "      <td>62000</td>\n",
       "      <td>56000</td>\n",
       "      <td>5200</td>\n",
       "      <td>3200</td>\n",
       "      <td>3700</td>\n",
       "    </tr>\n",
       "  </tbody>\n",
       "</table>\n",
       "</div>"
      ],
      "text/plain": [
       "             A텔레콤    B전자    C은행   D철강   F화학  F화학_add_500\n",
       "2023-01-02  48000  60000  54000  5000  3000         3500\n",
       "2023-01-03  48500  61000  55000  5100  3100         3600\n",
       "2023-01-04  49000  62000  56000  5200  3200         3700"
      ]
     },
     "execution_count": 47,
     "metadata": {},
     "output_type": "execute_result"
    }
   ],
   "source": [
    "concat_df2['F화학_add_500'] = concat_df2['F화학'] + 500    # 한 column의 값들을 연산하여 나온 결과로 새로운 column 생성 가능\n",
    "concat_df2.head()"
   ]
  },
  {
   "cell_type": "code",
   "execution_count": 48,
   "id": "09d40921-db02-4c73-842a-b94443098915",
   "metadata": {},
   "outputs": [
    {
     "data": {
      "text/html": [
       "<div>\n",
       "<style scoped>\n",
       "    .dataframe tbody tr th:only-of-type {\n",
       "        vertical-align: middle;\n",
       "    }\n",
       "\n",
       "    .dataframe tbody tr th {\n",
       "        vertical-align: top;\n",
       "    }\n",
       "\n",
       "    .dataframe thead th {\n",
       "        text-align: right;\n",
       "    }\n",
       "</style>\n",
       "<table border=\"1\" class=\"dataframe\">\n",
       "  <thead>\n",
       "    <tr style=\"text-align: right;\">\n",
       "      <th></th>\n",
       "      <th>A텔레콤</th>\n",
       "      <th>B전자</th>\n",
       "      <th>C은행</th>\n",
       "      <th>D철강</th>\n",
       "      <th>F화학</th>\n",
       "      <th>F화학_add_500</th>\n",
       "    </tr>\n",
       "  </thead>\n",
       "  <tbody>\n",
       "    <tr>\n",
       "      <th>2023-01-02</th>\n",
       "      <td>48000.0</td>\n",
       "      <td>60000.0</td>\n",
       "      <td>54000.0</td>\n",
       "      <td>5000.0</td>\n",
       "      <td>3000.0</td>\n",
       "      <td>3500.0</td>\n",
       "    </tr>\n",
       "    <tr>\n",
       "      <th>2023-01-03</th>\n",
       "      <td>48500.0</td>\n",
       "      <td>61000.0</td>\n",
       "      <td>55000.0</td>\n",
       "      <td>5100.0</td>\n",
       "      <td>3100.0</td>\n",
       "      <td>3600.0</td>\n",
       "    </tr>\n",
       "    <tr>\n",
       "      <th>2023-01-04</th>\n",
       "      <td>49000.0</td>\n",
       "      <td>62000.0</td>\n",
       "      <td>56000.0</td>\n",
       "      <td>5200.0</td>\n",
       "      <td>3200.0</td>\n",
       "      <td>3700.0</td>\n",
       "    </tr>\n",
       "    <tr>\n",
       "      <th>2023-01-06</th>\n",
       "      <td>50000.0</td>\n",
       "      <td>63000.0</td>\n",
       "      <td>57000.0</td>\n",
       "      <td>5300.0</td>\n",
       "      <td>3300.0</td>\n",
       "      <td>3800.0</td>\n",
       "    </tr>\n",
       "  </tbody>\n",
       "</table>\n",
       "</div>"
      ],
      "text/plain": [
       "               A텔레콤      B전자      C은행     D철강     F화학  F화학_add_500\n",
       "2023-01-02  48000.0  60000.0  54000.0  5000.0  3000.0       3500.0\n",
       "2023-01-03  48500.0  61000.0  55000.0  5100.0  3100.0       3600.0\n",
       "2023-01-04  49000.0  62000.0  56000.0  5200.0  3200.0       3700.0\n",
       "2023-01-06  50000.0  63000.0  57000.0  5300.0  3300.0       3800.0"
      ]
     },
     "execution_count": 48,
     "metadata": {},
     "output_type": "execute_result"
    }
   ],
   "source": [
    "# index 방향으로 date와 값들 추가\n",
    "\n",
    "concat_df2.loc['2023-01-06', :] = [50000, 63000, 57000, 5300, 3300, 3800]\n",
    "concat_df2"
   ]
  },
  {
   "cell_type": "code",
   "execution_count": 49,
   "id": "bd4d6e8a-8694-44d5-9744-cd5e36446ee8",
   "metadata": {},
   "outputs": [
    {
     "data": {
      "text/html": [
       "<div>\n",
       "<style scoped>\n",
       "    .dataframe tbody tr th:only-of-type {\n",
       "        vertical-align: middle;\n",
       "    }\n",
       "\n",
       "    .dataframe tbody tr th {\n",
       "        vertical-align: top;\n",
       "    }\n",
       "\n",
       "    .dataframe thead th {\n",
       "        text-align: right;\n",
       "    }\n",
       "</style>\n",
       "<table border=\"1\" class=\"dataframe\">\n",
       "  <thead>\n",
       "    <tr style=\"text-align: right;\">\n",
       "      <th></th>\n",
       "      <th>A텔레콤</th>\n",
       "      <th>B전자</th>\n",
       "      <th>C은행</th>\n",
       "      <th>D철강</th>\n",
       "      <th>F화학</th>\n",
       "      <th>F화학_add_500</th>\n",
       "    </tr>\n",
       "  </thead>\n",
       "  <tbody>\n",
       "    <tr>\n",
       "      <th>2023-01-02</th>\n",
       "      <td>48000.0</td>\n",
       "      <td>60000.0</td>\n",
       "      <td>54000.0</td>\n",
       "      <td>5000.0</td>\n",
       "      <td>3000.0</td>\n",
       "      <td>3500.0</td>\n",
       "    </tr>\n",
       "    <tr>\n",
       "      <th>2023-01-03</th>\n",
       "      <td>48500.0</td>\n",
       "      <td>61000.0</td>\n",
       "      <td>55000.0</td>\n",
       "      <td>5100.0</td>\n",
       "      <td>3100.0</td>\n",
       "      <td>3600.0</td>\n",
       "    </tr>\n",
       "    <tr>\n",
       "      <th>2023-01-04</th>\n",
       "      <td>49000.0</td>\n",
       "      <td>62000.0</td>\n",
       "      <td>56000.0</td>\n",
       "      <td>5200.0</td>\n",
       "      <td>3200.0</td>\n",
       "      <td>3700.0</td>\n",
       "    </tr>\n",
       "    <tr>\n",
       "      <th>2023-01-06</th>\n",
       "      <td>50000.0</td>\n",
       "      <td>63000.0</td>\n",
       "      <td>57000.0</td>\n",
       "      <td>5300.0</td>\n",
       "      <td>3300.0</td>\n",
       "      <td>3800.0</td>\n",
       "    </tr>\n",
       "    <tr>\n",
       "      <th>2023-01-05</th>\n",
       "      <td>49950.0</td>\n",
       "      <td>62950.0</td>\n",
       "      <td>56950.0</td>\n",
       "      <td>5250.0</td>\n",
       "      <td>3250.0</td>\n",
       "      <td>3750.0</td>\n",
       "    </tr>\n",
       "  </tbody>\n",
       "</table>\n",
       "</div>"
      ],
      "text/plain": [
       "               A텔레콤      B전자      C은행     D철강     F화학  F화학_add_500\n",
       "2023-01-02  48000.0  60000.0  54000.0  5000.0  3000.0       3500.0\n",
       "2023-01-03  48500.0  61000.0  55000.0  5100.0  3100.0       3600.0\n",
       "2023-01-04  49000.0  62000.0  56000.0  5200.0  3200.0       3700.0\n",
       "2023-01-06  50000.0  63000.0  57000.0  5300.0  3300.0       3800.0\n",
       "2023-01-05  49950.0  62950.0  56950.0  5250.0  3250.0       3750.0"
      ]
     },
     "execution_count": 49,
     "metadata": {},
     "output_type": "execute_result"
    }
   ],
   "source": [
    "concat_df2.loc['2023-01-05', :] = concat_df2.loc['2023-01-06', :] - 50\n",
    "concat_df2"
   ]
  },
  {
   "cell_type": "code",
   "execution_count": 50,
   "id": "64f82ee4-249e-4559-9463-58503d7b6279",
   "metadata": {},
   "outputs": [
    {
     "data": {
      "text/html": [
       "<div>\n",
       "<style scoped>\n",
       "    .dataframe tbody tr th:only-of-type {\n",
       "        vertical-align: middle;\n",
       "    }\n",
       "\n",
       "    .dataframe tbody tr th {\n",
       "        vertical-align: top;\n",
       "    }\n",
       "\n",
       "    .dataframe thead th {\n",
       "        text-align: right;\n",
       "    }\n",
       "</style>\n",
       "<table border=\"1\" class=\"dataframe\">\n",
       "  <thead>\n",
       "    <tr style=\"text-align: right;\">\n",
       "      <th></th>\n",
       "      <th>A텔레콤</th>\n",
       "      <th>B전자</th>\n",
       "      <th>C은행</th>\n",
       "      <th>D철강</th>\n",
       "      <th>F화학</th>\n",
       "      <th>F화학_add_500</th>\n",
       "    </tr>\n",
       "  </thead>\n",
       "  <tbody>\n",
       "    <tr>\n",
       "      <th>2023-01-02</th>\n",
       "      <td>48000.0</td>\n",
       "      <td>60000.0</td>\n",
       "      <td>54000.0</td>\n",
       "      <td>5000.0</td>\n",
       "      <td>3000.0</td>\n",
       "      <td>3500.0</td>\n",
       "    </tr>\n",
       "    <tr>\n",
       "      <th>2023-01-03</th>\n",
       "      <td>48500.0</td>\n",
       "      <td>61000.0</td>\n",
       "      <td>55000.0</td>\n",
       "      <td>5100.0</td>\n",
       "      <td>3100.0</td>\n",
       "      <td>3600.0</td>\n",
       "    </tr>\n",
       "    <tr>\n",
       "      <th>2023-01-04</th>\n",
       "      <td>49000.0</td>\n",
       "      <td>62000.0</td>\n",
       "      <td>56000.0</td>\n",
       "      <td>5200.0</td>\n",
       "      <td>3200.0</td>\n",
       "      <td>3700.0</td>\n",
       "    </tr>\n",
       "    <tr>\n",
       "      <th>2023-01-05</th>\n",
       "      <td>49950.0</td>\n",
       "      <td>62950.0</td>\n",
       "      <td>56950.0</td>\n",
       "      <td>5250.0</td>\n",
       "      <td>3250.0</td>\n",
       "      <td>3750.0</td>\n",
       "    </tr>\n",
       "    <tr>\n",
       "      <th>2023-01-06</th>\n",
       "      <td>50000.0</td>\n",
       "      <td>63000.0</td>\n",
       "      <td>57000.0</td>\n",
       "      <td>5300.0</td>\n",
       "      <td>3300.0</td>\n",
       "      <td>3800.0</td>\n",
       "    </tr>\n",
       "  </tbody>\n",
       "</table>\n",
       "</div>"
      ],
      "text/plain": [
       "               A텔레콤      B전자      C은행     D철강     F화학  F화학_add_500\n",
       "2023-01-02  48000.0  60000.0  54000.0  5000.0  3000.0       3500.0\n",
       "2023-01-03  48500.0  61000.0  55000.0  5100.0  3100.0       3600.0\n",
       "2023-01-04  49000.0  62000.0  56000.0  5200.0  3200.0       3700.0\n",
       "2023-01-05  49950.0  62950.0  56950.0  5250.0  3250.0       3750.0\n",
       "2023-01-06  50000.0  63000.0  57000.0  5300.0  3300.0       3800.0"
      ]
     },
     "execution_count": 50,
     "metadata": {},
     "output_type": "execute_result"
    }
   ],
   "source": [
    "# sort (index)\n",
    "concat_df2.sort_index()          # index를 기준으로 정렬"
   ]
  },
  {
   "cell_type": "code",
   "execution_count": 51,
   "id": "04575fc0-11a4-4118-9356-c340d0547046",
   "metadata": {},
   "outputs": [
    {
     "data": {
      "text/html": [
       "<div>\n",
       "<style scoped>\n",
       "    .dataframe tbody tr th:only-of-type {\n",
       "        vertical-align: middle;\n",
       "    }\n",
       "\n",
       "    .dataframe tbody tr th {\n",
       "        vertical-align: top;\n",
       "    }\n",
       "\n",
       "    .dataframe thead th {\n",
       "        text-align: right;\n",
       "    }\n",
       "</style>\n",
       "<table border=\"1\" class=\"dataframe\">\n",
       "  <thead>\n",
       "    <tr style=\"text-align: right;\">\n",
       "      <th></th>\n",
       "      <th>A텔레콤</th>\n",
       "      <th>B전자</th>\n",
       "      <th>C은행</th>\n",
       "      <th>D철강</th>\n",
       "      <th>F화학</th>\n",
       "      <th>F화학_add_500</th>\n",
       "    </tr>\n",
       "  </thead>\n",
       "  <tbody>\n",
       "    <tr>\n",
       "      <th>2023-01-02</th>\n",
       "      <td>48000.0</td>\n",
       "      <td>60000.0</td>\n",
       "      <td>54000.0</td>\n",
       "      <td>5000.0</td>\n",
       "      <td>3000.0</td>\n",
       "      <td>3500.0</td>\n",
       "    </tr>\n",
       "    <tr>\n",
       "      <th>2023-01-03</th>\n",
       "      <td>48500.0</td>\n",
       "      <td>61000.0</td>\n",
       "      <td>55000.0</td>\n",
       "      <td>5100.0</td>\n",
       "      <td>3100.0</td>\n",
       "      <td>3600.0</td>\n",
       "    </tr>\n",
       "    <tr>\n",
       "      <th>2023-01-04</th>\n",
       "      <td>49000.0</td>\n",
       "      <td>62000.0</td>\n",
       "      <td>56000.0</td>\n",
       "      <td>5200.0</td>\n",
       "      <td>3200.0</td>\n",
       "      <td>3700.0</td>\n",
       "    </tr>\n",
       "    <tr>\n",
       "      <th>2023-01-05</th>\n",
       "      <td>49950.0</td>\n",
       "      <td>62950.0</td>\n",
       "      <td>56950.0</td>\n",
       "      <td>5250.0</td>\n",
       "      <td>3250.0</td>\n",
       "      <td>3750.0</td>\n",
       "    </tr>\n",
       "    <tr>\n",
       "      <th>2023-01-06</th>\n",
       "      <td>50000.0</td>\n",
       "      <td>63000.0</td>\n",
       "      <td>57000.0</td>\n",
       "      <td>5300.0</td>\n",
       "      <td>3300.0</td>\n",
       "      <td>3800.0</td>\n",
       "    </tr>\n",
       "  </tbody>\n",
       "</table>\n",
       "</div>"
      ],
      "text/plain": [
       "               A텔레콤      B전자      C은행     D철강     F화학  F화학_add_500\n",
       "2023-01-02  48000.0  60000.0  54000.0  5000.0  3000.0       3500.0\n",
       "2023-01-03  48500.0  61000.0  55000.0  5100.0  3100.0       3600.0\n",
       "2023-01-04  49000.0  62000.0  56000.0  5200.0  3200.0       3700.0\n",
       "2023-01-05  49950.0  62950.0  56950.0  5250.0  3250.0       3750.0\n",
       "2023-01-06  50000.0  63000.0  57000.0  5300.0  3300.0       3800.0"
      ]
     },
     "execution_count": 51,
     "metadata": {},
     "output_type": "execute_result"
    }
   ],
   "source": [
    "# sort (values)\n",
    "concat_df2.sort_values(by='B전자')   # column기준으로 정렬"
   ]
  },
  {
   "cell_type": "code",
   "execution_count": 52,
   "id": "2d75a677-d896-41d8-8bd0-98651dba6d1c",
   "metadata": {},
   "outputs": [
    {
     "data": {
      "text/html": [
       "<div>\n",
       "<style scoped>\n",
       "    .dataframe tbody tr th:only-of-type {\n",
       "        vertical-align: middle;\n",
       "    }\n",
       "\n",
       "    .dataframe tbody tr th {\n",
       "        vertical-align: top;\n",
       "    }\n",
       "\n",
       "    .dataframe thead th {\n",
       "        text-align: right;\n",
       "    }\n",
       "</style>\n",
       "<table border=\"1\" class=\"dataframe\">\n",
       "  <thead>\n",
       "    <tr style=\"text-align: right;\">\n",
       "      <th></th>\n",
       "      <th>A텔레콤</th>\n",
       "      <th>B전자</th>\n",
       "      <th>C은행</th>\n",
       "      <th>D철강</th>\n",
       "      <th>F화학</th>\n",
       "      <th>F화학_add_500</th>\n",
       "    </tr>\n",
       "  </thead>\n",
       "  <tbody>\n",
       "    <tr>\n",
       "      <th>2023-01-06</th>\n",
       "      <td>50000.0</td>\n",
       "      <td>63000.0</td>\n",
       "      <td>57000.0</td>\n",
       "      <td>5300.0</td>\n",
       "      <td>3300.0</td>\n",
       "      <td>3800.0</td>\n",
       "    </tr>\n",
       "    <tr>\n",
       "      <th>2023-01-05</th>\n",
       "      <td>49950.0</td>\n",
       "      <td>62950.0</td>\n",
       "      <td>56950.0</td>\n",
       "      <td>5250.0</td>\n",
       "      <td>3250.0</td>\n",
       "      <td>3750.0</td>\n",
       "    </tr>\n",
       "    <tr>\n",
       "      <th>2023-01-04</th>\n",
       "      <td>49000.0</td>\n",
       "      <td>62000.0</td>\n",
       "      <td>56000.0</td>\n",
       "      <td>5200.0</td>\n",
       "      <td>3200.0</td>\n",
       "      <td>3700.0</td>\n",
       "    </tr>\n",
       "    <tr>\n",
       "      <th>2023-01-03</th>\n",
       "      <td>48500.0</td>\n",
       "      <td>61000.0</td>\n",
       "      <td>55000.0</td>\n",
       "      <td>5100.0</td>\n",
       "      <td>3100.0</td>\n",
       "      <td>3600.0</td>\n",
       "    </tr>\n",
       "    <tr>\n",
       "      <th>2023-01-02</th>\n",
       "      <td>48000.0</td>\n",
       "      <td>60000.0</td>\n",
       "      <td>54000.0</td>\n",
       "      <td>5000.0</td>\n",
       "      <td>3000.0</td>\n",
       "      <td>3500.0</td>\n",
       "    </tr>\n",
       "  </tbody>\n",
       "</table>\n",
       "</div>"
      ],
      "text/plain": [
       "               A텔레콤      B전자      C은행     D철강     F화학  F화학_add_500\n",
       "2023-01-06  50000.0  63000.0  57000.0  5300.0  3300.0       3800.0\n",
       "2023-01-05  49950.0  62950.0  56950.0  5250.0  3250.0       3750.0\n",
       "2023-01-04  49000.0  62000.0  56000.0  5200.0  3200.0       3700.0\n",
       "2023-01-03  48500.0  61000.0  55000.0  5100.0  3100.0       3600.0\n",
       "2023-01-02  48000.0  60000.0  54000.0  5000.0  3000.0       3500.0"
      ]
     },
     "execution_count": 52,
     "metadata": {},
     "output_type": "execute_result"
    }
   ],
   "source": [
    "concat_df2.sort_values(by='B전자', ascending = False)  # 내림차순"
   ]
  },
  {
   "cell_type": "code",
   "execution_count": null,
   "id": "0f965f27-e6cd-42d6-b929-9bcdea74c250",
   "metadata": {},
   "outputs": [],
   "source": []
  },
  {
   "cell_type": "markdown",
   "id": "8ea9f77c-fa85-447c-a883-1230ac8559f0",
   "metadata": {},
   "source": [
    "## 데이터 삭제"
   ]
  },
  {
   "cell_type": "code",
   "execution_count": 53,
   "id": "e1b2b6ae-4cac-4ee5-9e2f-861cddf23402",
   "metadata": {},
   "outputs": [
    {
     "data": {
      "text/html": [
       "<div>\n",
       "<style scoped>\n",
       "    .dataframe tbody tr th:only-of-type {\n",
       "        vertical-align: middle;\n",
       "    }\n",
       "\n",
       "    .dataframe tbody tr th {\n",
       "        vertical-align: top;\n",
       "    }\n",
       "\n",
       "    .dataframe thead th {\n",
       "        text-align: right;\n",
       "    }\n",
       "</style>\n",
       "<table border=\"1\" class=\"dataframe\">\n",
       "  <thead>\n",
       "    <tr style=\"text-align: right;\">\n",
       "      <th></th>\n",
       "      <th>A텔레콤</th>\n",
       "      <th>B전자</th>\n",
       "      <th>C은행</th>\n",
       "      <th>D철강</th>\n",
       "      <th>F화학</th>\n",
       "      <th>F화학_add_500</th>\n",
       "    </tr>\n",
       "  </thead>\n",
       "  <tbody>\n",
       "    <tr>\n",
       "      <th>2023-01-02</th>\n",
       "      <td>48000.0</td>\n",
       "      <td>60000.0</td>\n",
       "      <td>54000.0</td>\n",
       "      <td>5000.0</td>\n",
       "      <td>3000.0</td>\n",
       "      <td>3500.0</td>\n",
       "    </tr>\n",
       "    <tr>\n",
       "      <th>2023-01-03</th>\n",
       "      <td>48500.0</td>\n",
       "      <td>61000.0</td>\n",
       "      <td>55000.0</td>\n",
       "      <td>5100.0</td>\n",
       "      <td>3100.0</td>\n",
       "      <td>3600.0</td>\n",
       "    </tr>\n",
       "    <tr>\n",
       "      <th>2023-01-06</th>\n",
       "      <td>50000.0</td>\n",
       "      <td>63000.0</td>\n",
       "      <td>57000.0</td>\n",
       "      <td>5300.0</td>\n",
       "      <td>3300.0</td>\n",
       "      <td>3800.0</td>\n",
       "    </tr>\n",
       "    <tr>\n",
       "      <th>2023-01-05</th>\n",
       "      <td>49950.0</td>\n",
       "      <td>62950.0</td>\n",
       "      <td>56950.0</td>\n",
       "      <td>5250.0</td>\n",
       "      <td>3250.0</td>\n",
       "      <td>3750.0</td>\n",
       "    </tr>\n",
       "  </tbody>\n",
       "</table>\n",
       "</div>"
      ],
      "text/plain": [
       "               A텔레콤      B전자      C은행     D철강     F화학  F화학_add_500\n",
       "2023-01-02  48000.0  60000.0  54000.0  5000.0  3000.0       3500.0\n",
       "2023-01-03  48500.0  61000.0  55000.0  5100.0  3100.0       3600.0\n",
       "2023-01-06  50000.0  63000.0  57000.0  5300.0  3300.0       3800.0\n",
       "2023-01-05  49950.0  62950.0  56950.0  5250.0  3250.0       3750.0"
      ]
     },
     "execution_count": 53,
     "metadata": {},
     "output_type": "execute_result"
    }
   ],
   "source": [
    "concat_df2.drop('2023-01-04', inplace = True)   # 변수 선언 하지않더라도 inplace = True를 하면 바로 제거됨, axis = 0\n",
    "concat_df2"
   ]
  },
  {
   "cell_type": "code",
   "execution_count": 55,
   "id": "85412525-b413-484d-b12b-fd1d9f6a745c",
   "metadata": {},
   "outputs": [
    {
     "data": {
      "text/html": [
       "<div>\n",
       "<style scoped>\n",
       "    .dataframe tbody tr th:only-of-type {\n",
       "        vertical-align: middle;\n",
       "    }\n",
       "\n",
       "    .dataframe tbody tr th {\n",
       "        vertical-align: top;\n",
       "    }\n",
       "\n",
       "    .dataframe thead th {\n",
       "        text-align: right;\n",
       "    }\n",
       "</style>\n",
       "<table border=\"1\" class=\"dataframe\">\n",
       "  <thead>\n",
       "    <tr style=\"text-align: right;\">\n",
       "      <th></th>\n",
       "      <th>A텔레콤</th>\n",
       "      <th>B전자</th>\n",
       "      <th>F화학</th>\n",
       "      <th>F화학_add_500</th>\n",
       "    </tr>\n",
       "  </thead>\n",
       "  <tbody>\n",
       "    <tr>\n",
       "      <th>2023-01-02</th>\n",
       "      <td>48000.0</td>\n",
       "      <td>60000.0</td>\n",
       "      <td>3000.0</td>\n",
       "      <td>3500.0</td>\n",
       "    </tr>\n",
       "    <tr>\n",
       "      <th>2023-01-03</th>\n",
       "      <td>48500.0</td>\n",
       "      <td>61000.0</td>\n",
       "      <td>3100.0</td>\n",
       "      <td>3600.0</td>\n",
       "    </tr>\n",
       "    <tr>\n",
       "      <th>2023-01-06</th>\n",
       "      <td>50000.0</td>\n",
       "      <td>63000.0</td>\n",
       "      <td>3300.0</td>\n",
       "      <td>3800.0</td>\n",
       "    </tr>\n",
       "    <tr>\n",
       "      <th>2023-01-05</th>\n",
       "      <td>49950.0</td>\n",
       "      <td>62950.0</td>\n",
       "      <td>3250.0</td>\n",
       "      <td>3750.0</td>\n",
       "    </tr>\n",
       "  </tbody>\n",
       "</table>\n",
       "</div>"
      ],
      "text/plain": [
       "               A텔레콤      B전자     F화학  F화학_add_500\n",
       "2023-01-02  48000.0  60000.0  3000.0       3500.0\n",
       "2023-01-03  48500.0  61000.0  3100.0       3600.0\n",
       "2023-01-06  50000.0  63000.0  3300.0       3800.0\n",
       "2023-01-05  49950.0  62950.0  3250.0       3750.0"
      ]
     },
     "execution_count": 55,
     "metadata": {},
     "output_type": "execute_result"
    }
   ],
   "source": [
    "concat_df2.drop(['C은행', 'D철강'], axis = 1)     # column 방향을 지정해줘야 제거됨, 여러개를 제거할 경우 list로 만들어줘야 함"
   ]
  },
  {
   "cell_type": "code",
   "execution_count": null,
   "id": "d0564afc-3b00-443c-81cb-c6c3efaf0e3b",
   "metadata": {},
   "outputs": [],
   "source": []
  },
  {
   "cell_type": "markdown",
   "id": "fada8913-107e-4524-8ed4-6302e36fb998",
   "metadata": {},
   "source": [
    "### 데이터프레임 다루기"
   ]
  },
  {
   "cell_type": "code",
   "execution_count": 170,
   "id": "8efe0624-da6a-43d2-9d5c-fe279f3c2a8e",
   "metadata": {},
   "outputs": [
    {
     "data": {
      "text/html": [
       "<div>\n",
       "<style scoped>\n",
       "    .dataframe tbody tr th:only-of-type {\n",
       "        vertical-align: middle;\n",
       "    }\n",
       "\n",
       "    .dataframe tbody tr th {\n",
       "        vertical-align: top;\n",
       "    }\n",
       "\n",
       "    .dataframe thead th {\n",
       "        text-align: right;\n",
       "    }\n",
       "</style>\n",
       "<table border=\"1\" class=\"dataframe\">\n",
       "  <thead>\n",
       "    <tr style=\"text-align: right;\">\n",
       "      <th></th>\n",
       "      <th>A텔레콤</th>\n",
       "      <th>B전자</th>\n",
       "      <th>C은행</th>\n",
       "      <th>D철강</th>\n",
       "      <th>F화학</th>\n",
       "      <th>F화학_add_500</th>\n",
       "    </tr>\n",
       "  </thead>\n",
       "  <tbody>\n",
       "    <tr>\n",
       "      <th>2023-01-02</th>\n",
       "      <td>108000.0</td>\n",
       "      <td>60000.0</td>\n",
       "      <td>54000.0</td>\n",
       "      <td>5000.0</td>\n",
       "      <td>3000.0</td>\n",
       "      <td>3500.0</td>\n",
       "    </tr>\n",
       "    <tr>\n",
       "      <th>2023-01-03</th>\n",
       "      <td>109500.0</td>\n",
       "      <td>61000.0</td>\n",
       "      <td>55000.0</td>\n",
       "      <td>5100.0</td>\n",
       "      <td>3100.0</td>\n",
       "      <td>3600.0</td>\n",
       "    </tr>\n",
       "    <tr>\n",
       "      <th>2023-01-06</th>\n",
       "      <td>113000.0</td>\n",
       "      <td>63000.0</td>\n",
       "      <td>57000.0</td>\n",
       "      <td>5300.0</td>\n",
       "      <td>3300.0</td>\n",
       "      <td>3800.0</td>\n",
       "    </tr>\n",
       "    <tr>\n",
       "      <th>2023-01-05</th>\n",
       "      <td>112900.0</td>\n",
       "      <td>62950.0</td>\n",
       "      <td>56950.0</td>\n",
       "      <td>5250.0</td>\n",
       "      <td>3250.0</td>\n",
       "      <td>3750.0</td>\n",
       "    </tr>\n",
       "  </tbody>\n",
       "</table>\n",
       "</div>"
      ],
      "text/plain": [
       "                A텔레콤      B전자      C은행     D철강     F화학  F화학_add_500\n",
       "2023-01-02  108000.0  60000.0  54000.0  5000.0  3000.0       3500.0\n",
       "2023-01-03  109500.0  61000.0  55000.0  5100.0  3100.0       3600.0\n",
       "2023-01-06  113000.0  63000.0  57000.0  5300.0  3300.0       3800.0\n",
       "2023-01-05  112900.0  62950.0  56950.0  5250.0  3250.0       3750.0"
      ]
     },
     "execution_count": 170,
     "metadata": {},
     "output_type": "execute_result"
    }
   ],
   "source": [
    "# column끼리 연산이 가능하다.\n",
    "concat_df2['A텔레콤'] = concat_df2['A텔레콤'] + concat_df2['B전자']   \n",
    "concat_df2.head()"
   ]
  },
  {
   "cell_type": "code",
   "execution_count": 171,
   "id": "5ee94596-c665-4d64-b7d9-c0fa5699d7fb",
   "metadata": {},
   "outputs": [
    {
     "data": {
      "text/html": [
       "<div>\n",
       "<style scoped>\n",
       "    .dataframe tbody tr th:only-of-type {\n",
       "        vertical-align: middle;\n",
       "    }\n",
       "\n",
       "    .dataframe tbody tr th {\n",
       "        vertical-align: top;\n",
       "    }\n",
       "\n",
       "    .dataframe thead th {\n",
       "        text-align: right;\n",
       "    }\n",
       "</style>\n",
       "<table border=\"1\" class=\"dataframe\">\n",
       "  <thead>\n",
       "    <tr style=\"text-align: right;\">\n",
       "      <th></th>\n",
       "      <th>A텔레콤</th>\n",
       "      <th>B전자</th>\n",
       "      <th>C은행</th>\n",
       "      <th>D철강</th>\n",
       "      <th>F화학</th>\n",
       "      <th>F화학_add_500</th>\n",
       "      <th>sum</th>\n",
       "    </tr>\n",
       "  </thead>\n",
       "  <tbody>\n",
       "    <tr>\n",
       "      <th>2023-01-02</th>\n",
       "      <td>108000.0</td>\n",
       "      <td>60000.0</td>\n",
       "      <td>54000.0</td>\n",
       "      <td>5000.0</td>\n",
       "      <td>3000.0</td>\n",
       "      <td>3500.0</td>\n",
       "      <td>233500.0</td>\n",
       "    </tr>\n",
       "    <tr>\n",
       "      <th>2023-01-03</th>\n",
       "      <td>109500.0</td>\n",
       "      <td>61000.0</td>\n",
       "      <td>55000.0</td>\n",
       "      <td>5100.0</td>\n",
       "      <td>3100.0</td>\n",
       "      <td>3600.0</td>\n",
       "      <td>237300.0</td>\n",
       "    </tr>\n",
       "    <tr>\n",
       "      <th>2023-01-06</th>\n",
       "      <td>113000.0</td>\n",
       "      <td>63000.0</td>\n",
       "      <td>57000.0</td>\n",
       "      <td>5300.0</td>\n",
       "      <td>3300.0</td>\n",
       "      <td>3800.0</td>\n",
       "      <td>245400.0</td>\n",
       "    </tr>\n",
       "    <tr>\n",
       "      <th>2023-01-05</th>\n",
       "      <td>112900.0</td>\n",
       "      <td>62950.0</td>\n",
       "      <td>56950.0</td>\n",
       "      <td>5250.0</td>\n",
       "      <td>3250.0</td>\n",
       "      <td>3750.0</td>\n",
       "      <td>245050.0</td>\n",
       "    </tr>\n",
       "  </tbody>\n",
       "</table>\n",
       "</div>"
      ],
      "text/plain": [
       "                A텔레콤      B전자      C은행     D철강     F화학  F화학_add_500       sum\n",
       "2023-01-02  108000.0  60000.0  54000.0  5000.0  3000.0       3500.0  233500.0\n",
       "2023-01-03  109500.0  61000.0  55000.0  5100.0  3100.0       3600.0  237300.0\n",
       "2023-01-06  113000.0  63000.0  57000.0  5300.0  3300.0       3800.0  245400.0\n",
       "2023-01-05  112900.0  62950.0  56950.0  5250.0  3250.0       3750.0  245050.0"
      ]
     },
     "execution_count": 171,
     "metadata": {},
     "output_type": "execute_result"
    }
   ],
   "source": [
    "# 날짜 별 금액의 총합 구하고 'sum' column 추가\n",
    "concat_df2['sum'] = concat_df2.sum(axis = 1)\n",
    "concat_df2"
   ]
  },
  {
   "cell_type": "code",
   "execution_count": 172,
   "id": "5a56c8d5-afbe-45a0-8602-8c6980b52ac6",
   "metadata": {},
   "outputs": [
    {
     "data": {
      "text/plain": [
       "A텔레콤           108000.0\n",
       "B전자             60000.0\n",
       "C은행             54000.0\n",
       "D철강              5000.0\n",
       "F화학              3000.0\n",
       "F화학_add_500      3500.0\n",
       "sum            233500.0\n",
       "dtype: float64"
      ]
     },
     "execution_count": 172,
     "metadata": {},
     "output_type": "execute_result"
    }
   ],
   "source": [
    "concat_df2.min(axis = 0)"
   ]
  },
  {
   "cell_type": "code",
   "execution_count": 173,
   "id": "13fa77a4-632d-4264-a567-e329010a8206",
   "metadata": {},
   "outputs": [
    {
     "data": {
      "text/html": [
       "<div>\n",
       "<style scoped>\n",
       "    .dataframe tbody tr th:only-of-type {\n",
       "        vertical-align: middle;\n",
       "    }\n",
       "\n",
       "    .dataframe tbody tr th {\n",
       "        vertical-align: top;\n",
       "    }\n",
       "\n",
       "    .dataframe thead th {\n",
       "        text-align: right;\n",
       "    }\n",
       "</style>\n",
       "<table border=\"1\" class=\"dataframe\">\n",
       "  <thead>\n",
       "    <tr style=\"text-align: right;\">\n",
       "      <th></th>\n",
       "      <th>A텔레콤</th>\n",
       "      <th>B전자</th>\n",
       "      <th>C은행</th>\n",
       "      <th>D철강</th>\n",
       "      <th>F화학</th>\n",
       "      <th>F화학_add_500</th>\n",
       "      <th>sum</th>\n",
       "    </tr>\n",
       "  </thead>\n",
       "  <tbody>\n",
       "    <tr>\n",
       "      <th>count</th>\n",
       "      <td>4.000000</td>\n",
       "      <td>4.000000</td>\n",
       "      <td>4.000000</td>\n",
       "      <td>4.000000</td>\n",
       "      <td>4.000000</td>\n",
       "      <td>4.000000</td>\n",
       "      <td>4.000000</td>\n",
       "    </tr>\n",
       "    <tr>\n",
       "      <th>mean</th>\n",
       "      <td>110850.000000</td>\n",
       "      <td>61737.500000</td>\n",
       "      <td>55737.500000</td>\n",
       "      <td>5162.500000</td>\n",
       "      <td>3162.500000</td>\n",
       "      <td>3662.500000</td>\n",
       "      <td>240312.500000</td>\n",
       "    </tr>\n",
       "    <tr>\n",
       "      <th>std</th>\n",
       "      <td>2501.332978</td>\n",
       "      <td>1486.256483</td>\n",
       "      <td>1486.256483</td>\n",
       "      <td>137.689264</td>\n",
       "      <td>137.689264</td>\n",
       "      <td>137.689264</td>\n",
       "      <td>5882.512927</td>\n",
       "    </tr>\n",
       "    <tr>\n",
       "      <th>min</th>\n",
       "      <td>108000.000000</td>\n",
       "      <td>60000.000000</td>\n",
       "      <td>54000.000000</td>\n",
       "      <td>5000.000000</td>\n",
       "      <td>3000.000000</td>\n",
       "      <td>3500.000000</td>\n",
       "      <td>233500.000000</td>\n",
       "    </tr>\n",
       "    <tr>\n",
       "      <th>25%</th>\n",
       "      <td>109125.000000</td>\n",
       "      <td>60750.000000</td>\n",
       "      <td>54750.000000</td>\n",
       "      <td>5075.000000</td>\n",
       "      <td>3075.000000</td>\n",
       "      <td>3575.000000</td>\n",
       "      <td>236350.000000</td>\n",
       "    </tr>\n",
       "    <tr>\n",
       "      <th>50%</th>\n",
       "      <td>111200.000000</td>\n",
       "      <td>61975.000000</td>\n",
       "      <td>55975.000000</td>\n",
       "      <td>5175.000000</td>\n",
       "      <td>3175.000000</td>\n",
       "      <td>3675.000000</td>\n",
       "      <td>241175.000000</td>\n",
       "    </tr>\n",
       "    <tr>\n",
       "      <th>75%</th>\n",
       "      <td>112925.000000</td>\n",
       "      <td>62962.500000</td>\n",
       "      <td>56962.500000</td>\n",
       "      <td>5262.500000</td>\n",
       "      <td>3262.500000</td>\n",
       "      <td>3762.500000</td>\n",
       "      <td>245137.500000</td>\n",
       "    </tr>\n",
       "    <tr>\n",
       "      <th>max</th>\n",
       "      <td>113000.000000</td>\n",
       "      <td>63000.000000</td>\n",
       "      <td>57000.000000</td>\n",
       "      <td>5300.000000</td>\n",
       "      <td>3300.000000</td>\n",
       "      <td>3800.000000</td>\n",
       "      <td>245400.000000</td>\n",
       "    </tr>\n",
       "  </tbody>\n",
       "</table>\n",
       "</div>"
      ],
      "text/plain": [
       "                A텔레콤           B전자           C은행          D철강          F화학  \\\n",
       "count       4.000000      4.000000      4.000000     4.000000     4.000000   \n",
       "mean   110850.000000  61737.500000  55737.500000  5162.500000  3162.500000   \n",
       "std      2501.332978   1486.256483   1486.256483   137.689264   137.689264   \n",
       "min    108000.000000  60000.000000  54000.000000  5000.000000  3000.000000   \n",
       "25%    109125.000000  60750.000000  54750.000000  5075.000000  3075.000000   \n",
       "50%    111200.000000  61975.000000  55975.000000  5175.000000  3175.000000   \n",
       "75%    112925.000000  62962.500000  56962.500000  5262.500000  3262.500000   \n",
       "max    113000.000000  63000.000000  57000.000000  5300.000000  3300.000000   \n",
       "\n",
       "       F화학_add_500            sum  \n",
       "count     4.000000       4.000000  \n",
       "mean   3662.500000  240312.500000  \n",
       "std     137.689264    5882.512927  \n",
       "min    3500.000000  233500.000000  \n",
       "25%    3575.000000  236350.000000  \n",
       "50%    3675.000000  241175.000000  \n",
       "75%    3762.500000  245137.500000  \n",
       "max    3800.000000  245400.000000  "
      ]
     },
     "execution_count": 173,
     "metadata": {},
     "output_type": "execute_result"
    }
   ],
   "source": [
    "# 요약 통계량 \n",
    "concat_df2.describe()"
   ]
  },
  {
   "cell_type": "code",
   "execution_count": null,
   "id": "728678e4-6152-49f8-b038-892c4193c225",
   "metadata": {},
   "outputs": [],
   "source": []
  },
  {
   "cell_type": "markdown",
   "id": "b5ebcce5-9a68-4eea-95de-efa98326b845",
   "metadata": {},
   "source": [
    "### 결측치 처리"
   ]
  },
  {
   "cell_type": "code",
   "execution_count": 41,
   "id": "aae67bc1-b8ae-4fde-8521-a9bad90be933",
   "metadata": {},
   "outputs": [],
   "source": [
    "import numpy as np\n",
    "\n",
    "concat_df2.loc['2023-01-03', 'C은행':'F화학'] = np.NaN  # 결측치 만들기"
   ]
  },
  {
   "cell_type": "code",
   "execution_count": 42,
   "id": "2e7c9e05-d4de-4267-9fa2-6766a4a684b5",
   "metadata": {},
   "outputs": [
    {
     "data": {
      "text/html": [
       "<div>\n",
       "<style scoped>\n",
       "    .dataframe tbody tr th:only-of-type {\n",
       "        vertical-align: middle;\n",
       "    }\n",
       "\n",
       "    .dataframe tbody tr th {\n",
       "        vertical-align: top;\n",
       "    }\n",
       "\n",
       "    .dataframe thead th {\n",
       "        text-align: right;\n",
       "    }\n",
       "</style>\n",
       "<table border=\"1\" class=\"dataframe\">\n",
       "  <thead>\n",
       "    <tr style=\"text-align: right;\">\n",
       "      <th></th>\n",
       "      <th>A텔레콤</th>\n",
       "      <th>B전자</th>\n",
       "      <th>C은행</th>\n",
       "      <th>D철강</th>\n",
       "      <th>F화학</th>\n",
       "      <th>F화학_add_500</th>\n",
       "    </tr>\n",
       "  </thead>\n",
       "  <tbody>\n",
       "    <tr>\n",
       "      <th>2023-01-02</th>\n",
       "      <td>48000.0</td>\n",
       "      <td>60000.0</td>\n",
       "      <td>54000.0</td>\n",
       "      <td>5000.0</td>\n",
       "      <td>3000.0</td>\n",
       "      <td>3500.0</td>\n",
       "    </tr>\n",
       "    <tr>\n",
       "      <th>2023-01-03</th>\n",
       "      <td>48500.0</td>\n",
       "      <td>61000.0</td>\n",
       "      <td>NaN</td>\n",
       "      <td>NaN</td>\n",
       "      <td>NaN</td>\n",
       "      <td>3600.0</td>\n",
       "    </tr>\n",
       "    <tr>\n",
       "      <th>2023-01-06</th>\n",
       "      <td>50000.0</td>\n",
       "      <td>63000.0</td>\n",
       "      <td>57000.0</td>\n",
       "      <td>5300.0</td>\n",
       "      <td>3300.0</td>\n",
       "      <td>3800.0</td>\n",
       "    </tr>\n",
       "    <tr>\n",
       "      <th>2023-01-05</th>\n",
       "      <td>49950.0</td>\n",
       "      <td>62950.0</td>\n",
       "      <td>56950.0</td>\n",
       "      <td>5250.0</td>\n",
       "      <td>3250.0</td>\n",
       "      <td>3750.0</td>\n",
       "    </tr>\n",
       "  </tbody>\n",
       "</table>\n",
       "</div>"
      ],
      "text/plain": [
       "               A텔레콤      B전자      C은행     D철강     F화학  F화학_add_500\n",
       "2023-01-02  48000.0  60000.0  54000.0  5000.0  3000.0       3500.0\n",
       "2023-01-03  48500.0  61000.0      NaN     NaN     NaN       3600.0\n",
       "2023-01-06  50000.0  63000.0  57000.0  5300.0  3300.0       3800.0\n",
       "2023-01-05  49950.0  62950.0  56950.0  5250.0  3250.0       3750.0"
      ]
     },
     "execution_count": 42,
     "metadata": {},
     "output_type": "execute_result"
    }
   ],
   "source": [
    "concat_df2"
   ]
  },
  {
   "cell_type": "code",
   "execution_count": 176,
   "id": "91b41fab-ca5f-471e-929d-e122d4942873",
   "metadata": {},
   "outputs": [
    {
     "data": {
      "text/html": [
       "<div>\n",
       "<style scoped>\n",
       "    .dataframe tbody tr th:only-of-type {\n",
       "        vertical-align: middle;\n",
       "    }\n",
       "\n",
       "    .dataframe tbody tr th {\n",
       "        vertical-align: top;\n",
       "    }\n",
       "\n",
       "    .dataframe thead th {\n",
       "        text-align: right;\n",
       "    }\n",
       "</style>\n",
       "<table border=\"1\" class=\"dataframe\">\n",
       "  <thead>\n",
       "    <tr style=\"text-align: right;\">\n",
       "      <th></th>\n",
       "      <th>A텔레콤</th>\n",
       "      <th>B전자</th>\n",
       "      <th>C은행</th>\n",
       "      <th>D철강</th>\n",
       "      <th>F화학</th>\n",
       "      <th>F화학_add_500</th>\n",
       "      <th>sum</th>\n",
       "    </tr>\n",
       "  </thead>\n",
       "  <tbody>\n",
       "    <tr>\n",
       "      <th>2023-01-02</th>\n",
       "      <td>108000.0</td>\n",
       "      <td>60000.0</td>\n",
       "      <td>54000.0</td>\n",
       "      <td>5000.0</td>\n",
       "      <td>3000.0</td>\n",
       "      <td>3500.0</td>\n",
       "      <td>233500.0</td>\n",
       "    </tr>\n",
       "    <tr>\n",
       "      <th>2023-01-06</th>\n",
       "      <td>113000.0</td>\n",
       "      <td>63000.0</td>\n",
       "      <td>57000.0</td>\n",
       "      <td>5300.0</td>\n",
       "      <td>3300.0</td>\n",
       "      <td>3800.0</td>\n",
       "      <td>245400.0</td>\n",
       "    </tr>\n",
       "    <tr>\n",
       "      <th>2023-01-05</th>\n",
       "      <td>112900.0</td>\n",
       "      <td>62950.0</td>\n",
       "      <td>56950.0</td>\n",
       "      <td>5250.0</td>\n",
       "      <td>3250.0</td>\n",
       "      <td>3750.0</td>\n",
       "      <td>245050.0</td>\n",
       "    </tr>\n",
       "  </tbody>\n",
       "</table>\n",
       "</div>"
      ],
      "text/plain": [
       "                A텔레콤      B전자      C은행     D철강     F화학  F화학_add_500       sum\n",
       "2023-01-02  108000.0  60000.0  54000.0  5000.0  3000.0       3500.0  233500.0\n",
       "2023-01-06  113000.0  63000.0  57000.0  5300.0  3300.0       3800.0  245400.0\n",
       "2023-01-05  112900.0  62950.0  56950.0  5250.0  3250.0       3750.0  245050.0"
      ]
     },
     "execution_count": 176,
     "metadata": {},
     "output_type": "execute_result"
    }
   ],
   "source": [
    "concat_df2.dropna(axis = 0)   # row방향"
   ]
  },
  {
   "cell_type": "code",
   "execution_count": 177,
   "id": "663e1a15-7fdb-4b0a-b36f-fc9486083cae",
   "metadata": {},
   "outputs": [
    {
     "data": {
      "text/html": [
       "<div>\n",
       "<style scoped>\n",
       "    .dataframe tbody tr th:only-of-type {\n",
       "        vertical-align: middle;\n",
       "    }\n",
       "\n",
       "    .dataframe tbody tr th {\n",
       "        vertical-align: top;\n",
       "    }\n",
       "\n",
       "    .dataframe thead th {\n",
       "        text-align: right;\n",
       "    }\n",
       "</style>\n",
       "<table border=\"1\" class=\"dataframe\">\n",
       "  <thead>\n",
       "    <tr style=\"text-align: right;\">\n",
       "      <th></th>\n",
       "      <th>A텔레콤</th>\n",
       "      <th>B전자</th>\n",
       "      <th>F화학_add_500</th>\n",
       "      <th>sum</th>\n",
       "    </tr>\n",
       "  </thead>\n",
       "  <tbody>\n",
       "    <tr>\n",
       "      <th>2023-01-02</th>\n",
       "      <td>108000.0</td>\n",
       "      <td>60000.0</td>\n",
       "      <td>3500.0</td>\n",
       "      <td>233500.0</td>\n",
       "    </tr>\n",
       "    <tr>\n",
       "      <th>2023-01-03</th>\n",
       "      <td>109500.0</td>\n",
       "      <td>61000.0</td>\n",
       "      <td>3600.0</td>\n",
       "      <td>237300.0</td>\n",
       "    </tr>\n",
       "    <tr>\n",
       "      <th>2023-01-06</th>\n",
       "      <td>113000.0</td>\n",
       "      <td>63000.0</td>\n",
       "      <td>3800.0</td>\n",
       "      <td>245400.0</td>\n",
       "    </tr>\n",
       "    <tr>\n",
       "      <th>2023-01-05</th>\n",
       "      <td>112900.0</td>\n",
       "      <td>62950.0</td>\n",
       "      <td>3750.0</td>\n",
       "      <td>245050.0</td>\n",
       "    </tr>\n",
       "  </tbody>\n",
       "</table>\n",
       "</div>"
      ],
      "text/plain": [
       "                A텔레콤      B전자  F화학_add_500       sum\n",
       "2023-01-02  108000.0  60000.0       3500.0  233500.0\n",
       "2023-01-03  109500.0  61000.0       3600.0  237300.0\n",
       "2023-01-06  113000.0  63000.0       3800.0  245400.0\n",
       "2023-01-05  112900.0  62950.0       3750.0  245050.0"
      ]
     },
     "execution_count": 177,
     "metadata": {},
     "output_type": "execute_result"
    }
   ],
   "source": [
    "concat_df2.dropna(axis = 1)   # column방향"
   ]
  },
  {
   "cell_type": "code",
   "execution_count": null,
   "id": "c9f6ec79-dda5-4655-9349-bc57f469078f",
   "metadata": {},
   "outputs": [],
   "source": []
  },
  {
   "cell_type": "markdown",
   "id": "9676ac3a-2e86-41b9-833d-eb697dd69b40",
   "metadata": {},
   "source": [
    "### 결측치 대체"
   ]
  },
  {
   "cell_type": "code",
   "execution_count": 59,
   "id": "39d8ddf6-d76b-4b87-8544-26f9305c3cf6",
   "metadata": {
    "tags": []
   },
   "outputs": [
    {
     "ename": "TypeError",
     "evalue": "'<' not supported between instances of 'str' and 'Timestamp'",
     "output_type": "error",
     "traceback": [
      "\u001b[1;31m---------------------------------------------------------------------------\u001b[0m",
      "\u001b[1;31mTypeError\u001b[0m                                 Traceback (most recent call last)",
      "Cell \u001b[1;32mIn [59], line 2\u001b[0m\n\u001b[0;32m      1\u001b[0m concat_df2\u001b[38;5;241m.\u001b[39mloc[pd\u001b[38;5;241m.\u001b[39mto_datetime(\u001b[38;5;124m'\u001b[39m\u001b[38;5;124m2023-01-04\u001b[39m\u001b[38;5;124m'\u001b[39m)] \u001b[38;5;241m=\u001b[39m concat_df2\u001b[38;5;241m.\u001b[39mloc[pd\u001b[38;5;241m.\u001b[39mto_datetime(\u001b[38;5;124m'\u001b[39m\u001b[38;5;124m2023-01-02\u001b[39m\u001b[38;5;124m'\u001b[39m)] \u001b[38;5;241m+\u001b[39m \u001b[38;5;241m100\u001b[39m\n\u001b[1;32m----> 2\u001b[0m concat_df2 \u001b[38;5;241m=\u001b[39m \u001b[43mconcat_df2\u001b[49m\u001b[38;5;241;43m.\u001b[39;49m\u001b[43msort_index\u001b[49m\u001b[43m(\u001b[49m\u001b[43m)\u001b[49m\n",
      "File \u001b[1;32m~\\.venv\\Practice1\\lib\\site-packages\\pandas\\util\\_decorators.py:331\u001b[0m, in \u001b[0;36mdeprecate_nonkeyword_arguments.<locals>.decorate.<locals>.wrapper\u001b[1;34m(*args, **kwargs)\u001b[0m\n\u001b[0;32m    325\u001b[0m \u001b[38;5;28;01mif\u001b[39;00m \u001b[38;5;28mlen\u001b[39m(args) \u001b[38;5;241m>\u001b[39m num_allow_args:\n\u001b[0;32m    326\u001b[0m     warnings\u001b[38;5;241m.\u001b[39mwarn(\n\u001b[0;32m    327\u001b[0m         msg\u001b[38;5;241m.\u001b[39mformat(arguments\u001b[38;5;241m=\u001b[39m_format_argument_list(allow_args)),\n\u001b[0;32m    328\u001b[0m         \u001b[38;5;167;01mFutureWarning\u001b[39;00m,\n\u001b[0;32m    329\u001b[0m         stacklevel\u001b[38;5;241m=\u001b[39mfind_stack_level(),\n\u001b[0;32m    330\u001b[0m     )\n\u001b[1;32m--> 331\u001b[0m \u001b[38;5;28;01mreturn\u001b[39;00m func(\u001b[38;5;241m*\u001b[39margs, \u001b[38;5;241m*\u001b[39m\u001b[38;5;241m*\u001b[39mkwargs)\n",
      "File \u001b[1;32m~\\.venv\\Practice1\\lib\\site-packages\\pandas\\core\\frame.py:7092\u001b[0m, in \u001b[0;36mDataFrame.sort_index\u001b[1;34m(self, axis, level, ascending, inplace, kind, na_position, sort_remaining, ignore_index, key)\u001b[0m\n\u001b[0;32m   6990\u001b[0m \u001b[38;5;129m@deprecate_nonkeyword_arguments\u001b[39m(version\u001b[38;5;241m=\u001b[39m\u001b[38;5;28;01mNone\u001b[39;00m, allowed_args\u001b[38;5;241m=\u001b[39m[\u001b[38;5;124m\"\u001b[39m\u001b[38;5;124mself\u001b[39m\u001b[38;5;124m\"\u001b[39m])\n\u001b[0;32m   6991\u001b[0m \u001b[38;5;28;01mdef\u001b[39;00m \u001b[38;5;21msort_index\u001b[39m(  \u001b[38;5;66;03m# type: ignore[override]\u001b[39;00m\n\u001b[0;32m   6992\u001b[0m     \u001b[38;5;28mself\u001b[39m,\n\u001b[1;32m   (...)\u001b[0m\n\u001b[0;32m   7001\u001b[0m     key: IndexKeyFunc \u001b[38;5;241m=\u001b[39m \u001b[38;5;28;01mNone\u001b[39;00m,\n\u001b[0;32m   7002\u001b[0m ) \u001b[38;5;241m-\u001b[39m\u001b[38;5;241m>\u001b[39m DataFrame \u001b[38;5;241m|\u001b[39m \u001b[38;5;28;01mNone\u001b[39;00m:\n\u001b[0;32m   7003\u001b[0m     \u001b[38;5;124;03m\"\"\"\u001b[39;00m\n\u001b[0;32m   7004\u001b[0m \u001b[38;5;124;03m    Sort object by labels (along an axis).\u001b[39;00m\n\u001b[0;32m   7005\u001b[0m \n\u001b[1;32m   (...)\u001b[0m\n\u001b[0;32m   7090\u001b[0m \u001b[38;5;124;03m    d  4\u001b[39;00m\n\u001b[0;32m   7091\u001b[0m \u001b[38;5;124;03m    \"\"\"\u001b[39;00m\n\u001b[1;32m-> 7092\u001b[0m     \u001b[38;5;28;01mreturn\u001b[39;00m \u001b[38;5;28;43msuper\u001b[39;49m\u001b[43m(\u001b[49m\u001b[43m)\u001b[49m\u001b[38;5;241;43m.\u001b[39;49m\u001b[43msort_index\u001b[49m\u001b[43m(\u001b[49m\n\u001b[0;32m   7093\u001b[0m \u001b[43m        \u001b[49m\u001b[43maxis\u001b[49m\u001b[38;5;241;43m=\u001b[39;49m\u001b[43maxis\u001b[49m\u001b[43m,\u001b[49m\n\u001b[0;32m   7094\u001b[0m \u001b[43m        \u001b[49m\u001b[43mlevel\u001b[49m\u001b[38;5;241;43m=\u001b[39;49m\u001b[43mlevel\u001b[49m\u001b[43m,\u001b[49m\n\u001b[0;32m   7095\u001b[0m \u001b[43m        \u001b[49m\u001b[43mascending\u001b[49m\u001b[38;5;241;43m=\u001b[39;49m\u001b[43mascending\u001b[49m\u001b[43m,\u001b[49m\n\u001b[0;32m   7096\u001b[0m \u001b[43m        \u001b[49m\u001b[43minplace\u001b[49m\u001b[38;5;241;43m=\u001b[39;49m\u001b[43minplace\u001b[49m\u001b[43m,\u001b[49m\n\u001b[0;32m   7097\u001b[0m \u001b[43m        \u001b[49m\u001b[43mkind\u001b[49m\u001b[38;5;241;43m=\u001b[39;49m\u001b[43mkind\u001b[49m\u001b[43m,\u001b[49m\n\u001b[0;32m   7098\u001b[0m \u001b[43m        \u001b[49m\u001b[43mna_position\u001b[49m\u001b[38;5;241;43m=\u001b[39;49m\u001b[43mna_position\u001b[49m\u001b[43m,\u001b[49m\n\u001b[0;32m   7099\u001b[0m \u001b[43m        \u001b[49m\u001b[43msort_remaining\u001b[49m\u001b[38;5;241;43m=\u001b[39;49m\u001b[43msort_remaining\u001b[49m\u001b[43m,\u001b[49m\n\u001b[0;32m   7100\u001b[0m \u001b[43m        \u001b[49m\u001b[43mignore_index\u001b[49m\u001b[38;5;241;43m=\u001b[39;49m\u001b[43mignore_index\u001b[49m\u001b[43m,\u001b[49m\n\u001b[0;32m   7101\u001b[0m \u001b[43m        \u001b[49m\u001b[43mkey\u001b[49m\u001b[38;5;241;43m=\u001b[39;49m\u001b[43mkey\u001b[49m\u001b[43m,\u001b[49m\n\u001b[0;32m   7102\u001b[0m \u001b[43m    \u001b[49m\u001b[43m)\u001b[49m\n",
      "File \u001b[1;32m~\\.venv\\Practice1\\lib\\site-packages\\pandas\\core\\generic.py:5010\u001b[0m, in \u001b[0;36mNDFrame.sort_index\u001b[1;34m(self, axis, level, ascending, inplace, kind, na_position, sort_remaining, ignore_index, key)\u001b[0m\n\u001b[0;32m   5006\u001b[0m ascending \u001b[38;5;241m=\u001b[39m validate_ascending(ascending)\n\u001b[0;32m   5008\u001b[0m target \u001b[38;5;241m=\u001b[39m \u001b[38;5;28mself\u001b[39m\u001b[38;5;241m.\u001b[39m_get_axis(axis)\n\u001b[1;32m-> 5010\u001b[0m indexer \u001b[38;5;241m=\u001b[39m \u001b[43mget_indexer_indexer\u001b[49m\u001b[43m(\u001b[49m\n\u001b[0;32m   5011\u001b[0m \u001b[43m    \u001b[49m\u001b[43mtarget\u001b[49m\u001b[43m,\u001b[49m\u001b[43m \u001b[49m\u001b[43mlevel\u001b[49m\u001b[43m,\u001b[49m\u001b[43m \u001b[49m\u001b[43mascending\u001b[49m\u001b[43m,\u001b[49m\u001b[43m \u001b[49m\u001b[43mkind\u001b[49m\u001b[43m,\u001b[49m\u001b[43m \u001b[49m\u001b[43mna_position\u001b[49m\u001b[43m,\u001b[49m\u001b[43m \u001b[49m\u001b[43msort_remaining\u001b[49m\u001b[43m,\u001b[49m\u001b[43m \u001b[49m\u001b[43mkey\u001b[49m\n\u001b[0;32m   5012\u001b[0m \u001b[43m\u001b[49m\u001b[43m)\u001b[49m\n\u001b[0;32m   5014\u001b[0m \u001b[38;5;28;01mif\u001b[39;00m indexer \u001b[38;5;129;01mis\u001b[39;00m \u001b[38;5;28;01mNone\u001b[39;00m:\n\u001b[0;32m   5015\u001b[0m     \u001b[38;5;28;01mif\u001b[39;00m inplace:\n",
      "File \u001b[1;32m~\\.venv\\Practice1\\lib\\site-packages\\pandas\\core\\sorting.py:100\u001b[0m, in \u001b[0;36mget_indexer_indexer\u001b[1;34m(target, level, ascending, kind, na_position, sort_remaining, key)\u001b[0m\n\u001b[0;32m     97\u001b[0m         \u001b[38;5;28;01mreturn\u001b[39;00m \u001b[38;5;28;01mNone\u001b[39;00m\n\u001b[0;32m     99\u001b[0m     \u001b[38;5;66;03m# ascending can only be a Sequence for MultiIndex\u001b[39;00m\n\u001b[1;32m--> 100\u001b[0m     indexer \u001b[38;5;241m=\u001b[39m \u001b[43mnargsort\u001b[49m\u001b[43m(\u001b[49m\n\u001b[0;32m    101\u001b[0m \u001b[43m        \u001b[49m\u001b[43mtarget\u001b[49m\u001b[43m,\u001b[49m\n\u001b[0;32m    102\u001b[0m \u001b[43m        \u001b[49m\u001b[43mkind\u001b[49m\u001b[38;5;241;43m=\u001b[39;49m\u001b[43mkind\u001b[49m\u001b[43m,\u001b[49m\n\u001b[0;32m    103\u001b[0m \u001b[43m        \u001b[49m\u001b[43mascending\u001b[49m\u001b[38;5;241;43m=\u001b[39;49m\u001b[43mcast\u001b[49m\u001b[43m(\u001b[49m\u001b[38;5;28;43mbool\u001b[39;49m\u001b[43m,\u001b[49m\u001b[43m \u001b[49m\u001b[43mascending\u001b[49m\u001b[43m)\u001b[49m\u001b[43m,\u001b[49m\n\u001b[0;32m    104\u001b[0m \u001b[43m        \u001b[49m\u001b[43mna_position\u001b[49m\u001b[38;5;241;43m=\u001b[39;49m\u001b[43mna_position\u001b[49m\u001b[43m,\u001b[49m\n\u001b[0;32m    105\u001b[0m \u001b[43m    \u001b[49m\u001b[43m)\u001b[49m\n\u001b[0;32m    106\u001b[0m \u001b[38;5;28;01mreturn\u001b[39;00m indexer\n",
      "File \u001b[1;32m~\\.venv\\Practice1\\lib\\site-packages\\pandas\\core\\sorting.py:438\u001b[0m, in \u001b[0;36mnargsort\u001b[1;34m(items, kind, ascending, na_position, key, mask)\u001b[0m\n\u001b[0;32m    436\u001b[0m     non_nans \u001b[38;5;241m=\u001b[39m non_nans[::\u001b[38;5;241m-\u001b[39m\u001b[38;5;241m1\u001b[39m]\n\u001b[0;32m    437\u001b[0m     non_nan_idx \u001b[38;5;241m=\u001b[39m non_nan_idx[::\u001b[38;5;241m-\u001b[39m\u001b[38;5;241m1\u001b[39m]\n\u001b[1;32m--> 438\u001b[0m indexer \u001b[38;5;241m=\u001b[39m non_nan_idx[\u001b[43mnon_nans\u001b[49m\u001b[38;5;241;43m.\u001b[39;49m\u001b[43margsort\u001b[49m\u001b[43m(\u001b[49m\u001b[43mkind\u001b[49m\u001b[38;5;241;43m=\u001b[39;49m\u001b[43mkind\u001b[49m\u001b[43m)\u001b[49m]\n\u001b[0;32m    439\u001b[0m \u001b[38;5;28;01mif\u001b[39;00m \u001b[38;5;129;01mnot\u001b[39;00m ascending:\n\u001b[0;32m    440\u001b[0m     indexer \u001b[38;5;241m=\u001b[39m indexer[::\u001b[38;5;241m-\u001b[39m\u001b[38;5;241m1\u001b[39m]\n",
      "\u001b[1;31mTypeError\u001b[0m: '<' not supported between instances of 'str' and 'Timestamp'"
     ]
    }
   ],
   "source": [
    "concat_df2.loc[pd.to_datetime('2023-01-04')] = concat_df2.loc[pd.to_datetime('2023-01-02')] + 100\n",
    "concat_df2 = concat_df2.sort_index()"
   ]
  },
  {
   "cell_type": "code",
   "execution_count": 187,
   "id": "2ddbaebb-6e7c-4918-8b53-fd50a3d4e13a",
   "metadata": {},
   "outputs": [
    {
     "data": {
      "text/html": [
       "<div>\n",
       "<style scoped>\n",
       "    .dataframe tbody tr th:only-of-type {\n",
       "        vertical-align: middle;\n",
       "    }\n",
       "\n",
       "    .dataframe tbody tr th {\n",
       "        vertical-align: top;\n",
       "    }\n",
       "\n",
       "    .dataframe thead th {\n",
       "        text-align: right;\n",
       "    }\n",
       "</style>\n",
       "<table border=\"1\" class=\"dataframe\">\n",
       "  <thead>\n",
       "    <tr style=\"text-align: right;\">\n",
       "      <th></th>\n",
       "      <th>A텔레콤</th>\n",
       "      <th>B전자</th>\n",
       "      <th>C은행</th>\n",
       "      <th>D철강</th>\n",
       "      <th>F화학</th>\n",
       "      <th>F화학_add_500</th>\n",
       "      <th>sum</th>\n",
       "    </tr>\n",
       "  </thead>\n",
       "  <tbody>\n",
       "    <tr>\n",
       "      <th>2023-01-02 00:00:00</th>\n",
       "      <td>108000.0</td>\n",
       "      <td>60000.0</td>\n",
       "      <td>54000.0</td>\n",
       "      <td>5000.0</td>\n",
       "      <td>3000.0</td>\n",
       "      <td>3500.0</td>\n",
       "      <td>233500.0</td>\n",
       "    </tr>\n",
       "    <tr>\n",
       "      <th>2023-01-03 00:00:00</th>\n",
       "      <td>109500.0</td>\n",
       "      <td>61000.0</td>\n",
       "      <td>0.0</td>\n",
       "      <td>0.0</td>\n",
       "      <td>0.0</td>\n",
       "      <td>3600.0</td>\n",
       "      <td>237300.0</td>\n",
       "    </tr>\n",
       "    <tr>\n",
       "      <th>2023-01-06 00:00:00</th>\n",
       "      <td>113000.0</td>\n",
       "      <td>63000.0</td>\n",
       "      <td>57000.0</td>\n",
       "      <td>5300.0</td>\n",
       "      <td>3300.0</td>\n",
       "      <td>3800.0</td>\n",
       "      <td>245400.0</td>\n",
       "    </tr>\n",
       "    <tr>\n",
       "      <th>2023-01-05 00:00:00</th>\n",
       "      <td>112900.0</td>\n",
       "      <td>62950.0</td>\n",
       "      <td>56950.0</td>\n",
       "      <td>5250.0</td>\n",
       "      <td>3250.0</td>\n",
       "      <td>3750.0</td>\n",
       "      <td>245050.0</td>\n",
       "    </tr>\n",
       "    <tr>\n",
       "      <th>2023-01-04</th>\n",
       "      <td>108100.0</td>\n",
       "      <td>60100.0</td>\n",
       "      <td>54100.0</td>\n",
       "      <td>5100.0</td>\n",
       "      <td>3100.0</td>\n",
       "      <td>3600.0</td>\n",
       "      <td>233600.0</td>\n",
       "    </tr>\n",
       "  </tbody>\n",
       "</table>\n",
       "</div>"
      ],
      "text/plain": [
       "                         A텔레콤      B전자      C은행     D철강     F화학  F화학_add_500  \\\n",
       "2023-01-02 00:00:00  108000.0  60000.0  54000.0  5000.0  3000.0       3500.0   \n",
       "2023-01-03 00:00:00  109500.0  61000.0      0.0     0.0     0.0       3600.0   \n",
       "2023-01-06 00:00:00  113000.0  63000.0  57000.0  5300.0  3300.0       3800.0   \n",
       "2023-01-05 00:00:00  112900.0  62950.0  56950.0  5250.0  3250.0       3750.0   \n",
       "2023-01-04           108100.0  60100.0  54100.0  5100.0  3100.0       3600.0   \n",
       "\n",
       "                          sum  \n",
       "2023-01-02 00:00:00  233500.0  \n",
       "2023-01-03 00:00:00  237300.0  \n",
       "2023-01-06 00:00:00  245400.0  \n",
       "2023-01-05 00:00:00  245050.0  \n",
       "2023-01-04           233600.0  "
      ]
     },
     "execution_count": 187,
     "metadata": {},
     "output_type": "execute_result"
    }
   ],
   "source": [
    "concat_df2.fillna(0)    # NaN값을 0으로 대체"
   ]
  },
  {
   "cell_type": "code",
   "execution_count": 188,
   "id": "668bd3d3-5645-441c-9913-59cf90d9f412",
   "metadata": {},
   "outputs": [
    {
     "data": {
      "text/html": [
       "<div>\n",
       "<style scoped>\n",
       "    .dataframe tbody tr th:only-of-type {\n",
       "        vertical-align: middle;\n",
       "    }\n",
       "\n",
       "    .dataframe tbody tr th {\n",
       "        vertical-align: top;\n",
       "    }\n",
       "\n",
       "    .dataframe thead th {\n",
       "        text-align: right;\n",
       "    }\n",
       "</style>\n",
       "<table border=\"1\" class=\"dataframe\">\n",
       "  <thead>\n",
       "    <tr style=\"text-align: right;\">\n",
       "      <th></th>\n",
       "      <th>A텔레콤</th>\n",
       "      <th>B전자</th>\n",
       "      <th>C은행</th>\n",
       "      <th>D철강</th>\n",
       "      <th>F화학</th>\n",
       "      <th>F화학_add_500</th>\n",
       "      <th>sum</th>\n",
       "    </tr>\n",
       "  </thead>\n",
       "  <tbody>\n",
       "    <tr>\n",
       "      <th>2023-01-02 00:00:00</th>\n",
       "      <td>108000.0</td>\n",
       "      <td>60000.0</td>\n",
       "      <td>54000.0</td>\n",
       "      <td>5000.0</td>\n",
       "      <td>3000.0</td>\n",
       "      <td>3500.0</td>\n",
       "      <td>233500.0</td>\n",
       "    </tr>\n",
       "    <tr>\n",
       "      <th>2023-01-03 00:00:00</th>\n",
       "      <td>109500.0</td>\n",
       "      <td>61000.0</td>\n",
       "      <td>54000.0</td>\n",
       "      <td>5000.0</td>\n",
       "      <td>3000.0</td>\n",
       "      <td>3600.0</td>\n",
       "      <td>237300.0</td>\n",
       "    </tr>\n",
       "    <tr>\n",
       "      <th>2023-01-06 00:00:00</th>\n",
       "      <td>113000.0</td>\n",
       "      <td>63000.0</td>\n",
       "      <td>57000.0</td>\n",
       "      <td>5300.0</td>\n",
       "      <td>3300.0</td>\n",
       "      <td>3800.0</td>\n",
       "      <td>245400.0</td>\n",
       "    </tr>\n",
       "    <tr>\n",
       "      <th>2023-01-05 00:00:00</th>\n",
       "      <td>112900.0</td>\n",
       "      <td>62950.0</td>\n",
       "      <td>56950.0</td>\n",
       "      <td>5250.0</td>\n",
       "      <td>3250.0</td>\n",
       "      <td>3750.0</td>\n",
       "      <td>245050.0</td>\n",
       "    </tr>\n",
       "    <tr>\n",
       "      <th>2023-01-04</th>\n",
       "      <td>108100.0</td>\n",
       "      <td>60100.0</td>\n",
       "      <td>54100.0</td>\n",
       "      <td>5100.0</td>\n",
       "      <td>3100.0</td>\n",
       "      <td>3600.0</td>\n",
       "      <td>233600.0</td>\n",
       "    </tr>\n",
       "  </tbody>\n",
       "</table>\n",
       "</div>"
      ],
      "text/plain": [
       "                         A텔레콤      B전자      C은행     D철강     F화학  F화학_add_500  \\\n",
       "2023-01-02 00:00:00  108000.0  60000.0  54000.0  5000.0  3000.0       3500.0   \n",
       "2023-01-03 00:00:00  109500.0  61000.0  54000.0  5000.0  3000.0       3600.0   \n",
       "2023-01-06 00:00:00  113000.0  63000.0  57000.0  5300.0  3300.0       3800.0   \n",
       "2023-01-05 00:00:00  112900.0  62950.0  56950.0  5250.0  3250.0       3750.0   \n",
       "2023-01-04           108100.0  60100.0  54100.0  5100.0  3100.0       3600.0   \n",
       "\n",
       "                          sum  \n",
       "2023-01-02 00:00:00  233500.0  \n",
       "2023-01-03 00:00:00  237300.0  \n",
       "2023-01-06 00:00:00  245400.0  \n",
       "2023-01-05 00:00:00  245050.0  \n",
       "2023-01-04           233600.0  "
      ]
     },
     "execution_count": 188,
     "metadata": {},
     "output_type": "execute_result"
    }
   ],
   "source": [
    "concat_df2.fillna(method = 'ffill')  # 앞에 있는 값으로 대체"
   ]
  },
  {
   "cell_type": "code",
   "execution_count": 189,
   "id": "154654a6-fd77-4b36-9b15-e19d48685396",
   "metadata": {},
   "outputs": [
    {
     "data": {
      "text/html": [
       "<div>\n",
       "<style scoped>\n",
       "    .dataframe tbody tr th:only-of-type {\n",
       "        vertical-align: middle;\n",
       "    }\n",
       "\n",
       "    .dataframe tbody tr th {\n",
       "        vertical-align: top;\n",
       "    }\n",
       "\n",
       "    .dataframe thead th {\n",
       "        text-align: right;\n",
       "    }\n",
       "</style>\n",
       "<table border=\"1\" class=\"dataframe\">\n",
       "  <thead>\n",
       "    <tr style=\"text-align: right;\">\n",
       "      <th></th>\n",
       "      <th>A텔레콤</th>\n",
       "      <th>B전자</th>\n",
       "      <th>C은행</th>\n",
       "      <th>D철강</th>\n",
       "      <th>F화학</th>\n",
       "      <th>F화학_add_500</th>\n",
       "      <th>sum</th>\n",
       "    </tr>\n",
       "  </thead>\n",
       "  <tbody>\n",
       "    <tr>\n",
       "      <th>2023-01-02 00:00:00</th>\n",
       "      <td>108000.0</td>\n",
       "      <td>60000.0</td>\n",
       "      <td>54000.0</td>\n",
       "      <td>5000.0</td>\n",
       "      <td>3000.0</td>\n",
       "      <td>3500.0</td>\n",
       "      <td>233500.0</td>\n",
       "    </tr>\n",
       "    <tr>\n",
       "      <th>2023-01-03 00:00:00</th>\n",
       "      <td>109500.0</td>\n",
       "      <td>61000.0</td>\n",
       "      <td>57000.0</td>\n",
       "      <td>5300.0</td>\n",
       "      <td>3300.0</td>\n",
       "      <td>3600.0</td>\n",
       "      <td>237300.0</td>\n",
       "    </tr>\n",
       "    <tr>\n",
       "      <th>2023-01-06 00:00:00</th>\n",
       "      <td>113000.0</td>\n",
       "      <td>63000.0</td>\n",
       "      <td>57000.0</td>\n",
       "      <td>5300.0</td>\n",
       "      <td>3300.0</td>\n",
       "      <td>3800.0</td>\n",
       "      <td>245400.0</td>\n",
       "    </tr>\n",
       "    <tr>\n",
       "      <th>2023-01-05 00:00:00</th>\n",
       "      <td>112900.0</td>\n",
       "      <td>62950.0</td>\n",
       "      <td>56950.0</td>\n",
       "      <td>5250.0</td>\n",
       "      <td>3250.0</td>\n",
       "      <td>3750.0</td>\n",
       "      <td>245050.0</td>\n",
       "    </tr>\n",
       "    <tr>\n",
       "      <th>2023-01-04</th>\n",
       "      <td>108100.0</td>\n",
       "      <td>60100.0</td>\n",
       "      <td>54100.0</td>\n",
       "      <td>5100.0</td>\n",
       "      <td>3100.0</td>\n",
       "      <td>3600.0</td>\n",
       "      <td>233600.0</td>\n",
       "    </tr>\n",
       "  </tbody>\n",
       "</table>\n",
       "</div>"
      ],
      "text/plain": [
       "                         A텔레콤      B전자      C은행     D철강     F화학  F화학_add_500  \\\n",
       "2023-01-02 00:00:00  108000.0  60000.0  54000.0  5000.0  3000.0       3500.0   \n",
       "2023-01-03 00:00:00  109500.0  61000.0  57000.0  5300.0  3300.0       3600.0   \n",
       "2023-01-06 00:00:00  113000.0  63000.0  57000.0  5300.0  3300.0       3800.0   \n",
       "2023-01-05 00:00:00  112900.0  62950.0  56950.0  5250.0  3250.0       3750.0   \n",
       "2023-01-04           108100.0  60100.0  54100.0  5100.0  3100.0       3600.0   \n",
       "\n",
       "                          sum  \n",
       "2023-01-02 00:00:00  233500.0  \n",
       "2023-01-03 00:00:00  237300.0  \n",
       "2023-01-06 00:00:00  245400.0  \n",
       "2023-01-05 00:00:00  245050.0  \n",
       "2023-01-04           233600.0  "
      ]
     },
     "execution_count": 189,
     "metadata": {},
     "output_type": "execute_result"
    }
   ],
   "source": [
    "concat_df2.fillna(method = 'bfill')  # 뒤에 있는 값으로 대체"
   ]
  },
  {
   "cell_type": "code",
   "execution_count": 190,
   "id": "b93a1b5f-cf4c-4307-9187-114563372fd6",
   "metadata": {},
   "outputs": [
    {
     "data": {
      "text/html": [
       "<div>\n",
       "<style scoped>\n",
       "    .dataframe tbody tr th:only-of-type {\n",
       "        vertical-align: middle;\n",
       "    }\n",
       "\n",
       "    .dataframe tbody tr th {\n",
       "        vertical-align: top;\n",
       "    }\n",
       "\n",
       "    .dataframe thead th {\n",
       "        text-align: right;\n",
       "    }\n",
       "</style>\n",
       "<table border=\"1\" class=\"dataframe\">\n",
       "  <thead>\n",
       "    <tr style=\"text-align: right;\">\n",
       "      <th></th>\n",
       "      <th>A텔레콤</th>\n",
       "      <th>B전자</th>\n",
       "      <th>C은행</th>\n",
       "      <th>D철강</th>\n",
       "      <th>F화학</th>\n",
       "      <th>F화학_add_500</th>\n",
       "      <th>sum</th>\n",
       "    </tr>\n",
       "  </thead>\n",
       "  <tbody>\n",
       "    <tr>\n",
       "      <th>2023-01-02 00:00:00</th>\n",
       "      <td>108000.0</td>\n",
       "      <td>60000.0</td>\n",
       "      <td>54000.0</td>\n",
       "      <td>5000.0</td>\n",
       "      <td>3000.0</td>\n",
       "      <td>3500.0</td>\n",
       "      <td>233500.0</td>\n",
       "    </tr>\n",
       "    <tr>\n",
       "      <th>2023-01-03 00:00:00</th>\n",
       "      <td>109500.0</td>\n",
       "      <td>61000.0</td>\n",
       "      <td>55500.0</td>\n",
       "      <td>5150.0</td>\n",
       "      <td>3150.0</td>\n",
       "      <td>3600.0</td>\n",
       "      <td>237300.0</td>\n",
       "    </tr>\n",
       "    <tr>\n",
       "      <th>2023-01-06 00:00:00</th>\n",
       "      <td>113000.0</td>\n",
       "      <td>63000.0</td>\n",
       "      <td>57000.0</td>\n",
       "      <td>5300.0</td>\n",
       "      <td>3300.0</td>\n",
       "      <td>3800.0</td>\n",
       "      <td>245400.0</td>\n",
       "    </tr>\n",
       "    <tr>\n",
       "      <th>2023-01-05 00:00:00</th>\n",
       "      <td>112900.0</td>\n",
       "      <td>62950.0</td>\n",
       "      <td>56950.0</td>\n",
       "      <td>5250.0</td>\n",
       "      <td>3250.0</td>\n",
       "      <td>3750.0</td>\n",
       "      <td>245050.0</td>\n",
       "    </tr>\n",
       "    <tr>\n",
       "      <th>2023-01-04</th>\n",
       "      <td>108100.0</td>\n",
       "      <td>60100.0</td>\n",
       "      <td>54100.0</td>\n",
       "      <td>5100.0</td>\n",
       "      <td>3100.0</td>\n",
       "      <td>3600.0</td>\n",
       "      <td>233600.0</td>\n",
       "    </tr>\n",
       "  </tbody>\n",
       "</table>\n",
       "</div>"
      ],
      "text/plain": [
       "                         A텔레콤      B전자      C은행     D철강     F화학  F화학_add_500  \\\n",
       "2023-01-02 00:00:00  108000.0  60000.0  54000.0  5000.0  3000.0       3500.0   \n",
       "2023-01-03 00:00:00  109500.0  61000.0  55500.0  5150.0  3150.0       3600.0   \n",
       "2023-01-06 00:00:00  113000.0  63000.0  57000.0  5300.0  3300.0       3800.0   \n",
       "2023-01-05 00:00:00  112900.0  62950.0  56950.0  5250.0  3250.0       3750.0   \n",
       "2023-01-04           108100.0  60100.0  54100.0  5100.0  3100.0       3600.0   \n",
       "\n",
       "                          sum  \n",
       "2023-01-02 00:00:00  233500.0  \n",
       "2023-01-03 00:00:00  237300.0  \n",
       "2023-01-06 00:00:00  245400.0  \n",
       "2023-01-05 00:00:00  245050.0  \n",
       "2023-01-04           233600.0  "
      ]
     },
     "execution_count": 190,
     "metadata": {},
     "output_type": "execute_result"
    }
   ],
   "source": [
    "concat_df2.interpolate()"
   ]
  },
  {
   "cell_type": "code",
   "execution_count": null,
   "id": "cb69a7ee-bdf4-486e-a912-bae597d99b9e",
   "metadata": {},
   "outputs": [],
   "source": []
  },
  {
   "cell_type": "markdown",
   "id": "d9100a1a-8429-490f-bc39-120e5ef94623",
   "metadata": {},
   "source": [
    "### 중복제거"
   ]
  },
  {
   "cell_type": "code",
   "execution_count": 184,
   "id": "66d2c23f-b085-4011-beed-acdb2b5c0f3a",
   "metadata": {},
   "outputs": [
    {
     "data": {
      "text/html": [
       "<div>\n",
       "<style scoped>\n",
       "    .dataframe tbody tr th:only-of-type {\n",
       "        vertical-align: middle;\n",
       "    }\n",
       "\n",
       "    .dataframe tbody tr th {\n",
       "        vertical-align: top;\n",
       "    }\n",
       "\n",
       "    .dataframe thead th {\n",
       "        text-align: right;\n",
       "    }\n",
       "</style>\n",
       "<table border=\"1\" class=\"dataframe\">\n",
       "  <thead>\n",
       "    <tr style=\"text-align: right;\">\n",
       "      <th></th>\n",
       "      <th>A텔레콤</th>\n",
       "      <th>B전자</th>\n",
       "      <th>C은행</th>\n",
       "      <th>D철강</th>\n",
       "      <th>F화학</th>\n",
       "      <th>F화학_add_500</th>\n",
       "      <th>sum</th>\n",
       "    </tr>\n",
       "  </thead>\n",
       "  <tbody>\n",
       "    <tr>\n",
       "      <th>2023-01-02 00:00:00</th>\n",
       "      <td>108000.0</td>\n",
       "      <td>60000.0</td>\n",
       "      <td>54000.0</td>\n",
       "      <td>5000.0</td>\n",
       "      <td>3000.0</td>\n",
       "      <td>3500.0</td>\n",
       "      <td>233500.0</td>\n",
       "    </tr>\n",
       "    <tr>\n",
       "      <th>2023-01-03 00:00:00</th>\n",
       "      <td>109500.0</td>\n",
       "      <td>61000.0</td>\n",
       "      <td>NaN</td>\n",
       "      <td>NaN</td>\n",
       "      <td>NaN</td>\n",
       "      <td>3600.0</td>\n",
       "      <td>237300.0</td>\n",
       "    </tr>\n",
       "    <tr>\n",
       "      <th>2023-01-06 00:00:00</th>\n",
       "      <td>113000.0</td>\n",
       "      <td>63000.0</td>\n",
       "      <td>57000.0</td>\n",
       "      <td>5300.0</td>\n",
       "      <td>3300.0</td>\n",
       "      <td>3800.0</td>\n",
       "      <td>245400.0</td>\n",
       "    </tr>\n",
       "    <tr>\n",
       "      <th>2023-01-05 00:00:00</th>\n",
       "      <td>112900.0</td>\n",
       "      <td>62950.0</td>\n",
       "      <td>56950.0</td>\n",
       "      <td>5250.0</td>\n",
       "      <td>3250.0</td>\n",
       "      <td>3750.0</td>\n",
       "      <td>245050.0</td>\n",
       "    </tr>\n",
       "    <tr>\n",
       "      <th>2023-01-04</th>\n",
       "      <td>108100.0</td>\n",
       "      <td>60100.0</td>\n",
       "      <td>54100.0</td>\n",
       "      <td>5100.0</td>\n",
       "      <td>3100.0</td>\n",
       "      <td>3600.0</td>\n",
       "      <td>233600.0</td>\n",
       "    </tr>\n",
       "    <tr>\n",
       "      <th>2023-01-02 00:00:00</th>\n",
       "      <td>108000.0</td>\n",
       "      <td>60000.0</td>\n",
       "      <td>54000.0</td>\n",
       "      <td>5000.0</td>\n",
       "      <td>3000.0</td>\n",
       "      <td>3500.0</td>\n",
       "      <td>233500.0</td>\n",
       "    </tr>\n",
       "    <tr>\n",
       "      <th>2023-01-03 00:00:00</th>\n",
       "      <td>109500.0</td>\n",
       "      <td>61000.0</td>\n",
       "      <td>NaN</td>\n",
       "      <td>NaN</td>\n",
       "      <td>NaN</td>\n",
       "      <td>3600.0</td>\n",
       "      <td>237300.0</td>\n",
       "    </tr>\n",
       "    <tr>\n",
       "      <th>2023-01-06 00:00:00</th>\n",
       "      <td>113000.0</td>\n",
       "      <td>63000.0</td>\n",
       "      <td>57000.0</td>\n",
       "      <td>5300.0</td>\n",
       "      <td>3300.0</td>\n",
       "      <td>3800.0</td>\n",
       "      <td>245400.0</td>\n",
       "    </tr>\n",
       "    <tr>\n",
       "      <th>2023-01-05 00:00:00</th>\n",
       "      <td>112900.0</td>\n",
       "      <td>62950.0</td>\n",
       "      <td>56950.0</td>\n",
       "      <td>5250.0</td>\n",
       "      <td>3250.0</td>\n",
       "      <td>3750.0</td>\n",
       "      <td>245050.0</td>\n",
       "    </tr>\n",
       "    <tr>\n",
       "      <th>2023-01-04</th>\n",
       "      <td>108100.0</td>\n",
       "      <td>60100.0</td>\n",
       "      <td>54100.0</td>\n",
       "      <td>5100.0</td>\n",
       "      <td>3100.0</td>\n",
       "      <td>3600.0</td>\n",
       "      <td>233600.0</td>\n",
       "    </tr>\n",
       "  </tbody>\n",
       "</table>\n",
       "</div>"
      ],
      "text/plain": [
       "                         A텔레콤      B전자      C은행     D철강     F화학  F화학_add_500  \\\n",
       "2023-01-02 00:00:00  108000.0  60000.0  54000.0  5000.0  3000.0       3500.0   \n",
       "2023-01-03 00:00:00  109500.0  61000.0      NaN     NaN     NaN       3600.0   \n",
       "2023-01-06 00:00:00  113000.0  63000.0  57000.0  5300.0  3300.0       3800.0   \n",
       "2023-01-05 00:00:00  112900.0  62950.0  56950.0  5250.0  3250.0       3750.0   \n",
       "2023-01-04           108100.0  60100.0  54100.0  5100.0  3100.0       3600.0   \n",
       "2023-01-02 00:00:00  108000.0  60000.0  54000.0  5000.0  3000.0       3500.0   \n",
       "2023-01-03 00:00:00  109500.0  61000.0      NaN     NaN     NaN       3600.0   \n",
       "2023-01-06 00:00:00  113000.0  63000.0  57000.0  5300.0  3300.0       3800.0   \n",
       "2023-01-05 00:00:00  112900.0  62950.0  56950.0  5250.0  3250.0       3750.0   \n",
       "2023-01-04           108100.0  60100.0  54100.0  5100.0  3100.0       3600.0   \n",
       "\n",
       "                          sum  \n",
       "2023-01-02 00:00:00  233500.0  \n",
       "2023-01-03 00:00:00  237300.0  \n",
       "2023-01-06 00:00:00  245400.0  \n",
       "2023-01-05 00:00:00  245050.0  \n",
       "2023-01-04           233600.0  \n",
       "2023-01-02 00:00:00  233500.0  \n",
       "2023-01-03 00:00:00  237300.0  \n",
       "2023-01-06 00:00:00  245400.0  \n",
       "2023-01-05 00:00:00  245050.0  \n",
       "2023-01-04           233600.0  "
      ]
     },
     "execution_count": 184,
     "metadata": {},
     "output_type": "execute_result"
    }
   ],
   "source": [
    "concat_df3 = concat_df2.copy()\n",
    "concat4 = pd.concat([concat_df2, concat_df3])\n",
    "concat4"
   ]
  },
  {
   "cell_type": "code",
   "execution_count": 185,
   "id": "a8fa46a2-6753-46f1-a8d4-9ae10fa5c02b",
   "metadata": {},
   "outputs": [
    {
     "data": {
      "text/html": [
       "<div>\n",
       "<style scoped>\n",
       "    .dataframe tbody tr th:only-of-type {\n",
       "        vertical-align: middle;\n",
       "    }\n",
       "\n",
       "    .dataframe tbody tr th {\n",
       "        vertical-align: top;\n",
       "    }\n",
       "\n",
       "    .dataframe thead th {\n",
       "        text-align: right;\n",
       "    }\n",
       "</style>\n",
       "<table border=\"1\" class=\"dataframe\">\n",
       "  <thead>\n",
       "    <tr style=\"text-align: right;\">\n",
       "      <th></th>\n",
       "      <th>A텔레콤</th>\n",
       "      <th>B전자</th>\n",
       "      <th>C은행</th>\n",
       "      <th>D철강</th>\n",
       "      <th>F화학</th>\n",
       "      <th>F화학_add_500</th>\n",
       "      <th>sum</th>\n",
       "    </tr>\n",
       "  </thead>\n",
       "  <tbody>\n",
       "    <tr>\n",
       "      <th>2023-01-02 00:00:00</th>\n",
       "      <td>108000.0</td>\n",
       "      <td>60000.0</td>\n",
       "      <td>54000.0</td>\n",
       "      <td>5000.0</td>\n",
       "      <td>3000.0</td>\n",
       "      <td>3500.0</td>\n",
       "      <td>233500.0</td>\n",
       "    </tr>\n",
       "    <tr>\n",
       "      <th>2023-01-03 00:00:00</th>\n",
       "      <td>109500.0</td>\n",
       "      <td>61000.0</td>\n",
       "      <td>NaN</td>\n",
       "      <td>NaN</td>\n",
       "      <td>NaN</td>\n",
       "      <td>3600.0</td>\n",
       "      <td>237300.0</td>\n",
       "    </tr>\n",
       "    <tr>\n",
       "      <th>2023-01-06 00:00:00</th>\n",
       "      <td>113000.0</td>\n",
       "      <td>63000.0</td>\n",
       "      <td>57000.0</td>\n",
       "      <td>5300.0</td>\n",
       "      <td>3300.0</td>\n",
       "      <td>3800.0</td>\n",
       "      <td>245400.0</td>\n",
       "    </tr>\n",
       "    <tr>\n",
       "      <th>2023-01-05 00:00:00</th>\n",
       "      <td>112900.0</td>\n",
       "      <td>62950.0</td>\n",
       "      <td>56950.0</td>\n",
       "      <td>5250.0</td>\n",
       "      <td>3250.0</td>\n",
       "      <td>3750.0</td>\n",
       "      <td>245050.0</td>\n",
       "    </tr>\n",
       "    <tr>\n",
       "      <th>2023-01-04</th>\n",
       "      <td>108100.0</td>\n",
       "      <td>60100.0</td>\n",
       "      <td>54100.0</td>\n",
       "      <td>5100.0</td>\n",
       "      <td>3100.0</td>\n",
       "      <td>3600.0</td>\n",
       "      <td>233600.0</td>\n",
       "    </tr>\n",
       "  </tbody>\n",
       "</table>\n",
       "</div>"
      ],
      "text/plain": [
       "                         A텔레콤      B전자      C은행     D철강     F화학  F화학_add_500  \\\n",
       "2023-01-02 00:00:00  108000.0  60000.0  54000.0  5000.0  3000.0       3500.0   \n",
       "2023-01-03 00:00:00  109500.0  61000.0      NaN     NaN     NaN       3600.0   \n",
       "2023-01-06 00:00:00  113000.0  63000.0  57000.0  5300.0  3300.0       3800.0   \n",
       "2023-01-05 00:00:00  112900.0  62950.0  56950.0  5250.0  3250.0       3750.0   \n",
       "2023-01-04           108100.0  60100.0  54100.0  5100.0  3100.0       3600.0   \n",
       "\n",
       "                          sum  \n",
       "2023-01-02 00:00:00  233500.0  \n",
       "2023-01-03 00:00:00  237300.0  \n",
       "2023-01-06 00:00:00  245400.0  \n",
       "2023-01-05 00:00:00  245050.0  \n",
       "2023-01-04           233600.0  "
      ]
     },
     "execution_count": 185,
     "metadata": {},
     "output_type": "execute_result"
    }
   ],
   "source": [
    "concat4.drop_duplicates()   # 중복 제거"
   ]
  },
  {
   "cell_type": "code",
   "execution_count": null,
   "id": "360660f5-00c6-4b7c-bbfb-16ce59d6e145",
   "metadata": {},
   "outputs": [],
   "source": []
  },
  {
   "cell_type": "markdown",
   "id": "5a01a4f7-f412-413c-9e5d-c5d16bee1422",
   "metadata": {},
   "source": [
    "### 실습\n",
    "- Q1. 2022-01-01 ~ 2022-12-01 월초 인덱스를 생성\n",
    "- Q2. Q1에서 생성한 인덱스를 가지고 데이터 프레임 생성(값은 자율, 이때 칼럼이름은 value)\n",
    "- Q3. value 컬럼에서 100을 더한 value_add_100 컬럼을 생성\n",
    "- Q4. value 컬럼과 value_add_100 컬럼을 평균값이 들어간 mean 컬럼을 생성"
   ]
  },
  {
   "cell_type": "code",
   "execution_count": 193,
   "id": "9efdb985-66a8-4f03-bd1c-8c18284f36f7",
   "metadata": {},
   "outputs": [
    {
     "data": {
      "text/plain": [
       "DatetimeIndex(['2022-01-01', '2022-02-01', '2022-03-01', '2022-04-01',\n",
       "               '2022-05-01', '2022-06-01', '2022-07-01', '2022-08-01',\n",
       "               '2022-09-01', '2022-10-01', '2022-11-01', '2022-12-01'],\n",
       "              dtype='datetime64[ns]', freq='MS')"
      ]
     },
     "execution_count": 193,
     "metadata": {},
     "output_type": "execute_result"
    }
   ],
   "source": [
    "# Q1\n",
    "dates = pd.date_range('2022-01-01', '2022-12-01', freq = 'MS')\n",
    "dates"
   ]
  },
  {
   "cell_type": "code",
   "execution_count": 211,
   "id": "b90320d7-2418-4e7c-9714-3d9eb6c9a55b",
   "metadata": {
    "collapsed": true,
    "jupyter": {
     "outputs_hidden": true
    },
    "tags": []
   },
   "outputs": [
    {
     "data": {
      "text/html": [
       "<div>\n",
       "<style scoped>\n",
       "    .dataframe tbody tr th:only-of-type {\n",
       "        vertical-align: middle;\n",
       "    }\n",
       "\n",
       "    .dataframe tbody tr th {\n",
       "        vertical-align: top;\n",
       "    }\n",
       "\n",
       "    .dataframe thead th {\n",
       "        text-align: right;\n",
       "    }\n",
       "</style>\n",
       "<table border=\"1\" class=\"dataframe\">\n",
       "  <thead>\n",
       "    <tr style=\"text-align: right;\">\n",
       "      <th></th>\n",
       "      <th>value</th>\n",
       "    </tr>\n",
       "  </thead>\n",
       "  <tbody>\n",
       "    <tr>\n",
       "      <th>2022-01-01</th>\n",
       "      <td>0.000000</td>\n",
       "    </tr>\n",
       "    <tr>\n",
       "      <th>2022-02-01</th>\n",
       "      <td>9.090909</td>\n",
       "    </tr>\n",
       "    <tr>\n",
       "      <th>2022-03-01</th>\n",
       "      <td>18.181818</td>\n",
       "    </tr>\n",
       "    <tr>\n",
       "      <th>2022-04-01</th>\n",
       "      <td>27.272727</td>\n",
       "    </tr>\n",
       "    <tr>\n",
       "      <th>2022-05-01</th>\n",
       "      <td>36.363636</td>\n",
       "    </tr>\n",
       "    <tr>\n",
       "      <th>2022-06-01</th>\n",
       "      <td>45.454545</td>\n",
       "    </tr>\n",
       "    <tr>\n",
       "      <th>2022-07-01</th>\n",
       "      <td>54.545455</td>\n",
       "    </tr>\n",
       "    <tr>\n",
       "      <th>2022-08-01</th>\n",
       "      <td>63.636364</td>\n",
       "    </tr>\n",
       "    <tr>\n",
       "      <th>2022-09-01</th>\n",
       "      <td>72.727273</td>\n",
       "    </tr>\n",
       "    <tr>\n",
       "      <th>2022-10-01</th>\n",
       "      <td>81.818182</td>\n",
       "    </tr>\n",
       "    <tr>\n",
       "      <th>2022-11-01</th>\n",
       "      <td>90.909091</td>\n",
       "    </tr>\n",
       "    <tr>\n",
       "      <th>2022-12-01</th>\n",
       "      <td>100.000000</td>\n",
       "    </tr>\n",
       "  </tbody>\n",
       "</table>\n",
       "</div>"
      ],
      "text/plain": [
       "                 value\n",
       "2022-01-01    0.000000\n",
       "2022-02-01    9.090909\n",
       "2022-03-01   18.181818\n",
       "2022-04-01   27.272727\n",
       "2022-05-01   36.363636\n",
       "2022-06-01   45.454545\n",
       "2022-07-01   54.545455\n",
       "2022-08-01   63.636364\n",
       "2022-09-01   72.727273\n",
       "2022-10-01   81.818182\n",
       "2022-11-01   90.909091\n",
       "2022-12-01  100.000000"
      ]
     },
     "execution_count": 211,
     "metadata": {},
     "output_type": "execute_result"
    }
   ],
   "source": [
    "# Q2\n",
    "values = np.linspace(0, 100, 12)\n",
    "df = pd.DataFrame(values, index = dates)\n",
    "df.columns = ['value']                     # 컬럼명 변경 / df.rename(columns = {0:'value'}, inplace = True)\n",
    "df"
   ]
  },
  {
   "cell_type": "code",
   "execution_count": 215,
   "id": "cd788540-c629-49cd-924e-7bfc74af2f17",
   "metadata": {
    "tags": []
   },
   "outputs": [
    {
     "data": {
      "text/html": [
       "<div>\n",
       "<style scoped>\n",
       "    .dataframe tbody tr th:only-of-type {\n",
       "        vertical-align: middle;\n",
       "    }\n",
       "\n",
       "    .dataframe tbody tr th {\n",
       "        vertical-align: top;\n",
       "    }\n",
       "\n",
       "    .dataframe thead th {\n",
       "        text-align: right;\n",
       "    }\n",
       "</style>\n",
       "<table border=\"1\" class=\"dataframe\">\n",
       "  <thead>\n",
       "    <tr style=\"text-align: right;\">\n",
       "      <th></th>\n",
       "      <th>value</th>\n",
       "      <th>value_add_100</th>\n",
       "    </tr>\n",
       "  </thead>\n",
       "  <tbody>\n",
       "    <tr>\n",
       "      <th>2022-01-01</th>\n",
       "      <td>0.000000</td>\n",
       "      <td>100.000000</td>\n",
       "    </tr>\n",
       "    <tr>\n",
       "      <th>2022-02-01</th>\n",
       "      <td>9.090909</td>\n",
       "      <td>109.090909</td>\n",
       "    </tr>\n",
       "    <tr>\n",
       "      <th>2022-03-01</th>\n",
       "      <td>18.181818</td>\n",
       "      <td>118.181818</td>\n",
       "    </tr>\n",
       "    <tr>\n",
       "      <th>2022-04-01</th>\n",
       "      <td>27.272727</td>\n",
       "      <td>127.272727</td>\n",
       "    </tr>\n",
       "    <tr>\n",
       "      <th>2022-05-01</th>\n",
       "      <td>36.363636</td>\n",
       "      <td>136.363636</td>\n",
       "    </tr>\n",
       "    <tr>\n",
       "      <th>2022-06-01</th>\n",
       "      <td>45.454545</td>\n",
       "      <td>145.454545</td>\n",
       "    </tr>\n",
       "    <tr>\n",
       "      <th>2022-07-01</th>\n",
       "      <td>54.545455</td>\n",
       "      <td>154.545455</td>\n",
       "    </tr>\n",
       "    <tr>\n",
       "      <th>2022-08-01</th>\n",
       "      <td>63.636364</td>\n",
       "      <td>163.636364</td>\n",
       "    </tr>\n",
       "    <tr>\n",
       "      <th>2022-09-01</th>\n",
       "      <td>72.727273</td>\n",
       "      <td>172.727273</td>\n",
       "    </tr>\n",
       "    <tr>\n",
       "      <th>2022-10-01</th>\n",
       "      <td>81.818182</td>\n",
       "      <td>181.818182</td>\n",
       "    </tr>\n",
       "    <tr>\n",
       "      <th>2022-11-01</th>\n",
       "      <td>90.909091</td>\n",
       "      <td>190.909091</td>\n",
       "    </tr>\n",
       "    <tr>\n",
       "      <th>2022-12-01</th>\n",
       "      <td>100.000000</td>\n",
       "      <td>200.000000</td>\n",
       "    </tr>\n",
       "  </tbody>\n",
       "</table>\n",
       "</div>"
      ],
      "text/plain": [
       "                 value  value_add_100\n",
       "2022-01-01    0.000000     100.000000\n",
       "2022-02-01    9.090909     109.090909\n",
       "2022-03-01   18.181818     118.181818\n",
       "2022-04-01   27.272727     127.272727\n",
       "2022-05-01   36.363636     136.363636\n",
       "2022-06-01   45.454545     145.454545\n",
       "2022-07-01   54.545455     154.545455\n",
       "2022-08-01   63.636364     163.636364\n",
       "2022-09-01   72.727273     172.727273\n",
       "2022-10-01   81.818182     181.818182\n",
       "2022-11-01   90.909091     190.909091\n",
       "2022-12-01  100.000000     200.000000"
      ]
     },
     "execution_count": 215,
     "metadata": {},
     "output_type": "execute_result"
    }
   ],
   "source": [
    "# Q3\n",
    "df['value_add_100'] = df['value'] + 100\n",
    "df"
   ]
  },
  {
   "cell_type": "code",
   "execution_count": 216,
   "id": "ebb2eba0-37b1-42c5-8a80-4529c2aa5ac2",
   "metadata": {},
   "outputs": [
    {
     "data": {
      "text/html": [
       "<div>\n",
       "<style scoped>\n",
       "    .dataframe tbody tr th:only-of-type {\n",
       "        vertical-align: middle;\n",
       "    }\n",
       "\n",
       "    .dataframe tbody tr th {\n",
       "        vertical-align: top;\n",
       "    }\n",
       "\n",
       "    .dataframe thead th {\n",
       "        text-align: right;\n",
       "    }\n",
       "</style>\n",
       "<table border=\"1\" class=\"dataframe\">\n",
       "  <thead>\n",
       "    <tr style=\"text-align: right;\">\n",
       "      <th></th>\n",
       "      <th>value</th>\n",
       "      <th>value_add_100</th>\n",
       "      <th>mean</th>\n",
       "    </tr>\n",
       "  </thead>\n",
       "  <tbody>\n",
       "    <tr>\n",
       "      <th>2022-01-01</th>\n",
       "      <td>0.000000</td>\n",
       "      <td>100.000000</td>\n",
       "      <td>50.000000</td>\n",
       "    </tr>\n",
       "    <tr>\n",
       "      <th>2022-02-01</th>\n",
       "      <td>9.090909</td>\n",
       "      <td>109.090909</td>\n",
       "      <td>59.090909</td>\n",
       "    </tr>\n",
       "    <tr>\n",
       "      <th>2022-03-01</th>\n",
       "      <td>18.181818</td>\n",
       "      <td>118.181818</td>\n",
       "      <td>68.181818</td>\n",
       "    </tr>\n",
       "    <tr>\n",
       "      <th>2022-04-01</th>\n",
       "      <td>27.272727</td>\n",
       "      <td>127.272727</td>\n",
       "      <td>77.272727</td>\n",
       "    </tr>\n",
       "    <tr>\n",
       "      <th>2022-05-01</th>\n",
       "      <td>36.363636</td>\n",
       "      <td>136.363636</td>\n",
       "      <td>86.363636</td>\n",
       "    </tr>\n",
       "    <tr>\n",
       "      <th>2022-06-01</th>\n",
       "      <td>45.454545</td>\n",
       "      <td>145.454545</td>\n",
       "      <td>95.454545</td>\n",
       "    </tr>\n",
       "    <tr>\n",
       "      <th>2022-07-01</th>\n",
       "      <td>54.545455</td>\n",
       "      <td>154.545455</td>\n",
       "      <td>104.545455</td>\n",
       "    </tr>\n",
       "    <tr>\n",
       "      <th>2022-08-01</th>\n",
       "      <td>63.636364</td>\n",
       "      <td>163.636364</td>\n",
       "      <td>113.636364</td>\n",
       "    </tr>\n",
       "    <tr>\n",
       "      <th>2022-09-01</th>\n",
       "      <td>72.727273</td>\n",
       "      <td>172.727273</td>\n",
       "      <td>122.727273</td>\n",
       "    </tr>\n",
       "    <tr>\n",
       "      <th>2022-10-01</th>\n",
       "      <td>81.818182</td>\n",
       "      <td>181.818182</td>\n",
       "      <td>131.818182</td>\n",
       "    </tr>\n",
       "    <tr>\n",
       "      <th>2022-11-01</th>\n",
       "      <td>90.909091</td>\n",
       "      <td>190.909091</td>\n",
       "      <td>140.909091</td>\n",
       "    </tr>\n",
       "    <tr>\n",
       "      <th>2022-12-01</th>\n",
       "      <td>100.000000</td>\n",
       "      <td>200.000000</td>\n",
       "      <td>150.000000</td>\n",
       "    </tr>\n",
       "  </tbody>\n",
       "</table>\n",
       "</div>"
      ],
      "text/plain": [
       "                 value  value_add_100        mean\n",
       "2022-01-01    0.000000     100.000000   50.000000\n",
       "2022-02-01    9.090909     109.090909   59.090909\n",
       "2022-03-01   18.181818     118.181818   68.181818\n",
       "2022-04-01   27.272727     127.272727   77.272727\n",
       "2022-05-01   36.363636     136.363636   86.363636\n",
       "2022-06-01   45.454545     145.454545   95.454545\n",
       "2022-07-01   54.545455     154.545455  104.545455\n",
       "2022-08-01   63.636364     163.636364  113.636364\n",
       "2022-09-01   72.727273     172.727273  122.727273\n",
       "2022-10-01   81.818182     181.818182  131.818182\n",
       "2022-11-01   90.909091     190.909091  140.909091\n",
       "2022-12-01  100.000000     200.000000  150.000000"
      ]
     },
     "execution_count": 216,
     "metadata": {},
     "output_type": "execute_result"
    }
   ],
   "source": [
    "# Q4\n",
    "df['mean'] = df.mean(axis = 1)           # column방향으로\n",
    "df"
   ]
  }
 ],
 "metadata": {
  "kernelspec": {
   "display_name": "Python 3 (ipykernel)",
   "language": "python",
   "name": "python3"
  },
  "language_info": {
   "codemirror_mode": {
    "name": "ipython",
    "version": 3
   },
   "file_extension": ".py",
   "mimetype": "text/x-python",
   "name": "python",
   "nbconvert_exporter": "python",
   "pygments_lexer": "ipython3",
   "version": "3.10.7"
  }
 },
 "nbformat": 4,
 "nbformat_minor": 5
}
