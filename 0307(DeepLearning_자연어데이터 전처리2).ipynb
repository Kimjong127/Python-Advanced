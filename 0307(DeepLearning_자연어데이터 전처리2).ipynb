{
 "cells": [
  {
   "cell_type": "markdown",
   "id": "c60a48a7-1b4d-4e8f-9041-02a8f2bfd1b3",
   "metadata": {},
   "source": [
    "# 2023-03-07"
   ]
  },
  {
   "cell_type": "code",
   "execution_count": null,
   "id": "c0605115-d8e4-41d2-99c9-3d0751046b50",
   "metadata": {},
   "outputs": [],
   "source": []
  },
  {
   "cell_type": "markdown",
   "id": "8ffedc7d-c2e4-465a-8ff4-d05d04884adb",
   "metadata": {},
   "source": [
    "## regex module (3/6 수업 이어서)"
   ]
  },
  {
   "cell_type": "code",
   "execution_count": 27,
   "id": "9f9a7887-e33b-4c90-9eed-b47d36319136",
   "metadata": {},
   "outputs": [],
   "source": [
    "import re"
   ]
  },
  {
   "cell_type": "markdown",
   "id": "547bda3e-69b8-498a-9354-f5430d7958d6",
   "metadata": {},
   "source": [
    "### re.findall()\n",
    " - 정규식과 매치되는 text return\n",
    " - \\d : 모든 숫자\n",
    " - \\s : 공백\n",
    " - \\w : 숫자 + 문자\n",
    " - \\D : 숫자를 제외한 모든 문자"
   ]
  },
  {
   "cell_type": "code",
   "execution_count": 7,
   "id": "389cc13b-df01-4cf5-9821-bf65b413edcb",
   "metadata": {},
   "outputs": [
    {
     "name": "stdout",
     "output_type": "stream",
     "text": [
      "['1', '2', '3', '1', '2', '3', '1', '2', '3', '1', '2', '3', '1', '2', '3']\n",
      "['하', '하', '하', '!', '!', '!']\n"
     ]
    }
   ],
   "source": [
    "text = '123123123하하하123123!!!'\n",
    "\n",
    "print(re.findall('\\d', text))\n",
    "print(re.findall('\\D', text))"
   ]
  },
  {
   "cell_type": "code",
   "execution_count": 11,
   "id": "a7e4866f-7551-4461-bc9a-343b4936bc7a",
   "metadata": {},
   "outputs": [
    {
     "data": {
      "text/plain": [
       "['010-1234-5678']"
      ]
     },
     "execution_count": 11,
     "metadata": {},
     "output_type": "execute_result"
    }
   ],
   "source": [
    "# 전화번호만 추출하고 싶을 때\n",
    "\n",
    "text = '010-1234-5678김종현'\n",
    "\n",
    "re.findall('\\d+-\\d+-\\d+', text)"
   ]
  },
  {
   "cell_type": "markdown",
   "id": "6668a964-539e-4ca8-b105-145bb44f4aa2",
   "metadata": {},
   "source": [
    "### re.sub()\n",
    " - 일치하는 것을 찾아서 바꾼다.\n",
    " - 특수 문자를 제거 -> 특수문자를 공백, 띄어쓰기로 변경"
   ]
  },
  {
   "cell_type": "code",
   "execution_count": 13,
   "id": "b0a60947-98fe-469a-b8b2-d8ff94318f64",
   "metadata": {},
   "outputs": [
    {
     "data": {
      "text/plain": [
       "'<phone_num>김종현'"
      ]
     },
     "execution_count": 13,
     "metadata": {},
     "output_type": "execute_result"
    }
   ],
   "source": [
    "text = '010-1234-5678김종현'\n",
    "\n",
    "re.sub('\\d{3}-\\d{3,4}-\\d{3,4}', '<phone_num>', text)"
   ]
  },
  {
   "cell_type": "code",
   "execution_count": 15,
   "id": "c2590dc4-48d2-4381-8ebe-db7aa78f6758",
   "metadata": {},
   "outputs": [
    {
     "data": {
      "text/plain": [
       "'그는 말했다 나는 할 수 있어라고'"
      ]
     },
     "execution_count": 15,
     "metadata": {},
     "output_type": "execute_result"
    }
   ],
   "source": [
    "text = '그는 말했다, \"나는 할 수 있어!\"라고'\n",
    "\n",
    "re.sub('[^가-힣 ]', '', text)"
   ]
  },
  {
   "cell_type": "code",
   "execution_count": null,
   "id": "295269bf-e303-456e-bf4b-000e30586813",
   "metadata": {},
   "outputs": [],
   "source": []
  },
  {
   "cell_type": "markdown",
   "id": "df5308dc-7f8f-40d8-a18a-a8ec3d018add",
   "metadata": {},
   "source": [
    "### [실습]"
   ]
  },
  {
   "cell_type": "code",
   "execution_count": 114,
   "id": "10fafc13-7924-4fcb-b964-ba6ecb898200",
   "metadata": {},
   "outputs": [
    {
     "data": {
      "text/plain": [
       "'0 Choi JinYeong\\n1 Park JiSung\\n2 Park ChanHo'"
      ]
     },
     "execution_count": 114,
     "metadata": {},
     "output_type": "execute_result"
    }
   ],
   "source": [
    "text = \"\"\"0 Choi JinYeong\n",
    "1 Park JiSung\n",
    "2 Park ChanHo\"\"\"\n",
    "text"
   ]
  },
  {
   "cell_type": "code",
   "execution_count": 118,
   "id": "7d9cbf67-b5f8-4deb-ba1d-ece04272661d",
   "metadata": {},
   "outputs": [
    {
     "data": {
      "text/plain": [
       "['0', 'Choi', 'JinYeong', '1', 'Park', 'JiSung', '2', 'Park', 'ChanHo']"
      ]
     },
     "execution_count": 118,
     "metadata": {},
     "output_type": "execute_result"
    }
   ],
   "source": [
    "# 예제1. 공백을 모두 찾아 split\n",
    "# 출력결과 : ['0', 'Choi', 'JinYeong', '1', 'Park', 'JiSung', '2', 'Park', 'ChanHo']\n",
    "\n",
    "re.split('\\s+', text)         # 공백이 최소 하나이상인 경우 공백을 날림"
   ]
  },
  {
   "cell_type": "code",
   "execution_count": 19,
   "id": "8362fe36-81ef-47d3-a984-46584834ccc7",
   "metadata": {},
   "outputs": [
    {
     "data": {
      "text/plain": [
       "['0', '1', '2']"
      ]
     },
     "execution_count": 19,
     "metadata": {},
     "output_type": "execute_result"
    }
   ],
   "source": [
    "# 예제2. 숫자인 데이터만 찾기\n",
    "\n",
    "re.findall('\\d', text)"
   ]
  },
  {
   "cell_type": "code",
   "execution_count": 38,
   "id": "04d7c3bd-8301-4908-aae2-bcaa729765ca",
   "metadata": {},
   "outputs": [
    {
     "data": {
      "text/plain": [
       "['C', 'J', 'Y', 'P', 'J', 'S', 'P', 'C', 'H']"
      ]
     },
     "execution_count": 38,
     "metadata": {},
     "output_type": "execute_result"
    }
   ],
   "source": [
    "# 예제3. 대문자 데이터 찾기\n",
    "\n",
    "re.findall('[A-Z]', text)"
   ]
  },
  {
   "cell_type": "code",
   "execution_count": 126,
   "id": "231a803a-7468-4bb4-84a6-892ba82402e9",
   "metadata": {},
   "outputs": [
    {
     "data": {
      "text/plain": [
       "['Choi', 'Jin', 'Yeong', 'Park', 'Ji', 'Sung', 'Park', 'Chan', 'Ho']"
      ]
     },
     "execution_count": 126,
     "metadata": {},
     "output_type": "execute_result"
    }
   ],
   "source": [
    "# 예제4. 영어로만 이루어진 데이터 찾기\n",
    "\n",
    "re.findall('[A-Z][a-z]+', text)      # 대문자를 먼저 찾고 소문자는 끝까지를"
   ]
  },
  {
   "cell_type": "code",
   "execution_count": null,
   "id": "084fe964-f857-4633-b1d8-209278b31f45",
   "metadata": {},
   "outputs": [],
   "source": []
  },
  {
   "cell_type": "markdown",
   "id": "8472f691-cd3e-4473-bf3a-f242fa82caf5",
   "metadata": {
    "tags": []
   },
   "source": [
    "### 정규식 활용 토큰화"
   ]
  },
  {
   "cell_type": "code",
   "execution_count": 129,
   "id": "b4aa3c5a-b69b-4739-a8a4-21deecb116ab",
   "metadata": {},
   "outputs": [
    {
     "name": "stdout",
     "output_type": "stream",
     "text": [
      "['No', 'great', 'man', 'ever', 'complains', 'of', 'want', 'of', 'opportunity']\n",
      "['No', 'great', 'man', 'ever', 'complains', 'of', 'want', 'of', 'opportunity.']\n",
      "[' ', ' ', ' ', ' ', ' ', ' ', ' ', ' ']\n"
     ]
    }
   ],
   "source": [
    "from nltk.tokenize import RegexpTokenizer\n",
    "\n",
    "text = 'No great man ever complains of want of opportunity.'\n",
    "\n",
    "tokenizer1 = RegexpTokenizer('[\\w]+')             # \\w : 문자 또는 숫자, + : 하나 이상\n",
    "tokenizer2 = RegexpTokenizer('\\s+', gaps = True)  # \\s : 공백이 하나라도 있으면 그 공백 기준(gaps=True)으로 데이터를 tokenize\n",
    "tokenizer3 = RegexpTokenizer('\\s+')               # 공백기준\n",
    "\n",
    "print(tokenizer1.tokenize(text))\n",
    "print(tokenizer2.tokenize(text))                 # 공백기준이므로 마지막 마침표가 붙은 것을 확인할 수 있다.\n",
    "print(tokenizer3.tokenize(text))"
   ]
  },
  {
   "cell_type": "code",
   "execution_count": null,
   "id": "6e0d3aac-9379-410c-84a9-88fc100d6285",
   "metadata": {},
   "outputs": [],
   "source": []
  },
  {
   "cell_type": "code",
   "execution_count": null,
   "id": "1ee673e1-1173-41cd-b1ab-22dbedeb91a6",
   "metadata": {},
   "outputs": [],
   "source": []
  },
  {
   "cell_type": "markdown",
   "id": "4e6cb30d-8f7c-4b4b-92c7-e326d65f10c3",
   "metadata": {},
   "source": [
    "# Word Embedding"
   ]
  },
  {
   "cell_type": "markdown",
   "id": "b781065c-af23-41c9-a383-5bd0a9be262d",
   "metadata": {},
   "source": [
    "## Tensorflow(one-hot encoding -> Embedding)"
   ]
  },
  {
   "cell_type": "code",
   "execution_count": 142,
   "id": "3e3d504d-911a-4191-ae79-0deb2a976807",
   "metadata": {},
   "outputs": [
    {
     "name": "stdout",
     "output_type": "stream",
     "text": [
      "----------------------tokenizing---------------------\n",
      "{'우리': 1, '우리말은': 2, '생활과': 3, '문화와': 4, '역사와': 5, '정신과': 6, '모든': 7, '것을': 8, '담고': 9, '있는': 10, '삶의': 11, '기본이다': 12, '삶': 13, '그': 14, '자체다': 15}\n",
      "OrderedDict([('우리말은', 2), ('우리', 3), ('생활과', 1), ('문화와', 1), ('역사와', 1), ('정신과', 1), ('모든', 1), ('것을', 1), ('담고', 1), ('있는', 1), ('삶의', 1), ('기본이다', 1), ('삶', 1), ('그', 1), ('자체다', 1)])\n",
      "------------------------to integers-------------------\n",
      "[[2, 1, 3, 4, 5, 6, 7, 8, 9, 10, 1, 11, 12, 2, 1, 13, 14, 15]]\n",
      "----------------------one-hot vectors------------------\n",
      "[[[0. 0. 1. 0. 0. 0. 0. 0. 0. 0. 0. 0. 0. 0. 0. 0.]\n",
      "  [0. 1. 0. 0. 0. 0. 0. 0. 0. 0. 0. 0. 0. 0. 0. 0.]\n",
      "  [0. 0. 0. 1. 0. 0. 0. 0. 0. 0. 0. 0. 0. 0. 0. 0.]\n",
      "  [0. 0. 0. 0. 1. 0. 0. 0. 0. 0. 0. 0. 0. 0. 0. 0.]\n",
      "  [0. 0. 0. 0. 0. 1. 0. 0. 0. 0. 0. 0. 0. 0. 0. 0.]\n",
      "  [0. 0. 0. 0. 0. 0. 1. 0. 0. 0. 0. 0. 0. 0. 0. 0.]\n",
      "  [0. 0. 0. 0. 0. 0. 0. 1. 0. 0. 0. 0. 0. 0. 0. 0.]\n",
      "  [0. 0. 0. 0. 0. 0. 0. 0. 1. 0. 0. 0. 0. 0. 0. 0.]\n",
      "  [0. 0. 0. 0. 0. 0. 0. 0. 0. 1. 0. 0. 0. 0. 0. 0.]\n",
      "  [0. 0. 0. 0. 0. 0. 0. 0. 0. 0. 1. 0. 0. 0. 0. 0.]\n",
      "  [0. 1. 0. 0. 0. 0. 0. 0. 0. 0. 0. 0. 0. 0. 0. 0.]\n",
      "  [0. 0. 0. 0. 0. 0. 0. 0. 0. 0. 0. 1. 0. 0. 0. 0.]\n",
      "  [0. 0. 0. 0. 0. 0. 0. 0. 0. 0. 0. 0. 1. 0. 0. 0.]\n",
      "  [0. 0. 1. 0. 0. 0. 0. 0. 0. 0. 0. 0. 0. 0. 0. 0.]\n",
      "  [0. 1. 0. 0. 0. 0. 0. 0. 0. 0. 0. 0. 0. 0. 0. 0.]\n",
      "  [0. 0. 0. 0. 0. 0. 0. 0. 0. 0. 0. 0. 0. 1. 0. 0.]\n",
      "  [0. 0. 0. 0. 0. 0. 0. 0. 0. 0. 0. 0. 0. 0. 1. 0.]\n",
      "  [0. 0. 0. 0. 0. 0. 0. 0. 0. 0. 0. 0. 0. 0. 0. 1.]]]\n",
      "1/1 [==============================] - 0s 66ms/step\n",
      "(1, 18, 3)\n"
     ]
    }
   ],
   "source": [
    "from tensorflow.keras.preprocessing.text import Tokenizer\n",
    "from tensorflow.keras.utils import to_categorical\n",
    "\n",
    "# tokenizing\n",
    "corpus = ['우리말은 우리 생활과 문화와 역사와 정신과 모든 것을 담고 있는 우리 삶의 기본이다. 우리말은 우리 삶 그 자체다.']\n",
    "tokenizer = Tokenizer()\n",
    "tokenizer.fit_on_texts(corpus)\n",
    "print('----------------------tokenizing---------------------')\n",
    "print(tokenizer.word_index)            # 글자의 index\n",
    "print(tokenizer.word_counts)           # 글자의 빈도 수\n",
    "\n",
    "# 정수화\n",
    "integers = tokenizer.texts_to_sequences(corpus) \n",
    "print('------------------------to integers-------------------')\n",
    "print(integers)    # row의 갯수\n",
    "\n",
    "# Vector화\n",
    "\n",
    "# 1. one-hot vector화\n",
    "n = len(tokenizer.word_index) + 1\n",
    "onehot_encoding = to_categorical(integers, num_classes = n)\n",
    "print('----------------------one-hot vectors------------------')\n",
    "print(onehot_encoding)\n",
    "\n",
    "# 2. embedding vector\n",
    "from tensorflow.keras.models import Sequential\n",
    "from tensorflow.keras.layers import Embedding\n",
    "model = Sequential()\n",
    "model.add(Embedding(input_dim = n, output_dim = 3))       # n개를 넣고 3개의 차원으로 임베딩\n",
    "model.compile(optimizer = 'rmsprop', loss = 'mse')\n",
    "embedding = model.predict(integers)\n",
    "print(embedding.shape)    # row의 갯수"
   ]
  },
  {
   "cell_type": "code",
   "execution_count": null,
   "id": "d576070f-cef2-4832-89e0-e884ce788bab",
   "metadata": {},
   "outputs": [],
   "source": []
  },
  {
   "cell_type": "markdown",
   "id": "c65f2bb3-33ac-4701-b3e3-3cfb4907f921",
   "metadata": {},
   "source": [
    "## Word2Vec"
   ]
  },
  {
   "cell_type": "code",
   "execution_count": 4,
   "id": "5f0cdc39-885f-4410-85c0-25179c7c838c",
   "metadata": {
    "tags": []
   },
   "outputs": [
    {
     "name": "stdout",
     "output_type": "stream",
     "text": [
      "Requirement already satisfied: konlpy in c:\\users\\gm220808\\.venv\\practice1\\lib\\site-packages (0.6.0)\n",
      "Requirement already satisfied: numpy>=1.6 in c:\\users\\gm220808\\.venv\\practice1\\lib\\site-packages (from konlpy) (1.23.5)\n",
      "Requirement already satisfied: lxml>=4.1.0 in c:\\users\\gm220808\\.venv\\practice1\\lib\\site-packages (from konlpy) (4.9.1)\n",
      "Requirement already satisfied: JPype1>=0.7.0 in c:\\users\\gm220808\\.venv\\practice1\\lib\\site-packages (from konlpy) (1.4.1)\n",
      "Requirement already satisfied: packaging in c:\\users\\gm220808\\.venv\\practice1\\lib\\site-packages (from JPype1>=0.7.0->konlpy) (21.3)\n",
      "Requirement already satisfied: pyparsing!=3.0.5,>=2.0.2 in c:\\users\\gm220808\\.venv\\practice1\\lib\\site-packages (from packaging->JPype1>=0.7.0->konlpy) (3.0.9)\n"
     ]
    }
   ],
   "source": [
    "!pip install konlpy"
   ]
  },
  {
   "cell_type": "code",
   "execution_count": 5,
   "id": "666c3cd9-9418-4e9f-b789-3256dc29137c",
   "metadata": {
    "tags": []
   },
   "outputs": [
    {
     "name": "stdout",
     "output_type": "stream",
     "text": [
      "Requirement already satisfied: gensim==3.6.0 in c:\\users\\gm220808\\.venv\\practice1\\lib\\site-packages (3.6.0)\n",
      "Requirement already satisfied: scipy>=0.18.1 in c:\\users\\gm220808\\.venv\\practice1\\lib\\site-packages (from gensim==3.6.0) (1.10.0)\n",
      "Requirement already satisfied: smart-open>=1.2.1 in c:\\users\\gm220808\\.venv\\practice1\\lib\\site-packages (from gensim==3.6.0) (6.3.0)\n",
      "Requirement already satisfied: numpy>=1.11.3 in c:\\users\\gm220808\\.venv\\practice1\\lib\\site-packages (from gensim==3.6.0) (1.23.5)\n",
      "Requirement already satisfied: six>=1.5.0 in c:\\users\\gm220808\\.venv\\practice1\\lib\\site-packages (from gensim==3.6.0) (1.16.0)\n"
     ]
    }
   ],
   "source": [
    "!pip install gensim==3.6.0"
   ]
  },
  {
   "cell_type": "code",
   "execution_count": 34,
   "id": "14251da5-6c88-48e5-88e7-c430ff674b62",
   "metadata": {},
   "outputs": [
    {
     "name": "stderr",
     "output_type": "stream",
     "text": [
      "ERROR: Could not find a version that satisfies the requirement collections (from versions: none)\n",
      "ERROR: No matching distribution found for collections\n"
     ]
    }
   ],
   "source": [
    "!pip install collections"
   ]
  },
  {
   "cell_type": "code",
   "execution_count": 29,
   "id": "77c585a8-b0b6-4629-a552-ff28e053405b",
   "metadata": {},
   "outputs": [],
   "source": [
    "import pandas as pd\n",
    "import matplotlib.pyplot as plt\n",
    "from konlpy.tag import Okt"
   ]
  },
  {
   "cell_type": "code",
   "execution_count": null,
   "id": "0736b18c-c83b-44cb-bb35-72349e7eb443",
   "metadata": {},
   "outputs": [
    {
     "ename": "ImportError",
     "evalue": "cannot import name 'Mapping' from 'collections' (C:\\Users\\GM220808\\.pyenv\\pyenv-win\\versions\\3.10.7\\lib\\collections\\__init__.py)",
     "output_type": "error",
     "traceback": [
      "\u001b[1;31m---------------------------------------------------------------------------\u001b[0m",
      "\u001b[1;31mImportError\u001b[0m                               Traceback (most recent call last)",
      "Cell \u001b[1;32mIn [30], line 1\u001b[0m\n\u001b[1;32m----> 1\u001b[0m \u001b[38;5;28;01mfrom\u001b[39;00m \u001b[38;5;21;01mgensim\u001b[39;00m\u001b[38;5;21;01m.\u001b[39;00m\u001b[38;5;21;01mmodels\u001b[39;00m \u001b[38;5;28;01mimport\u001b[39;00m Word2Vec\n",
      "File \u001b[1;32m~\\.venv\\Practice1\\lib\\site-packages\\gensim\\__init__.py:5\u001b[0m\n\u001b[0;32m      1\u001b[0m \u001b[38;5;124;03m\"\"\"This package contains interfaces and functionality to compute pair-wise document similarities within a corpus\u001b[39;00m\n\u001b[0;32m      2\u001b[0m \u001b[38;5;124;03mof documents.\u001b[39;00m\n\u001b[0;32m      3\u001b[0m \u001b[38;5;124;03m\"\"\"\u001b[39;00m\n\u001b[1;32m----> 5\u001b[0m \u001b[38;5;28;01mfrom\u001b[39;00m \u001b[38;5;21;01mgensim\u001b[39;00m \u001b[38;5;28;01mimport\u001b[39;00m parsing, corpora, matutils, interfaces, models, similarities, summarization, utils  \u001b[38;5;66;03m# noqa:F401\u001b[39;00m\n\u001b[0;32m      6\u001b[0m \u001b[38;5;28;01mimport\u001b[39;00m \u001b[38;5;21;01mlogging\u001b[39;00m\n\u001b[0;32m      8\u001b[0m __version__ \u001b[38;5;241m=\u001b[39m \u001b[38;5;124m'\u001b[39m\u001b[38;5;124m3.6.0\u001b[39m\u001b[38;5;124m'\u001b[39m\n",
      "File \u001b[1;32m~\\.venv\\Practice1\\lib\\site-packages\\gensim\\corpora\\__init__.py:12\u001b[0m\n\u001b[0;32m     10\u001b[0m \u001b[38;5;28;01mfrom\u001b[39;00m \u001b[38;5;21;01m.\u001b[39;00m\u001b[38;5;21;01msvmlightcorpus\u001b[39;00m \u001b[38;5;28;01mimport\u001b[39;00m SvmLightCorpus  \u001b[38;5;66;03m# noqa:F401\u001b[39;00m\n\u001b[0;32m     11\u001b[0m \u001b[38;5;28;01mfrom\u001b[39;00m \u001b[38;5;21;01m.\u001b[39;00m\u001b[38;5;21;01mlowcorpus\u001b[39;00m \u001b[38;5;28;01mimport\u001b[39;00m LowCorpus  \u001b[38;5;66;03m# noqa:F401\u001b[39;00m\n\u001b[1;32m---> 12\u001b[0m \u001b[38;5;28;01mfrom\u001b[39;00m \u001b[38;5;21;01m.\u001b[39;00m\u001b[38;5;21;01mdictionary\u001b[39;00m \u001b[38;5;28;01mimport\u001b[39;00m Dictionary  \u001b[38;5;66;03m# noqa:F401\u001b[39;00m\n\u001b[0;32m     13\u001b[0m \u001b[38;5;28;01mfrom\u001b[39;00m \u001b[38;5;21;01m.\u001b[39;00m\u001b[38;5;21;01mhashdictionary\u001b[39;00m \u001b[38;5;28;01mimport\u001b[39;00m HashDictionary  \u001b[38;5;66;03m# noqa:F401\u001b[39;00m\n\u001b[0;32m     14\u001b[0m \u001b[38;5;28;01mfrom\u001b[39;00m \u001b[38;5;21;01m.\u001b[39;00m\u001b[38;5;21;01mwikicorpus\u001b[39;00m \u001b[38;5;28;01mimport\u001b[39;00m WikiCorpus  \u001b[38;5;66;03m# noqa:F401\u001b[39;00m\n",
      "File \u001b[1;32m~\\.venv\\Practice1\\lib\\site-packages\\gensim\\corpora\\dictionary.py:11\u001b[0m\n\u001b[0;32m      7\u001b[0m \u001b[38;5;124;03m\"\"\"This module implements the concept of a Dictionary -- a mapping between words and their integer ids.\"\"\"\u001b[39;00m\n\u001b[0;32m      9\u001b[0m \u001b[38;5;28;01mfrom\u001b[39;00m \u001b[38;5;21;01m__future__\u001b[39;00m \u001b[38;5;28;01mimport\u001b[39;00m with_statement\n\u001b[1;32m---> 11\u001b[0m \u001b[38;5;28;01mfrom\u001b[39;00m \u001b[38;5;21;01mcollections\u001b[39;00m \u001b[38;5;28;01mimport\u001b[39;00m Mapping, defaultdict\n\u001b[0;32m     12\u001b[0m \u001b[38;5;28;01mimport\u001b[39;00m \u001b[38;5;21;01msys\u001b[39;00m\n\u001b[0;32m     13\u001b[0m \u001b[38;5;28;01mimport\u001b[39;00m \u001b[38;5;21;01mlogging\u001b[39;00m\n",
      "\u001b[1;31mImportError\u001b[0m: cannot import name 'Mapping' from 'collections' (C:\\Users\\GM220808\\.pyenv\\pyenv-win\\versions\\3.10.7\\lib\\collections\\__init__.py)"
     ]
    }
   ],
   "source": [
    "from gensim.models.word2vec import Word2Vec"
   ]
  },
  {
   "cell_type": "code",
   "execution_count": 9,
   "id": "ca7abde9-927e-4cf7-bd7a-c416254dc085",
   "metadata": {},
   "outputs": [
    {
     "name": "stdout",
     "output_type": "stream",
     "text": [
      "(150000, 3)\n",
      "(50000, 3)\n"
     ]
    }
   ],
   "source": [
    "train_data = pd.read_csv('ratings_train.txt', header = 0, delimiter = '\\t')\n",
    "test_data = pd.read_csv('ratings_test.txt', header = 0, delimiter = '\\t')\n",
    "print(train_data.shape)\n",
    "print(test_data.shape)"
   ]
  },
  {
   "cell_type": "code",
   "execution_count": 10,
   "id": "95e1c295-f265-463d-84b4-70b379e96a04",
   "metadata": {},
   "outputs": [
    {
     "name": "stdout",
     "output_type": "stream",
     "text": [
      "(200000, 3)\n"
     ]
    }
   ],
   "source": [
    "data = pd.concat([train_data, test_data])\n",
    "print(data.shape)"
   ]
  },
  {
   "cell_type": "code",
   "execution_count": null,
   "id": "d33ae074-28b0-4739-900a-11ef8eff906a",
   "metadata": {},
   "outputs": [],
   "source": []
  },
  {
   "cell_type": "markdown",
   "id": "a81273d7-0753-42bd-8a7e-f1e4f0f4153f",
   "metadata": {},
   "source": [
    "### [데이터 전처리]"
   ]
  },
  {
   "cell_type": "markdown",
   "id": "ab02f283-aa5d-4394-8b5a-244b5e03cd21",
   "metadata": {},
   "source": [
    "### 1. 결측치 처리"
   ]
  },
  {
   "cell_type": "code",
   "execution_count": 11,
   "id": "13b4289c-b0de-4917-9a16-261b270d70b8",
   "metadata": {},
   "outputs": [
    {
     "data": {
      "text/plain": [
       "id          0\n",
       "document    8\n",
       "label       0\n",
       "dtype: int64"
      ]
     },
     "execution_count": 11,
     "metadata": {},
     "output_type": "execute_result"
    }
   ],
   "source": [
    "data.isnull().sum()"
   ]
  },
  {
   "cell_type": "code",
   "execution_count": 12,
   "id": "2989cb55-bdd0-4e7d-a0fa-719311f09fca",
   "metadata": {},
   "outputs": [
    {
     "data": {
      "text/html": [
       "<div>\n",
       "<style scoped>\n",
       "    .dataframe tbody tr th:only-of-type {\n",
       "        vertical-align: middle;\n",
       "    }\n",
       "\n",
       "    .dataframe tbody tr th {\n",
       "        vertical-align: top;\n",
       "    }\n",
       "\n",
       "    .dataframe thead th {\n",
       "        text-align: right;\n",
       "    }\n",
       "</style>\n",
       "<table border=\"1\" class=\"dataframe\">\n",
       "  <thead>\n",
       "    <tr style=\"text-align: right;\">\n",
       "      <th></th>\n",
       "      <th>id</th>\n",
       "      <th>document</th>\n",
       "      <th>label</th>\n",
       "    </tr>\n",
       "  </thead>\n",
       "  <tbody>\n",
       "    <tr>\n",
       "      <th>25857</th>\n",
       "      <td>2172111</td>\n",
       "      <td>NaN</td>\n",
       "      <td>1</td>\n",
       "    </tr>\n",
       "    <tr>\n",
       "      <th>55737</th>\n",
       "      <td>6369843</td>\n",
       "      <td>NaN</td>\n",
       "      <td>1</td>\n",
       "    </tr>\n",
       "    <tr>\n",
       "      <th>110014</th>\n",
       "      <td>1034280</td>\n",
       "      <td>NaN</td>\n",
       "      <td>0</td>\n",
       "    </tr>\n",
       "    <tr>\n",
       "      <th>126782</th>\n",
       "      <td>5942978</td>\n",
       "      <td>NaN</td>\n",
       "      <td>0</td>\n",
       "    </tr>\n",
       "    <tr>\n",
       "      <th>140721</th>\n",
       "      <td>1034283</td>\n",
       "      <td>NaN</td>\n",
       "      <td>0</td>\n",
       "    </tr>\n",
       "    <tr>\n",
       "      <th>5746</th>\n",
       "      <td>402110</td>\n",
       "      <td>NaN</td>\n",
       "      <td>1</td>\n",
       "    </tr>\n",
       "    <tr>\n",
       "      <th>7899</th>\n",
       "      <td>5026896</td>\n",
       "      <td>NaN</td>\n",
       "      <td>0</td>\n",
       "    </tr>\n",
       "    <tr>\n",
       "      <th>27097</th>\n",
       "      <td>511097</td>\n",
       "      <td>NaN</td>\n",
       "      <td>1</td>\n",
       "    </tr>\n",
       "  </tbody>\n",
       "</table>\n",
       "</div>"
      ],
      "text/plain": [
       "             id document  label\n",
       "25857   2172111      NaN      1\n",
       "55737   6369843      NaN      1\n",
       "110014  1034280      NaN      0\n",
       "126782  5942978      NaN      0\n",
       "140721  1034283      NaN      0\n",
       "5746     402110      NaN      1\n",
       "7899    5026896      NaN      0\n",
       "27097    511097      NaN      1"
      ]
     },
     "execution_count": 12,
     "metadata": {},
     "output_type": "execute_result"
    }
   ],
   "source": [
    "# 불린추출로 NaN값만 추출함\n",
    "\n",
    "data[data['document'].isnull()]"
   ]
  },
  {
   "cell_type": "code",
   "execution_count": 13,
   "id": "15495409-c200-4069-a436-64630357a235",
   "metadata": {},
   "outputs": [
    {
     "name": "stdout",
     "output_type": "stream",
     "text": [
      "(199992, 3)\n"
     ]
    }
   ],
   "source": [
    "data = data.dropna()\n",
    "print(data.shape)"
   ]
  },
  {
   "cell_type": "markdown",
   "id": "99fe5737-b302-48cc-82a3-8d27f310ce12",
   "metadata": {},
   "source": [
    "### 2. 이상치 처리"
   ]
  },
  {
   "cell_type": "code",
   "execution_count": 14,
   "id": "0f0b0663-bcc3-4792-abeb-d5d9442cba3b",
   "metadata": {},
   "outputs": [
    {
     "name": "stdout",
     "output_type": "stream",
     "text": [
      "0        19\n",
      "1        33\n",
      "2        17\n",
      "3        29\n",
      "4        61\n",
      "         ..\n",
      "49995    41\n",
      "49996    44\n",
      "49997    34\n",
      "49998    46\n",
      "49999    10\n",
      "Name: document, Length: 199992, dtype: int64\n",
      "0         5\n",
      "1         4\n",
      "2         1\n",
      "3         6\n",
      "4        11\n",
      "         ..\n",
      "49995     9\n",
      "49996    11\n",
      "49997     8\n",
      "49998    13\n",
      "49999     3\n",
      "Name: document, Length: 199992, dtype: int64\n"
     ]
    }
   ],
   "source": [
    "# 문장길이\n",
    "sentence_length = data['document'].apply(lambda x: len(x))\n",
    "print(sentence_length)\n",
    "\n",
    "# 띄어쓰기 개수\n",
    "spacing_count = data['document'].apply(lambda x: len(x.split()))\n",
    "print(spacing_count)"
   ]
  },
  {
   "cell_type": "code",
   "execution_count": 159,
   "id": "425031de-55f1-4daa-b8f8-1ed2e706739d",
   "metadata": {},
   "outputs": [
    {
     "data": {
      "text/plain": [
       "<AxesSubplot: ylabel='Frequency'>"
      ]
     },
     "execution_count": 159,
     "metadata": {},
     "output_type": "execute_result"
    },
    {
     "data": {
      "image/png": "[encoded data removed]",
      "text/plain": [
       "<Figure size 640x480 with 1 Axes>"
      ]
     },
     "metadata": {},
     "output_type": "display_data"
    }
   ],
   "source": [
    "sentence_length.plot.hist()"
   ]
  },
  {
   "cell_type": "code",
   "execution_count": 160,
   "id": "6ff47173-41f6-47c2-9ed6-d52e2b1c0948",
   "metadata": {},
   "outputs": [
    {
     "data": {
      "text/plain": [
       "count    199992.000000\n",
       "mean         35.233459\n",
       "std          29.561006\n",
       "min           1.000000\n",
       "25%          16.000000\n",
       "50%          27.000000\n",
       "75%          42.000000\n",
       "max         146.000000\n",
       "Name: document, dtype: float64"
      ]
     },
     "execution_count": 160,
     "metadata": {},
     "output_type": "execute_result"
    }
   ],
   "source": [
    "sentence_length.describe()"
   ]
  },
  {
   "cell_type": "code",
   "execution_count": 168,
   "id": "434a77b6-b769-4f89-836c-2cb10791230b",
   "metadata": {},
   "outputs": [
    {
     "data": {
      "text/plain": [
       "<AxesSubplot: ylabel='Frequency'>"
      ]
     },
     "execution_count": 168,
     "metadata": {},
     "output_type": "execute_result"
    },
    {
     "data": {
      "image/png": "[encoded data removed]",
      "text/plain": [
       "<Figure size 640x480 with 1 Axes>"
      ]
     },
     "metadata": {},
     "output_type": "display_data"
    }
   ],
   "source": [
    "spacing_count.plot.hist()"
   ]
  },
  {
   "cell_type": "code",
   "execution_count": 166,
   "id": "997f7d21-f354-473e-ab82-32a9df5ad916",
   "metadata": {},
   "outputs": [
    {
     "data": {
      "text/plain": [
       "count    199992.000000\n",
       "mean          7.591344\n",
       "std           6.519023\n",
       "min           1.000000\n",
       "25%           3.000000\n",
       "50%           6.000000\n",
       "75%           9.000000\n",
       "max          42.000000\n",
       "Name: document, dtype: float64"
      ]
     },
     "execution_count": 166,
     "metadata": {},
     "output_type": "execute_result"
    }
   ],
   "source": [
    "spacing_count.describe()"
   ]
  },
  {
   "cell_type": "code",
   "execution_count": 163,
   "id": "2e3d63f9-883c-419f-8961-0cc09a9f803e",
   "metadata": {},
   "outputs": [
    {
     "data": {
      "text/html": [
       "<div>\n",
       "<style scoped>\n",
       "    .dataframe tbody tr th:only-of-type {\n",
       "        vertical-align: middle;\n",
       "    }\n",
       "\n",
       "    .dataframe tbody tr th {\n",
       "        vertical-align: top;\n",
       "    }\n",
       "\n",
       "    .dataframe thead th {\n",
       "        text-align: right;\n",
       "    }\n",
       "</style>\n",
       "<table border=\"1\" class=\"dataframe\">\n",
       "  <thead>\n",
       "    <tr style=\"text-align: right;\">\n",
       "      <th></th>\n",
       "      <th>id</th>\n",
       "      <th>document</th>\n",
       "      <th>label</th>\n",
       "    </tr>\n",
       "  </thead>\n",
       "  <tbody>\n",
       "    <tr>\n",
       "      <th>28</th>\n",
       "      <td>6091784</td>\n",
       "      <td>재밋는뎅</td>\n",
       "      <td>1</td>\n",
       "    </tr>\n",
       "    <tr>\n",
       "      <th>56</th>\n",
       "      <td>1651126</td>\n",
       "      <td>최고</td>\n",
       "      <td>0</td>\n",
       "    </tr>\n",
       "    <tr>\n",
       "      <th>72</th>\n",
       "      <td>5679106</td>\n",
       "      <td>졸작</td>\n",
       "      <td>0</td>\n",
       "    </tr>\n",
       "    <tr>\n",
       "      <th>106</th>\n",
       "      <td>7747745</td>\n",
       "      <td>킬링타임</td>\n",
       "      <td>0</td>\n",
       "    </tr>\n",
       "    <tr>\n",
       "      <th>113</th>\n",
       "      <td>7115568</td>\n",
       "      <td>대박</td>\n",
       "      <td>1</td>\n",
       "    </tr>\n",
       "    <tr>\n",
       "      <th>...</th>\n",
       "      <td>...</td>\n",
       "      <td>...</td>\n",
       "      <td>...</td>\n",
       "    </tr>\n",
       "    <tr>\n",
       "      <th>49847</th>\n",
       "      <td>5766993</td>\n",
       "      <td>진리.</td>\n",
       "      <td>1</td>\n",
       "    </tr>\n",
       "    <tr>\n",
       "      <th>49886</th>\n",
       "      <td>7098738</td>\n",
       "      <td>마초남</td>\n",
       "      <td>0</td>\n",
       "    </tr>\n",
       "    <tr>\n",
       "      <th>49930</th>\n",
       "      <td>7500092</td>\n",
       "      <td>ㅠ~~ㅠ</td>\n",
       "      <td>0</td>\n",
       "    </tr>\n",
       "    <tr>\n",
       "      <th>49934</th>\n",
       "      <td>6929887</td>\n",
       "      <td>굿</td>\n",
       "      <td>1</td>\n",
       "    </tr>\n",
       "    <tr>\n",
       "      <th>49953</th>\n",
       "      <td>4421847</td>\n",
       "      <td>아이참.</td>\n",
       "      <td>0</td>\n",
       "    </tr>\n",
       "  </tbody>\n",
       "</table>\n",
       "<p>6001 rows × 3 columns</p>\n",
       "</div>"
      ],
      "text/plain": [
       "            id document  label\n",
       "28     6091784     재밋는뎅      1\n",
       "56     1651126       최고      0\n",
       "72     5679106       졸작      0\n",
       "106    7747745     킬링타임      0\n",
       "113    7115568       대박      1\n",
       "...        ...      ...    ...\n",
       "49847  5766993      진리.      1\n",
       "49886  7098738      마초남      0\n",
       "49930  7500092     ㅠ~~ㅠ      0\n",
       "49934  6929887        굿      1\n",
       "49953  4421847     아이참.      0\n",
       "\n",
       "[6001 rows x 3 columns]"
      ]
     },
     "execution_count": 163,
     "metadata": {},
     "output_type": "execute_result"
    }
   ],
   "source": [
    "data[sentence_length < 5]"
   ]
  },
  {
   "cell_type": "code",
   "execution_count": 167,
   "id": "a6e26575-4fde-4670-86b7-47af6262da40",
   "metadata": {},
   "outputs": [
    {
     "data": {
      "text/html": [
       "<div>\n",
       "<style scoped>\n",
       "    .dataframe tbody tr th:only-of-type {\n",
       "        vertical-align: middle;\n",
       "    }\n",
       "\n",
       "    .dataframe tbody tr th {\n",
       "        vertical-align: top;\n",
       "    }\n",
       "\n",
       "    .dataframe thead th {\n",
       "        text-align: right;\n",
       "    }\n",
       "</style>\n",
       "<table border=\"1\" class=\"dataframe\">\n",
       "  <thead>\n",
       "    <tr style=\"text-align: right;\">\n",
       "      <th></th>\n",
       "      <th>id</th>\n",
       "      <th>document</th>\n",
       "      <th>label</th>\n",
       "    </tr>\n",
       "  </thead>\n",
       "  <tbody>\n",
       "    <tr>\n",
       "      <th>2</th>\n",
       "      <td>10265843</td>\n",
       "      <td>너무재밓었다그래서보는것을추천한다</td>\n",
       "      <td>0</td>\n",
       "    </tr>\n",
       "    <tr>\n",
       "      <th>10</th>\n",
       "      <td>9008700</td>\n",
       "      <td>걍인피니트가짱이다.진짜짱이다♥</td>\n",
       "      <td>1</td>\n",
       "    </tr>\n",
       "    <tr>\n",
       "      <th>27</th>\n",
       "      <td>5457633</td>\n",
       "      <td>카밀라벨 발연기</td>\n",
       "      <td>0</td>\n",
       "    </tr>\n",
       "    <tr>\n",
       "      <th>28</th>\n",
       "      <td>6091784</td>\n",
       "      <td>재밋는뎅</td>\n",
       "      <td>1</td>\n",
       "    </tr>\n",
       "    <tr>\n",
       "      <th>45</th>\n",
       "      <td>7719892</td>\n",
       "      <td>평점에속지마시길시간낭비 돈낭비임</td>\n",
       "      <td>0</td>\n",
       "    </tr>\n",
       "    <tr>\n",
       "      <th>...</th>\n",
       "      <td>...</td>\n",
       "      <td>...</td>\n",
       "      <td>...</td>\n",
       "    </tr>\n",
       "    <tr>\n",
       "      <th>49976</th>\n",
       "      <td>9910608</td>\n",
       "      <td>스토리가..OOO..</td>\n",
       "      <td>0</td>\n",
       "    </tr>\n",
       "    <tr>\n",
       "      <th>49978</th>\n",
       "      <td>2306407</td>\n",
       "      <td>amazing</td>\n",
       "      <td>1</td>\n",
       "    </tr>\n",
       "    <tr>\n",
       "      <th>49987</th>\n",
       "      <td>333958</td>\n",
       "      <td>개재미있으3</td>\n",
       "      <td>1</td>\n",
       "    </tr>\n",
       "    <tr>\n",
       "      <th>49988</th>\n",
       "      <td>7955066</td>\n",
       "      <td>존래 재미없네</td>\n",
       "      <td>0</td>\n",
       "    </tr>\n",
       "    <tr>\n",
       "      <th>49991</th>\n",
       "      <td>9653062</td>\n",
       "      <td>재밌는데....?평점이왜?</td>\n",
       "      <td>1</td>\n",
       "    </tr>\n",
       "  </tbody>\n",
       "</table>\n",
       "<p>32229 rows × 3 columns</p>\n",
       "</div>"
      ],
      "text/plain": [
       "             id           document  label\n",
       "2      10265843  너무재밓었다그래서보는것을추천한다      0\n",
       "10      9008700   걍인피니트가짱이다.진짜짱이다♥      1\n",
       "27      5457633           카밀라벨 발연기      0\n",
       "28      6091784               재밋는뎅      1\n",
       "45      7719892  평점에속지마시길시간낭비 돈낭비임      0\n",
       "...         ...                ...    ...\n",
       "49976   9910608        스토리가..OOO..      0\n",
       "49978   2306407            amazing      1\n",
       "49987    333958             개재미있으3      1\n",
       "49988   7955066            존래 재미없네      0\n",
       "49991   9653062     재밌는데....?평점이왜?      1\n",
       "\n",
       "[32229 rows x 3 columns]"
      ]
     },
     "execution_count": 167,
     "metadata": {},
     "output_type": "execute_result"
    }
   ],
   "source": [
    "data[spacing_count <= 2]"
   ]
  },
  {
   "cell_type": "code",
   "execution_count": null,
   "id": "cc3e40b2-774e-4a40-ae09-cfd3b4fa8d7e",
   "metadata": {},
   "outputs": [],
   "source": [
    "# data = data[sentence_length > 10]"
   ]
  },
  {
   "cell_type": "code",
   "execution_count": 15,
   "id": "6e036872-5ede-4bdf-b6d8-1eff48216089",
   "metadata": {},
   "outputs": [],
   "source": [
    "data = data[sentence_length > 10]"
   ]
  },
  {
   "cell_type": "code",
   "execution_count": 16,
   "id": "724c25f1-e422-4993-a778-e4a79c54f8ab",
   "metadata": {},
   "outputs": [],
   "source": [
    "# 정규 표현식을 활용. 한글, 띄어쓰기만 남기기\n",
    "# data['document']\n",
    "import re\n",
    "\n",
    "data['document'] = data['document'].apply(lambda text: re.sub('[^ㄱ-ㅎㅏ-ㅣ가-힣]', '', text))"
   ]
  },
  {
   "cell_type": "markdown",
   "id": "479c45b9-30cf-4a7b-b4a5-dd7036c3fcea",
   "metadata": {},
   "source": [
    "### 3. 불용어 제거"
   ]
  },
  {
   "cell_type": "code",
   "execution_count": 19,
   "id": "0cf6f7fb-4d8c-40a3-bbd9-2f37bf3e1b1d",
   "metadata": {
    "tags": []
   },
   "outputs": [
    {
     "name": "stderr",
     "output_type": "stream",
     "text": [
      "  1%|▍                                                                          | 908/178979 [00:28<1:34:43, 31.33it/s]\n"
     ]
    },
    {
     "ename": "KeyboardInterrupt",
     "evalue": "",
     "output_type": "error",
     "traceback": [
      "\u001b[1;31m---------------------------------------------------------------------------\u001b[0m",
      "\u001b[1;31mKeyboardInterrupt\u001b[0m                         Traceback (most recent call last)",
      "Cell \u001b[1;32mIn [19], line 12\u001b[0m\n\u001b[0;32m     10\u001b[0m tokenized_data \u001b[38;5;241m=\u001b[39m []\n\u001b[0;32m     11\u001b[0m \u001b[38;5;28;01mfor\u001b[39;00m sentence \u001b[38;5;129;01min\u001b[39;00m tqdm(data[\u001b[38;5;124m'\u001b[39m\u001b[38;5;124mdocument\u001b[39m\u001b[38;5;124m'\u001b[39m]):\n\u001b[1;32m---> 12\u001b[0m     tokenized_sentence \u001b[38;5;241m=\u001b[39m \u001b[43mokt\u001b[49m\u001b[38;5;241;43m.\u001b[39;49m\u001b[43mmorphs\u001b[49m\u001b[43m(\u001b[49m\u001b[43msentence\u001b[49m\u001b[43m,\u001b[49m\u001b[43m \u001b[49m\u001b[43mstem\u001b[49m\u001b[38;5;241;43m=\u001b[39;49m\u001b[38;5;28;43;01mTrue\u001b[39;49;00m\u001b[43m)\u001b[49m\n\u001b[0;32m     13\u001b[0m     stopwords_removed_sentences \u001b[38;5;241m=\u001b[39m [token \u001b[38;5;28;01mfor\u001b[39;00m token \u001b[38;5;129;01min\u001b[39;00m tokenized_sentence \u001b[38;5;28;01mif\u001b[39;00m \u001b[38;5;129;01mnot\u001b[39;00m token \u001b[38;5;129;01min\u001b[39;00m stopwords]\n\u001b[0;32m     14\u001b[0m     tokenized_data\u001b[38;5;241m.\u001b[39mappend(stopwords_removed_sentences)\n",
      "File \u001b[1;32m~\\.venv\\Practice1\\lib\\site-packages\\konlpy\\tag\\_okt.py:89\u001b[0m, in \u001b[0;36mOkt.morphs\u001b[1;34m(self, phrase, norm, stem)\u001b[0m\n\u001b[0;32m     86\u001b[0m \u001b[38;5;28;01mdef\u001b[39;00m \u001b[38;5;21mmorphs\u001b[39m(\u001b[38;5;28mself\u001b[39m, phrase, norm\u001b[38;5;241m=\u001b[39m\u001b[38;5;28;01mFalse\u001b[39;00m, stem\u001b[38;5;241m=\u001b[39m\u001b[38;5;28;01mFalse\u001b[39;00m):\n\u001b[0;32m     87\u001b[0m     \u001b[38;5;124;03m\"\"\"Parse phrase to morphemes.\"\"\"\u001b[39;00m\n\u001b[1;32m---> 89\u001b[0m     \u001b[38;5;28;01mreturn\u001b[39;00m [s \u001b[38;5;28;01mfor\u001b[39;00m s, t \u001b[38;5;129;01min\u001b[39;00m \u001b[38;5;28;43mself\u001b[39;49m\u001b[38;5;241;43m.\u001b[39;49m\u001b[43mpos\u001b[49m\u001b[43m(\u001b[49m\u001b[43mphrase\u001b[49m\u001b[43m,\u001b[49m\u001b[43m \u001b[49m\u001b[43mnorm\u001b[49m\u001b[38;5;241;43m=\u001b[39;49m\u001b[43mnorm\u001b[49m\u001b[43m,\u001b[49m\u001b[43m \u001b[49m\u001b[43mstem\u001b[49m\u001b[38;5;241;43m=\u001b[39;49m\u001b[43mstem\u001b[49m\u001b[43m)\u001b[49m]\n",
      "File \u001b[1;32m~\\.venv\\Practice1\\lib\\site-packages\\konlpy\\tag\\_okt.py:71\u001b[0m, in \u001b[0;36mOkt.pos\u001b[1;34m(self, phrase, norm, stem, join)\u001b[0m\n\u001b[0;32m     59\u001b[0m \u001b[38;5;124;03m\"\"\"POS tagger.\u001b[39;00m\n\u001b[0;32m     60\u001b[0m \u001b[38;5;124;03mIn contrast to other classes in this subpackage,\u001b[39;00m\n\u001b[0;32m     61\u001b[0m \u001b[38;5;124;03mthis POS tagger doesn't have a `flatten` option,\u001b[39;00m\n\u001b[1;32m   (...)\u001b[0m\n\u001b[0;32m     67\u001b[0m \u001b[38;5;124;03m:param join: If True, returns joined sets of morph and tag.\u001b[39;00m\n\u001b[0;32m     68\u001b[0m \u001b[38;5;124;03m\"\"\"\u001b[39;00m\n\u001b[0;32m     69\u001b[0m validate_phrase_inputs(phrase)\n\u001b[1;32m---> 71\u001b[0m tokens \u001b[38;5;241m=\u001b[39m \u001b[38;5;28;43mself\u001b[39;49m\u001b[38;5;241;43m.\u001b[39;49m\u001b[43mjki\u001b[49m\u001b[38;5;241;43m.\u001b[39;49m\u001b[43mtokenize\u001b[49m\u001b[43m(\u001b[49m\n\u001b[0;32m     72\u001b[0m \u001b[43m            \u001b[49m\u001b[43mphrase\u001b[49m\u001b[43m,\u001b[49m\n\u001b[0;32m     73\u001b[0m \u001b[43m            \u001b[49m\u001b[43mjpype\u001b[49m\u001b[38;5;241;43m.\u001b[39;49m\u001b[43mjava\u001b[49m\u001b[38;5;241;43m.\u001b[39;49m\u001b[43mlang\u001b[49m\u001b[38;5;241;43m.\u001b[39;49m\u001b[43mBoolean\u001b[49m\u001b[43m(\u001b[49m\u001b[43mnorm\u001b[49m\u001b[43m)\u001b[49m\u001b[43m,\u001b[49m\n\u001b[0;32m     74\u001b[0m \u001b[43m            \u001b[49m\u001b[43mjpype\u001b[49m\u001b[38;5;241;43m.\u001b[39;49m\u001b[43mjava\u001b[49m\u001b[38;5;241;43m.\u001b[39;49m\u001b[43mlang\u001b[49m\u001b[38;5;241;43m.\u001b[39;49m\u001b[43mBoolean\u001b[49m\u001b[43m(\u001b[49m\u001b[43mstem\u001b[49m\u001b[43m)\u001b[49m\u001b[43m)\u001b[49m\u001b[38;5;241m.\u001b[39mtoArray()\n\u001b[0;32m     75\u001b[0m \u001b[38;5;28;01mif\u001b[39;00m join:\n\u001b[0;32m     76\u001b[0m     \u001b[38;5;28;01mreturn\u001b[39;00m [t \u001b[38;5;28;01mfor\u001b[39;00m t \u001b[38;5;129;01min\u001b[39;00m tokens]\n",
      "\u001b[1;31mKeyboardInterrupt\u001b[0m: "
     ]
    }
   ],
   "source": [
    "# data = data[sentence_length > 10]의 불용어 제거\n",
    "# 시간이 너무 오래 걸림 -> 강사님의 데이터 사용\n",
    "\n",
    "from tqdm import tqdm\n",
    "# 불용어 정의\n",
    "stopwords = ['의', '를', '와', '과', '으로', '것', '잘', '되', '주', '보', '수',\n",
    "             '좀', '이', '있', '은', '한', '아', '도', '에', '하', '는', '자',\n",
    "             '하다', '가', '들', '걍', '등']\n",
    "\n",
    "okt = Okt()\n",
    "tokenized_data = []\n",
    "for sentence in tqdm(data['document']):\n",
    "    tokenized_sentence = okt.morphs(sentence, stem=True)\n",
    "    stopwords_removed_sentences = [token for token in tokenized_sentence if not token in stopwords]\n",
    "    tokenized_data.append(stopwords_removed_sentences)"
   ]
  },
  {
   "cell_type": "code",
   "execution_count": 20,
   "id": "60c3d16f-5ffd-4175-a6bc-ce0df330e2ff",
   "metadata": {},
   "outputs": [],
   "source": [
    "# 강사의 데이터를 불러오는 경우\n",
    "\n",
    "tokenized_data = pd.read_pickle(r'tokenized_data.pkl')"
   ]
  },
  {
   "cell_type": "code",
   "execution_count": null,
   "id": "1aa0e58b-ce52-4b40-80a6-0de649e0c023",
   "metadata": {},
   "outputs": [],
   "source": []
  },
  {
   "cell_type": "markdown",
   "id": "e4d5be62-8ade-49ba-8c32-306b2d15276f",
   "metadata": {},
   "source": [
    " - vector_size : embedding 된 vector의 차원\n",
    " - window : 컨텍스트 window의 크기\n",
    " - min_count : 단어의 최소 빈도 수\n",
    " - workers : 학습을 위한 프로세스 수\n",
    " - sg : 0 (CBOW), 1 (Skip-gram)"
   ]
  },
  {
   "cell_type": "code",
   "execution_count": 24,
   "id": "250f5e34-473d-4c40-adbe-adff909a83ca",
   "metadata": {},
   "outputs": [],
   "source": [
    "from collections.abc import Mapping"
   ]
  },
  {
   "cell_type": "code",
   "execution_count": 26,
   "id": "7045ff4f-58f0-43d8-b082-5d9a6f5cad9c",
   "metadata": {},
   "outputs": [
    {
     "ename": "ImportError",
     "evalue": "cannot import name 'Mapping' from 'collections' (C:\\Users\\GM220808\\.pyenv\\pyenv-win\\versions\\3.10.7\\lib\\collections\\__init__.py)",
     "output_type": "error",
     "traceback": [
      "\u001b[1;31m---------------------------------------------------------------------------\u001b[0m",
      "\u001b[1;31mImportError\u001b[0m                               Traceback (most recent call last)",
      "Cell \u001b[1;32mIn [26], line 1\u001b[0m\n\u001b[1;32m----> 1\u001b[0m \u001b[38;5;28;01mfrom\u001b[39;00m \u001b[38;5;21;01mgensim\u001b[39;00m\u001b[38;5;21;01m.\u001b[39;00m\u001b[38;5;21;01mmodels\u001b[39;00m \u001b[38;5;28;01mimport\u001b[39;00m Word2Vec\n\u001b[0;32m      3\u001b[0m model \u001b[38;5;241m=\u001b[39m Word2Vec(sentences \u001b[38;5;241m=\u001b[39m tokenized_data, vector_size \u001b[38;5;241m=\u001b[39m \u001b[38;5;241m100\u001b[39m, window \u001b[38;5;241m=\u001b[39m \u001b[38;5;241m5\u001b[39m, min_count \u001b[38;5;241m=\u001b[39m \u001b[38;5;241m5\u001b[39m, workers \u001b[38;5;241m=\u001b[39m \u001b[38;5;241m4\u001b[39m, sg \u001b[38;5;241m=\u001b[39m \u001b[38;5;241m0\u001b[39m)\n",
      "File \u001b[1;32m~\\.venv\\Practice1\\lib\\site-packages\\gensim\\__init__.py:5\u001b[0m\n\u001b[0;32m      1\u001b[0m \u001b[38;5;124;03m\"\"\"This package contains interfaces and functionality to compute pair-wise document similarities within a corpus\u001b[39;00m\n\u001b[0;32m      2\u001b[0m \u001b[38;5;124;03mof documents.\u001b[39;00m\n\u001b[0;32m      3\u001b[0m \u001b[38;5;124;03m\"\"\"\u001b[39;00m\n\u001b[1;32m----> 5\u001b[0m \u001b[38;5;28;01mfrom\u001b[39;00m \u001b[38;5;21;01mgensim\u001b[39;00m \u001b[38;5;28;01mimport\u001b[39;00m parsing, corpora, matutils, interfaces, models, similarities, summarization, utils  \u001b[38;5;66;03m# noqa:F401\u001b[39;00m\n\u001b[0;32m      6\u001b[0m \u001b[38;5;28;01mimport\u001b[39;00m \u001b[38;5;21;01mlogging\u001b[39;00m\n\u001b[0;32m      8\u001b[0m __version__ \u001b[38;5;241m=\u001b[39m \u001b[38;5;124m'\u001b[39m\u001b[38;5;124m3.6.0\u001b[39m\u001b[38;5;124m'\u001b[39m\n",
      "File \u001b[1;32m~\\.venv\\Practice1\\lib\\site-packages\\gensim\\corpora\\__init__.py:12\u001b[0m\n\u001b[0;32m     10\u001b[0m \u001b[38;5;28;01mfrom\u001b[39;00m \u001b[38;5;21;01m.\u001b[39;00m\u001b[38;5;21;01msvmlightcorpus\u001b[39;00m \u001b[38;5;28;01mimport\u001b[39;00m SvmLightCorpus  \u001b[38;5;66;03m# noqa:F401\u001b[39;00m\n\u001b[0;32m     11\u001b[0m \u001b[38;5;28;01mfrom\u001b[39;00m \u001b[38;5;21;01m.\u001b[39;00m\u001b[38;5;21;01mlowcorpus\u001b[39;00m \u001b[38;5;28;01mimport\u001b[39;00m LowCorpus  \u001b[38;5;66;03m# noqa:F401\u001b[39;00m\n\u001b[1;32m---> 12\u001b[0m \u001b[38;5;28;01mfrom\u001b[39;00m \u001b[38;5;21;01m.\u001b[39;00m\u001b[38;5;21;01mdictionary\u001b[39;00m \u001b[38;5;28;01mimport\u001b[39;00m Dictionary  \u001b[38;5;66;03m# noqa:F401\u001b[39;00m\n\u001b[0;32m     13\u001b[0m \u001b[38;5;28;01mfrom\u001b[39;00m \u001b[38;5;21;01m.\u001b[39;00m\u001b[38;5;21;01mhashdictionary\u001b[39;00m \u001b[38;5;28;01mimport\u001b[39;00m HashDictionary  \u001b[38;5;66;03m# noqa:F401\u001b[39;00m\n\u001b[0;32m     14\u001b[0m \u001b[38;5;28;01mfrom\u001b[39;00m \u001b[38;5;21;01m.\u001b[39;00m\u001b[38;5;21;01mwikicorpus\u001b[39;00m \u001b[38;5;28;01mimport\u001b[39;00m WikiCorpus  \u001b[38;5;66;03m# noqa:F401\u001b[39;00m\n",
      "File \u001b[1;32m~\\.venv\\Practice1\\lib\\site-packages\\gensim\\corpora\\dictionary.py:11\u001b[0m\n\u001b[0;32m      7\u001b[0m \u001b[38;5;124;03m\"\"\"This module implements the concept of a Dictionary -- a mapping between words and their integer ids.\"\"\"\u001b[39;00m\n\u001b[0;32m      9\u001b[0m \u001b[38;5;28;01mfrom\u001b[39;00m \u001b[38;5;21;01m__future__\u001b[39;00m \u001b[38;5;28;01mimport\u001b[39;00m with_statement\n\u001b[1;32m---> 11\u001b[0m \u001b[38;5;28;01mfrom\u001b[39;00m \u001b[38;5;21;01mcollections\u001b[39;00m \u001b[38;5;28;01mimport\u001b[39;00m Mapping, defaultdict\n\u001b[0;32m     12\u001b[0m \u001b[38;5;28;01mimport\u001b[39;00m \u001b[38;5;21;01msys\u001b[39;00m\n\u001b[0;32m     13\u001b[0m \u001b[38;5;28;01mimport\u001b[39;00m \u001b[38;5;21;01mlogging\u001b[39;00m\n",
      "\u001b[1;31mImportError\u001b[0m: cannot import name 'Mapping' from 'collections' (C:\\Users\\GM220808\\.pyenv\\pyenv-win\\versions\\3.10.7\\lib\\collections\\__init__.py)"
     ]
    }
   ],
   "source": [
    "from gensim.models import Word2Vec\n",
    "\n",
    "model = Word2Vec(sentences = tokenized_data, vector_size = 100, window = 5, min_count = 5, workers = 4, sg = 0)"
   ]
  },
  {
   "cell_type": "code",
   "execution_count": 203,
   "id": "34bf20d3-4f6e-46bc-94bf-e8e84d81cf5b",
   "metadata": {},
   "outputs": [],
   "source": [
    "# model을 파일로 저장\n",
    "\n",
    "model.wv.save_word2vec_format('Word2Vec')"
   ]
  },
  {
   "cell_type": "code",
   "execution_count": 205,
   "id": "db4e0d4a-2af7-4142-9996-e4496bc6e553",
   "metadata": {},
   "outputs": [],
   "source": [
    "# model을 불러오기\n",
    "\n",
    "from gensim.models import KeyedVectors\n",
    "\n",
    "loaded_model = KeyedVectors.load_word2vec_format('Word2Vec')"
   ]
  },
  {
   "cell_type": "code",
   "execution_count": 216,
   "id": "6a283fee-75a7-48a2-984e-616d797de935",
   "metadata": {},
   "outputs": [
    {
     "name": "stdout",
     "output_type": "stream",
     "text": [
      "[('부자연스럽다', 0.7457402944564819), ('톤', 0.7452403903007507), ('어색하다', 0.7442217469215393), ('사투리', 0.6822318434715271), ('분장', 0.6784934997558594), ('맛깔', 0.6758624911308289), ('거슬리다', 0.6625229120254517), ('어색', 0.6621428728103638), ('부자연', 0.660416841506958), ('능청', 0.6573935747146606)]\n"
     ]
    }
   ],
   "source": [
    "# 만든 벡터에서 가장 비슷한 벡터들을 출력\n",
    "\n",
    "print(model.wv.most_similar('오버'))"
   ]
  },
  {
   "cell_type": "code",
   "execution_count": 217,
   "id": "50320b15-37ab-4584-bead-91dfd5b1d8d9",
   "metadata": {},
   "outputs": [
    {
     "name": "stdout",
     "output_type": "stream",
     "text": [
      "[('아파트', 0.8677533268928528), ('탄광', 0.863466203212738), ('라붐', 0.8595958948135376), ('캠프', 0.846001386642456), ('바위', 0.8454543948173523), ('마크로스', 0.8375017642974854), ('민주', 0.8364499807357788), ('센터', 0.8360611796379089), ('낙태', 0.83320552110672), ('복판', 0.8329184651374817)]\n"
     ]
    }
   ],
   "source": [
    "print(model.wv.most_similar('교도소'))"
   ]
  },
  {
   "cell_type": "code",
   "execution_count": 218,
   "id": "e6749a15-d0b5-4082-b3c5-6a9d934663a1",
   "metadata": {},
   "outputs": [
    {
     "name": "stdout",
     "output_type": "stream",
     "text": [
      "[('스케일', 0.6625667810440063), ('볼거리', 0.6532844305038452), ('코믹', 0.6433947682380676), ('화끈하다', 0.6336246132850647), ('이연걸', 0.6323103904724121), ('액션씬', 0.6315518021583557), ('화려하다', 0.6257326602935791), ('호러', 0.609745979309082), ('무술', 0.6026308536529541), ('격투', 0.5990397930145264)]\n"
     ]
    }
   ],
   "source": [
    "print(model.wv.most_similar('액션'))"
   ]
  },
  {
   "cell_type": "code",
   "execution_count": 219,
   "id": "27746260-ac2a-44b7-b969-ce44f3b2e5b8",
   "metadata": {},
   "outputs": [
    {
     "name": "stdout",
     "output_type": "stream",
     "text": [
      "[('민족', 0.8788803219795227), ('노동자', 0.8711350560188293), ('평화', 0.8667857050895691), ('노예', 0.8647013902664185), ('억압', 0.8614408373832703), ('민주화', 0.8609285950660706), ('시민', 0.8597679138183594), ('인권', 0.8579242825508118), ('주민', 0.8567419052124023), ('가해자', 0.8558523654937744)]\n"
     ]
    }
   ],
   "source": [
    "print(model.wv.most_similar('민주주의'))"
   ]
  },
  {
   "cell_type": "code",
   "execution_count": null,
   "id": "354ea517-c9f7-4a7b-b421-644962fb6758",
   "metadata": {},
   "outputs": [],
   "source": []
  },
  {
   "cell_type": "markdown",
   "id": "eb5700f9-91d2-4cca-ba2e-c38b8c2407b9",
   "metadata": {},
   "source": [
    "### 4. 시각화"
   ]
  },
  {
   "cell_type": "code",
   "execution_count": 1,
   "id": "a9794fab-2eae-47ba-936f-24b1d5011008",
   "metadata": {},
   "outputs": [
    {
     "name": "stdout",
     "output_type": "stream",
     "text": [
      "^C\n"
     ]
    }
   ],
   "source": [
    "!pip uninstall gensim"
   ]
  },
  {
   "cell_type": "code",
   "execution_count": 234,
   "id": "4ad0bef8-a8b5-48ff-bad5-379cc33649a4",
   "metadata": {
    "tags": []
   },
   "outputs": [
    {
     "name": "stdout",
     "output_type": "stream",
     "text": [
      "Requirement already satisfied: gensim==3.6.0 in c:\\users\\gm220808\\.venv\\practice1\\lib\\site-packages (3.6.0)\n",
      "Requirement already satisfied: six>=1.5.0 in c:\\users\\gm220808\\.venv\\practice1\\lib\\site-packages (from gensim==3.6.0) (1.16.0)\n",
      "Requirement already satisfied: scipy>=0.18.1 in c:\\users\\gm220808\\.venv\\practice1\\lib\\site-packages (from gensim==3.6.0) (1.10.0)\n",
      "Requirement already satisfied: numpy>=1.11.3 in c:\\users\\gm220808\\.venv\\practice1\\lib\\site-packages (from gensim==3.6.0) (1.23.5)\n",
      "Requirement already satisfied: smart-open>=1.2.1 in c:\\users\\gm220808\\.venv\\practice1\\lib\\site-packages (from gensim==3.6.0) (6.3.0)\n"
     ]
    }
   ],
   "source": [
    "!pip install gensim==3.6.0"
   ]
  },
  {
   "cell_type": "code",
   "execution_count": 235,
   "id": "306a9bad-cea3-4366-9866-994281cc4c82",
   "metadata": {},
   "outputs": [
    {
     "ename": "AttributeError",
     "evalue": "The vocab attribute was removed from KeyedVector in Gensim 4.0.0.\nUse KeyedVector's .key_to_index dict, .index_to_key list, and methods .get_vecattr(key, attr) and .set_vecattr(key, attr, new_val) instead.\nSee https://github.com/RaRe-Technologies/gensim/wiki/Migrating-from-Gensim-3.x-to-4",
     "output_type": "error",
     "traceback": [
      "\u001b[1;31m---------------------------------------------------------------------------\u001b[0m",
      "\u001b[1;31mAttributeError\u001b[0m                            Traceback (most recent call last)",
      "Cell \u001b[1;32mIn [235], line 1\u001b[0m\n\u001b[1;32m----> 1\u001b[0m model[\u001b[43mmodel\u001b[49m\u001b[38;5;241;43m.\u001b[39;49m\u001b[43mwv\u001b[49m\u001b[38;5;241;43m.\u001b[39;49m\u001b[43mvocab\u001b[49m]\u001b[38;5;241m.\u001b[39mshape\n",
      "File \u001b[1;32m~\\.venv\\Practice1\\lib\\site-packages\\gensim\\models\\keyedvectors.py:734\u001b[0m, in \u001b[0;36mKeyedVectors.vocab\u001b[1;34m(self)\u001b[0m\n\u001b[0;32m    732\u001b[0m \u001b[38;5;129m@property\u001b[39m\n\u001b[0;32m    733\u001b[0m \u001b[38;5;28;01mdef\u001b[39;00m \u001b[38;5;21mvocab\u001b[39m(\u001b[38;5;28mself\u001b[39m):\n\u001b[1;32m--> 734\u001b[0m     \u001b[38;5;28;01mraise\u001b[39;00m \u001b[38;5;167;01mAttributeError\u001b[39;00m(\n\u001b[0;32m    735\u001b[0m         \u001b[38;5;124m\"\u001b[39m\u001b[38;5;124mThe vocab attribute was removed from KeyedVector in Gensim 4.0.0.\u001b[39m\u001b[38;5;130;01m\\n\u001b[39;00m\u001b[38;5;124m\"\u001b[39m\n\u001b[0;32m    736\u001b[0m         \u001b[38;5;124m\"\u001b[39m\u001b[38;5;124mUse KeyedVector\u001b[39m\u001b[38;5;124m'\u001b[39m\u001b[38;5;124ms .key_to_index dict, .index_to_key list, and methods \u001b[39m\u001b[38;5;124m\"\u001b[39m\n\u001b[0;32m    737\u001b[0m         \u001b[38;5;124m\"\u001b[39m\u001b[38;5;124m.get_vecattr(key, attr) and .set_vecattr(key, attr, new_val) instead.\u001b[39m\u001b[38;5;130;01m\\n\u001b[39;00m\u001b[38;5;124m\"\u001b[39m\n\u001b[0;32m    738\u001b[0m         \u001b[38;5;124m\"\u001b[39m\u001b[38;5;124mSee https://github.com/RaRe-Technologies/gensim/wiki/Migrating-from-Gensim-3.x-to-4\u001b[39m\u001b[38;5;124m\"\u001b[39m\n\u001b[0;32m    739\u001b[0m     )\n",
      "\u001b[1;31mAttributeError\u001b[0m: The vocab attribute was removed from KeyedVector in Gensim 4.0.0.\nUse KeyedVector's .key_to_index dict, .index_to_key list, and methods .get_vecattr(key, attr) and .set_vecattr(key, attr, new_val) instead.\nSee https://github.com/RaRe-Technologies/gensim/wiki/Migrating-from-Gensim-3.x-to-4"
     ]
    }
   ],
   "source": [
    "model[model.wv.vocab].shape"
   ]
  },
  {
   "cell_type": "code",
   "execution_count": 229,
   "id": "6a9ce29b-030c-4582-9668-ad8ab1a70c82",
   "metadata": {},
   "outputs": [
    {
     "ename": "TypeError",
     "evalue": "'dict' object is not callable",
     "output_type": "error",
     "traceback": [
      "\u001b[1;31m---------------------------------------------------------------------------\u001b[0m",
      "\u001b[1;31mTypeError\u001b[0m                                 Traceback (most recent call last)",
      "Cell \u001b[1;32mIn [229], line 3\u001b[0m\n\u001b[0;32m      1\u001b[0m \u001b[38;5;28;01mfrom\u001b[39;00m \u001b[38;5;21;01msklearn\u001b[39;00m\u001b[38;5;21;01m.\u001b[39;00m\u001b[38;5;21;01mmanifold\u001b[39;00m \u001b[38;5;28;01mimport\u001b[39;00m TSNE\n\u001b[1;32m----> 3\u001b[0m vocab \u001b[38;5;241m=\u001b[39m \u001b[38;5;28mlist\u001b[39m(\u001b[43mmodel\u001b[49m\u001b[38;5;241;43m.\u001b[39;49m\u001b[43mwv\u001b[49m\u001b[38;5;241;43m.\u001b[39;49m\u001b[43mkey_to_index\u001b[49m\u001b[43m(\u001b[49m\u001b[43m)\u001b[49m)\n\u001b[0;32m      4\u001b[0m X \u001b[38;5;241m=\u001b[39m model[vocab]\n\u001b[0;32m      5\u001b[0m USED_VECTOR_COUNT \u001b[38;5;241m=\u001b[39m \u001b[38;5;241m200\u001b[39m\n",
      "\u001b[1;31mTypeError\u001b[0m: 'dict' object is not callable"
     ]
    }
   ],
   "source": [
    "from sklearn.manifold import TSNE\n",
    "\n",
    "vocab = list(model.wv.vocab)\n",
    "X = model[vocab]\n",
    "USED_VECTOR_COUNT = 200\n",
    "\n",
    "tsne = TSNE(n_components = 2)\n",
    "x_tsne = tsne.fit_transform(X[:200, :])       # 200개만 선택해서 차원축소"
   ]
  },
  {
   "cell_type": "code",
   "execution_count": null,
   "id": "ffc47ab7-cacc-4366-8ca0-90bb0ddf6459",
   "metadata": {},
   "outputs": [],
   "source": [
    "df = pd.DataFrame(X_tsne, index = vocab[:USED_VECTOR_COUNT], columns = ['x', 'y'])\n",
    "df.head()"
   ]
  },
  {
   "cell_type": "code",
   "execution_count": null,
   "id": "dc543141-b042-434b-b94c-05d0091f6125",
   "metadata": {},
   "outputs": [],
   "source": [
    "import plotly.express as px\n",
    "fig = px.scatter(df, x='x', y='y', text = df.index)\n",
    "fig.update_traces(textposition='top center')\n",
    "fig.show()"
   ]
  },
  {
   "cell_type": "code",
   "execution_count": null,
   "id": "4413cb70-f813-4c55-9f7f-23ff5176ea50",
   "metadata": {},
   "outputs": [],
   "source": [
    "!python -m gensim.scripts.word2vec2tensor --input Word2Vec --output Word2vecTSV"
   ]
  },
  {
   "cell_type": "code",
   "execution_count": null,
   "id": "2bcc8dd1-4594-4709-b19f-1dbfbc292f5c",
   "metadata": {},
   "outputs": [],
   "source": [
    "# https://projector.tensorflow.org/"
   ]
  },
  {
   "cell_type": "code",
   "execution_count": 236,
   "id": "a4a0f203-1599-4025-8c35-0602308d1532",
   "metadata": {},
   "outputs": [],
   "source": [
    "import pickle\n",
    " \n",
    "with open('labels.pkl', 'wb') as f: # label\n",
    "    pickle.dump(data['label'].values, f) \n",
    "with open('tokenized_data.pkl', 'wb') as f: # 토큰화가 완료된 리스트\n",
    "    pickle.dump(tokenized_data, f) "
   ]
  },
  {
   "cell_type": "code",
   "execution_count": null,
   "id": "42de5538-afe1-4b1d-9373-b9118e44f060",
   "metadata": {},
   "outputs": [],
   "source": []
  },
  {
   "cell_type": "markdown",
   "id": "c5c50a75-f0ca-4a12-b087-5f92bcc40268",
   "metadata": {},
   "source": [
    "## used word2vec modeling"
   ]
  },
  {
   "cell_type": "markdown",
   "id": "3ccb85c4-948b-4167-8f92-5aa547400e26",
   "metadata": {},
   "source": [
    "### word2vec을 활용한 리뷰 감정 예측 모델"
   ]
  },
  {
   "cell_type": "code",
   "execution_count": 253,
   "id": "3dd09ce6-8152-4dd1-a643-cdffa371bf1f",
   "metadata": {},
   "outputs": [],
   "source": [
    "import pandas as pd\n",
    "from gensim.models import KeyedVectors\n",
    "\n",
    "# 전처리가 완료된 데이터\n",
    "tokenized_data = pd.read_pickle(r'tokenized_data.pkl')\n",
    "label_data = pd.read_pickle(r'labels.pkl')\n",
    "loaded_model = KeyedVectors.load_word2vec_format('Word2Vec')"
   ]
  },
  {
   "cell_type": "code",
   "execution_count": null,
   "id": "6ab31514-aa05-4f2e-ae4c-beac457b73ff",
   "metadata": {},
   "outputs": [],
   "source": [
    "# (1) 하나의 차원으로 통일하는 방법 -> 평균\n",
    "# (2) padding을 활용."
   ]
  },
  {
   "cell_type": "code",
   "execution_count": 254,
   "id": "6c3337f8-32e4-4b29-b1e1-c64f7fc5b3ac",
   "metadata": {},
   "outputs": [
    {
     "data": {
      "text/plain": [
       "(100,)"
      ]
     },
     "execution_count": 254,
     "metadata": {},
     "output_type": "execute_result"
    }
   ],
   "source": [
    "# sentence는 여러 개의 word로 되어 있기 때문에 하나의 sentence vector를 word vector들의 평균으로 지정함\n",
    "\n",
    "loaded_model[tokenized_data[0]].mean(axis=0).shape"
   ]
  },
  {
   "cell_type": "code",
   "execution_count": 262,
   "id": "78304e34-f9b8-4b40-a07e-a260ece5779b",
   "metadata": {},
   "outputs": [
    {
     "data": {
      "text/plain": [
       "(178979,)"
      ]
     },
     "execution_count": 262,
     "metadata": {},
     "output_type": "execute_result"
    }
   ],
   "source": [
    "label_data.shape"
   ]
  },
  {
   "cell_type": "code",
   "execution_count": 244,
   "id": "f5e46450-e46f-41f3-8a3c-4a60df4186ad",
   "metadata": {},
   "outputs": [
    {
     "data": {
      "text/plain": [
       "(100,)"
      ]
     },
     "execution_count": 244,
     "metadata": {},
     "output_type": "execute_result"
    }
   ],
   "source": [
    "import numpy as np\n",
    "np.zeros(100).shape"
   ]
  },
  {
   "cell_type": "code",
   "execution_count": 260,
   "id": "a5761c14-d644-427b-9305-f56cb9c249d7",
   "metadata": {},
   "outputs": [
    {
     "name": "stderr",
     "output_type": "stream",
     "text": [
      "100%|███████████████████████████████████████████████████████████████████████| 199992/199992 [00:06<00:00, 32281.04it/s]\n"
     ]
    }
   ],
   "source": [
    "from tqdm import tqdm\n",
    "import numpy as np\n",
    "\n",
    "data_vectors = []\n",
    "embedding_size = 100\n",
    "for tokened_sentence in tqdm(tokenized_data):\n",
    "    try:\n",
    "        seneten_vector = loaded_model[tokened_sentence].mean(axis = 0)\n",
    "        data_vectors.append(seneten_vector)\n",
    "    except:\n",
    "        zeros_vector = np.zeros(embedding_size)\n",
    "        data_vectors.append(zeros_vector)"
   ]
  },
  {
   "cell_type": "code",
   "execution_count": 256,
   "id": "7512a07e-3325-43e9-b575-1e2604814a3e",
   "metadata": {},
   "outputs": [],
   "source": [
    "vector_data = np.array(data_vectors)"
   ]
  },
  {
   "cell_type": "code",
   "execution_count": 257,
   "id": "e31d87d2-9357-4938-ae7a-21db3465e4cf",
   "metadata": {},
   "outputs": [
    {
     "data": {
      "text/plain": [
       "(199992, 100)"
      ]
     },
     "execution_count": 257,
     "metadata": {},
     "output_type": "execute_result"
    }
   ],
   "source": [
    "vector_data.shape"
   ]
  },
  {
   "cell_type": "code",
   "execution_count": 261,
   "id": "c0b28998-fd69-4fd0-84e0-cd7a905b27e4",
   "metadata": {},
   "outputs": [
    {
     "ename": "ValueError",
     "evalue": "Found input variables with inconsistent numbers of samples: [199992, 178979]",
     "output_type": "error",
     "traceback": [
      "\u001b[1;31m---------------------------------------------------------------------------\u001b[0m",
      "\u001b[1;31mValueError\u001b[0m                                Traceback (most recent call last)",
      "Cell \u001b[1;32mIn [261], line 3\u001b[0m\n\u001b[0;32m      1\u001b[0m \u001b[38;5;28;01mfrom\u001b[39;00m \u001b[38;5;21;01msklearn\u001b[39;00m\u001b[38;5;21;01m.\u001b[39;00m\u001b[38;5;21;01mmodel_selection\u001b[39;00m \u001b[38;5;28;01mimport\u001b[39;00m train_test_split\n\u001b[1;32m----> 3\u001b[0m X_train, X_test, y_train, y_test \u001b[38;5;241m=\u001b[39m \u001b[43mtrain_test_split\u001b[49m\u001b[43m(\u001b[49m\u001b[43mvector_data\u001b[49m\u001b[43m,\u001b[49m\u001b[43m \u001b[49m\u001b[43mlabel_data\u001b[49m\u001b[43m,\u001b[49m\u001b[43m \u001b[49m\u001b[43mtest_size\u001b[49m\u001b[43m \u001b[49m\u001b[38;5;241;43m=\u001b[39;49m\u001b[43m \u001b[49m\u001b[38;5;241;43m0.25\u001b[39;49m\u001b[43m)\u001b[49m\n\u001b[0;32m      4\u001b[0m \u001b[38;5;28mprint\u001b[39m(X_train\u001b[38;5;241m.\u001b[39mshape)\n\u001b[0;32m      5\u001b[0m \u001b[38;5;28mprint\u001b[39m(X_test\u001b[38;5;241m.\u001b[39mshape)\n",
      "File \u001b[1;32m~\\.venv\\Practice1\\lib\\site-packages\\sklearn\\model_selection\\_split.py:2559\u001b[0m, in \u001b[0;36mtrain_test_split\u001b[1;34m(test_size, train_size, random_state, shuffle, stratify, *arrays)\u001b[0m\n\u001b[0;32m   2556\u001b[0m \u001b[38;5;28;01mif\u001b[39;00m n_arrays \u001b[38;5;241m==\u001b[39m \u001b[38;5;241m0\u001b[39m:\n\u001b[0;32m   2557\u001b[0m     \u001b[38;5;28;01mraise\u001b[39;00m \u001b[38;5;167;01mValueError\u001b[39;00m(\u001b[38;5;124m\"\u001b[39m\u001b[38;5;124mAt least one array required as input\u001b[39m\u001b[38;5;124m\"\u001b[39m)\n\u001b[1;32m-> 2559\u001b[0m arrays \u001b[38;5;241m=\u001b[39m \u001b[43mindexable\u001b[49m\u001b[43m(\u001b[49m\u001b[38;5;241;43m*\u001b[39;49m\u001b[43marrays\u001b[49m\u001b[43m)\u001b[49m\n\u001b[0;32m   2561\u001b[0m n_samples \u001b[38;5;241m=\u001b[39m _num_samples(arrays[\u001b[38;5;241m0\u001b[39m])\n\u001b[0;32m   2562\u001b[0m n_train, n_test \u001b[38;5;241m=\u001b[39m _validate_shuffle_split(\n\u001b[0;32m   2563\u001b[0m     n_samples, test_size, train_size, default_test_size\u001b[38;5;241m=\u001b[39m\u001b[38;5;241m0.25\u001b[39m\n\u001b[0;32m   2564\u001b[0m )\n",
      "File \u001b[1;32m~\\.venv\\Practice1\\lib\\site-packages\\sklearn\\utils\\validation.py:443\u001b[0m, in \u001b[0;36mindexable\u001b[1;34m(*iterables)\u001b[0m\n\u001b[0;32m    424\u001b[0m \u001b[38;5;124;03m\"\"\"Make arrays indexable for cross-validation.\u001b[39;00m\n\u001b[0;32m    425\u001b[0m \n\u001b[0;32m    426\u001b[0m \u001b[38;5;124;03mChecks consistent length, passes through None, and ensures that everything\u001b[39;00m\n\u001b[1;32m   (...)\u001b[0m\n\u001b[0;32m    439\u001b[0m \u001b[38;5;124;03m    sparse matrix, or dataframe) or `None`.\u001b[39;00m\n\u001b[0;32m    440\u001b[0m \u001b[38;5;124;03m\"\"\"\u001b[39;00m\n\u001b[0;32m    442\u001b[0m result \u001b[38;5;241m=\u001b[39m [_make_indexable(X) \u001b[38;5;28;01mfor\u001b[39;00m X \u001b[38;5;129;01min\u001b[39;00m iterables]\n\u001b[1;32m--> 443\u001b[0m \u001b[43mcheck_consistent_length\u001b[49m\u001b[43m(\u001b[49m\u001b[38;5;241;43m*\u001b[39;49m\u001b[43mresult\u001b[49m\u001b[43m)\u001b[49m\n\u001b[0;32m    444\u001b[0m \u001b[38;5;28;01mreturn\u001b[39;00m result\n",
      "File \u001b[1;32m~\\.venv\\Practice1\\lib\\site-packages\\sklearn\\utils\\validation.py:397\u001b[0m, in \u001b[0;36mcheck_consistent_length\u001b[1;34m(*arrays)\u001b[0m\n\u001b[0;32m    395\u001b[0m uniques \u001b[38;5;241m=\u001b[39m np\u001b[38;5;241m.\u001b[39munique(lengths)\n\u001b[0;32m    396\u001b[0m \u001b[38;5;28;01mif\u001b[39;00m \u001b[38;5;28mlen\u001b[39m(uniques) \u001b[38;5;241m>\u001b[39m \u001b[38;5;241m1\u001b[39m:\n\u001b[1;32m--> 397\u001b[0m     \u001b[38;5;28;01mraise\u001b[39;00m \u001b[38;5;167;01mValueError\u001b[39;00m(\n\u001b[0;32m    398\u001b[0m         \u001b[38;5;124m\"\u001b[39m\u001b[38;5;124mFound input variables with inconsistent numbers of samples: \u001b[39m\u001b[38;5;132;01m%r\u001b[39;00m\u001b[38;5;124m\"\u001b[39m\n\u001b[0;32m    399\u001b[0m         \u001b[38;5;241m%\u001b[39m [\u001b[38;5;28mint\u001b[39m(l) \u001b[38;5;28;01mfor\u001b[39;00m l \u001b[38;5;129;01min\u001b[39;00m lengths]\n\u001b[0;32m    400\u001b[0m     )\n",
      "\u001b[1;31mValueError\u001b[0m: Found input variables with inconsistent numbers of samples: [199992, 178979]"
     ]
    }
   ],
   "source": [
    "from sklearn.model_selection import train_test_split\n",
    "\n",
    "X_train, X_test, y_train, y_test = train_test_split(vector_data, label_data, test_size = 0.25)\n",
    "print(X_train.shape)\n",
    "print(X_test.shape)\n",
    "print(y_train.shape)\n",
    "print(y_test.shape)"
   ]
  },
  {
   "cell_type": "code",
   "execution_count": null,
   "id": "0dff39a2-76e9-43f1-939f-fc35ff8bfb39",
   "metadata": {},
   "outputs": [],
   "source": [
    "from sklearn.linear_model import LogisticRegression    # 분류모델\n",
    "lr_model = LogisticRegression()\n",
    "lr_model.fit(X_train, y_train)"
   ]
  },
  {
   "cell_type": "code",
   "execution_count": null,
   "id": "3bf4e841-5f7c-44ca-af40-f44de2c31f23",
   "metadata": {},
   "outputs": [],
   "source": [
    "lr_model.score(X_train, y_train)"
   ]
  },
  {
   "cell_type": "code",
   "execution_count": null,
   "id": "170bd165-540c-4f21-857d-76060c01e651",
   "metadata": {},
   "outputs": [],
   "source": [
    "lr_model.score(X_test, y_test)"
   ]
  }
 ],
 "metadata": {
  "kernelspec": {
   "display_name": "Python 3 (ipykernel)",
   "language": "python",
   "name": "python3"
  },
  "language_info": {
   "codemirror_mode": {
    "name": "ipython",
    "version": 3
   },
   "file_extension": ".py",
   "mimetype": "text/x-python",
   "name": "python",
   "nbconvert_exporter": "python",
   "pygments_lexer": "ipython3",
   "version": "3.10.7"
  }
 },
 "nbformat": 4,
 "nbformat_minor": 5
}
