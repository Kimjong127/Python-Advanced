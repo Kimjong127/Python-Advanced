{
 "cells": [
  {
   "cell_type": "markdown",
   "id": "8504728d-fcfa-45c9-9d1c-514cdfd197e6",
   "metadata": {},
   "source": [
    "# 2023-03-06"
   ]
  },
  {
   "cell_type": "markdown",
   "id": "dd74f668-c40b-4312-a0ea-cd59127a5842",
   "metadata": {},
   "source": [
    "# 자연어데이터의 표현"
   ]
  },
  {
   "cell_type": "code",
   "execution_count": null,
   "id": "f7601fa2-716d-4ccf-8879-015c58f087a9",
   "metadata": {},
   "outputs": [],
   "source": []
  },
  {
   "cell_type": "markdown",
   "id": "4a08ae93-a095-4a05-9c27-ad66e7d1b063",
   "metadata": {},
   "source": [
    "## One-Hot Vector"
   ]
  },
  {
   "cell_type": "code",
   "execution_count": 2,
   "id": "795b9053-191c-44ad-b297-671448288936",
   "metadata": {},
   "outputs": [],
   "source": [
    "from sklearn.preprocessing import LabelEncoder\n",
    "from sklearn.preprocessing import OneHotEncoder"
   ]
  },
  {
   "cell_type": "code",
   "execution_count": 3,
   "id": "573dad13-30d2-471b-8f12-24cb86029948",
   "metadata": {},
   "outputs": [],
   "source": [
    "data = ['Kim', 'Lee', 'Choi', 'Park', 'Nam']"
   ]
  },
  {
   "cell_type": "code",
   "execution_count": 4,
   "id": "973dd3a6-0391-464a-bead-587ed81f1f9c",
   "metadata": {},
   "outputs": [
    {
     "data": {
      "text/plain": [
       "array([1, 2, 0, 4, 3], dtype=int64)"
      ]
     },
     "execution_count": 4,
     "metadata": {},
     "output_type": "execute_result"
    }
   ],
   "source": [
    "label_encoder = LabelEncoder()\n",
    "integers = label_encoder.fit_transform(data)\n",
    "integers"
   ]
  },
  {
   "cell_type": "code",
   "execution_count": 5,
   "id": "cad1febb-aa02-499f-bd36-d097f62b8dae",
   "metadata": {},
   "outputs": [
    {
     "data": {
      "text/plain": [
       "(5, 1)"
      ]
     },
     "execution_count": 5,
     "metadata": {},
     "output_type": "execute_result"
    }
   ],
   "source": [
    "onehot_encoder = OneHotEncoder(sparse = False)\n",
    "integers_array = integers.reshape(len(integers), 1)\n",
    "integers_array.shape"
   ]
  },
  {
   "cell_type": "code",
   "execution_count": 6,
   "id": "538a43f1-d3b0-4b4c-8fd8-001716e2ede8",
   "metadata": {},
   "outputs": [
    {
     "name": "stderr",
     "output_type": "stream",
     "text": [
      "C:\\Users\\GM220808\\.venv\\Practice1\\lib\\site-packages\\sklearn\\preprocessing\\_encoders.py:828: FutureWarning: `sparse` was renamed to `sparse_output` in version 1.2 and will be removed in 1.4. `sparse_output` is ignored unless you leave `sparse` to its default value.\n",
      "  warnings.warn(\n"
     ]
    },
    {
     "data": {
      "text/plain": [
       "array([[0., 1., 0., 0., 0.],\n",
       "       [0., 0., 1., 0., 0.],\n",
       "       [1., 0., 0., 0., 0.],\n",
       "       [0., 0., 0., 0., 1.],\n",
       "       [0., 0., 0., 1., 0.]])"
      ]
     },
     "execution_count": 6,
     "metadata": {},
     "output_type": "execute_result"
    }
   ],
   "source": [
    "onehot_data = onehot_encoder.fit_transform(integers_array)\n",
    "onehot_data"
   ]
  },
  {
   "cell_type": "code",
   "execution_count": 10,
   "id": "6f2b3546-6ded-4311-88a7-cd79cf6a698a",
   "metadata": {},
   "outputs": [
    {
     "data": {
      "text/plain": [
       "array([1, 2, 0, 4, 3], dtype=int64)"
      ]
     },
     "execution_count": 10,
     "metadata": {},
     "output_type": "execute_result"
    }
   ],
   "source": [
    "onehot_data.argmax(axis=1)"
   ]
  },
  {
   "cell_type": "code",
   "execution_count": 11,
   "id": "731dbea8-c956-47d8-bc25-2bc1e0b2ad59",
   "metadata": {},
   "outputs": [],
   "source": [
    "sample_data = onehot_data[0]"
   ]
  },
  {
   "cell_type": "code",
   "execution_count": 13,
   "id": "64ab7bad-c769-49d4-ad20-b4326c277abb",
   "metadata": {},
   "outputs": [
    {
     "data": {
      "text/plain": [
       "array(['Kim'], dtype='<U4')"
      ]
     },
     "execution_count": 13,
     "metadata": {},
     "output_type": "execute_result"
    }
   ],
   "source": [
    "# inverse\n",
    "\n",
    "import numpy as np\n",
    "\n",
    "label_encoder.inverse_transform([np.argmax(sample_data)])"
   ]
  },
  {
   "cell_type": "code",
   "execution_count": null,
   "id": "6c2ac482-e044-45a9-b8d7-bad9242a26bd",
   "metadata": {},
   "outputs": [],
   "source": []
  },
  {
   "cell_type": "markdown",
   "id": "84d8f1d2-3808-44ad-8796-c473a9f8d09a",
   "metadata": {},
   "source": [
    "## Count기반"
   ]
  },
  {
   "cell_type": "code",
   "execution_count": 16,
   "id": "9385e3a5-a493-406d-87ca-260946c47cfc",
   "metadata": {},
   "outputs": [
    {
     "data": {
      "text/plain": [
       "array([[1, 1, 1, 1, 1, 1, 1, 1, 1, 1, 1, 1, 1, 3, 1, 1, 1, 1, 1]],\n",
       "      dtype=int64)"
      ]
     },
     "execution_count": 16,
     "metadata": {},
     "output_type": "execute_result"
    }
   ],
   "source": [
    "from sklearn.feature_extraction.text import CountVectorizer\n",
    "\n",
    "corpus = ['''이봐 사람이 언제 죽는다고 생각하나?\n",
    "심장이 총알에 뚫렸을 때? 아니야\n",
    "불치의 병에 걸렸을 때? 아니야\n",
    "맹독 버섯 스프를 마셨을 때? 아니야\n",
    "사람들에게서 잊혀질 때다!''']\n",
    "vector = CountVectorizer()\n",
    "\n",
    "vector.fit_transform(corpus).toarray()"
   ]
  },
  {
   "cell_type": "code",
   "execution_count": 18,
   "id": "63ef86b4-2cd8-43bc-aca5-93965b313e68",
   "metadata": {},
   "outputs": [
    {
     "data": {
      "text/plain": [
       "{'이봐': 15,\n",
       " '사람이': 9,\n",
       " '언제': 14,\n",
       " '죽는다고': 17,\n",
       " '생각하나': 10,\n",
       " '심장이': 12,\n",
       " '총알에': 18,\n",
       " '뚫렸을': 2,\n",
       " '아니야': 13,\n",
       " '불치의': 7,\n",
       " '병에': 6,\n",
       " '걸렸을': 0,\n",
       " '맹독': 4,\n",
       " '버섯': 5,\n",
       " '스프를': 11,\n",
       " '마셨을': 3,\n",
       " '사람들에게서': 8,\n",
       " '잊혀질': 16,\n",
       " '때다': 1}"
      ]
     },
     "execution_count": 18,
     "metadata": {},
     "output_type": "execute_result"
    }
   ],
   "source": [
    "vector.vocabulary_"
   ]
  },
  {
   "cell_type": "code",
   "execution_count": 19,
   "id": "e70ae7a4-93fa-471f-938c-e7a48566869a",
   "metadata": {},
   "outputs": [
    {
     "data": {
      "text/plain": [
       "array([[0.19245009, 0.19245009, 0.19245009, 0.19245009, 0.19245009,\n",
       "        0.19245009, 0.19245009, 0.19245009, 0.19245009, 0.19245009,\n",
       "        0.19245009, 0.19245009, 0.19245009, 0.57735027, 0.19245009,\n",
       "        0.19245009, 0.19245009, 0.19245009, 0.19245009]])"
      ]
     },
     "execution_count": 19,
     "metadata": {},
     "output_type": "execute_result"
    }
   ],
   "source": [
    "# 가중치를 가지는 벡터 형태\n",
    "\n",
    "from sklearn.feature_extraction.text import TfidfVectorizer\n",
    "\n",
    "tfidf_vector = TfidfVectorizer().fit(corpus)\n",
    "tfidf_vector.transform(corpus).toarray()"
   ]
  },
  {
   "cell_type": "code",
   "execution_count": 20,
   "id": "43a20cd4-e3d2-4a6a-9b69-17325d7956f3",
   "metadata": {},
   "outputs": [
    {
     "data": {
      "text/plain": [
       "{'이봐': 15,\n",
       " '사람이': 9,\n",
       " '언제': 14,\n",
       " '죽는다고': 17,\n",
       " '생각하나': 10,\n",
       " '심장이': 12,\n",
       " '총알에': 18,\n",
       " '뚫렸을': 2,\n",
       " '아니야': 13,\n",
       " '불치의': 7,\n",
       " '병에': 6,\n",
       " '걸렸을': 0,\n",
       " '맹독': 4,\n",
       " '버섯': 5,\n",
       " '스프를': 11,\n",
       " '마셨을': 3,\n",
       " '사람들에게서': 8,\n",
       " '잊혀질': 16,\n",
       " '때다': 1}"
      ]
     },
     "execution_count": 20,
     "metadata": {},
     "output_type": "execute_result"
    }
   ],
   "source": [
    "tfidf_vector.vocabulary_"
   ]
  },
  {
   "cell_type": "code",
   "execution_count": null,
   "id": "00be81ac-5cde-459f-9c64-65ec7cf98047",
   "metadata": {},
   "outputs": [],
   "source": []
  },
  {
   "cell_type": "code",
   "execution_count": null,
   "id": "55eaad86-cea8-47d0-a3ff-630d5c4055ba",
   "metadata": {},
   "outputs": [],
   "source": []
  },
  {
   "cell_type": "markdown",
   "id": "4fadd6c9-057d-483c-a28d-61b07c2f4998",
   "metadata": {},
   "source": [
    "## Similarity(유사도)"
   ]
  },
  {
   "cell_type": "markdown",
   "id": "02a3d8d0-c0a2-4322-901c-56906a86c529",
   "metadata": {},
   "source": [
    "### Cosine Similarity"
   ]
  },
  {
   "cell_type": "code",
   "execution_count": 21,
   "id": "b4dbf027-e197-45ee-abf5-7e129b276e97",
   "metadata": {},
   "outputs": [],
   "source": [
    "import numpy as np\n",
    "from sklearn.metrics.pairwise import cosine_similarity"
   ]
  },
  {
   "cell_type": "code",
   "execution_count": 28,
   "id": "e0fb4fb9-03d6-4e02-841b-dabdd60a4ca3",
   "metadata": {},
   "outputs": [],
   "source": [
    "x = np.array([1, 2, 3]).reshape(1, -1)\n",
    "y = np.array([4, 5, 6]).reshape(1, -1)\n",
    "z = np.array([-10, -20, -30]).reshape(1, -1)"
   ]
  },
  {
   "cell_type": "code",
   "execution_count": 29,
   "id": "c800d396-4c6a-437e-8342-94366bcc2bff",
   "metadata": {},
   "outputs": [
    {
     "data": {
      "text/plain": [
       "array([[0.97463185]])"
      ]
     },
     "execution_count": 29,
     "metadata": {},
     "output_type": "execute_result"
    }
   ],
   "source": [
    "cosine_similarity(x, y)    # 각도가 같을수록 두 데이터가 비슷하다고 판단"
   ]
  },
  {
   "cell_type": "code",
   "execution_count": 30,
   "id": "a3e162bc-8b9b-4b25-ab18-0ba59d6180b6",
   "metadata": {},
   "outputs": [
    {
     "data": {
      "text/plain": [
       "array([[-0.97463185]])"
      ]
     },
     "execution_count": 30,
     "metadata": {},
     "output_type": "execute_result"
    }
   ],
   "source": [
    "cosine_similarity(y, z)"
   ]
  },
  {
   "cell_type": "code",
   "execution_count": 31,
   "id": "26d1f3a3-b8de-430c-bbb8-053596b644de",
   "metadata": {},
   "outputs": [
    {
     "data": {
      "text/plain": [
       "array([[-1.]])"
      ]
     },
     "execution_count": 31,
     "metadata": {},
     "output_type": "execute_result"
    }
   ],
   "source": [
    "cosine_similarity(x, z)"
   ]
  },
  {
   "cell_type": "code",
   "execution_count": null,
   "id": "6c8337d1-0f59-4efd-9da3-cdf9b2cb5dc7",
   "metadata": {},
   "outputs": [],
   "source": []
  },
  {
   "cell_type": "markdown",
   "id": "a81d1cb2-8389-4fbd-a983-1cc05090f5b6",
   "metadata": {},
   "source": [
    "### Jaccard Similarity"
   ]
  },
  {
   "cell_type": "code",
   "execution_count": 32,
   "id": "425af707-b5ae-44d4-b463-65cb2a0a2249",
   "metadata": {},
   "outputs": [
    {
     "name": "stdout",
     "output_type": "stream",
     "text": [
      "{'jin', 'choi'}\n",
      "{'jin', 'woong', 'yeong', 'choi'}\n"
     ]
    }
   ],
   "source": [
    "# 집합 자료형\n",
    "\n",
    "set1 = {'choi', 'jin', 'yeong'}\n",
    "set2 = {'choi', 'jin', 'woong'}\n",
    "\n",
    "intersection = set1.intersection(set2)      # set1&set2\n",
    "print(intersection)\n",
    "\n",
    "union = set1.union(set2)                    # set1|set2\n",
    "print(union)"
   ]
  },
  {
   "cell_type": "code",
   "execution_count": 33,
   "id": "89166b22-f82b-4d53-aa49-563ba4cce784",
   "metadata": {},
   "outputs": [
    {
     "name": "stdout",
     "output_type": "stream",
     "text": [
      "0.5\n"
     ]
    }
   ],
   "source": [
    "jaccard_sim = len(intersection)/len(union)\n",
    "print(jaccard_sim)"
   ]
  },
  {
   "cell_type": "code",
   "execution_count": 34,
   "id": "b2d87e9c-9969-4c35-9716-4d776d30e316",
   "metadata": {},
   "outputs": [
    {
     "data": {
      "text/plain": [
       "0.6666666666666666"
      ]
     },
     "execution_count": 34,
     "metadata": {},
     "output_type": "execute_result"
    }
   ],
   "source": [
    "# 사이킷런 사용\n",
    "\n",
    "from sklearn.metrics import jaccard_score\n",
    "\n",
    "vec1 = [1, 1, 1, 0, 0]\n",
    "vec2 = [1, 0, 1, 0, 0]\n",
    "jaccard_score(vec1, vec2)"
   ]
  },
  {
   "cell_type": "code",
   "execution_count": null,
   "id": "6730290f-d6f3-4f98-b9f4-0c4c3a9e7a58",
   "metadata": {},
   "outputs": [],
   "source": []
  },
  {
   "cell_type": "markdown",
   "id": "6d459769-6962-4794-9a3c-5c52034e598f",
   "metadata": {},
   "source": [
    "## 줄거리 활용 추천시스템"
   ]
  },
  {
   "cell_type": "code",
   "execution_count": 1,
   "id": "7b67776f-8282-4240-9df3-de27c5df01fe",
   "metadata": {
    "collapsed": true,
    "jupyter": {
     "outputs_hidden": true
    },
    "tags": []
   },
   "outputs": [
    {
     "name": "stderr",
     "output_type": "stream",
     "text": [
      "C:\\Users\\GM220808\\AppData\\Local\\Temp\\ipykernel_3380\\1006018930.py:5: DtypeWarning: Columns (10) have mixed types. Specify dtype option on import or set low_memory=False.\n",
      "  movies = pd.read_csv('movies_metadata.csv')\n"
     ]
    },
    {
     "data": {
      "text/html": [
       "<div>\n",
       "<style scoped>\n",
       "    .dataframe tbody tr th:only-of-type {\n",
       "        vertical-align: middle;\n",
       "    }\n",
       "\n",
       "    .dataframe tbody tr th {\n",
       "        vertical-align: top;\n",
       "    }\n",
       "\n",
       "    .dataframe thead th {\n",
       "        text-align: right;\n",
       "    }\n",
       "</style>\n",
       "<table border=\"1\" class=\"dataframe\">\n",
       "  <thead>\n",
       "    <tr style=\"text-align: right;\">\n",
       "      <th></th>\n",
       "      <th>adult</th>\n",
       "      <th>belongs_to_collection</th>\n",
       "      <th>budget</th>\n",
       "      <th>genres</th>\n",
       "      <th>homepage</th>\n",
       "      <th>id</th>\n",
       "      <th>imdb_id</th>\n",
       "      <th>original_language</th>\n",
       "      <th>original_title</th>\n",
       "      <th>overview</th>\n",
       "      <th>...</th>\n",
       "      <th>release_date</th>\n",
       "      <th>revenue</th>\n",
       "      <th>runtime</th>\n",
       "      <th>spoken_languages</th>\n",
       "      <th>status</th>\n",
       "      <th>tagline</th>\n",
       "      <th>title</th>\n",
       "      <th>video</th>\n",
       "      <th>vote_average</th>\n",
       "      <th>vote_count</th>\n",
       "    </tr>\n",
       "  </thead>\n",
       "  <tbody>\n",
       "    <tr>\n",
       "      <th>0</th>\n",
       "      <td>False</td>\n",
       "      <td>{'id': 10194, 'name': 'Toy Story Collection', ...</td>\n",
       "      <td>30000000</td>\n",
       "      <td>[{'id': 16, 'name': 'Animation'}, {'id': 35, '...</td>\n",
       "      <td>http://toystory.disney.com/toy-story</td>\n",
       "      <td>862</td>\n",
       "      <td>tt0114709</td>\n",
       "      <td>en</td>\n",
       "      <td>Toy Story</td>\n",
       "      <td>Led by Woody, Andy's toys live happily in his ...</td>\n",
       "      <td>...</td>\n",
       "      <td>1995-10-30</td>\n",
       "      <td>373554033.0</td>\n",
       "      <td>81.0</td>\n",
       "      <td>[{'iso_639_1': 'en', 'name': 'English'}]</td>\n",
       "      <td>Released</td>\n",
       "      <td>NaN</td>\n",
       "      <td>Toy Story</td>\n",
       "      <td>False</td>\n",
       "      <td>7.7</td>\n",
       "      <td>5415.0</td>\n",
       "    </tr>\n",
       "    <tr>\n",
       "      <th>1</th>\n",
       "      <td>False</td>\n",
       "      <td>NaN</td>\n",
       "      <td>65000000</td>\n",
       "      <td>[{'id': 12, 'name': 'Adventure'}, {'id': 14, '...</td>\n",
       "      <td>NaN</td>\n",
       "      <td>8844</td>\n",
       "      <td>tt0113497</td>\n",
       "      <td>en</td>\n",
       "      <td>Jumanji</td>\n",
       "      <td>When siblings Judy and Peter discover an encha...</td>\n",
       "      <td>...</td>\n",
       "      <td>1995-12-15</td>\n",
       "      <td>262797249.0</td>\n",
       "      <td>104.0</td>\n",
       "      <td>[{'iso_639_1': 'en', 'name': 'English'}, {'iso...</td>\n",
       "      <td>Released</td>\n",
       "      <td>Roll the dice and unleash the excitement!</td>\n",
       "      <td>Jumanji</td>\n",
       "      <td>False</td>\n",
       "      <td>6.9</td>\n",
       "      <td>2413.0</td>\n",
       "    </tr>\n",
       "    <tr>\n",
       "      <th>2</th>\n",
       "      <td>False</td>\n",
       "      <td>{'id': 119050, 'name': 'Grumpy Old Men Collect...</td>\n",
       "      <td>0</td>\n",
       "      <td>[{'id': 10749, 'name': 'Romance'}, {'id': 35, ...</td>\n",
       "      <td>NaN</td>\n",
       "      <td>15602</td>\n",
       "      <td>tt0113228</td>\n",
       "      <td>en</td>\n",
       "      <td>Grumpier Old Men</td>\n",
       "      <td>A family wedding reignites the ancient feud be...</td>\n",
       "      <td>...</td>\n",
       "      <td>1995-12-22</td>\n",
       "      <td>0.0</td>\n",
       "      <td>101.0</td>\n",
       "      <td>[{'iso_639_1': 'en', 'name': 'English'}]</td>\n",
       "      <td>Released</td>\n",
       "      <td>Still Yelling. Still Fighting. Still Ready for...</td>\n",
       "      <td>Grumpier Old Men</td>\n",
       "      <td>False</td>\n",
       "      <td>6.5</td>\n",
       "      <td>92.0</td>\n",
       "    </tr>\n",
       "    <tr>\n",
       "      <th>3</th>\n",
       "      <td>False</td>\n",
       "      <td>NaN</td>\n",
       "      <td>16000000</td>\n",
       "      <td>[{'id': 35, 'name': 'Comedy'}, {'id': 18, 'nam...</td>\n",
       "      <td>NaN</td>\n",
       "      <td>31357</td>\n",
       "      <td>tt0114885</td>\n",
       "      <td>en</td>\n",
       "      <td>Waiting to Exhale</td>\n",
       "      <td>Cheated on, mistreated and stepped on, the wom...</td>\n",
       "      <td>...</td>\n",
       "      <td>1995-12-22</td>\n",
       "      <td>81452156.0</td>\n",
       "      <td>127.0</td>\n",
       "      <td>[{'iso_639_1': 'en', 'name': 'English'}]</td>\n",
       "      <td>Released</td>\n",
       "      <td>Friends are the people who let you be yourself...</td>\n",
       "      <td>Waiting to Exhale</td>\n",
       "      <td>False</td>\n",
       "      <td>6.1</td>\n",
       "      <td>34.0</td>\n",
       "    </tr>\n",
       "    <tr>\n",
       "      <th>4</th>\n",
       "      <td>False</td>\n",
       "      <td>{'id': 96871, 'name': 'Father of the Bride Col...</td>\n",
       "      <td>0</td>\n",
       "      <td>[{'id': 35, 'name': 'Comedy'}]</td>\n",
       "      <td>NaN</td>\n",
       "      <td>11862</td>\n",
       "      <td>tt0113041</td>\n",
       "      <td>en</td>\n",
       "      <td>Father of the Bride Part II</td>\n",
       "      <td>Just when George Banks has recovered from his ...</td>\n",
       "      <td>...</td>\n",
       "      <td>1995-02-10</td>\n",
       "      <td>76578911.0</td>\n",
       "      <td>106.0</td>\n",
       "      <td>[{'iso_639_1': 'en', 'name': 'English'}]</td>\n",
       "      <td>Released</td>\n",
       "      <td>Just When His World Is Back To Normal... He's ...</td>\n",
       "      <td>Father of the Bride Part II</td>\n",
       "      <td>False</td>\n",
       "      <td>5.7</td>\n",
       "      <td>173.0</td>\n",
       "    </tr>\n",
       "  </tbody>\n",
       "</table>\n",
       "<p>5 rows × 24 columns</p>\n",
       "</div>"
      ],
      "text/plain": [
       "   adult                              belongs_to_collection    budget  \\\n",
       "0  False  {'id': 10194, 'name': 'Toy Story Collection', ...  30000000   \n",
       "1  False                                                NaN  65000000   \n",
       "2  False  {'id': 119050, 'name': 'Grumpy Old Men Collect...         0   \n",
       "3  False                                                NaN  16000000   \n",
       "4  False  {'id': 96871, 'name': 'Father of the Bride Col...         0   \n",
       "\n",
       "                                              genres  \\\n",
       "0  [{'id': 16, 'name': 'Animation'}, {'id': 35, '...   \n",
       "1  [{'id': 12, 'name': 'Adventure'}, {'id': 14, '...   \n",
       "2  [{'id': 10749, 'name': 'Romance'}, {'id': 35, ...   \n",
       "3  [{'id': 35, 'name': 'Comedy'}, {'id': 18, 'nam...   \n",
       "4                     [{'id': 35, 'name': 'Comedy'}]   \n",
       "\n",
       "                               homepage     id    imdb_id original_language  \\\n",
       "0  http://toystory.disney.com/toy-story    862  tt0114709                en   \n",
       "1                                   NaN   8844  tt0113497                en   \n",
       "2                                   NaN  15602  tt0113228                en   \n",
       "3                                   NaN  31357  tt0114885                en   \n",
       "4                                   NaN  11862  tt0113041                en   \n",
       "\n",
       "                original_title  \\\n",
       "0                    Toy Story   \n",
       "1                      Jumanji   \n",
       "2             Grumpier Old Men   \n",
       "3            Waiting to Exhale   \n",
       "4  Father of the Bride Part II   \n",
       "\n",
       "                                            overview  ... release_date  \\\n",
       "0  Led by Woody, Andy's toys live happily in his ...  ...   1995-10-30   \n",
       "1  When siblings Judy and Peter discover an encha...  ...   1995-12-15   \n",
       "2  A family wedding reignites the ancient feud be...  ...   1995-12-22   \n",
       "3  Cheated on, mistreated and stepped on, the wom...  ...   1995-12-22   \n",
       "4  Just when George Banks has recovered from his ...  ...   1995-02-10   \n",
       "\n",
       "       revenue runtime                                   spoken_languages  \\\n",
       "0  373554033.0    81.0           [{'iso_639_1': 'en', 'name': 'English'}]   \n",
       "1  262797249.0   104.0  [{'iso_639_1': 'en', 'name': 'English'}, {'iso...   \n",
       "2          0.0   101.0           [{'iso_639_1': 'en', 'name': 'English'}]   \n",
       "3   81452156.0   127.0           [{'iso_639_1': 'en', 'name': 'English'}]   \n",
       "4   76578911.0   106.0           [{'iso_639_1': 'en', 'name': 'English'}]   \n",
       "\n",
       "     status                                            tagline  \\\n",
       "0  Released                                                NaN   \n",
       "1  Released          Roll the dice and unleash the excitement!   \n",
       "2  Released  Still Yelling. Still Fighting. Still Ready for...   \n",
       "3  Released  Friends are the people who let you be yourself...   \n",
       "4  Released  Just When His World Is Back To Normal... He's ...   \n",
       "\n",
       "                         title  video vote_average vote_count  \n",
       "0                    Toy Story  False          7.7     5415.0  \n",
       "1                      Jumanji  False          6.9     2413.0  \n",
       "2             Grumpier Old Men  False          6.5       92.0  \n",
       "3            Waiting to Exhale  False          6.1       34.0  \n",
       "4  Father of the Bride Part II  False          5.7      173.0  \n",
       "\n",
       "[5 rows x 24 columns]"
      ]
     },
     "execution_count": 1,
     "metadata": {},
     "output_type": "execute_result"
    }
   ],
   "source": [
    "import pandas as pd\n",
    "from sklearn.metrics.pairwise import cosine_similarity\n",
    "from sklearn.feature_extraction.text import TfidfVectorizer\n",
    "\n",
    "movies = pd.read_csv('movies_metadata.csv')\n",
    "movies.head()"
   ]
  },
  {
   "cell_type": "code",
   "execution_count": 40,
   "id": "05471fb7-16cb-4bfa-988c-76fe1936bd45",
   "metadata": {},
   "outputs": [
    {
     "data": {
      "text/html": [
       "<div>\n",
       "<style scoped>\n",
       "    .dataframe tbody tr th:only-of-type {\n",
       "        vertical-align: middle;\n",
       "    }\n",
       "\n",
       "    .dataframe tbody tr th {\n",
       "        vertical-align: top;\n",
       "    }\n",
       "\n",
       "    .dataframe thead th {\n",
       "        text-align: right;\n",
       "    }\n",
       "</style>\n",
       "<table border=\"1\" class=\"dataframe\">\n",
       "  <thead>\n",
       "    <tr style=\"text-align: right;\">\n",
       "      <th></th>\n",
       "      <th>adult</th>\n",
       "      <th>belongs_to_collection</th>\n",
       "      <th>budget</th>\n",
       "      <th>genres</th>\n",
       "      <th>homepage</th>\n",
       "      <th>id</th>\n",
       "      <th>imdb_id</th>\n",
       "      <th>original_language</th>\n",
       "      <th>original_title</th>\n",
       "      <th>overview</th>\n",
       "      <th>...</th>\n",
       "      <th>release_date</th>\n",
       "      <th>revenue</th>\n",
       "      <th>runtime</th>\n",
       "      <th>spoken_languages</th>\n",
       "      <th>status</th>\n",
       "      <th>tagline</th>\n",
       "      <th>title</th>\n",
       "      <th>video</th>\n",
       "      <th>vote_average</th>\n",
       "      <th>vote_count</th>\n",
       "    </tr>\n",
       "  </thead>\n",
       "  <tbody>\n",
       "    <tr>\n",
       "      <th>0</th>\n",
       "      <td>False</td>\n",
       "      <td>{'id': 10194, 'name': 'Toy Story Collection', ...</td>\n",
       "      <td>30000000</td>\n",
       "      <td>[{'id': 16, 'name': 'Animation'}, {'id': 35, '...</td>\n",
       "      <td>http://toystory.disney.com/toy-story</td>\n",
       "      <td>862</td>\n",
       "      <td>tt0114709</td>\n",
       "      <td>en</td>\n",
       "      <td>Toy Story</td>\n",
       "      <td>Led by Woody, Andy's toys live happily in his ...</td>\n",
       "      <td>...</td>\n",
       "      <td>1995-10-30</td>\n",
       "      <td>373554033.0</td>\n",
       "      <td>81.0</td>\n",
       "      <td>[{'iso_639_1': 'en', 'name': 'English'}]</td>\n",
       "      <td>Released</td>\n",
       "      <td>NaN</td>\n",
       "      <td>Toy Story</td>\n",
       "      <td>False</td>\n",
       "      <td>7.7</td>\n",
       "      <td>5415.0</td>\n",
       "    </tr>\n",
       "    <tr>\n",
       "      <th>1</th>\n",
       "      <td>False</td>\n",
       "      <td>NaN</td>\n",
       "      <td>65000000</td>\n",
       "      <td>[{'id': 12, 'name': 'Adventure'}, {'id': 14, '...</td>\n",
       "      <td>NaN</td>\n",
       "      <td>8844</td>\n",
       "      <td>tt0113497</td>\n",
       "      <td>en</td>\n",
       "      <td>Jumanji</td>\n",
       "      <td>When siblings Judy and Peter discover an encha...</td>\n",
       "      <td>...</td>\n",
       "      <td>1995-12-15</td>\n",
       "      <td>262797249.0</td>\n",
       "      <td>104.0</td>\n",
       "      <td>[{'iso_639_1': 'en', 'name': 'English'}, {'iso...</td>\n",
       "      <td>Released</td>\n",
       "      <td>Roll the dice and unleash the excitement!</td>\n",
       "      <td>Jumanji</td>\n",
       "      <td>False</td>\n",
       "      <td>6.9</td>\n",
       "      <td>2413.0</td>\n",
       "    </tr>\n",
       "  </tbody>\n",
       "</table>\n",
       "<p>2 rows × 24 columns</p>\n",
       "</div>"
      ],
      "text/plain": [
       "   adult                              belongs_to_collection    budget  \\\n",
       "0  False  {'id': 10194, 'name': 'Toy Story Collection', ...  30000000   \n",
       "1  False                                                NaN  65000000   \n",
       "\n",
       "                                              genres  \\\n",
       "0  [{'id': 16, 'name': 'Animation'}, {'id': 35, '...   \n",
       "1  [{'id': 12, 'name': 'Adventure'}, {'id': 14, '...   \n",
       "\n",
       "                               homepage    id    imdb_id original_language  \\\n",
       "0  http://toystory.disney.com/toy-story   862  tt0114709                en   \n",
       "1                                   NaN  8844  tt0113497                en   \n",
       "\n",
       "  original_title                                           overview  ...  \\\n",
       "0      Toy Story  Led by Woody, Andy's toys live happily in his ...  ...   \n",
       "1        Jumanji  When siblings Judy and Peter discover an encha...  ...   \n",
       "\n",
       "  release_date      revenue runtime  \\\n",
       "0   1995-10-30  373554033.0    81.0   \n",
       "1   1995-12-15  262797249.0   104.0   \n",
       "\n",
       "                                    spoken_languages    status  \\\n",
       "0           [{'iso_639_1': 'en', 'name': 'English'}]  Released   \n",
       "1  [{'iso_639_1': 'en', 'name': 'English'}, {'iso...  Released   \n",
       "\n",
       "                                     tagline      title  video vote_average  \\\n",
       "0                                        NaN  Toy Story  False          7.7   \n",
       "1  Roll the dice and unleash the excitement!    Jumanji  False          6.9   \n",
       "\n",
       "  vote_count  \n",
       "0     5415.0  \n",
       "1     2413.0  \n",
       "\n",
       "[2 rows x 24 columns]"
      ]
     },
     "execution_count": 40,
     "metadata": {},
     "output_type": "execute_result"
    }
   ],
   "source": [
    "movies.head(2)"
   ]
  },
  {
   "cell_type": "code",
   "execution_count": 41,
   "id": "e92cdfe8-31fd-43b0-9eb2-7b22a8b97134",
   "metadata": {},
   "outputs": [
    {
     "data": {
      "text/plain": [
       "Index(['adult', 'belongs_to_collection', 'budget', 'genres', 'homepage', 'id',\n",
       "       'imdb_id', 'original_language', 'original_title', 'overview',\n",
       "       'popularity', 'poster_path', 'production_companies',\n",
       "       'production_countries', 'release_date', 'revenue', 'runtime',\n",
       "       'spoken_languages', 'status', 'tagline', 'title', 'video',\n",
       "       'vote_average', 'vote_count'],\n",
       "      dtype='object')"
      ]
     },
     "execution_count": 41,
     "metadata": {},
     "output_type": "execute_result"
    }
   ],
   "source": [
    "movies.columns"
   ]
  },
  {
   "cell_type": "code",
   "execution_count": 43,
   "id": "5b610635-763e-4404-8167-336457118f12",
   "metadata": {},
   "outputs": [
    {
     "data": {
      "text/plain": [
       "(45466, 24)"
      ]
     },
     "execution_count": 43,
     "metadata": {},
     "output_type": "execute_result"
    }
   ],
   "source": [
    "movies.shape"
   ]
  },
  {
   "cell_type": "code",
   "execution_count": 44,
   "id": "6a135fcd-130c-4d3b-b724-e5a58096d5cc",
   "metadata": {},
   "outputs": [],
   "source": [
    "movies = movies.head(20000)                    # 메모리 에러가 나는 경우"
   ]
  },
  {
   "cell_type": "code",
   "execution_count": 46,
   "id": "faa079d1-11fc-4b58-84fd-3f5abf0bd094",
   "metadata": {},
   "outputs": [
    {
     "data": {
      "text/plain": [
       "135"
      ]
     },
     "execution_count": 46,
     "metadata": {},
     "output_type": "execute_result"
    }
   ],
   "source": [
    "movies['overview'].isnull().sum()             # 결측치 확인"
   ]
  },
  {
   "cell_type": "code",
   "execution_count": 47,
   "id": "8ea713d3-01b4-47fa-a4ea-d2f3ae9a83ee",
   "metadata": {},
   "outputs": [],
   "source": [
    "movies = movies.dropna(subset = ['overview'])   # NaN값 제거"
   ]
  },
  {
   "cell_type": "code",
   "execution_count": 48,
   "id": "2ae7d52e-559d-460d-828b-f1f988af06de",
   "metadata": {},
   "outputs": [
    {
     "data": {
      "text/plain": [
       "0"
      ]
     },
     "execution_count": 48,
     "metadata": {},
     "output_type": "execute_result"
    }
   ],
   "source": [
    "movies['overview'].isnull().sum() "
   ]
  },
  {
   "cell_type": "code",
   "execution_count": 49,
   "id": "5a33cf0d-b18a-4084-9e7a-32d3d5f9bd04",
   "metadata": {},
   "outputs": [],
   "source": [
    "# vector화\n",
    "\n",
    "tfidf_vec = TfidfVectorizer(stop_words = 'english')          # stop_words -> 'the' 또는 조사를 없애는 \n",
    "tfidf_matrix = tfidf_vec.fit_transform(movies['overview'])"
   ]
  },
  {
   "cell_type": "code",
   "execution_count": 50,
   "id": "e00a9379-30ff-4811-bf75-e8a4019a3d7c",
   "metadata": {
    "tags": []
   },
   "outputs": [
    {
     "data": {
      "text/plain": [
       "(19865, 47487)"
      ]
     },
     "execution_count": 50,
     "metadata": {},
     "output_type": "execute_result"
    }
   ],
   "source": [
    "tfidf_matrix.shape"
   ]
  },
  {
   "cell_type": "code",
   "execution_count": 53,
   "id": "e8a44d0d-746a-4529-9267-70f960bf9c1c",
   "metadata": {},
   "outputs": [
    {
     "data": {
      "text/plain": [
       "\"Led by Woody, Andy's toys live happily in his room until Andy's birthday brings Buzz Lightyear onto the scene. Afraid of losing his place in Andy's heart, Woody plots against Buzz. But when circumstances separate Buzz and Woody from their owner, the duo eventually learns to put aside their differences.\""
      ]
     },
     "execution_count": 53,
     "metadata": {},
     "output_type": "execute_result"
    }
   ],
   "source": [
    "# vector화 전 \n",
    "\n",
    "movies['overview'][0]"
   ]
  },
  {
   "cell_type": "code",
   "execution_count": 52,
   "id": "aa11effa-6d9e-40a7-bf2e-69d4844e69ea",
   "metadata": {},
   "outputs": [
    {
     "data": {
      "text/plain": [
       "array([0., 0., 0., ..., 0., 0., 0.])"
      ]
     },
     "execution_count": 52,
     "metadata": {},
     "output_type": "execute_result"
    }
   ],
   "source": [
    "# vector화 후\n",
    "\n",
    "tfidf_matrix.toarray()[0]"
   ]
  },
  {
   "cell_type": "code",
   "execution_count": 54,
   "id": "d57433d5-69a7-4e1e-9d56-3192431eb263",
   "metadata": {},
   "outputs": [],
   "source": [
    "cosine_sim_matrix = cosine_similarity(tfidf_matrix, tfidf_matrix)"
   ]
  },
  {
   "cell_type": "code",
   "execution_count": 55,
   "id": "21629ba0-94b8-4c2c-962a-7127927644b2",
   "metadata": {},
   "outputs": [
    {
     "data": {
      "text/plain": [
       "(19865, 19865)"
      ]
     },
     "execution_count": 55,
     "metadata": {},
     "output_type": "execute_result"
    }
   ],
   "source": [
    "cosine_sim_matrix.shape"
   ]
  },
  {
   "cell_type": "code",
   "execution_count": 57,
   "id": "3b64401b-7748-40ad-b20d-cf00393f4df8",
   "metadata": {},
   "outputs": [
    {
     "name": "stdout",
     "output_type": "stream",
     "text": [
      "19865\n"
     ]
    },
    {
     "data": {
      "text/plain": [
       "array(['Toy Story', 'Jumanji', 'Grumpier Old Men', ..., 'Two in the Wave',\n",
       "       'Lotte Reiniger: Homage to the Inventor of the Silhouette Film',\n",
       "       \"RKO Production 601: The Making of 'Kong, the Eighth Wonder of the World'\"],\n",
       "      dtype=object)"
      ]
     },
     "execution_count": 57,
     "metadata": {},
     "output_type": "execute_result"
    }
   ],
   "source": [
    "# 영화 제목명과 위 cosine_sim_matrix를 데이터프레임으로 합치기 위해\n",
    "\n",
    "movies_titles = movies['original_title'].values\n",
    "print(len(movies_titles))\n",
    "movies_titles"
   ]
  },
  {
   "cell_type": "code",
   "execution_count": 58,
   "id": "1110b6b1-d4f4-424a-afda-ca787529ff02",
   "metadata": {},
   "outputs": [
    {
     "data": {
      "text/html": [
       "<div>\n",
       "<style scoped>\n",
       "    .dataframe tbody tr th:only-of-type {\n",
       "        vertical-align: middle;\n",
       "    }\n",
       "\n",
       "    .dataframe tbody tr th {\n",
       "        vertical-align: top;\n",
       "    }\n",
       "\n",
       "    .dataframe thead th {\n",
       "        text-align: right;\n",
       "    }\n",
       "</style>\n",
       "<table border=\"1\" class=\"dataframe\">\n",
       "  <thead>\n",
       "    <tr style=\"text-align: right;\">\n",
       "      <th></th>\n",
       "      <th>Toy Story</th>\n",
       "      <th>Jumanji</th>\n",
       "      <th>Grumpier Old Men</th>\n",
       "      <th>Waiting to Exhale</th>\n",
       "      <th>Father of the Bride Part II</th>\n",
       "      <th>Heat</th>\n",
       "      <th>Sabrina</th>\n",
       "      <th>Tom and Huck</th>\n",
       "      <th>Sudden Death</th>\n",
       "      <th>GoldenEye</th>\n",
       "      <th>...</th>\n",
       "      <th>Il ne faut jurer... de rien !</th>\n",
       "      <th>Calmos</th>\n",
       "      <th>How to Make Love to a Woman</th>\n",
       "      <th>After Fall, Winter</th>\n",
       "      <th>Violeta se fue a los cielos</th>\n",
       "      <th>L'Ordre et la Morale</th>\n",
       "      <th>Versailles</th>\n",
       "      <th>Two in the Wave</th>\n",
       "      <th>Lotte Reiniger: Homage to the Inventor of the Silhouette Film</th>\n",
       "      <th>RKO Production 601: The Making of 'Kong, the Eighth Wonder of the World'</th>\n",
       "    </tr>\n",
       "  </thead>\n",
       "  <tbody>\n",
       "    <tr>\n",
       "      <th>Toy Story</th>\n",
       "      <td>1.000000</td>\n",
       "      <td>0.015752</td>\n",
       "      <td>0.000000</td>\n",
       "      <td>0.0</td>\n",
       "      <td>0.000000</td>\n",
       "      <td>0.000000</td>\n",
       "      <td>0.000000</td>\n",
       "      <td>0.000000</td>\n",
       "      <td>0.000000</td>\n",
       "      <td>0.0</td>\n",
       "      <td>...</td>\n",
       "      <td>0.000000</td>\n",
       "      <td>0.009968</td>\n",
       "      <td>0.060988</td>\n",
       "      <td>0.000000</td>\n",
       "      <td>0.0</td>\n",
       "      <td>0.0</td>\n",
       "      <td>0.024569</td>\n",
       "      <td>0.0</td>\n",
       "      <td>0.0</td>\n",
       "      <td>0.0</td>\n",
       "    </tr>\n",
       "    <tr>\n",
       "      <th>Jumanji</th>\n",
       "      <td>0.015752</td>\n",
       "      <td>1.000000</td>\n",
       "      <td>0.049069</td>\n",
       "      <td>0.0</td>\n",
       "      <td>0.000000</td>\n",
       "      <td>0.051801</td>\n",
       "      <td>0.000000</td>\n",
       "      <td>0.000000</td>\n",
       "      <td>0.106296</td>\n",
       "      <td>0.0</td>\n",
       "      <td>...</td>\n",
       "      <td>0.029225</td>\n",
       "      <td>0.000000</td>\n",
       "      <td>0.000000</td>\n",
       "      <td>0.004263</td>\n",
       "      <td>0.0</td>\n",
       "      <td>0.0</td>\n",
       "      <td>0.000000</td>\n",
       "      <td>0.0</td>\n",
       "      <td>0.0</td>\n",
       "      <td>0.0</td>\n",
       "    </tr>\n",
       "    <tr>\n",
       "      <th>Grumpier Old Men</th>\n",
       "      <td>0.000000</td>\n",
       "      <td>0.049069</td>\n",
       "      <td>1.000000</td>\n",
       "      <td>0.0</td>\n",
       "      <td>0.024997</td>\n",
       "      <td>0.000000</td>\n",
       "      <td>0.000000</td>\n",
       "      <td>0.006487</td>\n",
       "      <td>0.000000</td>\n",
       "      <td>0.0</td>\n",
       "      <td>...</td>\n",
       "      <td>0.000000</td>\n",
       "      <td>0.000000</td>\n",
       "      <td>0.000000</td>\n",
       "      <td>0.000000</td>\n",
       "      <td>0.0</td>\n",
       "      <td>0.0</td>\n",
       "      <td>0.000000</td>\n",
       "      <td>0.0</td>\n",
       "      <td>0.0</td>\n",
       "      <td>0.0</td>\n",
       "    </tr>\n",
       "    <tr>\n",
       "      <th>Waiting to Exhale</th>\n",
       "      <td>0.000000</td>\n",
       "      <td>0.000000</td>\n",
       "      <td>0.000000</td>\n",
       "      <td>1.0</td>\n",
       "      <td>0.000000</td>\n",
       "      <td>0.007122</td>\n",
       "      <td>0.000000</td>\n",
       "      <td>0.009382</td>\n",
       "      <td>0.000000</td>\n",
       "      <td>0.0</td>\n",
       "      <td>...</td>\n",
       "      <td>0.008295</td>\n",
       "      <td>0.000000</td>\n",
       "      <td>0.008937</td>\n",
       "      <td>0.000000</td>\n",
       "      <td>0.0</td>\n",
       "      <td>0.0</td>\n",
       "      <td>0.000000</td>\n",
       "      <td>0.0</td>\n",
       "      <td>0.0</td>\n",
       "      <td>0.0</td>\n",
       "    </tr>\n",
       "    <tr>\n",
       "      <th>Father of the Bride Part II</th>\n",
       "      <td>0.000000</td>\n",
       "      <td>0.000000</td>\n",
       "      <td>0.024997</td>\n",
       "      <td>0.0</td>\n",
       "      <td>1.000000</td>\n",
       "      <td>0.000000</td>\n",
       "      <td>0.032964</td>\n",
       "      <td>0.000000</td>\n",
       "      <td>0.032720</td>\n",
       "      <td>0.0</td>\n",
       "      <td>...</td>\n",
       "      <td>0.009268</td>\n",
       "      <td>0.000000</td>\n",
       "      <td>0.000000</td>\n",
       "      <td>0.025405</td>\n",
       "      <td>0.0</td>\n",
       "      <td>0.0</td>\n",
       "      <td>0.078383</td>\n",
       "      <td>0.0</td>\n",
       "      <td>0.0</td>\n",
       "      <td>0.0</td>\n",
       "    </tr>\n",
       "  </tbody>\n",
       "</table>\n",
       "<p>5 rows × 19865 columns</p>\n",
       "</div>"
      ],
      "text/plain": [
       "                             Toy Story   Jumanji  Grumpier Old Men  \\\n",
       "Toy Story                     1.000000  0.015752          0.000000   \n",
       "Jumanji                       0.015752  1.000000          0.049069   \n",
       "Grumpier Old Men              0.000000  0.049069          1.000000   \n",
       "Waiting to Exhale             0.000000  0.000000          0.000000   \n",
       "Father of the Bride Part II   0.000000  0.000000          0.024997   \n",
       "\n",
       "                             Waiting to Exhale  Father of the Bride Part II  \\\n",
       "Toy Story                                  0.0                     0.000000   \n",
       "Jumanji                                    0.0                     0.000000   \n",
       "Grumpier Old Men                           0.0                     0.024997   \n",
       "Waiting to Exhale                          1.0                     0.000000   \n",
       "Father of the Bride Part II                0.0                     1.000000   \n",
       "\n",
       "                                 Heat   Sabrina  Tom and Huck  Sudden Death  \\\n",
       "Toy Story                    0.000000  0.000000      0.000000      0.000000   \n",
       "Jumanji                      0.051801  0.000000      0.000000      0.106296   \n",
       "Grumpier Old Men             0.000000  0.000000      0.006487      0.000000   \n",
       "Waiting to Exhale            0.007122  0.000000      0.009382      0.000000   \n",
       "Father of the Bride Part II  0.000000  0.032964      0.000000      0.032720   \n",
       "\n",
       "                             GoldenEye  ...  Il ne faut jurer... de rien !  \\\n",
       "Toy Story                          0.0  ...                       0.000000   \n",
       "Jumanji                            0.0  ...                       0.029225   \n",
       "Grumpier Old Men                   0.0  ...                       0.000000   \n",
       "Waiting to Exhale                  0.0  ...                       0.008295   \n",
       "Father of the Bride Part II        0.0  ...                       0.009268   \n",
       "\n",
       "                               Calmos  How to Make Love to a Woman  \\\n",
       "Toy Story                    0.009968                     0.060988   \n",
       "Jumanji                      0.000000                     0.000000   \n",
       "Grumpier Old Men             0.000000                     0.000000   \n",
       "Waiting to Exhale            0.000000                     0.008937   \n",
       "Father of the Bride Part II  0.000000                     0.000000   \n",
       "\n",
       "                             After Fall, Winter  Violeta se fue a los cielos  \\\n",
       "Toy Story                              0.000000                          0.0   \n",
       "Jumanji                                0.004263                          0.0   \n",
       "Grumpier Old Men                       0.000000                          0.0   \n",
       "Waiting to Exhale                      0.000000                          0.0   \n",
       "Father of the Bride Part II            0.025405                          0.0   \n",
       "\n",
       "                             L'Ordre et la Morale  Versailles  \\\n",
       "Toy Story                                     0.0    0.024569   \n",
       "Jumanji                                       0.0    0.000000   \n",
       "Grumpier Old Men                              0.0    0.000000   \n",
       "Waiting to Exhale                             0.0    0.000000   \n",
       "Father of the Bride Part II                   0.0    0.078383   \n",
       "\n",
       "                             Two in the Wave  \\\n",
       "Toy Story                                0.0   \n",
       "Jumanji                                  0.0   \n",
       "Grumpier Old Men                         0.0   \n",
       "Waiting to Exhale                        0.0   \n",
       "Father of the Bride Part II              0.0   \n",
       "\n",
       "                             Lotte Reiniger: Homage to the Inventor of the Silhouette Film  \\\n",
       "Toy Story                                                                  0.0               \n",
       "Jumanji                                                                    0.0               \n",
       "Grumpier Old Men                                                           0.0               \n",
       "Waiting to Exhale                                                          0.0               \n",
       "Father of the Bride Part II                                                0.0               \n",
       "\n",
       "                             RKO Production 601: The Making of 'Kong, the Eighth Wonder of the World'  \n",
       "Toy Story                                                                  0.0                         \n",
       "Jumanji                                                                    0.0                         \n",
       "Grumpier Old Men                                                           0.0                         \n",
       "Waiting to Exhale                                                          0.0                         \n",
       "Father of the Bride Part II                                                0.0                         \n",
       "\n",
       "[5 rows x 19865 columns]"
      ]
     },
     "execution_count": 58,
     "metadata": {},
     "output_type": "execute_result"
    }
   ],
   "source": [
    "cos_sim_df = pd.DataFrame(cosine_sim_matrix, columns = movies_titles, index = movies_titles)\n",
    "cos_sim_df.head()"
   ]
  },
  {
   "cell_type": "code",
   "execution_count": 68,
   "id": "19b24ec5-1b35-42dc-bf17-0bcf42f00df7",
   "metadata": {},
   "outputs": [
    {
     "data": {
      "text/plain": [
       "최종병기 활               1.000000\n",
       "National Velvet      0.161298\n",
       "파란대문                 0.148504\n",
       "Symetria             0.134635\n",
       "Delta                0.130526\n",
       "                       ...   \n",
       "A Christmas Carol    0.000000\n",
       "Electric Dreams      0.000000\n",
       "The Hit              0.000000\n",
       "The Ice Pirates      0.000000\n",
       "Trespassing          0.000000\n",
       "Name: 최종병기 활, Length: 19865, dtype: float64"
      ]
     },
     "execution_count": 68,
     "metadata": {},
     "output_type": "execute_result"
    }
   ],
   "source": [
    "cos_sim_df['최종병기 활'].sort_values(ascending=False)"
   ]
  },
  {
   "cell_type": "code",
   "execution_count": null,
   "id": "8b9f712e-944d-4056-b554-5b7aaea1999c",
   "metadata": {},
   "outputs": [],
   "source": [
    "# 김종현 바보 멍청이 똥개 해삼 말미잘~~~~~~~~"
   ]
  },
  {
   "cell_type": "code",
   "execution_count": null,
   "id": "b41afd1e-ba6a-4ef8-8e2e-051669c1b079",
   "metadata": {},
   "outputs": [],
   "source": []
  },
  {
   "cell_type": "markdown",
   "id": "f0882a50-8ed7-42ee-8b03-5c261346002b",
   "metadata": {},
   "source": [
    "## 자연어 데이터의 전처리 [Code]"
   ]
  },
  {
   "cell_type": "markdown",
   "id": "0b1dbef4-da06-45e6-b150-0c8017c82fb2",
   "metadata": {},
   "source": [
    "### tensorflow (정수인코딩 ,패딩)"
   ]
  },
  {
   "cell_type": "code",
   "execution_count": 69,
   "id": "cf4e69ea-3035-4df1-8819-cd1cd1ac9e7a",
   "metadata": {},
   "outputs": [],
   "source": [
    "import numpy as np\n",
    "from tensorflow.keras.preprocessing.text import Tokenizer\n",
    "from tensorflow.keras.preprocessing.sequence import pad_sequences"
   ]
  },
  {
   "cell_type": "code",
   "execution_count": 70,
   "id": "077cc015-2406-4d00-bbcd-0efc8141c3fa",
   "metadata": {},
   "outputs": [],
   "source": [
    "preprocessed_sentences = [['pop', 'jazz'],\n",
    "                          ['pop', 'hip hop', 'jazz'],\n",
    "                          ['pop', 'ratin', 'jazz'],\n",
    "                          ['knew', 'R&B'],\n",
    "                          ['R&B', 'classic', 'ratin', 'R&B'],\n",
    "                          ['ratin', 'R&B'],\n",
    "                          ['pop', 'classic', 'blues'],\n",
    "                          ['pop', 'classic', 'blues'],\n",
    "                          ['pop', 'classic', 'R&B'],\n",
    "                          ['rock', 'rock', 'ratin', 'R&B',\n",
    "                           'k-pop', 'pop', 'crazy'],\n",
    "                          ['pop', 'j-pop', 'ratin', 'rap']]"
   ]
  },
  {
   "cell_type": "code",
   "execution_count": 73,
   "id": "9c80e99a-0247-4e90-9528-c722d7cefe7c",
   "metadata": {},
   "outputs": [
    {
     "data": {
      "text/plain": [
       "[[1, 5],\n",
       " [1, 8, 5],\n",
       " [1, 3, 5],\n",
       " [9, 2],\n",
       " [2, 4, 3, 2],\n",
       " [3, 2],\n",
       " [1, 4, 6],\n",
       " [1, 4, 6],\n",
       " [1, 4, 2],\n",
       " [7, 7, 3, 2, 10, 1, 11],\n",
       " [1, 12, 3, 13]]"
      ]
     },
     "execution_count": 73,
     "metadata": {},
     "output_type": "execute_result"
    }
   ],
   "source": [
    "# tokenizing\n",
    "\n",
    "tokenizer = Tokenizer()\n",
    "tokenizer.fit_on_texts(preprocessed_sentences)\n",
    "encoded_text = tokenizer.texts_to_sequences(preprocessed_sentences)\n",
    "encoded_text"
   ]
  },
  {
   "cell_type": "code",
   "execution_count": 74,
   "id": "3067bb75-602c-4f75-9601-5e28ff0e5829",
   "metadata": {},
   "outputs": [
    {
     "data": {
      "text/plain": [
       "array([[ 0,  0,  0,  0,  0,  1,  5],\n",
       "       [ 0,  0,  0,  0,  1,  8,  5],\n",
       "       [ 0,  0,  0,  0,  1,  3,  5],\n",
       "       [ 0,  0,  0,  0,  0,  9,  2],\n",
       "       [ 0,  0,  0,  2,  4,  3,  2],\n",
       "       [ 0,  0,  0,  0,  0,  3,  2],\n",
       "       [ 0,  0,  0,  0,  1,  4,  6],\n",
       "       [ 0,  0,  0,  0,  1,  4,  6],\n",
       "       [ 0,  0,  0,  0,  1,  4,  2],\n",
       "       [ 7,  7,  3,  2, 10,  1, 11],\n",
       "       [ 0,  0,  0,  1, 12,  3, 13]])"
      ]
     },
     "execution_count": 74,
     "metadata": {},
     "output_type": "execute_result"
    }
   ],
   "source": [
    "# padding -> 가장 긴 길이에 맞춰 0을 채워줌 (default->앞쪽으로)\n",
    "\n",
    "encoded_text_pad = pad_sequences(encoded_text)\n",
    "encoded_text_pad"
   ]
  },
  {
   "cell_type": "code",
   "execution_count": 75,
   "id": "ed22eede-1a3d-43d6-bdb2-49960602d1bc",
   "metadata": {},
   "outputs": [
    {
     "data": {
      "text/plain": [
       "array([[ 1,  5,  0,  0,  0,  0,  0],\n",
       "       [ 1,  8,  5,  0,  0,  0,  0],\n",
       "       [ 1,  3,  5,  0,  0,  0,  0],\n",
       "       [ 9,  2,  0,  0,  0,  0,  0],\n",
       "       [ 2,  4,  3,  2,  0,  0,  0],\n",
       "       [ 3,  2,  0,  0,  0,  0,  0],\n",
       "       [ 1,  4,  6,  0,  0,  0,  0],\n",
       "       [ 1,  4,  6,  0,  0,  0,  0],\n",
       "       [ 1,  4,  2,  0,  0,  0,  0],\n",
       "       [ 7,  7,  3,  2, 10,  1, 11],\n",
       "       [ 1, 12,  3, 13,  0,  0,  0]])"
      ]
     },
     "execution_count": 75,
     "metadata": {},
     "output_type": "execute_result"
    }
   ],
   "source": [
    "encoded_text_pad = pad_sequences(encoded_text, padding = 'post')   # padding = 'post' -> 뒤쪽으로 채워줌\n",
    "encoded_text_pad"
   ]
  },
  {
   "cell_type": "code",
   "execution_count": 76,
   "id": "4c3730eb-1654-47c7-a8bf-1577ff16fbcb",
   "metadata": {},
   "outputs": [
    {
     "data": {
      "text/plain": [
       "array([[ 1,  5,  0,  0,  0],\n",
       "       [ 1,  8,  5,  0,  0],\n",
       "       [ 1,  3,  5,  0,  0],\n",
       "       [ 9,  2,  0,  0,  0],\n",
       "       [ 2,  4,  3,  2,  0],\n",
       "       [ 3,  2,  0,  0,  0],\n",
       "       [ 1,  4,  6,  0,  0],\n",
       "       [ 1,  4,  6,  0,  0],\n",
       "       [ 1,  4,  2,  0,  0],\n",
       "       [ 3,  2, 10,  1, 11],\n",
       "       [ 1, 12,  3, 13,  0]])"
      ]
     },
     "execution_count": 76,
     "metadata": {},
     "output_type": "execute_result"
    }
   ],
   "source": [
    "encoded_text_pad = pad_sequences(encoded_text, padding = 'post', maxlen = 5)      # maxlen = 5,  최대길이의 제한을 둠\n",
    "encoded_text_pad"
   ]
  },
  {
   "cell_type": "code",
   "execution_count": null,
   "id": "fd07b946-2b8e-469b-8293-cc54fba9cab1",
   "metadata": {},
   "outputs": [],
   "source": []
  },
  {
   "cell_type": "markdown",
   "id": "53f124e1-0857-4645-804c-8008efbb3150",
   "metadata": {},
   "source": [
    "### 영어"
   ]
  },
  {
   "cell_type": "markdown",
   "id": "4518a87a-4e56-474b-8bcc-9200608dd602",
   "metadata": {},
   "source": [
    "### 1. nltk"
   ]
  },
  {
   "cell_type": "code",
   "execution_count": 1,
   "id": "f09a0bc6-ecc8-4b50-8d1b-bdbd2bb99f37",
   "metadata": {},
   "outputs": [
    {
     "name": "stderr",
     "output_type": "stream",
     "text": [
      "[nltk_data] Downloading package punkt to\n",
      "[nltk_data]     C:\\Users\\GM220808\\AppData\\Roaming\\nltk_data...\n",
      "[nltk_data]   Package punkt is already up-to-date!\n"
     ]
    },
    {
     "data": {
      "text/plain": [
       "True"
      ]
     },
     "execution_count": 1,
     "metadata": {},
     "output_type": "execute_result"
    }
   ],
   "source": [
    "import nltk\n",
    "nltk.download('punkt')"
   ]
  },
  {
   "cell_type": "code",
   "execution_count": 2,
   "id": "98e93b06-3fe9-40d8-8d81-f97cbb143795",
   "metadata": {},
   "outputs": [
    {
     "name": "stdout",
     "output_type": "stream",
     "text": [
      "['Think', 'like', 'a', 'man', 'of', 'action', 'and', 'act', 'like', 'man', 'of', 'thought', '.']\n"
     ]
    }
   ],
   "source": [
    "from nltk.tokenize import word_tokenize\n",
    "\n",
    "text = 'Think like a man of action and act like man of thought.'\n",
    "print(word_tokenize(text))"
   ]
  },
  {
   "cell_type": "code",
   "execution_count": 3,
   "id": "3c144abf-dad8-485e-b68a-a956f92421ac",
   "metadata": {},
   "outputs": [
    {
     "name": "stdout",
     "output_type": "stream",
     "text": [
      "['Courage is very important.', 'Like a muscle, it is strengthened by use.']\n"
     ]
    }
   ],
   "source": [
    "from nltk.tokenize import sent_tokenize\n",
    "\n",
    "text = 'Courage is very important. Like a muscle, it is strengthened by use.'\n",
    "print(sent_tokenize(text))"
   ]
  },
  {
   "cell_type": "markdown",
   "id": "9c331930-93f0-4006-807e-5f0a78247a25",
   "metadata": {},
   "source": [
    "### 2. spacy"
   ]
  },
  {
   "cell_type": "code",
   "execution_count": 4,
   "id": "27bf1c3c-083f-4bc9-98dc-a81239221fd1",
   "metadata": {
    "collapsed": true,
    "jupyter": {
     "outputs_hidden": true
    },
    "tags": []
   },
   "outputs": [
    {
     "name": "stdout",
     "output_type": "stream",
     "text": [
      "Requirement already satisfied: spacy in c:\\users\\gm220808\\.venv\\practice1\\lib\\site-packages (3.5.0)\n",
      "Requirement already satisfied: srsly<3.0.0,>=2.4.3 in c:\\users\\gm220808\\.venv\\practice1\\lib\\site-packages (from spacy) (2.4.6)\n",
      "Requirement already satisfied: smart-open<7.0.0,>=5.2.1 in c:\\users\\gm220808\\.venv\\practice1\\lib\\site-packages (from spacy) (6.3.0)\n",
      "Requirement already satisfied: spacy-loggers<2.0.0,>=1.0.0 in c:\\users\\gm220808\\.venv\\practice1\\lib\\site-packages (from spacy) (1.0.4)\n",
      "Requirement already satisfied: catalogue<2.1.0,>=2.0.6 in c:\\users\\gm220808\\.venv\\practice1\\lib\\site-packages (from spacy) (2.0.8)\n",
      "Requirement already satisfied: setuptools in c:\\users\\gm220808\\.venv\\practice1\\lib\\site-packages (from spacy) (63.2.0)\n",
      "Requirement already satisfied: tqdm<5.0.0,>=4.38.0 in c:\\users\\gm220808\\.venv\\practice1\\lib\\site-packages (from spacy) (4.64.1)\n",
      "Requirement already satisfied: thinc<8.2.0,>=8.1.0 in c:\\users\\gm220808\\.venv\\practice1\\lib\\site-packages (from spacy) (8.1.8)\n",
      "Requirement already satisfied: murmurhash<1.1.0,>=0.28.0 in c:\\users\\gm220808\\.venv\\practice1\\lib\\site-packages (from spacy) (1.0.9)\n",
      "Requirement already satisfied: jinja2 in c:\\users\\gm220808\\.venv\\practice1\\lib\\site-packages (from spacy) (3.1.2)\n",
      "Requirement already satisfied: wasabi<1.2.0,>=0.9.1 in c:\\users\\gm220808\\.venv\\practice1\\lib\\site-packages (from spacy) (1.1.1)\n",
      "Requirement already satisfied: preshed<3.1.0,>=3.0.2 in c:\\users\\gm220808\\.venv\\practice1\\lib\\site-packages (from spacy) (3.0.8)\n",
      "Requirement already satisfied: requests<3.0.0,>=2.13.0 in c:\\users\\gm220808\\.venv\\practice1\\lib\\site-packages (from spacy) (2.28.1)\n",
      "Requirement already satisfied: pathy>=0.10.0 in c:\\users\\gm220808\\.venv\\practice1\\lib\\site-packages (from spacy) (0.10.1)\n",
      "Requirement already satisfied: langcodes<4.0.0,>=3.2.0 in c:\\users\\gm220808\\.venv\\practice1\\lib\\site-packages (from spacy) (3.3.0)\n",
      "Requirement already satisfied: typer<0.8.0,>=0.3.0 in c:\\users\\gm220808\\.venv\\practice1\\lib\\site-packages (from spacy) (0.7.0)\n",
      "Requirement already satisfied: pydantic!=1.8,!=1.8.1,<1.11.0,>=1.7.4 in c:\\users\\gm220808\\.venv\\practice1\\lib\\site-packages (from spacy) (1.10.5)\n",
      "Requirement already satisfied: packaging>=20.0 in c:\\users\\gm220808\\.venv\\practice1\\lib\\site-packages (from spacy) (21.3)\n",
      "Requirement already satisfied: cymem<2.1.0,>=2.0.2 in c:\\users\\gm220808\\.venv\\practice1\\lib\\site-packages (from spacy) (2.0.7)\n",
      "Requirement already satisfied: spacy-legacy<3.1.0,>=3.0.11 in c:\\users\\gm220808\\.venv\\practice1\\lib\\site-packages (from spacy) (3.0.12)\n",
      "Requirement already satisfied: numpy>=1.15.0 in c:\\users\\gm220808\\.venv\\practice1\\lib\\site-packages (from spacy) (1.23.5)\n",
      "Requirement already satisfied: pyparsing!=3.0.5,>=2.0.2 in c:\\users\\gm220808\\.venv\\practice1\\lib\\site-packages (from packaging>=20.0->spacy) (3.0.9)\n",
      "Requirement already satisfied: typing-extensions>=4.2.0 in c:\\users\\gm220808\\.venv\\practice1\\lib\\site-packages (from pydantic!=1.8,!=1.8.1,<1.11.0,>=1.7.4->spacy) (4.5.0)\n",
      "Requirement already satisfied: certifi>=2017.4.17 in c:\\users\\gm220808\\.venv\\practice1\\lib\\site-packages (from requests<3.0.0,>=2.13.0->spacy) (2022.9.24)\n",
      "Requirement already satisfied: idna<4,>=2.5 in c:\\users\\gm220808\\.venv\\practice1\\lib\\site-packages (from requests<3.0.0,>=2.13.0->spacy) (3.4)\n",
      "Requirement already satisfied: urllib3<1.27,>=1.21.1 in c:\\users\\gm220808\\.venv\\practice1\\lib\\site-packages (from requests<3.0.0,>=2.13.0->spacy) (1.26.12)\n",
      "Requirement already satisfied: charset-normalizer<3,>=2 in c:\\users\\gm220808\\.venv\\practice1\\lib\\site-packages (from requests<3.0.0,>=2.13.0->spacy) (2.1.1)\n",
      "Requirement already satisfied: confection<1.0.0,>=0.0.1 in c:\\users\\gm220808\\.venv\\practice1\\lib\\site-packages (from thinc<8.2.0,>=8.1.0->spacy) (0.0.4)\n",
      "Requirement already satisfied: blis<0.8.0,>=0.7.8 in c:\\users\\gm220808\\.venv\\practice1\\lib\\site-packages (from thinc<8.2.0,>=8.1.0->spacy) (0.7.9)\n",
      "Requirement already satisfied: colorama in c:\\users\\gm220808\\.venv\\practice1\\lib\\site-packages (from tqdm<5.0.0,>=4.38.0->spacy) (0.4.6)\n",
      "Requirement already satisfied: click<9.0.0,>=7.1.1 in c:\\users\\gm220808\\.venv\\practice1\\lib\\site-packages (from typer<0.8.0,>=0.3.0->spacy) (8.1.3)\n",
      "Requirement already satisfied: MarkupSafe>=2.0 in c:\\users\\gm220808\\.venv\\practice1\\lib\\site-packages (from jinja2->spacy) (2.1.1)\n"
     ]
    }
   ],
   "source": [
    "!pip install spacy"
   ]
  },
  {
   "cell_type": "code",
   "execution_count": 5,
   "id": "266054ca-7958-48a2-953c-6bb59421697d",
   "metadata": {
    "collapsed": true,
    "jupyter": {
     "outputs_hidden": true
    },
    "tags": []
   },
   "outputs": [
    {
     "name": "stdout",
     "output_type": "stream",
     "text": [
      "Collecting en-core-web-sm==3.5.0\n",
      "  Downloading https://github.com/explosion/spacy-models/releases/download/en_core_web_sm-3.5.0/en_core_web_sm-3.5.0-py3-none-any.whl (12.8 MB)\n",
      "     --------------------------------------- 12.8/12.8 MB 40.9 MB/s eta 0:00:00\n",
      "Requirement already satisfied: spacy<3.6.0,>=3.5.0 in c:\\users\\gm220808\\.venv\\practice1\\lib\\site-packages (from en-core-web-sm==3.5.0) (3.5.0)\n",
      "Requirement already satisfied: pydantic!=1.8,!=1.8.1,<1.11.0,>=1.7.4 in c:\\users\\gm220808\\.venv\\practice1\\lib\\site-packages (from spacy<3.6.0,>=3.5.0->en-core-web-sm==3.5.0) (1.10.5)\n",
      "Requirement already satisfied: cymem<2.1.0,>=2.0.2 in c:\\users\\gm220808\\.venv\\practice1\\lib\\site-packages (from spacy<3.6.0,>=3.5.0->en-core-web-sm==3.5.0) (2.0.7)\n",
      "Requirement already satisfied: srsly<3.0.0,>=2.4.3 in c:\\users\\gm220808\\.venv\\practice1\\lib\\site-packages (from spacy<3.6.0,>=3.5.0->en-core-web-sm==3.5.0) (2.4.6)\n",
      "Requirement already satisfied: smart-open<7.0.0,>=5.2.1 in c:\\users\\gm220808\\.venv\\practice1\\lib\\site-packages (from spacy<3.6.0,>=3.5.0->en-core-web-sm==3.5.0) (6.3.0)\n",
      "Requirement already satisfied: jinja2 in c:\\users\\gm220808\\.venv\\practice1\\lib\\site-packages (from spacy<3.6.0,>=3.5.0->en-core-web-sm==3.5.0) (3.1.2)\n",
      "Requirement already satisfied: thinc<8.2.0,>=8.1.0 in c:\\users\\gm220808\\.venv\\practice1\\lib\\site-packages (from spacy<3.6.0,>=3.5.0->en-core-web-sm==3.5.0) (8.1.8)\n",
      "Requirement already satisfied: pathy>=0.10.0 in c:\\users\\gm220808\\.venv\\practice1\\lib\\site-packages (from spacy<3.6.0,>=3.5.0->en-core-web-sm==3.5.0) (0.10.1)\n",
      "Requirement already satisfied: murmurhash<1.1.0,>=0.28.0 in c:\\users\\gm220808\\.venv\\practice1\\lib\\site-packages (from spacy<3.6.0,>=3.5.0->en-core-web-sm==3.5.0) (1.0.9)\n",
      "Requirement already satisfied: wasabi<1.2.0,>=0.9.1 in c:\\users\\gm220808\\.venv\\practice1\\lib\\site-packages (from spacy<3.6.0,>=3.5.0->en-core-web-sm==3.5.0) (1.1.1)\n",
      "Requirement already satisfied: tqdm<5.0.0,>=4.38.0 in c:\\users\\gm220808\\.venv\\practice1\\lib\\site-packages (from spacy<3.6.0,>=3.5.0->en-core-web-sm==3.5.0) (4.64.1)\n",
      "Requirement already satisfied: langcodes<4.0.0,>=3.2.0 in c:\\users\\gm220808\\.venv\\practice1\\lib\\site-packages (from spacy<3.6.0,>=3.5.0->en-core-web-sm==3.5.0) (3.3.0)\n",
      "Requirement already satisfied: catalogue<2.1.0,>=2.0.6 in c:\\users\\gm220808\\.venv\\practice1\\lib\\site-packages (from spacy<3.6.0,>=3.5.0->en-core-web-sm==3.5.0) (2.0.8)\n",
      "Requirement already satisfied: spacy-legacy<3.1.0,>=3.0.11 in c:\\users\\gm220808\\.venv\\practice1\\lib\\site-packages (from spacy<3.6.0,>=3.5.0->en-core-web-sm==3.5.0) (3.0.12)\n",
      "Requirement already satisfied: typer<0.8.0,>=0.3.0 in c:\\users\\gm220808\\.venv\\practice1\\lib\\site-packages (from spacy<3.6.0,>=3.5.0->en-core-web-sm==3.5.0) (0.7.0)\n",
      "Requirement already satisfied: preshed<3.1.0,>=3.0.2 in c:\\users\\gm220808\\.venv\\practice1\\lib\\site-packages (from spacy<3.6.0,>=3.5.0->en-core-web-sm==3.5.0) (3.0.8)\n",
      "Requirement already satisfied: requests<3.0.0,>=2.13.0 in c:\\users\\gm220808\\.venv\\practice1\\lib\\site-packages (from spacy<3.6.0,>=3.5.0->en-core-web-sm==3.5.0) (2.28.1)\n",
      "Requirement already satisfied: spacy-loggers<2.0.0,>=1.0.0 in c:\\users\\gm220808\\.venv\\practice1\\lib\\site-packages (from spacy<3.6.0,>=3.5.0->en-core-web-sm==3.5.0) (1.0.4)\n",
      "Requirement already satisfied: packaging>=20.0 in c:\\users\\gm220808\\.venv\\practice1\\lib\\site-packages (from spacy<3.6.0,>=3.5.0->en-core-web-sm==3.5.0) (21.3)\n",
      "Requirement already satisfied: setuptools in c:\\users\\gm220808\\.venv\\practice1\\lib\\site-packages (from spacy<3.6.0,>=3.5.0->en-core-web-sm==3.5.0) (63.2.0)\n",
      "Requirement already satisfied: numpy>=1.15.0 in c:\\users\\gm220808\\.venv\\practice1\\lib\\site-packages (from spacy<3.6.0,>=3.5.0->en-core-web-sm==3.5.0) (1.23.5)\n",
      "Requirement already satisfied: pyparsing!=3.0.5,>=2.0.2 in c:\\users\\gm220808\\.venv\\practice1\\lib\\site-packages (from packaging>=20.0->spacy<3.6.0,>=3.5.0->en-core-web-sm==3.5.0) (3.0.9)\n",
      "Requirement already satisfied: typing-extensions>=4.2.0 in c:\\users\\gm220808\\.venv\\practice1\\lib\\site-packages (from pydantic!=1.8,!=1.8.1,<1.11.0,>=1.7.4->spacy<3.6.0,>=3.5.0->en-core-web-sm==3.5.0) (4.5.0)\n",
      "Requirement already satisfied: charset-normalizer<3,>=2 in c:\\users\\gm220808\\.venv\\practice1\\lib\\site-packages (from requests<3.0.0,>=2.13.0->spacy<3.6.0,>=3.5.0->en-core-web-sm==3.5.0) (2.1.1)\n",
      "Requirement already satisfied: certifi>=2017.4.17 in c:\\users\\gm220808\\.venv\\practice1\\lib\\site-packages (from requests<3.0.0,>=2.13.0->spacy<3.6.0,>=3.5.0->en-core-web-sm==3.5.0) (2022.9.24)\n",
      "Requirement already satisfied: idna<4,>=2.5 in c:\\users\\gm220808\\.venv\\practice1\\lib\\site-packages (from requests<3.0.0,>=2.13.0->spacy<3.6.0,>=3.5.0->en-core-web-sm==3.5.0) (3.4)\n",
      "Requirement already satisfied: urllib3<1.27,>=1.21.1 in c:\\users\\gm220808\\.venv\\practice1\\lib\\site-packages (from requests<3.0.0,>=2.13.0->spacy<3.6.0,>=3.5.0->en-core-web-sm==3.5.0) (1.26.12)\n",
      "Requirement already satisfied: blis<0.8.0,>=0.7.8 in c:\\users\\gm220808\\.venv\\practice1\\lib\\site-packages (from thinc<8.2.0,>=8.1.0->spacy<3.6.0,>=3.5.0->en-core-web-sm==3.5.0) (0.7.9)\n",
      "Requirement already satisfied: confection<1.0.0,>=0.0.1 in c:\\users\\gm220808\\.venv\\practice1\\lib\\site-packages (from thinc<8.2.0,>=8.1.0->spacy<3.6.0,>=3.5.0->en-core-web-sm==3.5.0) (0.0.4)\n",
      "Requirement already satisfied: colorama in c:\\users\\gm220808\\.venv\\practice1\\lib\\site-packages (from tqdm<5.0.0,>=4.38.0->spacy<3.6.0,>=3.5.0->en-core-web-sm==3.5.0) (0.4.6)\n",
      "Requirement already satisfied: click<9.0.0,>=7.1.1 in c:\\users\\gm220808\\.venv\\practice1\\lib\\site-packages (from typer<0.8.0,>=0.3.0->spacy<3.6.0,>=3.5.0->en-core-web-sm==3.5.0) (8.1.3)\n",
      "Requirement already satisfied: MarkupSafe>=2.0 in c:\\users\\gm220808\\.venv\\practice1\\lib\\site-packages (from jinja2->spacy<3.6.0,>=3.5.0->en-core-web-sm==3.5.0) (2.1.1)\n",
      "\u001b[38;5;2m[+] Download and installation successful\u001b[0m\n",
      "You can now load the package via spacy.load('en_core_web_sm')\n"
     ]
    }
   ],
   "source": [
    "!python -m spacy download en_core_web_sm"
   ]
  },
  {
   "cell_type": "code",
   "execution_count": 6,
   "id": "1786caa6-4de1-47b7-8a0f-8e62ac2b1684",
   "metadata": {},
   "outputs": [
    {
     "data": {
      "text/plain": [
       "['Think',\n",
       " 'like',\n",
       " 'a',\n",
       " 'man',\n",
       " 'of',\n",
       " 'action',\n",
       " 'and',\n",
       " 'act',\n",
       " 'like',\n",
       " 'man',\n",
       " 'of',\n",
       " 'thought',\n",
       " '.']"
      ]
     },
     "execution_count": 6,
     "metadata": {},
     "output_type": "execute_result"
    }
   ],
   "source": [
    "import spacy\n",
    "\n",
    "nlp = spacy.load('en_core_web_sm')\n",
    "text = 'Think like a man of action and act like man of thought.'\n",
    "doc = nlp(text)\n",
    "\n",
    "tokenized_spacy = [token.text for token in doc]\n",
    "tokenized_spacy"
   ]
  },
  {
   "cell_type": "code",
   "execution_count": 91,
   "id": "ffabe4ba-1bf1-4945-9b40-5b680f274b85",
   "metadata": {},
   "outputs": [
    {
     "data": {
      "text/plain": [
       "['Courage is very important.', 'Like a muscle, it is strengthened by use.']"
      ]
     },
     "execution_count": 91,
     "metadata": {},
     "output_type": "execute_result"
    }
   ],
   "source": [
    "text = 'Courage is very important. Like a muscle, it is strengthened by use.'\n",
    "doc = nlp(text)\n",
    "tokenized_sent = [sent.text for sent in doc.sents]\n",
    "tokenized_sent"
   ]
  },
  {
   "cell_type": "code",
   "execution_count": null,
   "id": "3004b269-6555-4462-a3f2-0f3867327619",
   "metadata": {},
   "outputs": [],
   "source": []
  },
  {
   "cell_type": "markdown",
   "id": "daf25cf0-6f64-48e2-86d8-eb06b27f0f36",
   "metadata": {},
   "source": [
    "### 한국어"
   ]
  },
  {
   "cell_type": "markdown",
   "id": "bbc53bc0-ab5a-4995-992e-1e05a3abfad8",
   "metadata": {},
   "source": [
    "### 1. konlpy(okt)"
   ]
  },
  {
   "cell_type": "code",
   "execution_count": 7,
   "id": "892f259d-32f2-4821-89de-2a93ef8dfadd",
   "metadata": {},
   "outputs": [
    {
     "name": "stdout",
     "output_type": "stream",
     "text": [
      "Requirement already satisfied: konlpy in c:\\users\\gm220808\\.venv\\practice1\\lib\\site-packages (0.6.0)\n",
      "Requirement already satisfied: JPype1>=0.7.0 in c:\\users\\gm220808\\.venv\\practice1\\lib\\site-packages (from konlpy) (1.4.1)\n",
      "Requirement already satisfied: lxml>=4.1.0 in c:\\users\\gm220808\\.venv\\practice1\\lib\\site-packages (from konlpy) (4.9.1)\n",
      "Requirement already satisfied: numpy>=1.6 in c:\\users\\gm220808\\.venv\\practice1\\lib\\site-packages (from konlpy) (1.23.5)\n",
      "Requirement already satisfied: packaging in c:\\users\\gm220808\\.venv\\practice1\\lib\\site-packages (from JPype1>=0.7.0->konlpy) (21.3)\n",
      "Requirement already satisfied: pyparsing!=3.0.5,>=2.0.2 in c:\\users\\gm220808\\.venv\\practice1\\lib\\site-packages (from packaging->JPype1>=0.7.0->konlpy) (3.0.9)\n"
     ]
    }
   ],
   "source": [
    "!pip install konlpy"
   ]
  },
  {
   "cell_type": "code",
   "execution_count": 8,
   "id": "60cf29b4-b9d5-4597-b61a-509deda9f43a",
   "metadata": {},
   "outputs": [
    {
     "name": "stdout",
     "output_type": "stream",
     "text": [
      "Requirement already satisfied: jpype1 in c:\\users\\gm220808\\.venv\\practice1\\lib\\site-packages (1.4.1)\n",
      "Requirement already satisfied: packaging in c:\\users\\gm220808\\.venv\\practice1\\lib\\site-packages (from jpype1) (21.3)\n",
      "Requirement already satisfied: pyparsing!=3.0.5,>=2.0.2 in c:\\users\\gm220808\\.venv\\practice1\\lib\\site-packages (from packaging->jpype1) (3.0.9)\n"
     ]
    }
   ],
   "source": [
    "!pip install jpype1"
   ]
  },
  {
   "cell_type": "code",
   "execution_count": 9,
   "id": "c4a5d80f-654e-427b-b9fa-b888276e2c7f",
   "metadata": {},
   "outputs": [],
   "source": [
    "import os\n",
    "os.environ['JAVA_HOME'] = 'C:\\\\\\\\Program Files\\\\\\\\Java\\\\\\\\jdk1.8.0_251'"
   ]
  },
  {
   "cell_type": "code",
   "execution_count": 11,
   "id": "99f05136-a2bb-47db-a45d-38343dcb8029",
   "metadata": {},
   "outputs": [],
   "source": [
    "text = '문제는 지능적인 기계가 감정을 가질 수 있는가가 아니라, 기계가 감정 없이 지능적일 수 있는가이다.'"
   ]
  },
  {
   "cell_type": "code",
   "execution_count": 12,
   "id": "60a00957-570a-4821-a805-7029eaceef2c",
   "metadata": {
    "tags": []
   },
   "outputs": [
    {
     "name": "stdout",
     "output_type": "stream",
     "text": [
      "['문제', '는', '지능', '적', '인', '기계', '가', '감정', '을', '가질', '수', '있는가가', '아니라', ',', '기계', '가', '감정', '없이', '지능', '적', '일', '수', '있는가이다', '.']\n"
     ]
    }
   ],
   "source": [
    "from konlpy.tag import Okt\n",
    "\n",
    "okt = Okt()              # Open Korean Text\n",
    "print(okt.morphs(text))   # 형태소로 나눈다."
   ]
  },
  {
   "cell_type": "code",
   "execution_count": 100,
   "id": "9490783f-2d01-4778-b31b-662d90e463e3",
   "metadata": {},
   "outputs": [
    {
     "name": "stdout",
     "output_type": "stream",
     "text": [
      "['문제', '는', '지능', '적', '인', '기계', '가', '감정', '을', '가지다', '수', '있다', '아니다', ',', '기계', '가', '감정', '없이', '지능', '적', '일', '수', '있다', '.']\n"
     ]
    }
   ],
   "source": [
    "print(okt.morphs(text, stem = True))   # 형태소로 나눈다. -> 어간으로 변경"
   ]
  },
  {
   "cell_type": "code",
   "execution_count": 102,
   "id": "802f378f-f6df-47d4-abaf-328d6453b737",
   "metadata": {},
   "outputs": [
    {
     "name": "stdout",
     "output_type": "stream",
     "text": [
      "['문제', '지능', '기계', '감정', '수', '기계', '감정', '지능', '일', '수']\n"
     ]
    }
   ],
   "source": [
    "print(okt.nouns(text))   # 명사 추출"
   ]
  },
  {
   "cell_type": "code",
   "execution_count": 103,
   "id": "66855914-2c83-4fe3-8a63-83ec7db997e4",
   "metadata": {},
   "outputs": [
    {
     "name": "stdout",
     "output_type": "stream",
     "text": [
      "['문제', '기계', '감정', '지능적일', '지능적일 수']\n"
     ]
    }
   ],
   "source": [
    "print(okt.phrases(text))   # 어절 단위로 추출"
   ]
  },
  {
   "cell_type": "code",
   "execution_count": 104,
   "id": "799145ad-352f-4f46-8e0e-f4bad2e6ed2d",
   "metadata": {},
   "outputs": [
    {
     "name": "stdout",
     "output_type": "stream",
     "text": [
      "[('문제', 'Noun'), ('는', 'Josa'), ('지능', 'Noun'), ('적', 'Suffix'), ('인', 'Josa'), ('기계', 'Noun'), ('가', 'Josa'), ('감정', 'Noun'), ('을', 'Josa'), ('가질', 'Verb'), ('수', 'Noun'), ('있는가가', 'Adjective'), ('아니라', 'Adjective'), (',', 'Punctuation'), ('기계', 'Noun'), ('가', 'Josa'), ('감정', 'Noun'), ('없이', 'Adverb'), ('지능', 'Noun'), ('적', 'Suffix'), ('일', 'Noun'), ('수', 'Noun'), ('있는가이다', 'Adjective'), ('.', 'Punctuation')]\n"
     ]
    }
   ],
   "source": [
    "print(okt.pos(text))   # 품사 태깅"
   ]
  },
  {
   "cell_type": "code",
   "execution_count": 105,
   "id": "8f46e7dd-e070-4614-8744-6e6cc90c6e26",
   "metadata": {},
   "outputs": [
    {
     "name": "stdout",
     "output_type": "stream",
     "text": [
      "['문제/Noun', '는/Josa', '지능/Noun', '적/Suffix', '인/Josa', '기계/Noun', '가/Josa', '감정/Noun', '을/Josa', '가질/Verb', '수/Noun', '있는가가/Adjective', '아니라/Adjective', ',/Punctuation', '기계/Noun', '가/Josa', '감정/Noun', '없이/Adverb', '지능/Noun', '적/Suffix', '일/Noun', '수/Noun', '있는가이다/Adjective', './Punctuation']\n"
     ]
    }
   ],
   "source": [
    "print(okt.pos(text, join=True))   # 품사 태깅2"
   ]
  },
  {
   "cell_type": "code",
   "execution_count": null,
   "id": "8b61a149-fb9f-4a6c-8cba-a82740c22117",
   "metadata": {},
   "outputs": [],
   "source": []
  },
  {
   "cell_type": "markdown",
   "id": "f296f778-18a5-4a14-9f67-e31e977839ca",
   "metadata": {},
   "source": [
    "### 2.konply(Kkma)"
   ]
  },
  {
   "cell_type": "code",
   "execution_count": 108,
   "id": "6edefc67-0c3b-4486-bb63-e1cf2daa05a2",
   "metadata": {},
   "outputs": [
    {
     "name": "stdout",
     "output_type": "stream",
     "text": [
      "['문제', '는', '지능', '적', '이', 'ㄴ', '기계', '가', '감정', '을', '가지', 'ㄹ', '수', '있', '는', '가가', '아니', '라', ',', '기계', '가', '감정', '없이', '지능', '적', '이', 'ㄹ', '수', '있', '는', '가이', '이', '다', '.']\n"
     ]
    }
   ],
   "source": [
    "from konlpy.tag import Kkma\n",
    "kkma = Kkma()\n",
    "print(kkma.morphs(text))        # 형태소로 나눈다."
   ]
  },
  {
   "cell_type": "code",
   "execution_count": 109,
   "id": "da47f699-1d91-4104-9760-cecf75164a1f",
   "metadata": {},
   "outputs": [
    {
     "name": "stdout",
     "output_type": "stream",
     "text": [
      "['문제', '지능', '기계', '감정', '수', '가가', '가이']\n"
     ]
    }
   ],
   "source": [
    "print(kkma.nouns(text))         # 명사추출"
   ]
  },
  {
   "cell_type": "code",
   "execution_count": 110,
   "id": "4cc4376a-0b10-401e-8b99-07478a27a45d",
   "metadata": {},
   "outputs": [
    {
     "name": "stdout",
     "output_type": "stream",
     "text": [
      "[('문제', 'NNG'), ('는', 'JX'), ('지능', 'NNG'), ('적', 'XSN'), ('이', 'VCP'), ('ㄴ', 'ETD'), ('기계', 'NNG'), ('가', 'JKS'), ('감정', 'NNG'), ('을', 'JKO'), ('가지', 'VV'), ('ㄹ', 'ETD'), ('수', 'NNB'), ('있', 'VV'), ('는', 'ETD'), ('가가', 'NNG'), ('아니', 'VCN'), ('라', 'ECD'), (',', 'SP'), ('기계', 'NNG'), ('가', 'JKS'), ('감정', 'NNG'), ('없이', 'MAG'), ('지능', 'NNG'), ('적', 'XSN'), ('이', 'VCP'), ('ㄹ', 'ETD'), ('수', 'NNB'), ('있', 'VV'), ('는', 'ETD'), ('가이', 'NNG'), ('이', 'VCP'), ('다', 'EFN'), ('.', 'SF')]\n"
     ]
    }
   ],
   "source": [
    "print(kkma.pos(text))           # 품사태깅"
   ]
  },
  {
   "cell_type": "code",
   "execution_count": 111,
   "id": "69e9521d-811c-4995-b3d7-6ba84645dedf",
   "metadata": {},
   "outputs": [
    {
     "name": "stdout",
     "output_type": "stream",
     "text": [
      "['문제/NNG', '는/JX', '지능/NNG', '적/XSN', '이/VCP', 'ㄴ/ETD', '기계/NNG', '가/JKS', '감정/NNG', '을/JKO', '가지/VV', 'ㄹ/ETD', '수/NNB', '있/VV', '는/ETD', '가가/NNG', '아니/VCN', '라/ECD', ',/SP', '기계/NNG', '가/JKS', '감정/NNG', '없이/MAG', '지능/NNG', '적/XSN', '이/VCP', 'ㄹ/ETD', '수/NNB', '있/VV', '는/ETD', '가이/NNG', '이/VCP', '다/EFN', './SF']\n"
     ]
    }
   ],
   "source": [
    "print(kkma.pos(text, join=True))   # 품사태깅2"
   ]
  },
  {
   "cell_type": "code",
   "execution_count": null,
   "id": "8c78d2db-d9c0-4052-b03c-7eedbb241079",
   "metadata": {},
   "outputs": [],
   "source": []
  },
  {
   "cell_type": "code",
   "execution_count": null,
   "id": "fe7ec704-2507-4e0c-9856-2c6667ebed85",
   "metadata": {},
   "outputs": [],
   "source": []
  },
  {
   "cell_type": "markdown",
   "id": "4d0a76c0-fdfb-4e24-9e92-0720b5be1be7",
   "metadata": {},
   "source": [
    "## 불용어(stopword) 제거"
   ]
  },
  {
   "cell_type": "code",
   "execution_count": 115,
   "id": "00694dc2-2c74-4ee1-b5ee-6b554ff6b5e2",
   "metadata": {},
   "outputs": [
    {
     "name": "stdout",
     "output_type": "stream",
     "text": [
      "불용어 제거 전: ['완전한', '인공', '지능', '의', '개발', '은', '인류', '의', '종말', '을', '의미', '할', '수', '있다', '.']\n",
      "불용어 제거 후: ['완전한', '인공', '지능', '개발', '인류', '종말', '의미', '있다', '.']\n"
     ]
    }
   ],
   "source": [
    "okt = Okt()\n",
    "text = '완전한 인공지능의 개발은 인류의 종말을 의미할 수 있다.'\n",
    "stopwords = ['의', '은', '을', '할', '수']\n",
    "\n",
    "tokens = okt.morphs(text)\n",
    "remove_stopwords = [token for token in tokens if not token in stopwords]      # 불용어를 제거한 token들\n",
    "print('불용어 제거 전:', tokens)\n",
    "print('불용어 제거 후:', remove_stopwords)"
   ]
  },
  {
   "cell_type": "code",
   "execution_count": null,
   "id": "7de86ffa-073c-4a5b-818a-82136195c2dd",
   "metadata": {},
   "outputs": [],
   "source": [
    "\n",
    "        "
   ]
  },
  {
   "cell_type": "code",
   "execution_count": null,
   "id": "835994bb-cd65-404d-a946-188d8b67d309",
   "metadata": {},
   "outputs": [],
   "source": []
  },
  {
   "cell_type": "markdown",
   "id": "d2eb3d6e-7f76-4729-91dc-b2dd0cc43bda",
   "metadata": {},
   "source": [
    "## 정규표현식"
   ]
  },
  {
   "cell_type": "markdown",
   "id": "16ff2810-62ce-44d2-80d8-89f5070a5ecb",
   "metadata": {},
   "source": [
    "## 1. regex"
   ]
  },
  {
   "cell_type": "markdown",
   "id": "42385e69-85aa-43c1-b5bc-49dafde6232e",
   "metadata": {},
   "source": [
    "### 2. regex(.)\n",
    " - ' . '의 의미는 어떤 임의의 문자열을 의미\n",
    " - abc, adc, azc, aqc -> regex(a.c)"
   ]
  },
  {
   "cell_type": "code",
   "execution_count": 120,
   "id": "c04e6435-c255-4e22-9a99-57d1bec24d54",
   "metadata": {},
   "outputs": [
    {
     "name": "stdout",
     "output_type": "stream",
     "text": [
      "None\n",
      "<re.Match object; span=(0, 3), match='a1c'>\n"
     ]
    }
   ],
   "source": [
    "import re\n",
    "r = re.compile('a.c')            # a.c 형태의 문자열을 찾겠다는 조건 r\n",
    "print(r.search('ccc'))\n",
    "print(r.search('a1c'))"
   ]
  },
  {
   "cell_type": "code",
   "execution_count": 123,
   "id": "68d13432-7434-40ff-953b-08b35034f0ac",
   "metadata": {},
   "outputs": [
    {
     "name": "stdout",
     "output_type": "stream",
     "text": [
      "None\n",
      "<re.Match object; span=(0, 4), match='a1xc'>\n"
     ]
    }
   ],
   "source": [
    "r = re.compile('a..c')            # a..c 형태의 문자열을 찾겠다는 조건 r\n",
    "print(r.search('ccc'))\n",
    "print(r.search('a1xc'))"
   ]
  },
  {
   "cell_type": "markdown",
   "id": "d20837b7-7c81-4604-b081-e47fe8d93b37",
   "metadata": {},
   "source": [
    "### 3. regex(?)\n",
    " - ? : 있을 수도 있고 없을 수 도 있을 때"
   ]
  },
  {
   "cell_type": "code",
   "execution_count": 126,
   "id": "1fb00201-7a3b-40bb-98ef-0c1c39ec7461",
   "metadata": {},
   "outputs": [
    {
     "name": "stdout",
     "output_type": "stream",
     "text": [
      "<re.Match object; span=(0, 3), match='abc'>\n",
      "<re.Match object; span=(0, 2), match='ac'>\n",
      "None\n"
     ]
    }
   ],
   "source": [
    "r = re.compile('ab?c')            # b가 있을 수도 있고 없을 수도 있고\n",
    "print(r.search('abc'))\n",
    "print(r.search('ac'))\n",
    "print(r.search('abzc'))"
   ]
  },
  {
   "cell_type": "markdown",
   "id": "16ab994d-f921-47b9-b7c4-051f4fc9d954",
   "metadata": {},
   "source": [
    "### 4. regex(*)\n",
    " - '*' 앞에 문자열이 0개 이상인 경우"
   ]
  },
  {
   "cell_type": "code",
   "execution_count": 128,
   "id": "a13ec101-38e9-4235-9e6a-04dca0923953",
   "metadata": {},
   "outputs": [
    {
     "name": "stdout",
     "output_type": "stream",
     "text": [
      "<re.Match object; span=(0, 2), match='ac'>\n",
      "<re.Match object; span=(0, 3), match='abc'>\n",
      "<re.Match object; span=(0, 23), match='abbbbbbbbbbbbbbbbbbbbbc'>\n"
     ]
    }
   ],
   "source": [
    "r = re.compile('ab*c')            # b가 a와 c사이 0~무한개인 경우\n",
    "print(r.search('ac'))\n",
    "print(r.search('abc'))\n",
    "print(r.search('abbbbbbbbbbbbbbbbbbbbbc'))"
   ]
  },
  {
   "cell_type": "markdown",
   "id": "a826268f-c732-4ec2-acb9-0c3cd6deafe2",
   "metadata": {},
   "source": [
    "### 5. regex(+)\n",
    " - '*'와 유사\n",
    " - 최소 1개 이상인 경우"
   ]
  },
  {
   "cell_type": "code",
   "execution_count": 129,
   "id": "d69fdf9d-285d-4f11-9aa0-c1ca5757c0ac",
   "metadata": {},
   "outputs": [
    {
     "name": "stdout",
     "output_type": "stream",
     "text": [
      "None\n",
      "<re.Match object; span=(0, 3), match='abc'>\n",
      "<re.Match object; span=(0, 19), match='abbbbbbbbbbbbbbbbbc'>\n"
     ]
    }
   ],
   "source": [
    "r = re.compile('ab+c')\n",
    "print(r.search('ac'))\n",
    "print(r.search('abc'))\n",
    "print(r.search('abbbbbbbbbbbbbbbbbc'))"
   ]
  },
  {
   "cell_type": "markdown",
   "id": "5c667b5a-a846-448e-92cb-3c4ef0ee26f1",
   "metadata": {},
   "source": [
    "### 6. regex(^)\n",
    " - 시작하는 문자열"
   ]
  },
  {
   "cell_type": "code",
   "execution_count": 130,
   "id": "3a15994e-7e84-426e-aad0-e0810e4a7203",
   "metadata": {},
   "outputs": [
    {
     "name": "stdout",
     "output_type": "stream",
     "text": [
      "<re.Match object; span=(0, 2), match='ab'>\n",
      "None\n",
      "<re.Match object; span=(0, 2), match='ab'>\n"
     ]
    }
   ],
   "source": [
    "r = re.compile('^ab')\n",
    "print(r.search('abcccccc'))\n",
    "print(r.search('acb'))\n",
    "print(r.search('abczcxcs'))"
   ]
  },
  {
   "cell_type": "markdown",
   "id": "69cb1482-251f-4a92-b983-360412e5a62e",
   "metadata": {},
   "source": [
    "### 7. regex({숫자})\n",
    " - 문자열 앞에 숫자만큼 반복된 경우"
   ]
  },
  {
   "cell_type": "code",
   "execution_count": 131,
   "id": "d531a6ef-f940-41ce-a3d3-54b93a202af5",
   "metadata": {},
   "outputs": [
    {
     "name": "stdout",
     "output_type": "stream",
     "text": [
      "None\n",
      "None\n",
      "<re.Match object; span=(0, 4), match='abbc'>\n",
      "None\n"
     ]
    }
   ],
   "source": [
    "r = re.compile('ab{2}c')     # a와 C사이에 b가 두번 등장하는 문자열\n",
    "print(r.search('ac'))\n",
    "print(r.search('abc'))\n",
    "print(r.search('abbc'))\n",
    "print(r.search('abbbbbc'))"
   ]
  },
  {
   "cell_type": "markdown",
   "id": "f5f27001-46e5-4b53-866f-de5f9f57e103",
   "metadata": {},
   "source": [
    "### 8. regex({숫자1, 숫자2})\n",
    " - 문자열 앞에 숫자1 ~ 숫자2만큼 반복된 경우\n",
    " - 숫자2를 생략하면 끝까지(무한대)"
   ]
  },
  {
   "cell_type": "code",
   "execution_count": 133,
   "id": "bdaae3ea-79be-4b64-9b68-b2f2cf6900c3",
   "metadata": {},
   "outputs": [
    {
     "name": "stdout",
     "output_type": "stream",
     "text": [
      "None\n",
      "<re.Match object; span=(0, 4), match='abbc'>\n",
      "<re.Match object; span=(0, 7), match='abbbbbc'>\n",
      "None\n"
     ]
    }
   ],
   "source": [
    "r = re.compile('ab{2,5}c')      # a와 c사이에 b가 2~5번 반복된 경우\n",
    "print(r.search('abc'))\n",
    "print(r.search('abbc'))\n",
    "print(r.search('abbbbbc'))\n",
    "print(r.search('abbbbbbbbbbbbc'))"
   ]
  },
  {
   "cell_type": "code",
   "execution_count": 134,
   "id": "8b02c904-5d0c-4d35-b0c6-809eeecb39b0",
   "metadata": {},
   "outputs": [
    {
     "name": "stdout",
     "output_type": "stream",
     "text": [
      "None\n",
      "<re.Match object; span=(0, 4), match='abbc'>\n",
      "<re.Match object; span=(0, 7), match='abbbbbc'>\n",
      "<re.Match object; span=(0, 14), match='abbbbbbbbbbbbc'>\n"
     ]
    }
   ],
   "source": [
    "r = re.compile('ab{2,}c')      # a와 c사이에 b가 2번 이상 반복된 경우\n",
    "print(r.search('abc'))\n",
    "print(r.search('abbc'))\n",
    "print(r.search('abbbbbc'))\n",
    "print(r.search('abbbbbbbbbbbbc'))"
   ]
  },
  {
   "cell_type": "markdown",
   "id": "9662583e-ce78-489d-ab5d-d95e54b90353",
   "metadata": {},
   "source": [
    "### 9. regex([])\n",
    " - []안에 들어가는 문자와 매치\n",
    " - regex([a-zA-Z]) : 영어 전체를 의미\n",
    " - regex([0-9]) : 숫자 전체\n",
    " - regex([ㄱ-ㅎㅏ-ㅣ가-힣]) : 한글 전체"
   ]
  },
  {
   "cell_type": "code",
   "execution_count": 135,
   "id": "b5a7afd0-7342-4b92-87d4-b772bd89ddf0",
   "metadata": {},
   "outputs": [
    {
     "name": "stdout",
     "output_type": "stream",
     "text": [
      "None\n",
      "<re.Match object; span=(0, 1), match='a'>\n",
      "<re.Match object; span=(9, 10), match='a'>\n"
     ]
    }
   ],
   "source": [
    "r = re.compile('[abcd]')            # [a-d]\n",
    "print(r.search('zz'))\n",
    "print(r.search('abcacaca'))\n",
    "print(r.search('zzzzzzzzzaz'))"
   ]
  },
  {
   "cell_type": "code",
   "execution_count": 136,
   "id": "825acf22-b0d1-462e-906a-c4fdbcac9a9c",
   "metadata": {},
   "outputs": [
    {
     "name": "stdout",
     "output_type": "stream",
     "text": [
      "None\n",
      "None\n",
      "<re.Match object; span=(0, 1), match='a'>\n"
     ]
    }
   ],
   "source": [
    "r = re.compile('[a-z]')            # [a-z] 알파벳 소문자 전체\n",
    "print(r.search('AAA'))\n",
    "print(r.search('1111'))\n",
    "print(r.search('aBCCdD'))"
   ]
  },
  {
   "cell_type": "markdown",
   "id": "45e462c5-3475-483a-a2e1-06d3526e6b72",
   "metadata": {},
   "source": [
    "### 10. regex([^문자열])\n",
    " - 문자열을 제외한 모든 문자"
   ]
  },
  {
   "cell_type": "code",
   "execution_count": 139,
   "id": "2f19e564-9dd0-4de6-8818-e033f12da1ef",
   "metadata": {},
   "outputs": [
    {
     "name": "stdout",
     "output_type": "stream",
     "text": [
      "None\n",
      "None\n",
      "<re.Match object; span=(2, 3), match='z'>\n",
      "<re.Match object; span=(0, 1), match='1'>\n",
      "<re.Match object; span=(0, 1), match='A'>\n"
     ]
    }
   ],
   "source": [
    "r = re.compile('[^abcd]')            # 'abcd'를 제외한 모든 문자\n",
    "print(r.search('a'))\n",
    "print(r.search('bc'))\n",
    "print(r.search('bczzzz'))\n",
    "print(r.search('11111'))\n",
    "print(r.search('ABCD'))"
   ]
  },
  {
   "cell_type": "code",
   "execution_count": null,
   "id": "bee4957b-74f3-44be-a98d-8b011c0de9d0",
   "metadata": {},
   "outputs": [],
   "source": []
  },
  {
   "cell_type": "markdown",
   "id": "a688b77a-bb5b-4ded-aa59-4da97d9f4bfa",
   "metadata": {},
   "source": [
    "## regex module"
   ]
  },
  {
   "cell_type": "markdown",
   "id": "3a349cc5-66db-49ed-be6a-ffc395f52937",
   "metadata": {},
   "source": [
    "### 1. re.match() vs re.search()\n",
    " - math : 문자열 첫 부분부터 정규표현식이 매치하는지를 확인\n",
    " - search : 전체를 확인"
   ]
  },
  {
   "cell_type": "code",
   "execution_count": 145,
   "id": "8bd62946-9598-46d0-8d64-c42be6ef171d",
   "metadata": {},
   "outputs": [
    {
     "name": "stdout",
     "output_type": "stream",
     "text": [
      "None\n",
      "<re.Match object; span=(3, 7), match='abcd'>\n"
     ]
    }
   ],
   "source": [
    "r = re.compile('abc.')\n",
    "print(r.match('zzzabcd'))\n",
    "print(r.search('zzzabcd'))"
   ]
  },
  {
   "cell_type": "markdown",
   "id": "591a81d5-e002-4a0c-b297-d8551ca87f20",
   "metadata": {},
   "source": [
    "### 2. re.split()"
   ]
  },
  {
   "cell_type": "code",
   "execution_count": 146,
   "id": "a5ffcc1f-d7e5-498f-b088-3a714cc247f3",
   "metadata": {},
   "outputs": [
    {
     "data": {
      "text/plain": [
       "['남', '성', '희']"
      ]
     },
     "execution_count": 146,
     "metadata": {},
     "output_type": "execute_result"
    }
   ],
   "source": [
    "text = '남 성 희'\n",
    "re.split(' ', text)"
   ]
  },
  {
   "cell_type": "code",
   "execution_count": 149,
   "id": "f6aafa77-05af-417f-a57a-b7b6c4ca966b",
   "metadata": {},
   "outputs": [
    {
     "data": {
      "text/plain": [
       "['이름', '전화번호', '성별', '나이']"
      ]
     },
     "execution_count": 149,
     "metadata": {},
     "output_type": "execute_result"
    }
   ],
   "source": [
    "text = '''이름\n",
    "전화번호\n",
    "성별\n",
    "나이'''\n",
    "re.split('\\n', text)"
   ]
  }
 ],
 "metadata": {
  "kernelspec": {
   "display_name": "Python 3 (ipykernel)",
   "language": "python",
   "name": "python3"
  },
  "language_info": {
   "codemirror_mode": {
    "name": "ipython",
    "version": 3
   },
   "file_extension": ".py",
   "mimetype": "text/x-python",
   "name": "python",
   "nbconvert_exporter": "python",
   "pygments_lexer": "ipython3",
   "version": "3.10.7"
  }
 },
 "nbformat": 4,
 "nbformat_minor": 5
}
