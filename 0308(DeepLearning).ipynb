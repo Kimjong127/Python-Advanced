{
 "cells": [
  {
   "cell_type": "markdown",
   "id": "e9439c17-0c73-48f5-b8bd-271cefed7971",
   "metadata": {},
   "source": [
    "# 2023-03-08"
   ]
  }
 ],
 "metadata": {
  "kernelspec": {
   "display_name": "Python 3 (ipykernel)",
   "language": "python",
   "name": "python3"
  },
  "language_info": {
   "codemirror_mode": {
    "name": "ipython",
    "version": 3
   },
   "file_extension": ".py",
   "mimetype": "text/x-python",
   "name": "python",
   "nbconvert_exporter": "python",
   "pygments_lexer": "ipython3",
   "version": "3.10.7"
  }
 },
 "nbformat": 4,
 "nbformat_minor": 5
}
